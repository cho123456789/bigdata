{
 "cells": [
  {
   "cell_type": "code",
   "execution_count": 19,
   "id": "7fdc0b36-7261-4bba-ab43-a9d4bfb3e97c",
   "metadata": {},
   "outputs": [
    {
     "name": "stdout",
     "output_type": "stream",
     "text": [
      "ShapiroResult(statistic=np.float64(0.9981433805517037), pvalue=np.float64(0.3479659233067207))\n"
     ]
    }
   ],
   "source": [
    "import pandas as pd \n",
    "import matplotlib.pyplot as plt\n",
    "df = pd.read_csv('https://raw.githubusercontent.com/Datamanim/datarepo/main/scipy/normal1.csv')\n",
    "# plt.hist(df)\n",
    "# plt.show()\n",
    "\n",
    "from scipy.stats import shapiro\n",
    "\n",
    "# 1. 데이터 정규성 검정 \n",
    "print(shapiro(df))  # p_value = 0.34 => 데이터가 정규성을 가진다"
   ]
  },
  {
   "cell_type": "code",
   "execution_count": 20,
   "id": "72008190-ece3-43d6-a899-398d7e9541b5",
   "metadata": {},
   "outputs": [],
   "source": [
    "import pandas as pd \n",
    "import matplotlib.pyplot as plt\n",
    "df = pd.read_csv('https://raw.githubusercontent.com/Datamanim/datarepo/main/scipy/normal3.csv')\n",
    "# plt.hist(df)\n",
    "# plt.show()"
   ]
  },
  {
   "cell_type": "code",
   "execution_count": 22,
   "id": "580945fc-1579-4ded-a4c4-93c0a77be206",
   "metadata": {},
   "outputs": [
    {
     "name": "stdout",
     "output_type": "stream",
     "text": [
      "ShapiroResult(statistic=np.float64(0.9578887230674165), pvalue=np.float64(2.3098528601779943e-16))\n"
     ]
    }
   ],
   "source": [
    "from scipy.stats import shapiro\n",
    "print(shapiro(df))  # p_value = 02.3098528601779943e-16 => 데이터가 정규성을 가지지않음"
   ]
  },
  {
   "cell_type": "code",
   "execution_count": 23,
   "id": "19d45386-d5ab-48ca-a81e-db76881c5fd7",
   "metadata": {},
   "outputs": [],
   "source": [
    "# 위의 데이터를 log변환 한 후에 정규성을 가지는지 확인하라"
   ]
  },
  {
   "cell_type": "code",
   "execution_count": 30,
   "id": "f0a8f859-9b3a-4c37-af3f-395cef7ab4f5",
   "metadata": {},
   "outputs": [
    {
     "name": "stdout",
     "output_type": "stream",
     "text": [
      "         data\n",
      "0    0.631349\n",
      "1   -0.021856\n",
      "2    0.412035\n",
      "3    0.165041\n",
      "4    0.401308\n",
      "..        ...\n",
      "995 -0.261274\n",
      "996  0.084123\n",
      "997  0.501592\n",
      "998  1.249866\n",
      "999  0.533421\n",
      "\n",
      "[1000 rows x 1 columns]\n",
      "ShapiroResult(statistic=np.float64(0.9976879570377132), pvalue=np.float64(0.17513126966862336))\n"
     ]
    }
   ],
   "source": [
    "import numpy as np\n",
    "import matplotlib.pyplot as plt\n",
    "import pandas as pd\n",
    "df = pd.read_csv('https://raw.githubusercontent.com/Datamanim/datarepo/main/scipy/normal3.csv')\n",
    "log_df= np.log1p(df)\n",
    "print(log_df)\n",
    "\n",
    "from scipy.stats import shapiro\n",
    "print(shapiro(log_df))  # 0.17513126966862336) 정규성을 가짐 "
   ]
  },
  {
   "cell_type": "code",
   "execution_count": 36,
   "id": "b6952f21-d03b-4031-8761-41caf9d951f2",
   "metadata": {},
   "outputs": [
    {
     "name": "stdout",
     "output_type": "stream",
     "text": [
      "NormaltestResult(statistic=array([0.09665344]), pvalue=array([0.95282243]))\n"
     ]
    }
   ],
   "source": [
    "import pandas as pd \n",
    "import matplotlib.pyplot as plt\n",
    "df = pd.read_csv('https://raw.githubusercontent.com/Datamanim/datarepo/main/scipy/normal6.csv')\n",
    "# plt.hist(df)\n",
    "# plt.show()\n",
    "\n",
    "# from scipy.stats import shapiro\n",
    "# print(shapiro(df))\n",
    "\n",
    "# 5000개이상 샘플은 부정확 \n",
    "\n",
    "from scipy.stats import normaltest\n",
    "print(normaltest(df))"
   ]
  },
  {
   "cell_type": "code",
   "execution_count": 46,
   "id": "e7f0cd33-8ffc-4a9a-8176-a217a76f4c6b",
   "metadata": {},
   "outputs": [],
   "source": [
    "# 단일 표본 검정 one -sample \n",
    "\n",
    "# 100명의 키 정보가 들어 있는 데이터가 있다.데이터가 정규성을 만족하는지 확인하라.\n",
    "# 그리고 평균키는 165라 판단할수 있는지 귀무가설과 대립가설을 설정한 후 유의수준 5%로 검정하라."
   ]
  },
  {
   "cell_type": "code",
   "execution_count": 50,
   "id": "35a27475-9b82-4859-af88-b9a4167ec49d",
   "metadata": {},
   "outputs": [
    {
     "data": {
      "text/html": [
       "<div>\n",
       "<style scoped>\n",
       "    .dataframe tbody tr th:only-of-type {\n",
       "        vertical-align: middle;\n",
       "    }\n",
       "\n",
       "    .dataframe tbody tr th {\n",
       "        vertical-align: top;\n",
       "    }\n",
       "\n",
       "    .dataframe thead th {\n",
       "        text-align: right;\n",
       "    }\n",
       "</style>\n",
       "<table border=\"1\" class=\"dataframe\">\n",
       "  <thead>\n",
       "    <tr style=\"text-align: right;\">\n",
       "      <th></th>\n",
       "      <th>height</th>\n",
       "    </tr>\n",
       "  </thead>\n",
       "  <tbody>\n",
       "    <tr>\n",
       "      <th>0</th>\n",
       "      <td>160.237691</td>\n",
       "    </tr>\n",
       "    <tr>\n",
       "      <th>1</th>\n",
       "      <td>164.747324</td>\n",
       "    </tr>\n",
       "    <tr>\n",
       "      <th>2</th>\n",
       "      <td>165.401628</td>\n",
       "    </tr>\n",
       "    <tr>\n",
       "      <th>3</th>\n",
       "      <td>168.801627</td>\n",
       "    </tr>\n",
       "    <tr>\n",
       "      <th>4</th>\n",
       "      <td>153.199021</td>\n",
       "    </tr>\n",
       "    <tr>\n",
       "      <th>...</th>\n",
       "      <td>...</td>\n",
       "    </tr>\n",
       "    <tr>\n",
       "      <th>95</th>\n",
       "      <td>168.556633</td>\n",
       "    </tr>\n",
       "    <tr>\n",
       "      <th>96</th>\n",
       "      <td>172.935092</td>\n",
       "    </tr>\n",
       "    <tr>\n",
       "      <th>97</th>\n",
       "      <td>171.913052</td>\n",
       "    </tr>\n",
       "    <tr>\n",
       "      <th>98</th>\n",
       "      <td>181.381108</td>\n",
       "    </tr>\n",
       "    <tr>\n",
       "      <th>99</th>\n",
       "      <td>161.891018</td>\n",
       "    </tr>\n",
       "  </tbody>\n",
       "</table>\n",
       "<p>100 rows × 1 columns</p>\n",
       "</div>"
      ],
      "text/plain": [
       "        height\n",
       "0   160.237691\n",
       "1   164.747324\n",
       "2   165.401628\n",
       "3   168.801627\n",
       "4   153.199021\n",
       "..         ...\n",
       "95  168.556633\n",
       "96  172.935092\n",
       "97  171.913052\n",
       "98  181.381108\n",
       "99  161.891018\n",
       "\n",
       "[100 rows x 1 columns]"
      ]
     },
     "execution_count": 50,
     "metadata": {},
     "output_type": "execute_result"
    }
   ],
   "source": [
    "import pandas as pd \n",
    "df = pd.read_csv('https://raw.githubusercontent.com/Datamanim/datarepo/main/scipy/height1.csv')\n",
    "df"
   ]
  },
  {
   "cell_type": "code",
   "execution_count": 69,
   "id": "bba727f8-faa2-4c93-bf38-ef9f87bf018d",
   "metadata": {},
   "outputs": [
    {
     "name": "stdout",
     "output_type": "stream",
     "text": [
      "Shapiro_-Wilk test : stats = 0.9873, p-value =0.4558\n",
      "정규성 만족\n",
      " t_stat 3.2017884987150644 , t_p 0.0018367171548080209\n",
      "귀무가설 기각 평균키가 165가 아니다\n"
     ]
    }
   ],
   "source": [
    "from scipy.stats import shapiro , ttest_1samp\n",
    "\n",
    "stats, p = shapiro(df[\"height\"])\n",
    "print(f'Shapiro_-Wilk test : stats = {stats:.4f}, p-value ={p:.4f}')\n",
    "\n",
    "if p > 0.05:\n",
    "    print(\"정규성 만족\")\n",
    "else: \n",
    "    print(\"정규성 만족하지않음\")\n",
    "\n",
    "# 평균키는 165이다 귀무가설 \n",
    "# 평균키는 165가 아니다 대립 가설 \n",
    "\n",
    "t_stat , t_p = ttest_1samp(df['height'],165) \n",
    "print(f' t_stat {t_stat} , t_p {t_p}')\n",
    "\n",
    "if t_p < 0.05 :\n",
    "    print(\"귀무가설 기각 평균키가 165가 아니다\")\n",
    "else:\n",
    "    print(\"귀무가설 채택 평균키가 165 이다\")"
   ]
  },
  {
   "cell_type": "code",
   "execution_count": 88,
   "id": "38cc74bd-9bd2-4e21-8cb4-763f3c4c42cd",
   "metadata": {},
   "outputs": [
    {
     "name": "stdout",
     "output_type": "stream",
     "text": [
      " stats 0.9672005190174048 , p 0.01355212321201389\n",
      "정규성 만족하지않음\n",
      " stats 1.8382852790534039 , p 0.06901871284974372\n",
      "귀무 가설 채택 평균키가 165이다\n"
     ]
    }
   ],
   "source": [
    "import pandas as pd \n",
    "df = pd.read_csv('https://raw.githubusercontent.com/Datamanim/datarepo/main/scipy/height2.csv')\n",
    "\n",
    "from scipy.stats import shapiro , ttest_1samp\n",
    "\n",
    "stats, p =  shapiro(df[\"height\"])\n",
    "print(f' stats {stats} , p {p}')\n",
    "\n",
    "if p > 0.05:\n",
    "    print(\"정규성 만족\")\n",
    "else:\n",
    "    print(\"정규성 만족하지않음\")\n",
    "\n",
    "# 평균키는 165이다 귀무가설 \n",
    "# 평균키는 165가 아니다 대립 가설 \n",
    "t_stats , t_p = ttest_1samp(df[\"height\"],165)\n",
    "print(f' stats {t_stats} , p {t_p}')\n",
    "\n",
    "if t_p < 0.05:\n",
    "    print(\"귀무 가설 기각 평균키가 165가 아니다\")\n",
    "else:\n",
    "    print(\"귀무 가설 채택 평균키가 165이다\")"
   ]
  },
  {
   "cell_type": "code",
   "execution_count": 104,
   "id": "340aeb11-4a91-41a5-b214-5759aff9b2ef",
   "metadata": {},
   "outputs": [
    {
     "name": "stdout",
     "output_type": "stream",
     "text": [
      "   survived  pclass     sex   age  sibsp  parch     fare embarked  class  \\\n",
      "0         0       3    male  22.0      1      0   7.2500        S  Third   \n",
      "1         1       1  female  38.0      1      0  71.2833        C  First   \n",
      "2         1       3  female  26.0      0      0   7.9250        S  Third   \n",
      "3         1       1  female  35.0      1      0  53.1000        S  First   \n",
      "4         0       3    male  35.0      0      0   8.0500        S  Third   \n",
      "\n",
      "     who  adult_male deck  embark_town alive  alone  \n",
      "0    man        True  NaN  Southampton    no  False  \n",
      "1  woman       False    C    Cherbourg   yes  False  \n",
      "2  woman       False  NaN  Southampton   yes   True  \n",
      "3  woman       False    C  Southampton   yes  False  \n",
      "4    man        True  NaN  Southampton    no   True  \n",
      "Chi2ContingencyResult(statistic=np.float64(260.71702016732104), pvalue=np.float64(1.1973570627755645e-58), dof=1, expected_freq=array([[193.47474747, 120.52525253],\n",
      "       [355.52525253, 221.47474747]]))\n"
     ]
    }
   ],
   "source": [
    "import pandas as pd\n",
    "import numpy as np\n",
    "import matplotlib.pyplot as plt\n",
    "import seaborn as sns\n",
    "\n",
    "df = sns.load_dataset('titanic')\n",
    "print(df.head())\n",
    "\n",
    "# 카이제곱 \n",
    "from scipy.stats import chi2_contingency ,ttest_1samp , ttest_ind , ttest_rel, chisquare\n",
    "\n",
    "table = pd.crosstab(df['sex'], df['survived'])\n",
    "# stat , p , df , expectd = chi2_contingency(table)\n",
    "# print(round(stat,3))\n",
    "print(chi2_contingency(table))"
   ]
  },
  {
   "cell_type": "code",
   "execution_count": 119,
   "id": "84635d00-494a-4f41-a068-6d8f073d0ea1",
   "metadata": {},
   "outputs": [
    {
     "name": "stdout",
     "output_type": "stream",
     "text": [
      "Optimization terminated successfully.\n",
      "         Current function value: 0.482065\n",
      "         Iterations 6\n",
      "                           Logit Regression Results                           \n",
      "==============================================================================\n",
      "Dep. Variable:               survived   No. Observations:                  891\n",
      "Model:                          Logit   Df Residuals:                      886\n",
      "Method:                           MLE   Df Model:                            4\n",
      "Date:                Sat, 24 May 2025   Pseudo R-squ.:                  0.2761\n",
      "Time:                        19:24:55   Log-Likelihood:                -429.52\n",
      "converged:                       True   LL-Null:                       -593.33\n",
      "Covariance Type:            nonrobust   LLR p-value:                 1.192e-69\n",
      "==============================================================================\n",
      "                 coef    std err          z      P>|z|      [0.025      0.975]\n",
      "------------------------------------------------------------------------------\n",
      "const          0.9466      0.169      5.590      0.000       0.615       1.279\n",
      "sex           -2.6422      0.186    -14.197      0.000      -3.007      -2.277\n",
      "sibsp         -0.3539      0.098     -3.604      0.000      -0.546      -0.161\n",
      "parch         -0.2007      0.112     -1.792      0.073      -0.420       0.019\n",
      "fare           0.0147      0.003      5.553      0.000       0.010       0.020\n",
      "==============================================================================\n"
     ]
    }
   ],
   "source": [
    "# 로지스틱 회귀 모형 \n",
    "\n",
    "from statsmodels.api import Logit\n",
    "from sklearn.preprocessing import LabelEncoder\n",
    "import statsmodels.api as sm \n",
    "# 범주형 변수 => 수치형 \n",
    "\n",
    "encoder = LabelEncoder()\n",
    "df['sex'] = encoder.fit_transform(df['sex'])\n",
    "\n",
    "#절편 추가 \n",
    "\n",
    "\n",
    "x = df[['sex','sibsp','parch','fare']]\n",
    "x = sm.add_constant(x)\n",
    "y = df['survived']\n",
    "\n",
    "model = Logit(y,x)\n",
    "results = model.fit()\n",
    "print(results.summary())"
   ]
  },
  {
   "cell_type": "code",
   "execution_count": 128,
   "id": "497181e5-0eb2-4027-a16a-7598ff9e3b13",
   "metadata": {},
   "outputs": [
    {
     "name": "stdout",
     "output_type": "stream",
     "text": [
      "Optimization terminated successfully.\n",
      "         Current function value: 0.482065\n",
      "         Iterations 6\n",
      "                           Logit Regression Results                           \n",
      "==============================================================================\n",
      "Dep. Variable:               survived   No. Observations:                  891\n",
      "Model:                          Logit   Df Residuals:                      886\n",
      "Method:                           MLE   Df Model:                            4\n",
      "Date:                Sat, 24 May 2025   Pseudo R-squ.:                  0.2761\n",
      "Time:                        19:51:02   Log-Likelihood:                -429.52\n",
      "converged:                       True   LL-Null:                       -593.33\n",
      "Covariance Type:            nonrobust   LLR p-value:                 1.192e-69\n",
      "==============================================================================\n",
      "                 coef    std err          z      P>|z|      [0.025      0.975]\n",
      "------------------------------------------------------------------------------\n",
      "const          0.9466      0.169      5.590      0.000       0.615       1.279\n",
      "sex           -2.6422      0.186    -14.197      0.000      -3.007      -2.277\n",
      "sibsp         -0.3539      0.098     -3.604      0.000      -0.546      -0.161\n",
      "parch         -0.2007      0.112     -1.792      0.073      -0.420       0.019\n",
      "fare           0.0147      0.003      5.553      0.000       0.010       0.020\n",
      "==============================================================================\n",
      "-0.201\n"
     ]
    }
   ],
   "source": [
    "from statsmodels.api import Logit , OLS # 선형 회귀\n",
    "\n",
    "formula = \"survived  ~ sex + sibsp + parch  + fare\"\n",
    "result = Logit.from_formula (formula,df).fit()\n",
    "print(results.summary())\n",
    "print(round(result.params['parch'],3))"
   ]
  },
  {
   "cell_type": "code",
   "execution_count": 127,
   "id": "94f770cb-f1c6-40a1-8178-1506bf9eccd6",
   "metadata": {},
   "outputs": [
    {
     "name": "stdout",
     "output_type": "stream",
     "text": [
      "0.702\n"
     ]
    }
   ],
   "source": [
    "# sibsp 변수가 한 단위 증가할떄 생존할 오즈비 의 값 \n",
    "\n",
    "import numpy as np\n",
    "print(round(np.exp(-0.3539),3))\n"
   ]
  },
  {
   "cell_type": "code",
   "execution_count": 129,
   "id": "dd0fd3b9-4e29-4210-a58c-8ebfb935d89e",
   "metadata": {},
   "outputs": [],
   "source": [
    "# 등분산 검정\n",
    "# 두개 학급의 시험성적에 대한 데이터이다 그룹간 등분산 검정을 시행하라\n"
   ]
  },
  {
   "cell_type": "code",
   "execution_count": 150,
   "id": "3daa4143-2801-4476-93fb-d4c279060606",
   "metadata": {},
   "outputs": [
    {
     "name": "stdout",
     "output_type": "stream",
     "text": [
      "    class  score\n",
      "0       A     84\n",
      "1       A     59\n",
      "2       A     49\n",
      "3       A     57\n",
      "4       A     82\n",
      "..    ...    ...\n",
      "475     B     72\n",
      "476     B     80\n",
      "477     B     84\n",
      "478     B     73\n",
      "479     B     92\n",
      "\n",
      "[480 rows x 2 columns]\n",
      "A class: ShapiroResult(statistic=np.float64(0.953898001183023), pvalue=np.float64(4.0974423807790625e-08))\n",
      "B class: ShapiroResult(statistic=np.float64(0.9422035570216294), pvalue=np.float64(1.1733241536359124e-06))\n",
      " stats :  260.7170 , p =  0.5752\n",
      " stats :  0.7281 , p =  0.3935\n",
      " stats :  1.6604 , p =  0.1976\n",
      "그룹간 분산이 같다\n"
     ]
    }
   ],
   "source": [
    "import pandas as pd \n",
    "df = pd.read_csv('https://raw.githubusercontent.com/Datamanim/datarepo/main/scipy/scipy2.csv')\n",
    "print(df)\n",
    "\n",
    "# 등분산 검정 = levene, bartlett , fligner\n",
    "\n",
    "print('A class:', shapiro(a))  # p > 0.05 → 정규\n",
    "print('B class:', shapiro(b))\n",
    "\n",
    "\n",
    "# 정규성 만족 => bartlett\n",
    "# 대체적으로 levene , fligner\n",
    "\n",
    "from scipy.stats import levene, bartlett , fligner\n",
    "a = df[df['class'] == 'A']['score']\n",
    "b = df[df['class'] == 'B']['score']\n",
    "stats, p = levene(a,b)\n",
    "f_stats, f_p = fligner(a,b)\n",
    "b_stats, b_p = bartlett(a,b)\n",
    "print(f' stats : {stat : .4f} , p = {p : .4f}')\n",
    "print(f' stats : {f_stats : .4f} , p = {f_p : .4f}')\n",
    "print(f' stats : {b_stats : .4f} , p = {b_p : .4f}')\n",
    "\n",
    "# 그룹간 분산이 같다  귀무가설 \n",
    "# 그룹간 분산이 다르다  대립 가설 \n",
    "\n",
    "if p < 0.05:\n",
    "    print(\"그룹간 분산이 같지않다\")\n",
    "else:\n",
    "    print(\"그룹간 분산이 같다\")"
   ]
  },
  {
   "cell_type": "code",
   "execution_count": 160,
   "id": "23301c5b-a613-41e3-84e4-5b679a5aa507",
   "metadata": {},
   "outputs": [
    {
     "data": {
      "text/html": [
       "<div>\n",
       "<style scoped>\n",
       "    .dataframe tbody tr th:only-of-type {\n",
       "        vertical-align: middle;\n",
       "    }\n",
       "\n",
       "    .dataframe tbody tr th {\n",
       "        vertical-align: top;\n",
       "    }\n",
       "\n",
       "    .dataframe thead th {\n",
       "        text-align: right;\n",
       "    }\n",
       "</style>\n",
       "<table border=\"1\" class=\"dataframe\">\n",
       "  <thead>\n",
       "    <tr style=\"text-align: right;\">\n",
       "      <th></th>\n",
       "      <th>class</th>\n",
       "      <th>score</th>\n",
       "    </tr>\n",
       "  </thead>\n",
       "  <tbody>\n",
       "    <tr>\n",
       "      <th>0</th>\n",
       "      <td>A</td>\n",
       "      <td>32</td>\n",
       "    </tr>\n",
       "    <tr>\n",
       "      <th>1</th>\n",
       "      <td>A</td>\n",
       "      <td>69</td>\n",
       "    </tr>\n",
       "    <tr>\n",
       "      <th>2</th>\n",
       "      <td>A</td>\n",
       "      <td>68</td>\n",
       "    </tr>\n",
       "    <tr>\n",
       "      <th>3</th>\n",
       "      <td>A</td>\n",
       "      <td>60</td>\n",
       "    </tr>\n",
       "    <tr>\n",
       "      <th>4</th>\n",
       "      <td>A</td>\n",
       "      <td>78</td>\n",
       "    </tr>\n",
       "  </tbody>\n",
       "</table>\n",
       "</div>"
      ],
      "text/plain": [
       "  class  score\n",
       "0     A     32\n",
       "1     A     69\n",
       "2     A     68\n",
       "3     A     60\n",
       "4     A     78"
      ]
     },
     "execution_count": 160,
     "metadata": {},
     "output_type": "execute_result"
    }
   ],
   "source": [
    "import pandas as pd \n",
    "df = pd.read_csv('https://raw.githubusercontent.com/Datamanim/datarepo/main/scipy/scipy3.csv')\n",
    "df.head()"
   ]
  },
  {
   "cell_type": "code",
   "execution_count": 175,
   "id": "078e7b44-38a3-4c27-ba07-c97feeffe2c4",
   "metadata": {},
   "outputs": [
    {
     "name": "stdout",
     "output_type": "stream",
     "text": [
      "ShapiroResult(statistic=np.float64(0.9444754271085016), pvalue=np.float64(3.3292545415581914e-09))\n",
      "ShapiroResult(statistic=np.float64(0.9614473879380296), pvalue=np.float64(7.40068085437959e-05))\n",
      "  4.3071 ,  0.0385\n",
      "FlignerResult(statistic=np.float64(4.960366756026232), pvalue=np.float64(0.025934706256615564))\n",
      "그룹 간의 평균이 같지않다\n"
     ]
    }
   ],
   "source": [
    "# 등분산 검정 \n",
    "\n",
    "# 1 정규성 검정 \n",
    "\n",
    "from scipy.stats import shapiro\n",
    "a = df[df['class'] == 'A']['score']\n",
    "b = df[df['class'] == 'B']['score']\n",
    "\n",
    "print(shapiro(a))\n",
    "print(shapiro(b))\n",
    "\n",
    "# 2번  정규성 만족 못함 \n",
    "\n",
    "from scipy.stats import levene ,fligner\n",
    "\n",
    "l_stats , l_p =  levene(a,b)\n",
    "f_stats , f_p = fligner(a,b)\n",
    "print(f' {l_stats : .4f} , {l_p : .4f}')\n",
    "print(fligner(a,b))\n",
    "\n",
    "if l_p < 0.05 :\n",
    "    print(\"그룹 간의 평균이 같지않다\")\n",
    "else:\n",
    "    print(\"그룹 간의 평균이 같다\")"
   ]
  },
  {
   "cell_type": "code",
   "execution_count": 176,
   "id": "41a9e443-98a0-4195-ab87-09d78b8b42ab",
   "metadata": {},
   "outputs": [
    {
     "data": {
      "text/html": [
       "<div>\n",
       "<style scoped>\n",
       "    .dataframe tbody tr th:only-of-type {\n",
       "        vertical-align: middle;\n",
       "    }\n",
       "\n",
       "    .dataframe tbody tr th {\n",
       "        vertical-align: top;\n",
       "    }\n",
       "\n",
       "    .dataframe thead th {\n",
       "        text-align: right;\n",
       "    }\n",
       "</style>\n",
       "<table border=\"1\" class=\"dataframe\">\n",
       "  <thead>\n",
       "    <tr style=\"text-align: right;\">\n",
       "      <th></th>\n",
       "      <th>A</th>\n",
       "      <th>B</th>\n",
       "    </tr>\n",
       "  </thead>\n",
       "  <tbody>\n",
       "    <tr>\n",
       "      <th>0</th>\n",
       "      <td>44</td>\n",
       "      <td>36</td>\n",
       "    </tr>\n",
       "    <tr>\n",
       "      <th>1</th>\n",
       "      <td>61</td>\n",
       "      <td>92</td>\n",
       "    </tr>\n",
       "    <tr>\n",
       "      <th>2</th>\n",
       "      <td>76</td>\n",
       "      <td>41</td>\n",
       "    </tr>\n",
       "    <tr>\n",
       "      <th>3</th>\n",
       "      <td>64</td>\n",
       "      <td>45</td>\n",
       "    </tr>\n",
       "    <tr>\n",
       "      <th>4</th>\n",
       "      <td>65</td>\n",
       "      <td>35</td>\n",
       "    </tr>\n",
       "  </tbody>\n",
       "</table>\n",
       "</div>"
      ],
      "text/plain": [
       "    A   B\n",
       "0  44  36\n",
       "1  61  92\n",
       "2  76  41\n",
       "3  64  45\n",
       "4  65  35"
      ]
     },
     "execution_count": 176,
     "metadata": {},
     "output_type": "execute_result"
    }
   ],
   "source": [
    "import pandas as pd \n",
    "df = pd.read_csv('https://raw.githubusercontent.com/Datamanim/datarepo/main/scipy/scipy6.csv')\n",
    "df.head()"
   ]
  },
  {
   "cell_type": "code",
   "execution_count": 183,
   "id": "959d5f79-d53d-41ca-9832-90508a079f57",
   "metadata": {},
   "outputs": [
    {
     "name": "stdout",
     "output_type": "stream",
     "text": [
      " 5.1479 ,  0.0239\n",
      " 5.1248 ,  0.0236\n"
     ]
    }
   ],
   "source": [
    "# 등분산 검정 \n",
    "from scipy.stats import levene , fligner\n",
    "l_stats ,l_p = levene(df[\"A\"],df[\"B\"])\n",
    "f_stats ,f_p = fligner(df[\"A\"],df[\"B\"])\n",
    "print(f'{ l_stats : .4f} , { l_p : .4f}')\n",
    "print(f'{ f_stats : .4f} , { f_p : .4f}')"
   ]
  },
  {
   "cell_type": "code",
   "execution_count": 197,
   "id": "8cdb6b83-c23f-49ca-9fcc-2b081a21e999",
   "metadata": {},
   "outputs": [
    {
     "name": "stdout",
     "output_type": "stream",
     "text": [
      "A      0\n",
      "B    120\n",
      "dtype: int64\n",
      " 107.4611 ,  0.0000\n",
      " 81.8926 ,  0.0000\n"
     ]
    }
   ],
   "source": [
    "import pandas as pd \n",
    "df = pd.read_csv('https://raw.githubusercontent.com/Datamanim/datarepo/main/scipy/scipy5.csv')\n",
    "# print(df.head())\n",
    "\n",
    "from scipy.stats import levene,  fligner\n",
    "\n",
    "print(df.isnull().sum())\n",
    "df['B'] = df['B'].fillna(df['B'].mean())\n",
    "\n",
    "l_stats ,l_p = levene(df[\"A\"],df[\"B\"])\n",
    "f_stats ,f_p = fligner(df[\"A\"],df[\"B\"])\n",
    "\n",
    "print(f'{ l_stats : .4f} , { l_p : .4f}')\n",
    "print(f'{ f_stats : .4f} , { f_p : .4f}')\n"
   ]
  },
  {
   "cell_type": "code",
   "execution_count": 202,
   "id": "8994fefe-9fab-48d9-9d93-7e012636b649",
   "metadata": {},
   "outputs": [],
   "source": [
    "# 독립 표본 검정 \n",
    "# T 검정 -> 집단의 정규성을 가지는 경우  => \n",
    "#등분산 일경우 ttest_ind  equal_var = True\n",
    "# 아닐경우 ttest_ind = - equal_var = False (비모수검정)\n",
    "\n",
    "#두개 학급의 시험성적에 대한 데이터이다. \n",
    "# 두 학습의 시험 평균(비모수검정의 경우 중위값)은 동일하다 말할 수 있는지 확인 하라"
   ]
  },
  {
   "cell_type": "code",
   "execution_count": 209,
   "id": "f57aba1c-555e-4335-965c-7435bbd225af",
   "metadata": {},
   "outputs": [
    {
     "name": "stdout",
     "output_type": "stream",
     "text": [
      "         data\n",
      "0  105.408458\n",
      "1  108.722618\n",
      "2   84.398634\n",
      "3  100.510816\n",
      "4  100.965949\n",
      "         data\n",
      "0   98.329474\n",
      "1   96.931704\n",
      "2   95.777325\n",
      "3   98.744768\n",
      "4  102.971042\n",
      "ShapiroResult(statistic=np.float64(0.9860948333328381), pvalue=np.float64(0.3796835726350978))\n",
      "ShapiroResult(statistic=np.float64(0.9901827646291556), pvalue=np.float64(0.6793743269084671))\n",
      "LeveneResult(statistic=array([2.53376838]), pvalue=array([0.11302905]))\n",
      "TtestResult(statistic=array([2.76719074]), pvalue=array([0.00619015]), df=array([198.]))\n"
     ]
    }
   ],
   "source": [
    "import pandas as pd \n",
    "import matplotlib.pyplot as plt\n",
    "df1 = pd.read_csv('https://raw.githubusercontent.com/Datamanim/datarepo/main/scipy/ind1.csv')\n",
    "df2 = pd.read_csv('https://raw.githubusercontent.com/Datamanim/datarepo/main/scipy/ind2.csv')\n",
    "\n",
    "print(df1.head())\n",
    "print(df2.head())\n",
    "\n",
    "# 정규성 확인 \n",
    "\n",
    "from scipy.stats import shapiro\n",
    "df1_stat = shapiro(df1)\n",
    "df2_stat = shapiro(df2)\n",
    "print(df1_stat)\n",
    "print(df2_stat)\n",
    "\n",
    "# 정규성 만족  확인 \n",
    "\n",
    "# 등분산 검정 \n",
    "from scipy.stats import levene\n",
    "print(levene(df1,df2))\n",
    "\n",
    "# 등분산 만족 \n",
    "\n",
    "from scipy.stats import ttest_ind\n",
    "print(ttest_ind(df1,df2 , equal_var = True))"
   ]
  },
  {
   "cell_type": "code",
   "execution_count": 211,
   "id": "01d84a55-3195-47d6-a9c8-d2b53d5515ca",
   "metadata": {},
   "outputs": [],
   "source": [
    "# 두개 학급의 시험성적에 대한 데이터이다. \n",
    "#두 학습의 시험 평균(비모수검정의 경우 중위값)은 동일하다 말할 수 있는지 확인 하라"
   ]
  },
  {
   "cell_type": "code",
   "execution_count": 212,
   "id": "f40b1cc6-c279-440a-8461-c3d69dd6d140",
   "metadata": {},
   "outputs": [],
   "source": [
    "import pandas as pd \n",
    "import matplotlib.pyplot as plt\n",
    "df = pd.read_csv('https://raw.githubusercontent.com/Datamanim/datarepo/main/scipy/scipy5.csv')\n",
    "\n",
    "# plt.hist(df['A'],alpha=0.5,label='A')\n",
    "# plt.hist(df['B'].dropna(),alpha=0.5,label=\"B\")\n",
    "# plt.xlabel('Score bins')\n",
    "# plt.ylabel('Counts')\n",
    "# plt.legend()\n",
    "# plt.show()"
   ]
  },
  {
   "cell_type": "code",
   "execution_count": 236,
   "id": "3905d34a-b534-44fa-80e4-67363603426f",
   "metadata": {},
   "outputs": [
    {
     "name": "stdout",
     "output_type": "stream",
     "text": [
      "A    0\n",
      "B    0\n",
      "dtype: int64\n",
      "A    0\n",
      "B    0\n",
      "dtype: int64\n",
      "ShapiroResult(statistic=np.float64(0.9375393672524898), pvalue=np.float64(6.175255664337946e-10))\n",
      "ShapiroResult(statistic=np.float64(0.9170351179976507), pvalue=np.float64(7.811501377842978e-12))\n",
      "LeveneResult(statistic=np.float64(107.46107010644943), pvalue=np.float64(2.8727060475482473e-23))\n",
      "TtestResult(statistic=np.float64(0.0858859046190923), pvalue=np.float64(0.9315895394214472), df=np.float64(530.1977355003694))\n"
     ]
    }
   ],
   "source": [
    "# 정규성 검정 \n",
    "\n",
    "print(df.isnull().sum())\n",
    "df['B'] = df['B'].fillna(df['B'].mean())\n",
    "print(df.isnull().sum())\n",
    "from scipy.stats import shapiro\n",
    "a = df['A']\n",
    "b = df['B']\n",
    "print(shapiro(a))\n",
    "print(shapiro(b))\n",
    "\n",
    "# 정규성 만족 x \n",
    "\n",
    "from scipy.stats import levene\n",
    "print(levene(a,b))\n",
    "\n",
    "# 등분산 만족 x \n",
    "\n",
    "from scipy.stats import ttest_ind\n",
    "print(ttest_ind(a,b, equal_var = False))"
   ]
  },
  {
   "cell_type": "code",
   "execution_count": 237,
   "id": "f042cb6c-50c8-49b2-bc7d-e1daaca7847a",
   "metadata": {},
   "outputs": [],
   "source": [
    "# 두개 그룹에 대한 수치형 데이터이다. 두 그룹의 평균은 동일하다 말할 수 있는지 검정하라"
   ]
  },
  {
   "cell_type": "code",
   "execution_count": 288,
   "id": "0f6c43df-8c44-41c0-b7ff-1753789e20c0",
   "metadata": {},
   "outputs": [
    {
     "name": "stdout",
     "output_type": "stream",
     "text": [
      "0\n",
      "0\n",
      "ShapiroResult(statistic=np.float64(0.9834129647404514), pvalue=np.float64(0.14741800674950262))\n",
      "ShapiroResult(statistic=np.float64(0.9831848013864214), pvalue=np.float64(0.47017519736901897))\n",
      "LeveneResult(statistic=np.float64(6.185601018015722), pvalue=np.float64(0.013750484571911638))\n",
      "TtestResult(statistic=np.float64(-2.1949470315829265), pvalue=np.float64(0.029512802991767898), df=np.float64(171.25282465005142))\n"
     ]
    }
   ],
   "source": [
    "import pandas as pd \n",
    "import matplotlib.pyplot as plt\n",
    "df = pd.read_csv('https://raw.githubusercontent.com/Datamanim/datarepo/main/scipy/ind3.csv')\n",
    "df.head()\n",
    "a = df[df['group'] == 'a']['data']\n",
    "b = df[df['group'] == 'b']['data']\n",
    "\n",
    "print(a.isnull().sum())\n",
    "print(b.isnull().sum())\n",
    "# 정규성 검정 \n",
    "\n",
    "from scipy.stats import shapiro\n",
    "print(shapiro(a))\n",
    "print(shapiro(b))\n",
    "\n",
    "# 등분산성 \n",
    "from scipy.stats import levene\n",
    "print(levene(a,b))\n",
    "\n",
    "# 독립 표본 검정 \n",
    "\n",
    "from scipy.stats import ttest_ind\n",
    "print(ttest_ind(a,b , equal_var = False))"
   ]
  },
  {
   "cell_type": "code",
   "execution_count": 314,
   "id": "48951d99-9856-46a7-ba7a-0891b17b32bb",
   "metadata": {},
   "outputs": [
    {
     "name": "stdout",
     "output_type": "stream",
     "text": [
      "a     0\n",
      "b    50\n",
      "dtype: int64\n",
      "a    0\n",
      "b    0\n",
      "dtype: int64\n",
      "ShapiroResult(statistic=np.float64(0.9865897179339467), pvalue=np.float64(0.2839111805144998))\n",
      "ShapiroResult(statistic=np.float64(0.9060057290385839), pvalue=np.float64(4.03199806730262e-07))\n",
      "LeveneResult(statistic=np.float64(5.596399527722945), pvalue=np.float64(0.018799945336131958))\n",
      "TtestResult(statistic=np.float64(0.0022042178236679755), pvalue=np.float64(0.9982431463674297), df=np.float64(236.73023788570524))\n"
     ]
    }
   ],
   "source": [
    "import pandas as pd \n",
    "import matplotlib.pyplot as plt\n",
    "df = pd.read_csv('https://raw.githubusercontent.com/Datamanim/datarepo/main/scipy/ind6.csv')\n",
    "df.head()\n",
    "\n",
    "print(df.isnull().sum())\n",
    "df['b'] =df['b'].fillna(df['b'].mean())\n",
    "\n",
    "print(df.isnull().sum())\n",
    "# 정규성 검정 \n",
    "\n",
    "from scipy.stats import shapiro\n",
    "print(shapiro(df['a']))\n",
    "print(shapiro(df['b']))\n",
    "\n",
    "# 등분산성 검정 \n",
    "\n",
    "from scipy.stats import levene\n",
    "print(levene(df['a'],df['b']))\n",
    "\n",
    "# 등분산성 만족 x \n",
    "\n",
    "# 독립 표본 검정 \n",
    "from scipy.stats import ttest_ind\n",
    "\n",
    "print(ttest_ind(df['a'],df['b'] ,equal_var = False))"
   ]
  },
  {
   "cell_type": "code",
   "execution_count": null,
   "id": "a3e50a4a-21b0-4efb-a52a-bc52fdc68712",
   "metadata": {},
   "outputs": [],
   "source": []
  }
 ],
 "metadata": {
  "kernelspec": {
   "display_name": "Python 3 (ipykernel)",
   "language": "python",
   "name": "python3"
  },
  "language_info": {
   "codemirror_mode": {
    "name": "ipython",
    "version": 3
   },
   "file_extension": ".py",
   "mimetype": "text/x-python",
   "name": "python",
   "nbconvert_exporter": "python",
   "pygments_lexer": "ipython3",
   "version": "3.13.3"
  }
 },
 "nbformat": 4,
 "nbformat_minor": 5
}
