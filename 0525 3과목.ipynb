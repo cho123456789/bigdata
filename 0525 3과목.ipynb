{
 "cells": [
  {
   "cell_type": "code",
   "execution_count": 3,
   "id": "1e1b9f5c-ef73-49d3-b2bf-14b6d3db3e5e",
   "metadata": {},
   "outputs": [],
   "source": [
    "import pandas as pd \n",
    "import matplotlib.pyplot as plt\n",
    "df = pd.read_csv('https://raw.githubusercontent.com/Datamanim/datarepo/main/scipy/ind6.csv')\n",
    "\n",
    "# plt.hist(df['a'],alpha=0.5,label='A')\n",
    "# plt.hist(df['b'],alpha=0.5,label=\"B\")\n",
    "# plt.xlabel('Score bins')\n",
    "# plt.ylabel('Counts')\n",
    "# plt.legend()\n",
    "# plt.show()"
   ]
  },
  {
   "cell_type": "code",
   "execution_count": 2,
   "id": "212650c3-a6d2-431e-b4f7-74d0adaf5544",
   "metadata": {},
   "outputs": [],
   "source": [
    "# 두개 그룹에 대한 수치형 데이터이다. 두 그룹의 평균은 동일하다 말할 수 있는지 검정하라"
   ]
  },
  {
   "cell_type": "code",
   "execution_count": 20,
   "id": "f15baa7f-26c2-4696-9eba-536d297dc07f",
   "metadata": {},
   "outputs": [
    {
     "name": "stdout",
     "output_type": "stream",
     "text": [
      "0\n",
      "ShapiroResult(statistic=np.float64(0.9865897179339467), pvalue=np.float64(0.2839111805144998))\n",
      "ShapiroResult(statistic=np.float64(0.9060057290385839), pvalue=np.float64(4.03199806730262e-07))\n",
      "LeveneResult(statistic=np.float64(5.596399527722945), pvalue=np.float64(0.018799945336131958))\n",
      "TtestResult(statistic=np.float64(0.0022042178236679755), pvalue=np.float64(0.9982431463674297), df=np.float64(236.73023788570524))\n"
     ]
    }
   ],
   "source": [
    "# 정규성 검정 \n",
    "from scipy.stats import shapiro\n",
    "\n",
    "print(df['b'].isnull().sum())\n",
    "df['b'] = df['b'].fillna(df['b'].mean())\n",
    "\n",
    "print(shapiro(df['a']))\n",
    "print(shapiro(df['b']))\n",
    "\n",
    "from scipy.stats import levene\n",
    "\n",
    "print(levene(df['a'],df['b']))\n",
    "\n",
    "from scipy.stats import ttest_ind\n",
    "print(ttest_ind(df['a'],df['b'],equal_var = False))"
   ]
  },
  {
   "cell_type": "code",
   "execution_count": 21,
   "id": "c9c5cf14-8991-4a13-b3a7-5a10e0981dfb",
   "metadata": {},
   "outputs": [],
   "source": [
    "# 대응 표본 검정 ="
   ]
  },
  {
   "cell_type": "code",
   "execution_count": 22,
   "id": "a3fcd575-67ad-4149-a796-432bee06d966",
   "metadata": {},
   "outputs": [],
   "source": [
    "# 특정 질병 집단의 투약 전후의 혈류량 변화를 나타낸 데이터이다. 투약 전후의 변화가 있는지 검정하라"
   ]
  },
  {
   "cell_type": "code",
   "execution_count": 37,
   "id": "46f0ed72-812e-4a73-b87c-e740ad5b8fa4",
   "metadata": {},
   "outputs": [
    {
     "name": "stdout",
     "output_type": "stream",
     "text": [
      "before    0\n",
      "after     0\n",
      "dtype: int64\n",
      "ShapiroResult(statistic=np.float64(0.9907895174016046), pvalue=np.float64(0.6065791087935604))\n",
      "ShapiroResult(statistic=np.float64(0.9916963493176595), pvalue=np.float64(0.692386232128563))\n",
      "LeveneResult(statistic=np.float64(0.06427968690211128), pvalue=np.float64(0.8000741651677916))\n",
      "TtestResult(statistic=np.float64(-2.5535473487670677), pvalue=np.float64(0.011926744724546513), df=np.int64(119))\n"
     ]
    }
   ],
   "source": [
    "import pandas as pd \n",
    "import matplotlib.pyplot as plt\n",
    "df = pd.read_csv('https://raw.githubusercontent.com/Datamanim/datarepo/main/scipy/rel2.csv')\n",
    "df.head()\n",
    "\n",
    "print(df.isnull().sum())\n",
    "\n",
    "# 정규성 검정 \n",
    "from scipy.stats import shapiro\n",
    "print(shapiro(df['before']))\n",
    "print(shapiro(df['after']))\n",
    "\n",
    "# 등분산성 \n",
    "from scipy.stats import levene\n",
    "print(levene(df['before'],df['after']))\n",
    "\n",
    "# 대응 표본 t 검정 \n",
    "from scipy.stats import ttest_rel\n",
    "print(ttest_rel(df['before'],df['after']))"
   ]
  },
  {
   "cell_type": "code",
   "execution_count": 39,
   "id": "5cb379ac-9506-4a0e-ab7d-9165f16c100a",
   "metadata": {},
   "outputs": [],
   "source": [
    "# 특정 집단의 학습 전후 시험 성적 변화를 나타낸 데이터이다. 시험 전과 후에 차이가 있는지 검정하라"
   ]
  },
  {
   "cell_type": "code",
   "execution_count": 55,
   "id": "4a77eac6-5833-4e0f-ad05-1412d4025c01",
   "metadata": {},
   "outputs": [],
   "source": [
    "# 대응 표본 검정 ttest_ind  => 같은 집단의 대응되는 두 변수 차이 검정\n",
    "# 정규성을 만족하면 -> ttest_ind\n",
    "# 정규성을 만족하지않음 -> wilcoxon\n",
    "# 검정"
   ]
  },
  {
   "cell_type": "code",
   "execution_count": 40,
   "id": "617ea2b9-b5cf-403e-bffc-506f2850075e",
   "metadata": {},
   "outputs": [],
   "source": [
    "import pandas as pd \n",
    "import matplotlib.pyplot as plt\n",
    "df = pd.read_csv('https://raw.githubusercontent.com/Datamanim/datarepo/main/scipy/rel1.csv')"
   ]
  },
  {
   "cell_type": "code",
   "execution_count": 54,
   "id": "27533491-1ddc-4302-8ce9-b23236540f00",
   "metadata": {},
   "outputs": [
    {
     "name": "stdout",
     "output_type": "stream",
     "text": [
      "   before  after\n",
      "0     153    162\n",
      "1     153    163\n",
      "2     158    159\n",
      "3     157    158\n",
      "4     167    160\n",
      "ShapiroResult(statistic=np.float64(0.9173727585075375), pvalue=np.float64(0.0018973571840317808))\n",
      "ShapiroResult(statistic=np.float64(0.9448970350592873), pvalue=np.float64(0.021140909861349123))\n",
      "LeveneResult(statistic=np.float64(0.14329522146179022), pvalue=np.float64(0.7058456563194885))\n",
      "WilcoxonResult(statistic=np.float64(437.0), pvalue=np.float64(0.12098409484052809))\n"
     ]
    }
   ],
   "source": [
    "print(df.head())\n",
    "\n",
    "df.isnull().sum()\n",
    "\n",
    "from scipy.stats import shapiro\n",
    "\n",
    "print(shapiro(df['before']))\n",
    "print(shapiro(df['after']))\n",
    "\n",
    "from scipy.stats import levene\n",
    "\n",
    "print(levene(df['before'],df['after']))\n",
    "\n",
    "from scipy.stats import wilcoxon\n",
    "print(wilcoxon(df['before'],df['after']))\n",
    "\n",
    "# 대응 표본에서 정규성을 가지지않으면 월콕슨 부호 검정 "
   ]
  },
  {
   "cell_type": "code",
   "execution_count": 59,
   "id": "4f96bc0a-74d6-4a82-b477-3a21fce7e207",
   "metadata": {},
   "outputs": [],
   "source": [
    "# 카이제곱 ( 교차 분석) \n",
    "# 모집단 두개의 변수가 범주화 되엇을때 두 변수들의 차이검정 \n",
    "\n",
    "# 적합성 검정 = > 주어진 데이터가 특정 기대 분포에 얼마나 적합한지 \n",
    "# 독립성 검정 = > 변수들이 독립적인 확인하는데 사용\n"
   ]
  },
  {
   "cell_type": "code",
   "execution_count": 58,
   "id": "553db43e-b743-4cb6-900a-00413c6592c5",
   "metadata": {},
   "outputs": [
    {
     "data": {
      "text/html": [
       "<div>\n",
       "<style scoped>\n",
       "    .dataframe tbody tr th:only-of-type {\n",
       "        vertical-align: middle;\n",
       "    }\n",
       "\n",
       "    .dataframe tbody tr th {\n",
       "        vertical-align: top;\n",
       "    }\n",
       "\n",
       "    .dataframe thead th {\n",
       "        text-align: right;\n",
       "    }\n",
       "</style>\n",
       "<table border=\"1\" class=\"dataframe\">\n",
       "  <thead>\n",
       "    <tr style=\"text-align: right;\">\n",
       "      <th></th>\n",
       "      <th>dice_number</th>\n",
       "      <th>counts</th>\n",
       "    </tr>\n",
       "  </thead>\n",
       "  <tbody>\n",
       "    <tr>\n",
       "      <th>0</th>\n",
       "      <td>1</td>\n",
       "      <td>24</td>\n",
       "    </tr>\n",
       "    <tr>\n",
       "      <th>1</th>\n",
       "      <td>2</td>\n",
       "      <td>20</td>\n",
       "    </tr>\n",
       "    <tr>\n",
       "      <th>2</th>\n",
       "      <td>3</td>\n",
       "      <td>28</td>\n",
       "    </tr>\n",
       "    <tr>\n",
       "      <th>3</th>\n",
       "      <td>4</td>\n",
       "      <td>22</td>\n",
       "    </tr>\n",
       "    <tr>\n",
       "      <th>4</th>\n",
       "      <td>5</td>\n",
       "      <td>28</td>\n",
       "    </tr>\n",
       "  </tbody>\n",
       "</table>\n",
       "</div>"
      ],
      "text/plain": [
       "   dice_number  counts\n",
       "0            1      24\n",
       "1            2      20\n",
       "2            3      28\n",
       "3            4      22\n",
       "4            5      28"
      ]
     },
     "execution_count": 58,
     "metadata": {},
     "output_type": "execute_result"
    }
   ],
   "source": [
    "import pandas as pd \n",
    "import matplotlib.pyplot as plt\n",
    "df = pd.read_csv('https://raw.githubusercontent.com/Datamanim/datarepo/main/scipy/dice.csv')\n",
    "df.head()"
   ]
  },
  {
   "cell_type": "code",
   "execution_count": 60,
   "id": "eb6c1553-c77e-403e-86e3-82364b5a78a9",
   "metadata": {},
   "outputs": [],
   "source": [
    "# 144회 주사위를 던졌을때, 각 눈금별로 나온 횟수를 나타낸다. \n",
    "#이 데이터는 주사위의 분포에서 나올 가능성이 있는지 검정하라"
   ]
  },
  {
   "cell_type": "code",
   "execution_count": 65,
   "id": "49d74b35-8e9d-43a6-b6e2-917538e75fe8",
   "metadata": {},
   "outputs": [
    {
     "name": "stdout",
     "output_type": "stream",
     "text": [
      "Power_divergenceResult(statistic=np.float64(2.333333333333333), pvalue=np.float64(0.8013589222076911))\n"
     ]
    }
   ],
   "source": [
    "from scipy.stats import chisquare\n",
    "df['expected'] = (df['counts'].sum()/6).astype('int')\n",
    "print(chisquare(df['counts'], df['expected']))"
   ]
  },
  {
   "cell_type": "code",
   "execution_count": 66,
   "id": "76304f6c-032e-4879-9f2d-963e9ad7763f",
   "metadata": {},
   "outputs": [],
   "source": [
    "# 다음 데이터는 어떤 집단의 왼손잡이, 오른손 잡이의 숫자를 나타낸다\n",
    "#인간의 왼손잡이와 오른손잡이의 비율을 0.2:0.8로 알려져있다.\n",
    "# 이 집단에서 왼손과 오른손 잡이의 비율이 적합한지 검정하라"
   ]
  },
  {
   "cell_type": "code",
   "execution_count": 96,
   "id": "d9e611c9-1109-4932-88f6-2963bff0674f",
   "metadata": {},
   "outputs": [
    {
     "name": "stdout",
     "output_type": "stream",
     "text": [
      "     hands\n",
      "0    right\n",
      "1    right\n",
      "2     left\n",
      "3    right\n",
      "4    right\n",
      "..     ...\n",
      "495  right\n",
      "496  right\n",
      "497  right\n",
      "498  right\n",
      "499  right\n",
      "\n",
      "[500 rows x 1 columns]\n",
      "Power_divergenceResult(statistic=np.float64(5.0), pvalue=np.float64(0.025347318677468325))\n"
     ]
    }
   ],
   "source": [
    "import pandas as pd \n",
    "import matplotlib.pyplot as plt\n",
    "df = pd.read_csv('https://raw.githubusercontent.com/Datamanim/datarepo/main/scipy/hands2.csv')\n",
    "print(df)\n",
    "counts = df['hands'].value_counts()\n",
    "observed = [counts['left'], counts['right']]\n",
    "total = sum(observed)\n",
    "expected = [total * 0.2 , total * 0.8]\n",
    "\n",
    "from scipy.stats import chisquare\n",
    "print(chisquare(observed, expected))"
   ]
  },
  {
   "cell_type": "code",
   "execution_count": 98,
   "id": "d837ce63-ba9b-4728-a0f4-3e31989fe878",
   "metadata": {},
   "outputs": [],
   "source": [
    "# 독립성 검정 \n",
    "\n",
    "# 다음 데이터는 국민 기초체력을 조사한 데이터이다. 성별과 등급이 독립적인지 검정하라"
   ]
  },
  {
   "cell_type": "code",
   "execution_count": 97,
   "id": "68b69d4d-a544-4f29-8c96-3047ede96aa2",
   "metadata": {},
   "outputs": [
    {
     "data": {
      "text/html": [
       "<div>\n",
       "<style scoped>\n",
       "    .dataframe tbody tr th:only-of-type {\n",
       "        vertical-align: middle;\n",
       "    }\n",
       "\n",
       "    .dataframe tbody tr th {\n",
       "        vertical-align: top;\n",
       "    }\n",
       "\n",
       "    .dataframe thead th {\n",
       "        text-align: right;\n",
       "    }\n",
       "</style>\n",
       "<table border=\"1\" class=\"dataframe\">\n",
       "  <thead>\n",
       "    <tr style=\"text-align: right;\">\n",
       "      <th></th>\n",
       "      <th>측정나이</th>\n",
       "      <th>측정회원성별</th>\n",
       "      <th>신장 : cm</th>\n",
       "      <th>체중 : kg</th>\n",
       "      <th>체지방율 : %</th>\n",
       "      <th>이완기혈압(최저) : mmHg</th>\n",
       "      <th>수축기혈압(최고) : mmHg</th>\n",
       "      <th>악력D : kg</th>\n",
       "      <th>앉아윗몸앞으로굽히기 : cm</th>\n",
       "      <th>교차윗몸일으키기 : 회</th>\n",
       "      <th>제자리 멀리뛰기 : cm</th>\n",
       "      <th>등급</th>\n",
       "    </tr>\n",
       "  </thead>\n",
       "  <tbody>\n",
       "    <tr>\n",
       "      <th>0</th>\n",
       "      <td>59.0</td>\n",
       "      <td>M</td>\n",
       "      <td>175.0</td>\n",
       "      <td>70.6</td>\n",
       "      <td>19.2</td>\n",
       "      <td>91.0</td>\n",
       "      <td>150.0</td>\n",
       "      <td>40.6</td>\n",
       "      <td>12.2</td>\n",
       "      <td>30.0</td>\n",
       "      <td>179.0</td>\n",
       "      <td>C</td>\n",
       "    </tr>\n",
       "    <tr>\n",
       "      <th>1</th>\n",
       "      <td>40.0</td>\n",
       "      <td>F</td>\n",
       "      <td>161.4</td>\n",
       "      <td>45.8</td>\n",
       "      <td>21.7</td>\n",
       "      <td>62.0</td>\n",
       "      <td>119.0</td>\n",
       "      <td>22.1</td>\n",
       "      <td>16.0</td>\n",
       "      <td>32.0</td>\n",
       "      <td>165.0</td>\n",
       "      <td>B</td>\n",
       "    </tr>\n",
       "    <tr>\n",
       "      <th>2</th>\n",
       "      <td>27.0</td>\n",
       "      <td>M</td>\n",
       "      <td>176.6</td>\n",
       "      <td>84.8</td>\n",
       "      <td>19.2</td>\n",
       "      <td>87.0</td>\n",
       "      <td>153.0</td>\n",
       "      <td>45.9</td>\n",
       "      <td>13.2</td>\n",
       "      <td>61.0</td>\n",
       "      <td>216.0</td>\n",
       "      <td>B</td>\n",
       "    </tr>\n",
       "    <tr>\n",
       "      <th>3</th>\n",
       "      <td>38.0</td>\n",
       "      <td>M</td>\n",
       "      <td>167.6</td>\n",
       "      <td>76.7</td>\n",
       "      <td>24.7</td>\n",
       "      <td>63.0</td>\n",
       "      <td>132.0</td>\n",
       "      <td>43.6</td>\n",
       "      <td>16.0</td>\n",
       "      <td>45.0</td>\n",
       "      <td>231.0</td>\n",
       "      <td>A</td>\n",
       "    </tr>\n",
       "    <tr>\n",
       "      <th>4</th>\n",
       "      <td>21.0</td>\n",
       "      <td>M</td>\n",
       "      <td>165.2</td>\n",
       "      <td>66.2</td>\n",
       "      <td>21.5</td>\n",
       "      <td>83.0</td>\n",
       "      <td>106.0</td>\n",
       "      <td>33.5</td>\n",
       "      <td>10.6</td>\n",
       "      <td>46.0</td>\n",
       "      <td>198.0</td>\n",
       "      <td>C</td>\n",
       "    </tr>\n",
       "  </tbody>\n",
       "</table>\n",
       "</div>"
      ],
      "text/plain": [
       "   측정나이 측정회원성별  신장 : cm  체중 : kg  체지방율 : %  이완기혈압(최저) : mmHg  \\\n",
       "0  59.0      M    175.0     70.6      19.2              91.0   \n",
       "1  40.0      F    161.4     45.8      21.7              62.0   \n",
       "2  27.0      M    176.6     84.8      19.2              87.0   \n",
       "3  38.0      M    167.6     76.7      24.7              63.0   \n",
       "4  21.0      M    165.2     66.2      21.5              83.0   \n",
       "\n",
       "   수축기혈압(최고) : mmHg  악력D : kg  앉아윗몸앞으로굽히기 : cm  교차윗몸일으키기 : 회  제자리 멀리뛰기 : cm 등급  \n",
       "0             150.0      40.6             12.2          30.0          179.0  C  \n",
       "1             119.0      22.1             16.0          32.0          165.0  B  \n",
       "2             153.0      45.9             13.2          61.0          216.0  B  \n",
       "3             132.0      43.6             16.0          45.0          231.0  A  \n",
       "4             106.0      33.5             10.6          46.0          198.0  C  "
      ]
     },
     "execution_count": 97,
     "metadata": {},
     "output_type": "execute_result"
    }
   ],
   "source": [
    "import pandas as pd \n",
    "import matplotlib.pyplot as plt\n",
    "df = pd.read_csv('https://raw.githubusercontent.com/Datamanim/datarepo/main/body/body.csv')\n",
    "df.head()"
   ]
  },
  {
   "cell_type": "code",
   "execution_count": 99,
   "id": "f2aa4400-7274-478f-b5e5-2727baa864a9",
   "metadata": {},
   "outputs": [
    {
     "data": {
      "text/plain": [
       "Index(['측정나이', '측정회원성별', '신장 : cm', '체중 : kg', '체지방율 : %', '이완기혈압(최저) : mmHg',\n",
       "       '수축기혈압(최고) : mmHg', '악력D : kg', '앉아윗몸앞으로굽히기 : cm', '교차윗몸일으키기 : 회',\n",
       "       '제자리 멀리뛰기 : cm', '등급'],\n",
       "      dtype='object')"
      ]
     },
     "execution_count": 99,
     "metadata": {},
     "output_type": "execute_result"
    }
   ],
   "source": [
    "df.columns"
   ]
  },
  {
   "cell_type": "code",
   "execution_count": 106,
   "id": "06eb7cdc-9560-411b-8b5c-fb3de6d860c6",
   "metadata": {},
   "outputs": [
    {
     "name": "stdout",
     "output_type": "stream",
     "text": [
      "Chi2ContingencyResult(statistic=np.float64(120.06233631119409), pvalue=np.float64(7.481892813401677e-26), dof=3, expected_freq=array([[1220.25, 1220.25, 1220.25, 1220.25],\n",
      "       [2128.75, 2128.75, 2128.75, 2128.75]]))\n"
     ]
    }
   ],
   "source": [
    "from scipy.stats import chi2_contingency # 카이제곱 독립성 검정 => crosstab\n",
    "table = pd.crosstab(df['측정회원성별'],df['등급'])\n",
    "print(chi2_contingency(table))"
   ]
  },
  {
   "cell_type": "code",
   "execution_count": 107,
   "id": "62a9cb4e-b3c9-4534-a8a7-8324ac9e7b4a",
   "metadata": {},
   "outputs": [],
   "source": [
    "# 성별에 따른 동아리 활동 참석 비율을 나타낸 데이터이다. 성별과 참석간에 관련이 있는지 검정하라"
   ]
  },
  {
   "cell_type": "code",
   "execution_count": 108,
   "id": "b390e230-ccfb-4a55-9d21-64cef9c0f08a",
   "metadata": {},
   "outputs": [
    {
     "data": {
      "text/html": [
       "<div>\n",
       "<style scoped>\n",
       "    .dataframe tbody tr th:only-of-type {\n",
       "        vertical-align: middle;\n",
       "    }\n",
       "\n",
       "    .dataframe tbody tr th {\n",
       "        vertical-align: top;\n",
       "    }\n",
       "\n",
       "    .dataframe thead th {\n",
       "        text-align: right;\n",
       "    }\n",
       "</style>\n",
       "<table border=\"1\" class=\"dataframe\">\n",
       "  <thead>\n",
       "    <tr style=\"text-align: right;\">\n",
       "      <th></th>\n",
       "      <th>불참</th>\n",
       "      <th>참석</th>\n",
       "      <th>총합</th>\n",
       "    </tr>\n",
       "  </thead>\n",
       "  <tbody>\n",
       "    <tr>\n",
       "      <th>남성</th>\n",
       "      <td>4</td>\n",
       "      <td>2</td>\n",
       "      <td>6</td>\n",
       "    </tr>\n",
       "    <tr>\n",
       "      <th>여성</th>\n",
       "      <td>1</td>\n",
       "      <td>9</td>\n",
       "      <td>10</td>\n",
       "    </tr>\n",
       "    <tr>\n",
       "      <th>총합</th>\n",
       "      <td>5</td>\n",
       "      <td>11</td>\n",
       "      <td>16</td>\n",
       "    </tr>\n",
       "  </tbody>\n",
       "</table>\n",
       "</div>"
      ],
      "text/plain": [
       "    불참  참석  총합\n",
       "남성   4   2   6\n",
       "여성   1   9  10\n",
       "총합   5  11  16"
      ]
     },
     "execution_count": 108,
     "metadata": {},
     "output_type": "execute_result"
    }
   ],
   "source": [
    "import pandas as pd \n",
    "import matplotlib.pyplot as plt\n",
    "df = pd.read_csv('https://raw.githubusercontent.com/Datamanim/datarepo/main/scipy/fe2.csv',index_col=0)\n",
    "df"
   ]
  },
  {
   "cell_type": "code",
   "execution_count": 116,
   "id": "70b10d6d-caaa-4b71-bf00-0b40983e406b",
   "metadata": {},
   "outputs": [
    {
     "name": "stdout",
     "output_type": "stream",
     "text": [
      "    불참  참석\n",
      "남성   4   2\n",
      "여성   1   9\n",
      "Chi2ContingencyResult(statistic=np.float64(3.277575757575758), pvalue=np.float64(0.07023259819117404), dof=1, expected_freq=array([[1.875, 4.125],\n",
      "       [3.125, 6.875]]))\n",
      "SignificanceResult(statistic=np.float64(18.0), pvalue=np.float64(0.03571428571428571))\n"
     ]
    }
   ],
   "source": [
    "df= pd.DataFrame(df, index = ['남성','여성'] , columns = ['불참','참석'])\n",
    "print(df.head())\n",
    "print(chi2_contingency(df))\n",
    "\n",
    "# 5보다 작은셀이 20% 넘어간다 => 피셔 정확검정 \n",
    "from scipy.stats import fisher_exact\n",
    "print(fisher_exact(df))"
   ]
  },
  {
   "cell_type": "code",
   "execution_count": null,
   "id": "76da6619-7f2a-4b75-bd5b-decb10b29418",
   "metadata": {},
   "outputs": [],
   "source": []
  }
 ],
 "metadata": {
  "kernelspec": {
   "display_name": "Python 3 (ipykernel)",
   "language": "python",
   "name": "python3"
  },
  "language_info": {
   "codemirror_mode": {
    "name": "ipython",
    "version": 3
   },
   "file_extension": ".py",
   "mimetype": "text/x-python",
   "name": "python",
   "nbconvert_exporter": "python",
   "pygments_lexer": "ipython3",
   "version": "3.13.3"
  }
 },
 "nbformat": 4,
 "nbformat_minor": 5
}
