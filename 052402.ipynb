{
 "cells": [
  {
   "cell_type": "code",
   "execution_count": 56,
   "id": "d98bf18e-ebec-478d-be38-b6d92037794d",
   "metadata": {},
   "outputs": [
    {
     "name": "stdout",
     "output_type": "stream",
     "text": [
      "[0 0 1 0 0 0 0 1 1 0 1 0 1 0 0 0 1 0 0 0 0 1 0 1 1 0 0 0 0 1 0 1 0 0 0 1 0\n",
      " 1 1 0 0 0 1 0 0 0 0 0 0 0 0 0 1 0 1 1 0 1 1 0 1 0 0 1 0 0 1 0 0 1 0 0 0 1\n",
      " 0 0 1 0 0 1 0 0 0 0 0 0 0 1 1 1 1 1 1 0 0 0 1 0 0 0 1 0 0 0 1 1 0 0 0 1 0\n",
      " 0 1 0 0 0 0 1 0 1 0 1 1 1]\n",
      "0.9912373683838598\n",
      "     pred\n",
      "0       1\n",
      "1       1\n",
      "2       0\n",
      "3       0\n",
      "4       0\n",
      "..    ...\n",
      "151     1\n",
      "152     1\n",
      "153     1\n",
      "154     0\n",
      "155     1\n",
      "\n",
      "[156 rows x 1 columns]\n"
     ]
    }
   ],
   "source": [
    "import pandas as pd\n",
    "#데이터 로드\n",
    "x_train = pd.read_csv(\"https://raw.githubusercontent.com/Datamanim/datarepo/main/audit/x_train.csv\")\n",
    "y_train = pd.read_csv(\"https://raw.githubusercontent.com/Datamanim/datarepo/main/audit/y_train.csv\")\n",
    "x_test= pd.read_csv(\"https://raw.githubusercontent.com/Datamanim/datarepo/main/audit/x_test.csv\")\n",
    "\n",
    "\n",
    "# display(x_train.head())\n",
    "# display(y_train.head())\n",
    "\n",
    "# print(x_train.info())\n",
    "\n",
    "X_train = x_train.drop([\"ID\"], axis=1)\n",
    "X_test = x_test.drop([\"ID\"], axis=1)\n",
    "Y_train = y_train[\"Risk\"]\n",
    "\n",
    "# X_train.isnull().sum() # Money_Value 1 \n",
    "# X_test.isnull().sum() # Money_Value 1\n",
    "\n",
    "# 결측값 제거\n",
    "X_train[\"Money_Value\"] = X_train[\"Money_Value\"].fillna(X_train[\"Money_Value\"].mean())\n",
    "X_test[\"Money_Value\"] = X_test[\"Money_Value\"].fillna(X_test[\"Money_Value\"].mean())\n",
    "\n",
    "# 데이터 인코딩 \n",
    "\n",
    "X_train = pd.get_dummies(X_train)\n",
    "X_test = pd.get_dummies(X_test)\n",
    "\n",
    "# 테스트 데이터 열 일치 \n",
    "X_test = X_test.reindex(columns = X_train.columns, fill_value = 0)\n",
    "\n",
    "# 데이터 분리 \n",
    "from sklearn.model_selection import train_test_split\n",
    "X_train , X_val , Y_train , Y_val = train_test_split(X_train, Y_train , test_size = 0.2)\n",
    "# print(X_train.shape, X_val.shape , Y_train.shape, Y_val.shape)\n",
    "\n",
    "# 데이터 학습 \n",
    "from sklearn.ensemble import RandomForestClassifier\n",
    "model = RandomForestClassifier()\n",
    "model.fit(X_train, Y_train)\n",
    "y_pre_val = model.predict(X_val)\n",
    "print(y_pre_val)\n",
    "\n",
    "# 데이터 평가 \n",
    "from sklearn.metrics import roc_auc_score , accuracy_score ,f1_score\n",
    "\n",
    "f1_score = f1_score(Y_val,y_pre_val , average='macro')\n",
    "roc_auc_score = roc_auc_score(Y_val,y_pre_val)\n",
    "accuracy_score = accuracy_score(Y_val,y_pre_val)\n",
    "print(f1_score)\n",
    "\n",
    "# 데이터 저장 \n",
    "y_pred = model.predict(X_test)\n",
    "result = pd.DataFrame(y_pred, columns = [\"pred\"])\n",
    "result.to_csv(\"result.csv\", index = False)\n",
    "\n",
    "# 데이터 읽기 \n",
    "result = pd.read_csv(\"result.csv\")\n",
    "print(result)"
   ]
  },
  {
   "cell_type": "code",
   "execution_count": null,
   "id": "deaf235e-8a2a-46ff-a867-901d94f3e3f0",
   "metadata": {},
   "outputs": [],
   "source": []
  }
 ],
 "metadata": {
  "kernelspec": {
   "display_name": "Python 3 (ipykernel)",
   "language": "python",
   "name": "python3"
  },
  "language_info": {
   "codemirror_mode": {
    "name": "ipython",
    "version": 3
   },
   "file_extension": ".py",
   "mimetype": "text/x-python",
   "name": "python",
   "nbconvert_exporter": "python",
   "pygments_lexer": "ipython3",
   "version": "3.13.3"
  }
 },
 "nbformat": 4,
 "nbformat_minor": 5
}
