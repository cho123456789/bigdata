{
 "cells": [
  {
   "cell_type": "code",
   "execution_count": 50,
   "id": "0117f87f-4b46-4434-b98f-93fe2da221b5",
   "metadata": {},
   "outputs": [
    {
     "data": {
      "text/html": [
       "<div>\n",
       "<style scoped>\n",
       "    .dataframe tbody tr th:only-of-type {\n",
       "        vertical-align: middle;\n",
       "    }\n",
       "\n",
       "    .dataframe tbody tr th {\n",
       "        vertical-align: top;\n",
       "    }\n",
       "\n",
       "    .dataframe thead th {\n",
       "        text-align: right;\n",
       "    }\n",
       "</style>\n",
       "<table border=\"1\" class=\"dataframe\">\n",
       "  <thead>\n",
       "    <tr style=\"text-align: right;\">\n",
       "      <th></th>\n",
       "      <th>model</th>\n",
       "      <th>year</th>\n",
       "      <th>price</th>\n",
       "      <th>transmission</th>\n",
       "      <th>mileage</th>\n",
       "      <th>fuelType</th>\n",
       "      <th>tax(£)</th>\n",
       "      <th>mpg</th>\n",
       "      <th>engineSize</th>\n",
       "    </tr>\n",
       "  </thead>\n",
       "  <tbody>\n",
       "    <tr>\n",
       "      <th>0</th>\n",
       "      <td>Tucson</td>\n",
       "      <td>2016</td>\n",
       "      <td>12795</td>\n",
       "      <td>Manual</td>\n",
       "      <td>36263</td>\n",
       "      <td>Diesel</td>\n",
       "      <td>30</td>\n",
       "      <td>61.7</td>\n",
       "      <td>1.7</td>\n",
       "    </tr>\n",
       "    <tr>\n",
       "      <th>1</th>\n",
       "      <td>I10</td>\n",
       "      <td>2012</td>\n",
       "      <td>3995</td>\n",
       "      <td>Manual</td>\n",
       "      <td>22089</td>\n",
       "      <td>Petrol</td>\n",
       "      <td>20</td>\n",
       "      <td>61.4</td>\n",
       "      <td>1.2</td>\n",
       "    </tr>\n",
       "    <tr>\n",
       "      <th>2</th>\n",
       "      <td>I30</td>\n",
       "      <td>2019</td>\n",
       "      <td>24000</td>\n",
       "      <td>Manual</td>\n",
       "      <td>555</td>\n",
       "      <td>Petrol</td>\n",
       "      <td>145</td>\n",
       "      <td>34.0</td>\n",
       "      <td>2.0</td>\n",
       "    </tr>\n",
       "    <tr>\n",
       "      <th>3</th>\n",
       "      <td>Tucson</td>\n",
       "      <td>2017</td>\n",
       "      <td>12995</td>\n",
       "      <td>Manual</td>\n",
       "      <td>32147</td>\n",
       "      <td>Diesel</td>\n",
       "      <td>30</td>\n",
       "      <td>61.7</td>\n",
       "      <td>1.7</td>\n",
       "    </tr>\n",
       "    <tr>\n",
       "      <th>4</th>\n",
       "      <td>Tucson</td>\n",
       "      <td>2018</td>\n",
       "      <td>14991</td>\n",
       "      <td>Semi-Auto</td>\n",
       "      <td>32217</td>\n",
       "      <td>Diesel</td>\n",
       "      <td>150</td>\n",
       "      <td>57.6</td>\n",
       "      <td>1.7</td>\n",
       "    </tr>\n",
       "  </tbody>\n",
       "</table>\n",
       "</div>"
      ],
      "text/plain": [
       "     model  year  price transmission  mileage fuelType  tax(£)   mpg  \\\n",
       "0   Tucson  2016  12795       Manual    36263   Diesel      30  61.7   \n",
       "1      I10  2012   3995       Manual    22089   Petrol      20  61.4   \n",
       "2      I30  2019  24000       Manual      555   Petrol     145  34.0   \n",
       "3   Tucson  2017  12995       Manual    32147   Diesel      30  61.7   \n",
       "4   Tucson  2018  14991    Semi-Auto    32217   Diesel     150  57.6   \n",
       "\n",
       "   engineSize  \n",
       "0         1.7  \n",
       "1         1.2  \n",
       "2         2.0  \n",
       "3         1.7  \n",
       "4         1.7  "
      ]
     },
     "execution_count": 50,
     "metadata": {},
     "output_type": "execute_result"
    }
   ],
   "source": [
    "import pandas as pd\n",
    "df = pd.read_csv(\"https://raw.githubusercontent.com/Datamanim/datarepo/main/hyundai/train.csv\")\n",
    "df.head()"
   ]
  },
  {
   "cell_type": "code",
   "execution_count": 51,
   "id": "b0a1e49c-621d-4efb-9217-f7e57471c3ca",
   "metadata": {},
   "outputs": [],
   "source": [
    "# 정보(row수)가 가장 많은 상위 3차종의 price값의 각 평균값은?"
   ]
  },
  {
   "cell_type": "code",
   "execution_count": 52,
   "id": "8980366a-037e-4c84-9976-0181141745e1",
   "metadata": {},
   "outputs": [
    {
     "data": {
      "text/plain": [
       "model\n",
       "Tucson      1049\n",
       "I10          863\n",
       "I30          432\n",
       "I20          398\n",
       "Kona         266\n",
       "Ioniq        228\n",
       "Santa Fe     193\n",
       "IX20         157\n",
       "I40          105\n",
       "I800          97\n",
       "IX35          89\n",
       "Getz           5\n",
       "Veloster       3\n",
       "Accent         1\n",
       "Terracan       1\n",
       "Amica          1\n",
       "Name: count, dtype: int64"
      ]
     },
     "execution_count": 52,
     "metadata": {},
     "output_type": "execute_result"
    }
   ],
   "source": [
    "df['model'].value_counts()"
   ]
  },
  {
   "cell_type": "code",
   "execution_count": 53,
   "id": "58025630-f800-4683-a16d-8e316c166c0f",
   "metadata": {},
   "outputs": [
    {
     "data": {
      "text/html": [
       "<div>\n",
       "<style scoped>\n",
       "    .dataframe tbody tr th:only-of-type {\n",
       "        vertical-align: middle;\n",
       "    }\n",
       "\n",
       "    .dataframe tbody tr th {\n",
       "        vertical-align: top;\n",
       "    }\n",
       "\n",
       "    .dataframe thead th {\n",
       "        text-align: right;\n",
       "    }\n",
       "</style>\n",
       "<table border=\"1\" class=\"dataframe\">\n",
       "  <thead>\n",
       "    <tr style=\"text-align: right;\">\n",
       "      <th></th>\n",
       "      <th>price</th>\n",
       "    </tr>\n",
       "    <tr>\n",
       "      <th>model</th>\n",
       "      <th></th>\n",
       "    </tr>\n",
       "  </thead>\n",
       "  <tbody>\n",
       "    <tr>\n",
       "      <th>I10</th>\n",
       "      <td>7646.137891</td>\n",
       "    </tr>\n",
       "    <tr>\n",
       "      <th>I30</th>\n",
       "      <td>11651.821759</td>\n",
       "    </tr>\n",
       "    <tr>\n",
       "      <th>Tucson</th>\n",
       "      <td>15805.441373</td>\n",
       "    </tr>\n",
       "  </tbody>\n",
       "</table>\n",
       "</div>"
      ],
      "text/plain": [
       "               price\n",
       "model               \n",
       "I10      7646.137891\n",
       "I30     11651.821759\n",
       "Tucson  15805.441373"
      ]
     },
     "execution_count": 53,
     "metadata": {},
     "output_type": "execute_result"
    }
   ],
   "source": [
    "cond1 = df['model'].str.contains('Tucson')\n",
    "cond2 = df['model'].str.contains('I10')\n",
    "cond3 = df['model'].str.contains('I30')\n",
    "\n",
    "df_result = df.loc[cond1 | cond2 | cond3]\n",
    "\n",
    "df_result.groupby('model')['price'].mean().to_frame()"
   ]
  },
  {
   "cell_type": "code",
   "execution_count": 56,
   "id": "9620b1b3-fefb-42df-9a26-3bb7c6d44f00",
   "metadata": {},
   "outputs": [
    {
     "data": {
      "text/html": [
       "<div>\n",
       "<style scoped>\n",
       "    .dataframe tbody tr th:only-of-type {\n",
       "        vertical-align: middle;\n",
       "    }\n",
       "\n",
       "    .dataframe tbody tr th {\n",
       "        vertical-align: top;\n",
       "    }\n",
       "\n",
       "    .dataframe thead th {\n",
       "        text-align: right;\n",
       "    }\n",
       "</style>\n",
       "<table border=\"1\" class=\"dataframe\">\n",
       "  <thead>\n",
       "    <tr style=\"text-align: right;\">\n",
       "      <th></th>\n",
       "      <th>Pregnancies</th>\n",
       "      <th>Glucose</th>\n",
       "      <th>BloodPressure</th>\n",
       "      <th>SkinThickness</th>\n",
       "      <th>Insulin</th>\n",
       "      <th>BMI</th>\n",
       "      <th>DiabetesPedigreeFunction</th>\n",
       "      <th>Age</th>\n",
       "      <th>Outcome</th>\n",
       "    </tr>\n",
       "  </thead>\n",
       "  <tbody>\n",
       "    <tr>\n",
       "      <th>0</th>\n",
       "      <td>3</td>\n",
       "      <td>102</td>\n",
       "      <td>74</td>\n",
       "      <td>0</td>\n",
       "      <td>0</td>\n",
       "      <td>29.5</td>\n",
       "      <td>0.121</td>\n",
       "      <td>32</td>\n",
       "      <td>0</td>\n",
       "    </tr>\n",
       "    <tr>\n",
       "      <th>1</th>\n",
       "      <td>2</td>\n",
       "      <td>144</td>\n",
       "      <td>58</td>\n",
       "      <td>33</td>\n",
       "      <td>135</td>\n",
       "      <td>31.6</td>\n",
       "      <td>0.422</td>\n",
       "      <td>25</td>\n",
       "      <td>1</td>\n",
       "    </tr>\n",
       "    <tr>\n",
       "      <th>2</th>\n",
       "      <td>5</td>\n",
       "      <td>136</td>\n",
       "      <td>82</td>\n",
       "      <td>0</td>\n",
       "      <td>0</td>\n",
       "      <td>0.0</td>\n",
       "      <td>0.640</td>\n",
       "      <td>69</td>\n",
       "      <td>0</td>\n",
       "    </tr>\n",
       "    <tr>\n",
       "      <th>3</th>\n",
       "      <td>13</td>\n",
       "      <td>145</td>\n",
       "      <td>82</td>\n",
       "      <td>19</td>\n",
       "      <td>110</td>\n",
       "      <td>22.2</td>\n",
       "      <td>0.245</td>\n",
       "      <td>57</td>\n",
       "      <td>0</td>\n",
       "    </tr>\n",
       "    <tr>\n",
       "      <th>4</th>\n",
       "      <td>1</td>\n",
       "      <td>117</td>\n",
       "      <td>60</td>\n",
       "      <td>23</td>\n",
       "      <td>106</td>\n",
       "      <td>33.8</td>\n",
       "      <td>0.466</td>\n",
       "      <td>27</td>\n",
       "      <td>0</td>\n",
       "    </tr>\n",
       "  </tbody>\n",
       "</table>\n",
       "</div>"
      ],
      "text/plain": [
       "   Pregnancies  Glucose  BloodPressure  SkinThickness  Insulin   BMI  \\\n",
       "0            3      102             74              0        0  29.5   \n",
       "1            2      144             58             33      135  31.6   \n",
       "2            5      136             82              0        0   0.0   \n",
       "3           13      145             82             19      110  22.2   \n",
       "4            1      117             60             23      106  33.8   \n",
       "\n",
       "   DiabetesPedigreeFunction  Age  Outcome  \n",
       "0                     0.121   32        0  \n",
       "1                     0.422   25        1  \n",
       "2                     0.640   69        0  \n",
       "3                     0.245   57        0  \n",
       "4                     0.466   27        0  "
      ]
     },
     "execution_count": 56,
     "metadata": {},
     "output_type": "execute_result"
    }
   ],
   "source": [
    "import pandas as pd\n",
    "df = pd.read_csv(\"https://raw.githubusercontent.com/Datamanim/datarepo/main/diabetes/train.csv\")\n",
    "df.head()"
   ]
  },
  {
   "cell_type": "code",
   "execution_count": 57,
   "id": "b1bda35b-cb36-405a-bec3-427518443795",
   "metadata": {},
   "outputs": [],
   "source": [
    "# Question 102 Outcome 값에 따른 각 그룹의 각 컬럼의 평균 차이를 구하여라"
   ]
  },
  {
   "cell_type": "code",
   "execution_count": 78,
   "id": "4e897abb-95d0-4824-b8ea-cebaa70245af",
   "metadata": {},
   "outputs": [
    {
     "data": {
      "text/plain": [
       "Outcome                      1.000000\n",
       "Pregnancies                  1.574159\n",
       "Glucose                     29.943995\n",
       "BloodPressure                3.202079\n",
       "SkinThickness                2.952033\n",
       "Insulin                     33.398645\n",
       "BMI                          4.541437\n",
       "DiabetesPedigreeFunction     0.143646\n",
       "Age                          5.866939\n",
       "dtype: float64"
      ]
     },
     "execution_count": 78,
     "metadata": {},
     "output_type": "execute_result"
    }
   ],
   "source": [
    "result = df.groupby('Outcome').mean().reset_index()\n",
    "result[result['Outcome'] == 1].mean() - result[result['Outcome'] == 0].mean()"
   ]
  },
  {
   "cell_type": "code",
   "execution_count": 79,
   "id": "36b6ca7f-00c9-4751-8b52-3e27073c75dd",
   "metadata": {},
   "outputs": [
    {
     "data": {
      "text/html": [
       "<div>\n",
       "<style scoped>\n",
       "    .dataframe tbody tr th:only-of-type {\n",
       "        vertical-align: middle;\n",
       "    }\n",
       "\n",
       "    .dataframe tbody tr th {\n",
       "        vertical-align: top;\n",
       "    }\n",
       "\n",
       "    .dataframe thead th {\n",
       "        text-align: right;\n",
       "    }\n",
       "</style>\n",
       "<table border=\"1\" class=\"dataframe\">\n",
       "  <thead>\n",
       "    <tr style=\"text-align: right;\">\n",
       "      <th></th>\n",
       "      <th>Date</th>\n",
       "      <th>Open</th>\n",
       "      <th>High</th>\n",
       "      <th>Low</th>\n",
       "      <th>Close</th>\n",
       "      <th>Adj Close</th>\n",
       "      <th>Volume</th>\n",
       "    </tr>\n",
       "  </thead>\n",
       "  <tbody>\n",
       "    <tr>\n",
       "      <th>0</th>\n",
       "      <td>2002-05-23</td>\n",
       "      <td>1.156429</td>\n",
       "      <td>1.242857</td>\n",
       "      <td>1.145714</td>\n",
       "      <td>1.196429</td>\n",
       "      <td>1.196429</td>\n",
       "      <td>104790000</td>\n",
       "    </tr>\n",
       "    <tr>\n",
       "      <th>1</th>\n",
       "      <td>2002-05-24</td>\n",
       "      <td>1.214286</td>\n",
       "      <td>1.225000</td>\n",
       "      <td>1.197143</td>\n",
       "      <td>1.210000</td>\n",
       "      <td>1.210000</td>\n",
       "      <td>11104800</td>\n",
       "    </tr>\n",
       "    <tr>\n",
       "      <th>2</th>\n",
       "      <td>2002-05-28</td>\n",
       "      <td>1.213571</td>\n",
       "      <td>1.232143</td>\n",
       "      <td>1.157143</td>\n",
       "      <td>1.157143</td>\n",
       "      <td>1.157143</td>\n",
       "      <td>6609400</td>\n",
       "    </tr>\n",
       "    <tr>\n",
       "      <th>3</th>\n",
       "      <td>2002-05-29</td>\n",
       "      <td>1.164286</td>\n",
       "      <td>1.164286</td>\n",
       "      <td>1.085714</td>\n",
       "      <td>1.103571</td>\n",
       "      <td>1.103571</td>\n",
       "      <td>6757800</td>\n",
       "    </tr>\n",
       "    <tr>\n",
       "      <th>4</th>\n",
       "      <td>2002-05-30</td>\n",
       "      <td>1.107857</td>\n",
       "      <td>1.107857</td>\n",
       "      <td>1.071429</td>\n",
       "      <td>1.071429</td>\n",
       "      <td>1.071429</td>\n",
       "      <td>10154200</td>\n",
       "    </tr>\n",
       "  </tbody>\n",
       "</table>\n",
       "</div>"
      ],
      "text/plain": [
       "         Date      Open      High       Low     Close  Adj Close     Volume\n",
       "0  2002-05-23  1.156429  1.242857  1.145714  1.196429   1.196429  104790000\n",
       "1  2002-05-24  1.214286  1.225000  1.197143  1.210000   1.210000   11104800\n",
       "2  2002-05-28  1.213571  1.232143  1.157143  1.157143   1.157143    6609400\n",
       "3  2002-05-29  1.164286  1.164286  1.085714  1.103571   1.103571    6757800\n",
       "4  2002-05-30  1.107857  1.107857  1.071429  1.071429   1.071429   10154200"
      ]
     },
     "execution_count": 79,
     "metadata": {},
     "output_type": "execute_result"
    }
   ],
   "source": [
    "df = pd.read_csv(\"https://raw.githubusercontent.com/Datamanim/datarepo/main/nflx/NFLX.csv\")\n",
    "df.head()"
   ]
  },
  {
   "cell_type": "code",
   "execution_count": 80,
   "id": "7ff980ef-5c4e-43c6-9036-3d2bd0578ff4",
   "metadata": {},
   "outputs": [],
   "source": [
    "# 매년 5월달의 open가격의 평균값을 데이터 프레임으로 표현하라"
   ]
  },
  {
   "cell_type": "code",
   "execution_count": 82,
   "id": "64db78b0-233c-4fa9-845c-f28a15dc2a7c",
   "metadata": {},
   "outputs": [],
   "source": [
    "df['Date'] = pd.to_datetime(df['Date'])"
   ]
  },
  {
   "cell_type": "code",
   "execution_count": 88,
   "id": "55966075-c706-489e-867f-7480d3dc6fc5",
   "metadata": {},
   "outputs": [],
   "source": [
    "df['month'] = df['Date'].dt.month"
   ]
  },
  {
   "cell_type": "code",
   "execution_count": 109,
   "id": "d302f0b9-0b8b-44ed-8311-06eea2c4f78c",
   "metadata": {},
   "outputs": [],
   "source": [
    "df['month_day'] = df['Date'].dt.to_period('M')"
   ]
  },
  {
   "cell_type": "code",
   "execution_count": 114,
   "id": "93f4a292-d83c-49c1-a6fa-a41c242d32b1",
   "metadata": {},
   "outputs": [
    {
     "data": {
      "text/html": [
       "<div>\n",
       "<style scoped>\n",
       "    .dataframe tbody tr th:only-of-type {\n",
       "        vertical-align: middle;\n",
       "    }\n",
       "\n",
       "    .dataframe tbody tr th {\n",
       "        vertical-align: top;\n",
       "    }\n",
       "\n",
       "    .dataframe thead th {\n",
       "        text-align: right;\n",
       "    }\n",
       "</style>\n",
       "<table border=\"1\" class=\"dataframe\">\n",
       "  <thead>\n",
       "    <tr style=\"text-align: right;\">\n",
       "      <th></th>\n",
       "      <th>Open</th>\n",
       "    </tr>\n",
       "    <tr>\n",
       "      <th>month_day</th>\n",
       "      <th></th>\n",
       "    </tr>\n",
       "  </thead>\n",
       "  <tbody>\n",
       "    <tr>\n",
       "      <th>2002-05</th>\n",
       "      <td>1.155833</td>\n",
       "    </tr>\n",
       "    <tr>\n",
       "      <th>2003-05</th>\n",
       "      <td>1.641497</td>\n",
       "    </tr>\n",
       "    <tr>\n",
       "      <th>2004-05</th>\n",
       "      <td>4.261143</td>\n",
       "    </tr>\n",
       "    <tr>\n",
       "      <th>2005-05</th>\n",
       "      <td>1.951905</td>\n",
       "    </tr>\n",
       "    <tr>\n",
       "      <th>2006-05</th>\n",
       "      <td>4.163571</td>\n",
       "    </tr>\n",
       "    <tr>\n",
       "      <th>2007-05</th>\n",
       "      <td>3.159351</td>\n",
       "    </tr>\n",
       "    <tr>\n",
       "      <th>2008-05</th>\n",
       "      <td>4.435034</td>\n",
       "    </tr>\n",
       "    <tr>\n",
       "      <th>2009-05</th>\n",
       "      <td>5.790571</td>\n",
       "    </tr>\n",
       "    <tr>\n",
       "      <th>2010-05</th>\n",
       "      <td>14.417071</td>\n",
       "    </tr>\n",
       "    <tr>\n",
       "      <th>2011-05</th>\n",
       "      <td>34.650272</td>\n",
       "    </tr>\n",
       "    <tr>\n",
       "      <th>2012-05</th>\n",
       "      <td>10.523247</td>\n",
       "    </tr>\n",
       "    <tr>\n",
       "      <th>2013-05</th>\n",
       "      <td>31.936429</td>\n",
       "    </tr>\n",
       "    <tr>\n",
       "      <th>2014-05</th>\n",
       "      <td>51.121292</td>\n",
       "    </tr>\n",
       "    <tr>\n",
       "      <th>2015-05</th>\n",
       "      <td>85.057429</td>\n",
       "    </tr>\n",
       "    <tr>\n",
       "      <th>2016-05</th>\n",
       "      <td>92.705715</td>\n",
       "    </tr>\n",
       "    <tr>\n",
       "      <th>2017-05</th>\n",
       "      <td>158.255455</td>\n",
       "    </tr>\n",
       "    <tr>\n",
       "      <th>2018-05</th>\n",
       "      <td>329.779541</td>\n",
       "    </tr>\n",
       "    <tr>\n",
       "      <th>2019-05</th>\n",
       "      <td>359.664548</td>\n",
       "    </tr>\n",
       "    <tr>\n",
       "      <th>2020-05</th>\n",
       "      <td>433.880499</td>\n",
       "    </tr>\n",
       "    <tr>\n",
       "      <th>2021-05</th>\n",
       "      <td>496.923996</td>\n",
       "    </tr>\n",
       "  </tbody>\n",
       "</table>\n",
       "</div>"
      ],
      "text/plain": [
       "                 Open\n",
       "month_day            \n",
       "2002-05      1.155833\n",
       "2003-05      1.641497\n",
       "2004-05      4.261143\n",
       "2005-05      1.951905\n",
       "2006-05      4.163571\n",
       "2007-05      3.159351\n",
       "2008-05      4.435034\n",
       "2009-05      5.790571\n",
       "2010-05     14.417071\n",
       "2011-05     34.650272\n",
       "2012-05     10.523247\n",
       "2013-05     31.936429\n",
       "2014-05     51.121292\n",
       "2015-05     85.057429\n",
       "2016-05     92.705715\n",
       "2017-05    158.255455\n",
       "2018-05    329.779541\n",
       "2019-05    359.664548\n",
       "2020-05    433.880499\n",
       "2021-05    496.923996"
      ]
     },
     "execution_count": 114,
     "metadata": {},
     "output_type": "execute_result"
    }
   ],
   "source": [
    "result = df[df['month'] == 5]\n",
    "result.groupby('month_day')['Open'].mean().to_frame()"
   ]
  },
  {
   "cell_type": "code",
   "execution_count": 115,
   "id": "7bfd46f0-2b43-4183-abc4-7752e8ffe7b7",
   "metadata": {},
   "outputs": [
    {
     "data": {
      "text/html": [
       "<div>\n",
       "<style scoped>\n",
       "    .dataframe tbody tr th:only-of-type {\n",
       "        vertical-align: middle;\n",
       "    }\n",
       "\n",
       "    .dataframe tbody tr th {\n",
       "        vertical-align: top;\n",
       "    }\n",
       "\n",
       "    .dataframe thead th {\n",
       "        text-align: right;\n",
       "    }\n",
       "</style>\n",
       "<table border=\"1\" class=\"dataframe\">\n",
       "  <thead>\n",
       "    <tr style=\"text-align: right;\">\n",
       "      <th></th>\n",
       "      <th>Rk</th>\n",
       "      <th>Player</th>\n",
       "      <th>Pos</th>\n",
       "      <th>Age</th>\n",
       "      <th>Tm</th>\n",
       "      <th>G</th>\n",
       "      <th>GS</th>\n",
       "      <th>MP</th>\n",
       "      <th>FG</th>\n",
       "      <th>FGA</th>\n",
       "      <th>...</th>\n",
       "      <th>FT%</th>\n",
       "      <th>ORB</th>\n",
       "      <th>DRB</th>\n",
       "      <th>TRB</th>\n",
       "      <th>AST</th>\n",
       "      <th>STL</th>\n",
       "      <th>BLK</th>\n",
       "      <th>TOV</th>\n",
       "      <th>PF</th>\n",
       "      <th>PTS</th>\n",
       "    </tr>\n",
       "  </thead>\n",
       "  <tbody>\n",
       "    <tr>\n",
       "      <th>0</th>\n",
       "      <td>1</td>\n",
       "      <td>Precious Achiuwa</td>\n",
       "      <td>C</td>\n",
       "      <td>22</td>\n",
       "      <td>TOR</td>\n",
       "      <td>73</td>\n",
       "      <td>28</td>\n",
       "      <td>23.6</td>\n",
       "      <td>3.6</td>\n",
       "      <td>8.3</td>\n",
       "      <td>...</td>\n",
       "      <td>0.595</td>\n",
       "      <td>2.0</td>\n",
       "      <td>4.5</td>\n",
       "      <td>6.5</td>\n",
       "      <td>1.1</td>\n",
       "      <td>0.5</td>\n",
       "      <td>0.6</td>\n",
       "      <td>1.2</td>\n",
       "      <td>2.1</td>\n",
       "      <td>9.1</td>\n",
       "    </tr>\n",
       "    <tr>\n",
       "      <th>1</th>\n",
       "      <td>2</td>\n",
       "      <td>Steven Adams</td>\n",
       "      <td>C</td>\n",
       "      <td>28</td>\n",
       "      <td>MEM</td>\n",
       "      <td>76</td>\n",
       "      <td>75</td>\n",
       "      <td>26.3</td>\n",
       "      <td>2.8</td>\n",
       "      <td>5.1</td>\n",
       "      <td>...</td>\n",
       "      <td>0.543</td>\n",
       "      <td>4.6</td>\n",
       "      <td>5.4</td>\n",
       "      <td>10.0</td>\n",
       "      <td>3.4</td>\n",
       "      <td>0.9</td>\n",
       "      <td>0.8</td>\n",
       "      <td>1.5</td>\n",
       "      <td>2.0</td>\n",
       "      <td>6.9</td>\n",
       "    </tr>\n",
       "    <tr>\n",
       "      <th>2</th>\n",
       "      <td>3</td>\n",
       "      <td>Bam Adebayo</td>\n",
       "      <td>C</td>\n",
       "      <td>24</td>\n",
       "      <td>MIA</td>\n",
       "      <td>56</td>\n",
       "      <td>56</td>\n",
       "      <td>32.6</td>\n",
       "      <td>7.3</td>\n",
       "      <td>13.0</td>\n",
       "      <td>...</td>\n",
       "      <td>0.753</td>\n",
       "      <td>2.4</td>\n",
       "      <td>7.6</td>\n",
       "      <td>10.1</td>\n",
       "      <td>3.4</td>\n",
       "      <td>1.4</td>\n",
       "      <td>0.8</td>\n",
       "      <td>2.6</td>\n",
       "      <td>3.1</td>\n",
       "      <td>19.1</td>\n",
       "    </tr>\n",
       "    <tr>\n",
       "      <th>3</th>\n",
       "      <td>4</td>\n",
       "      <td>Santi Aldama</td>\n",
       "      <td>PF</td>\n",
       "      <td>21</td>\n",
       "      <td>MEM</td>\n",
       "      <td>32</td>\n",
       "      <td>0</td>\n",
       "      <td>11.3</td>\n",
       "      <td>1.7</td>\n",
       "      <td>4.1</td>\n",
       "      <td>...</td>\n",
       "      <td>0.625</td>\n",
       "      <td>1.0</td>\n",
       "      <td>1.7</td>\n",
       "      <td>2.7</td>\n",
       "      <td>0.7</td>\n",
       "      <td>0.2</td>\n",
       "      <td>0.3</td>\n",
       "      <td>0.5</td>\n",
       "      <td>1.1</td>\n",
       "      <td>4.1</td>\n",
       "    </tr>\n",
       "    <tr>\n",
       "      <th>4</th>\n",
       "      <td>5</td>\n",
       "      <td>LaMarcus Aldridge</td>\n",
       "      <td>C</td>\n",
       "      <td>36</td>\n",
       "      <td>BRK</td>\n",
       "      <td>47</td>\n",
       "      <td>12</td>\n",
       "      <td>22.3</td>\n",
       "      <td>5.4</td>\n",
       "      <td>9.7</td>\n",
       "      <td>...</td>\n",
       "      <td>0.873</td>\n",
       "      <td>1.6</td>\n",
       "      <td>3.9</td>\n",
       "      <td>5.5</td>\n",
       "      <td>0.9</td>\n",
       "      <td>0.3</td>\n",
       "      <td>1.0</td>\n",
       "      <td>0.9</td>\n",
       "      <td>1.7</td>\n",
       "      <td>12.9</td>\n",
       "    </tr>\n",
       "  </tbody>\n",
       "</table>\n",
       "<p>5 rows × 30 columns</p>\n",
       "</div>"
      ],
      "text/plain": [
       "   Rk             Player Pos  Age   Tm   G  GS    MP   FG   FGA  ...    FT%  \\\n",
       "0   1   Precious Achiuwa   C   22  TOR  73  28  23.6  3.6   8.3  ...  0.595   \n",
       "1   2       Steven Adams   C   28  MEM  76  75  26.3  2.8   5.1  ...  0.543   \n",
       "2   3        Bam Adebayo   C   24  MIA  56  56  32.6  7.3  13.0  ...  0.753   \n",
       "3   4       Santi Aldama  PF   21  MEM  32   0  11.3  1.7   4.1  ...  0.625   \n",
       "4   5  LaMarcus Aldridge   C   36  BRK  47  12  22.3  5.4   9.7  ...  0.873   \n",
       "\n",
       "   ORB  DRB   TRB  AST  STL  BLK  TOV   PF   PTS  \n",
       "0  2.0  4.5   6.5  1.1  0.5  0.6  1.2  2.1   9.1  \n",
       "1  4.6  5.4  10.0  3.4  0.9  0.8  1.5  2.0   6.9  \n",
       "2  2.4  7.6  10.1  3.4  1.4  0.8  2.6  3.1  19.1  \n",
       "3  1.0  1.7   2.7  0.7  0.2  0.3  0.5  1.1   4.1  \n",
       "4  1.6  3.9   5.5  0.9  0.3  1.0  0.9  1.7  12.9  \n",
       "\n",
       "[5 rows x 30 columns]"
      ]
     },
     "execution_count": 115,
     "metadata": {},
     "output_type": "execute_result"
    }
   ],
   "source": [
    "import pandas as pd\n",
    "df = pd.read_csv(\"https://raw.githubusercontent.com/Datamanim/datarepo/main/nba/nba.csv\",encoding='latin',sep=';')\n",
    "df.head()"
   ]
  },
  {
   "cell_type": "code",
   "execution_count": 116,
   "id": "8ae876bc-311b-4c61-b190-fac4d95febe8",
   "metadata": {},
   "outputs": [],
   "source": [
    "# Tm 컬럼은 각 팀의 이름을 의미한다. TOR팀의 평균나이를 소수 4째 자리까지 구하여라\n",
    "\n"
   ]
  },
  {
   "cell_type": "code",
   "execution_count": 120,
   "id": "f4a034bd-9242-4de0-bed5-2bbe6158365f",
   "metadata": {},
   "outputs": [
    {
     "data": {
      "text/plain": [
       "np.float64(24.8696)"
      ]
     },
     "execution_count": 120,
     "metadata": {},
     "output_type": "execute_result"
    }
   ],
   "source": [
    "round(df[df['Tm'] == 'TOR']['Age'].mean(),4)"
   ]
  },
  {
   "cell_type": "code",
   "execution_count": 121,
   "id": "3aab4bcc-3fab-4a3d-becb-429053d0de80",
   "metadata": {},
   "outputs": [],
   "source": [
    "# Pos 컬럼은 포지션을 의미한다. \n",
    "#전체 선수 중 최소나이대의 선수들을 필터하고 그들 중 가장 많은 포지션은 무엇인지 확인하라"
   ]
  },
  {
   "cell_type": "code",
   "execution_count": 125,
   "id": "95f46b71-6018-4b04-8a2e-f16682865b1e",
   "metadata": {},
   "outputs": [
    {
     "data": {
      "text/plain": [
       "Age\n",
       "24    104\n",
       "23     81\n",
       "22     73\n",
       "26     68\n",
       "25     65\n",
       "28     60\n",
       "27     53\n",
       "29     50\n",
       "21     48\n",
       "31     42\n",
       "30     33\n",
       "20     31\n",
       "32     29\n",
       "33     23\n",
       "35     14\n",
       "19     13\n",
       "34     11\n",
       "36      9\n",
       "37      2\n",
       "41      1\n",
       "38      1\n",
       "40      1\n",
       "Name: count, dtype: int64"
      ]
     },
     "execution_count": 125,
     "metadata": {},
     "output_type": "execute_result"
    }
   ],
   "source": [
    "df['Age'].value_counts()"
   ]
  },
  {
   "cell_type": "code",
   "execution_count": 127,
   "id": "1d4d1182-d0ec-4fdd-ad93-1fa729f1b1ac",
   "metadata": {},
   "outputs": [
    {
     "data": {
      "text/plain": [
       "Pos\n",
       "SG    9\n",
       "PF    2\n",
       "SF    1\n",
       "C     1\n",
       "Name: count, dtype: int64"
      ]
     },
     "execution_count": 127,
     "metadata": {},
     "output_type": "execute_result"
    }
   ],
   "source": [
    "df[df['Age'] == 19]['Pos'].value_counts()"
   ]
  },
  {
   "cell_type": "code",
   "execution_count": 128,
   "id": "328eb6f5-f14f-42e9-9663-b5f237f54590",
   "metadata": {},
   "outputs": [],
   "source": [
    "# 선수들의 이름은 first_name+ 공백 + last_name으로 이루어져 있다. \n",
    "#가장 많은 first_name은 무엇이며 몇 회 발생하는지 확인하라"
   ]
  },
  {
   "cell_type": "code",
   "execution_count": 147,
   "id": "3cb4b3ad-6953-4d9c-97a2-e94f48814498",
   "metadata": {},
   "outputs": [],
   "source": [
    "df['Player_first'] = df['Player'].str.split(' ').str[0]"
   ]
  },
  {
   "cell_type": "code",
   "execution_count": 148,
   "id": "8eb0c2c7-6447-448a-998c-ee2b8f8bb655",
   "metadata": {},
   "outputs": [],
   "source": [
    "df['Player_last'] = df['Player'].str.split(' ').str[1]"
   ]
  },
  {
   "cell_type": "code",
   "execution_count": 150,
   "id": "5839a171-50c5-47b2-8e0c-427faafd040f",
   "metadata": {},
   "outputs": [
    {
     "data": {
      "text/plain": [
       "Player_first\n",
       "Justin     14\n",
       "Josh       13\n",
       "Isaiah     11\n",
       "James       9\n",
       "Jalen       8\n",
       "           ..\n",
       "Trendon     1\n",
       "Lindy       1\n",
       "Yuta        1\n",
       "Duane       1\n",
       "Omer        1\n",
       "Name: count, Length: 448, dtype: int64"
      ]
     },
     "execution_count": 150,
     "metadata": {},
     "output_type": "execute_result"
    }
   ],
   "source": [
    "df['Player_first'].value_counts()"
   ]
  },
  {
   "cell_type": "code",
   "execution_count": 151,
   "id": "25e14b1d-a5c9-49d3-99a8-1b71370da011",
   "metadata": {},
   "outputs": [],
   "source": [
    "# PTS컬럼은 경기당 평균득점수 이다. 각포지션별로 경기당 평균득점수의 평균을 구하여라"
   ]
  },
  {
   "cell_type": "code",
   "execution_count": 157,
   "id": "45442947-4066-4f24-aad0-c98da947ac42",
   "metadata": {},
   "outputs": [
    {
     "data": {
      "text/html": [
       "<div>\n",
       "<style scoped>\n",
       "    .dataframe tbody tr th:only-of-type {\n",
       "        vertical-align: middle;\n",
       "    }\n",
       "\n",
       "    .dataframe tbody tr th {\n",
       "        vertical-align: top;\n",
       "    }\n",
       "\n",
       "    .dataframe thead th {\n",
       "        text-align: right;\n",
       "    }\n",
       "</style>\n",
       "<table border=\"1\" class=\"dataframe\">\n",
       "  <thead>\n",
       "    <tr style=\"text-align: right;\">\n",
       "      <th></th>\n",
       "      <th>PTS</th>\n",
       "    </tr>\n",
       "    <tr>\n",
       "      <th>Pos</th>\n",
       "      <th></th>\n",
       "    </tr>\n",
       "  </thead>\n",
       "  <tbody>\n",
       "    <tr>\n",
       "      <th>SF</th>\n",
       "      <td>7.270253</td>\n",
       "    </tr>\n",
       "    <tr>\n",
       "      <th>SG-SF</th>\n",
       "      <td>7.360000</td>\n",
       "    </tr>\n",
       "    <tr>\n",
       "      <th>C</th>\n",
       "      <td>7.690769</td>\n",
       "    </tr>\n",
       "    <tr>\n",
       "      <th>PF</th>\n",
       "      <td>7.737500</td>\n",
       "    </tr>\n",
       "    <tr>\n",
       "      <th>SG</th>\n",
       "      <td>7.810553</td>\n",
       "    </tr>\n",
       "    <tr>\n",
       "      <th>PG</th>\n",
       "      <td>8.325161</td>\n",
       "    </tr>\n",
       "    <tr>\n",
       "      <th>PF-SF</th>\n",
       "      <td>8.500000</td>\n",
       "    </tr>\n",
       "    <tr>\n",
       "      <th>SF-SG</th>\n",
       "      <td>8.660000</td>\n",
       "    </tr>\n",
       "    <tr>\n",
       "      <th>SG-PG</th>\n",
       "      <td>9.525000</td>\n",
       "    </tr>\n",
       "    <tr>\n",
       "      <th>C-PF</th>\n",
       "      <td>12.850000</td>\n",
       "    </tr>\n",
       "    <tr>\n",
       "      <th>PG-SG</th>\n",
       "      <td>22.000000</td>\n",
       "    </tr>\n",
       "  </tbody>\n",
       "</table>\n",
       "</div>"
      ],
      "text/plain": [
       "             PTS\n",
       "Pos             \n",
       "SF      7.270253\n",
       "SG-SF   7.360000\n",
       "C       7.690769\n",
       "PF      7.737500\n",
       "SG      7.810553\n",
       "PG      8.325161\n",
       "PF-SF   8.500000\n",
       "SF-SG   8.660000\n",
       "SG-PG   9.525000\n",
       "C-PF   12.850000\n",
       "PG-SG  22.000000"
      ]
     },
     "execution_count": 157,
     "metadata": {},
     "output_type": "execute_result"
    }
   ],
   "source": [
    "df.groupby('Pos')['PTS'].mean().to_frame().sort_values('PTS')"
   ]
  },
  {
   "cell_type": "code",
   "execution_count": 158,
   "id": "7fe48eb6-fb57-4647-a0a5-730f7e484e52",
   "metadata": {},
   "outputs": [],
   "source": [
    "# G컬럼은 참여한 경기의 숫자이다. 각 팀별로 가장 높은 경기참여 수를 가진 선수들의 경기 참여 숫자의 평균을 구하여라"
   ]
  },
  {
   "cell_type": "code",
   "execution_count": 165,
   "id": "537ac70a-3c5c-4fb0-b388-b58d80e7ae99",
   "metadata": {},
   "outputs": [
    {
     "data": {
      "text/plain": [
       "np.float64(77.51612903225806)"
      ]
     },
     "execution_count": 165,
     "metadata": {},
     "output_type": "execute_result"
    }
   ],
   "source": [
    "df.sort_values(['Tm','G']).groupby('Tm').tail(1)['G'].mean()"
   ]
  },
  {
   "cell_type": "code",
   "execution_count": 168,
   "id": "1525633d-b27d-4a6a-8ca6-2e2ecdd858c1",
   "metadata": {},
   "outputs": [],
   "source": [
    "# Tm의 값이 MIA이며 Pos는 C또는 PF인 선수의 MP값의 평균은?"
   ]
  },
  {
   "cell_type": "code",
   "execution_count": 177,
   "id": "7f632e94-40ad-4261-922f-a42d6e734fa6",
   "metadata": {},
   "outputs": [
    {
     "data": {
      "text/plain": [
       "np.float64(16.7875)"
      ]
     },
     "execution_count": 177,
     "metadata": {},
     "output_type": "execute_result"
    }
   ],
   "source": [
    "cond1 = df['Tm'] == 'MIA' \n",
    "result = df.loc[cond1]\n",
    "cond2 = result['Pos'] == 'C'\n",
    "cond3 = result['Pos'] == 'PF'\n",
    "\n",
    "result = result.loc[cond2 | cond3]\n",
    "result['MP'].mean()"
   ]
  },
  {
   "cell_type": "code",
   "execution_count": 178,
   "id": "6c6435f7-b129-4e4a-8f52-d62594380637",
   "metadata": {},
   "outputs": [],
   "source": [
    "# 전체 데이터중 G의 평균값의 1.5배 이상인 데이터들만 추출했을때 3P값의 평균은?"
   ]
  },
  {
   "cell_type": "code",
   "execution_count": 181,
   "id": "280d7f8d-f6af-4242-97fd-deff8e1952be",
   "metadata": {},
   "outputs": [
    {
     "data": {
      "text/plain": [
       "np.float64(1.3853658536585365)"
      ]
     },
     "execution_count": 181,
     "metadata": {},
     "output_type": "execute_result"
    }
   ],
   "source": [
    "df[df['G'] >= df['G'].mean()* 1.5]['3P'].mean()"
   ]
  },
  {
   "cell_type": "code",
   "execution_count": 182,
   "id": "1e91baa8-1f15-41c9-b895-0d3d70d4feac",
   "metadata": {},
   "outputs": [],
   "source": [
    "# Age의 평균 이상인 그룹과 평균 미만인 그룹간의 G값의 평균의 차이는?"
   ]
  },
  {
   "cell_type": "code",
   "execution_count": 183,
   "id": "a84edb51-bc3f-4e25-b300-085bc812673e",
   "metadata": {},
   "outputs": [
    {
     "data": {
      "text/plain": [
       "np.float64(3.787674551781862)"
      ]
     },
     "execution_count": 183,
     "metadata": {},
     "output_type": "execute_result"
    }
   ],
   "source": [
    "df[df['Age'] >= df['Age'].mean()]['G'].mean() - df[df['Age'] <= df['Age'].mean()]['G'].mean()"
   ]
  },
  {
   "cell_type": "code",
   "execution_count": 184,
   "id": "8b5df111-62f4-40fb-8e22-2fe3bc434699",
   "metadata": {},
   "outputs": [],
   "source": [
    "# 평균나이가 가장 젊은 팀은 어디인가"
   ]
  },
  {
   "cell_type": "code",
   "execution_count": 195,
   "id": "7b43940d-87cb-4c71-90bd-8b9170578b32",
   "metadata": {},
   "outputs": [
    {
     "data": {
      "text/plain": [
       "Tm\n",
       "MEM    23.782609\n",
       "OKC    23.807692\n",
       "DET    24.111111\n",
       "ORL    24.500000\n",
       "HOU    24.526316\n",
       "MIN    24.555556\n",
       "TOR    24.869565\n",
       "CHO    24.947368\n",
       "POR    25.000000\n",
       "SAC    25.230769\n",
       "CHI    25.272727\n",
       "SAS    25.333333\n",
       "NYK    25.652174\n",
       "WAS    25.724138\n",
       "NOP    25.727273\n",
       "IND    25.892857\n",
       "ATL    25.958333\n",
       "CLE    26.076923\n",
       "PHI    26.391304\n",
       "DEN    26.454545\n",
       "BOS    26.500000\n",
       "DAL    26.592593\n",
       "LAC    26.826087\n",
       "PHO    26.869565\n",
       "TOT    26.876289\n",
       "UTA    27.250000\n",
       "MIL    27.344828\n",
       "GSW    27.411765\n",
       "MIA    27.500000\n",
       "BRK    28.541667\n",
       "LAL    29.080000\n",
       "Name: Age, dtype: float64"
      ]
     },
     "execution_count": 195,
     "metadata": {},
     "output_type": "execute_result"
    }
   ],
   "source": [
    "df.groupby('Tm')['Age'].mean().sort_values()"
   ]
  },
  {
   "cell_type": "code",
   "execution_count": 196,
   "id": "c8e76bb5-24ca-4acc-83be-0d62986d12f9",
   "metadata": {},
   "outputs": [],
   "source": [
    "# Pos그룹별 평균 MP값을 구하여라"
   ]
  },
  {
   "cell_type": "code",
   "execution_count": 197,
   "id": "1dc2b327-b447-477b-b9b2-a73e02a0928b",
   "metadata": {},
   "outputs": [
    {
     "data": {
      "text/plain": [
       "Pos\n",
       "C        16.990000\n",
       "C-PF     25.350000\n",
       "PF       17.937500\n",
       "PF-SF    27.300000\n",
       "PG       19.547742\n",
       "PG-SG    37.200000\n",
       "SF       17.514557\n",
       "SF-SG    20.340000\n",
       "SG       18.554271\n",
       "SG-PG    22.950000\n",
       "SG-SF    19.620000\n",
       "Name: MP, dtype: float64"
      ]
     },
     "execution_count": 197,
     "metadata": {},
     "output_type": "execute_result"
    }
   ],
   "source": [
    "df.groupby('Pos')['MP'].mean()"
   ]
  },
  {
   "cell_type": "code",
   "execution_count": null,
   "id": "e2259efe-53c0-4181-8c27-6a00e9f90c57",
   "metadata": {},
   "outputs": [],
   "source": []
  }
 ],
 "metadata": {
  "kernelspec": {
   "display_name": "Python 3 (ipykernel)",
   "language": "python",
   "name": "python3"
  },
  "language_info": {
   "codemirror_mode": {
    "name": "ipython",
    "version": 3
   },
   "file_extension": ".py",
   "mimetype": "text/x-python",
   "name": "python",
   "nbconvert_exporter": "python",
   "pygments_lexer": "ipython3",
   "version": "3.13.3"
  }
 },
 "nbformat": 4,
 "nbformat_minor": 5
}
