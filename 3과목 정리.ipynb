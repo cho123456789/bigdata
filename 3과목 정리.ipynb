{
 "cells": [
  {
   "cell_type": "markdown",
   "id": "ff2eb77c-78e4-4cdd-ae40-e5620f72fde7",
   "metadata": {},
   "source": [
    "# 1 상관계수 corr().unstack()\n",
    "# 2 자기자신 제외 result = result[result!=]"
   ]
  },
  {
   "cell_type": "raw",
   "id": "e7ab6033-8881-4bc6-9593-f64a41959c62",
   "metadata": {},
   "source": [
    "### 정규성 검정\n",
    "\n",
    "scipy 모듈 찾기\n",
    "list(filter(lambda x : '찾을변수' in x , dir(stats)))# w\n",
    "\n",
    "1. from scipy.stats import shapiro   샤피로 검정\n",
    "2. from scipy.stats import anderson  # 5000개 초과 샘플 앤드슨 검정"
   ]
  },
  {
   "cell_type": "code",
   "execution_count": 31,
   "id": "f89bcf52-fd50-4cdc-b723-60eaac472f30",
   "metadata": {},
   "outputs": [],
   "source": [
    "from scipy.stats import shapiro "
   ]
  },
  {
   "cell_type": "code",
   "execution_count": 44,
   "id": "c4492633-fa65-4f3e-a4d3-9df4b12ab6f8",
   "metadata": {},
   "outputs": [
    {
     "name": "stdout",
     "output_type": "stream",
     "text": [
      "ShapiroResult(statistic=np.float64(0.9995353804150279), pvalue=np.float64(0.15046155392344363))\n",
      "AndersonResult(statistic=np.float64(0.8266993530414766), critical_values=array([0.576, 0.656, 0.786, 0.917, 1.091]), significance_level=array([15. , 10. ,  5. ,  2.5,  1. ]), fit_result=  params: FitParams(loc=np.float64(299.95980319533163), scale=np.float64(5.031806887885131))\n",
      " success: True\n",
      " message: '`anderson` successfully fit the distribution to the data.')\n"
     ]
    },
    {
     "name": "stderr",
     "output_type": "stream",
     "text": [
      "D:\\python\\Lib\\site-packages\\scipy\\stats\\_axis_nan_policy.py:586: UserWarning: scipy.stats.shapiro: For N > 5000, computed p-value may not be accurate. Current N is 6000.\n",
      "  res = hypotest_fun_out(*samples, **kwds)\n"
     ]
    }
   ],
   "source": [
    "from scipy.stats import shapiro , anderson\n",
    "\n",
    "import pandas as pd \n",
    "import matplotlib.pyplot as plt\n",
    "df = pd.read_csv('https://raw.githubusercontent.com/Datamanim/datarepo/main/scipy/normal6.csv')\n",
    "df\n",
    "\n",
    "p , stats = shapiro(df['data'])\n",
    "print(shapiro(df['data']))\n",
    "\n",
    "print(anderson(df['data'].values))ㅑ"
   ]
  },
  {
   "cell_type": "markdown",
   "id": "3d42d28d-e6ef-4bc0-a6e1-8ca66e2d356d",
   "metadata": {},
   "source": [
    "# 단일 표본 t 검정\n",
    "\n",
    "p > 0.05 보다 크면 귀무 165가 평균키이다  / 아니면 대립 아니다 \n",
    "\n",
    "- 평균키는 165라고 판단할수있는가 \n",
    "1. from scipy.stats import ttest_1samp (one-sample)\n",
    "-> stats , p = ttest_1samp (df['height'] ,165)"
   ]
  },
  {
   "cell_type": "code",
   "execution_count": 49,
   "id": "61971142-24d9-45ef-816b-7acd6817ef14",
   "metadata": {},
   "outputs": [
    {
     "name": "stdout",
     "output_type": "stream",
     "text": [
      "3.2017884987150644 0.0018367171548080209\n"
     ]
    }
   ],
   "source": [
    "import pandas as pd\n",
    "from scipy.stats import ttest_1samp\n",
    "df = pd.read_csv('https://raw.githubusercontent.com/Datamanim/datarepo/main/scipy/height1.csv')\n",
    "\n",
    "stats, p = ttest_1samp(df['height'], 165)\n",
    "print(stats, p)"
   ]
  },
  {
   "cell_type": "markdown",
   "id": "6cb19f4d-07e1-478f-ace0-08731ea8b166",
   "metadata": {},
   "source": [
    "# 등분산 검정\n",
    "\n",
    "from scipy.stats import levene"
   ]
  },
  {
   "cell_type": "code",
   "execution_count": 54,
   "id": "f5800320-c3d9-4c75-a0ee-6e53a56a4306",
   "metadata": {},
   "outputs": [],
   "source": [
    "from scipy.stats import levene"
   ]
  },
  {
   "cell_type": "markdown",
   "id": "59f578f8-1720-4851-92ec-65aef9d7fd2d",
   "metadata": {},
   "source": [
    "# t 검정 독립 표본 ( 표본의 2개)\n",
    "- 정규성을 가지지않으면 사용할수없다\n",
    "- 데이터가 정규성 가지면 모수 검정  -> 등분산 검정 => 등분산을 가지면 equal_var = True\n",
    "- 데이터가 정규성을 가지않으면 비모수검정 =>  mannwhitneyu, \n",
    "- 데이터가 정규성을 가지면 - 등분산이 아닐경우  equal_var = False\n",
    "\n",
    "- from scipy.stats import ttest_ind"
   ]
  },
  {
   "cell_type": "code",
   "execution_count": 55,
   "id": "4b6834c9-d8ff-4b92-9df1-ab4cf07e8c24",
   "metadata": {},
   "outputs": [
    {
     "name": "stdout",
     "output_type": "stream",
     "text": [
      "         data\n",
      "0  105.408458\n",
      "1  108.722618\n",
      "2   84.398634\n",
      "3  100.510816\n",
      "4  100.965949\n",
      "         data\n",
      "0   98.329474\n",
      "1   96.931704\n",
      "2   95.777325\n",
      "3   98.744768\n",
      "4  102.971042\n"
     ]
    }
   ],
   "source": [
    "import pandas as pd \n",
    "import matplotlib.pyplot as plt\n",
    "df1 = pd.read_csv('https://raw.githubusercontent.com/Datamanim/datarepo/main/scipy/ind1.csv')\n",
    "df2 = pd.read_csv('https://raw.githubusercontent.com/Datamanim/datarepo/main/scipy/ind2.csv')\n",
    "\n",
    "print(df1.head())\n",
    "print(df2.head())"
   ]
  },
  {
   "cell_type": "code",
   "execution_count": 56,
   "id": "bfcb4f4a-1ed6-402b-84e8-82ee3146f531",
   "metadata": {},
   "outputs": [
    {
     "name": "stdout",
     "output_type": "stream",
     "text": [
      "ShapiroResult(statistic=np.float64(0.9860948333328381), pvalue=np.float64(0.3796835726350978))\n",
      "ShapiroResult(statistic=np.float64(0.9901827646291556), pvalue=np.float64(0.6793743269084671))\n",
      "\n",
      "LeveneResult(statistic=np.float64(2.5337683795339547), pvalue=np.float64(0.11302904824468703))\n",
      "\n",
      "TtestResult(statistic=array([2.76719074]), pvalue=array([0.00619015]), df=array([198.]))\n"
     ]
    }
   ],
   "source": [
    "from scipy.stats import shapiro\n",
    "print(shapiro(df1))\n",
    "print(shapiro(df2))\n",
    "\n",
    "# 두 그룹 모두 Shapiro검정 결과 귀무가설(정규성을 가진다)을 기각 하지 못한다. 두 그룹은 정규성을 가진다.\n",
    "\n",
    "from scipy.stats import levene\n",
    "print()\n",
    "print(levene(df1['data'],df2['data']))\n",
    "# 두그룹은 levene 검정을 확인해 본결과 pvalue 는 0.11로 귀무가실을 기각히지 못한다. 그러므로 등분산은 가진다\n",
    "\n",
    "from scipy.stats import ttest_ind\n",
    "print()\n",
    "print(ttest_ind(df1,df2,equal_var=True))"
   ]
  },
  {
   "cell_type": "code",
   "execution_count": 66,
   "id": "b42e262d-275e-405f-bdd1-10fcfec03168",
   "metadata": {},
   "outputs": [
    {
     "name": "stdout",
     "output_type": "stream",
     "text": [
      "ShapiroResult(statistic=np.float64(0.9639432320175103), pvalue=np.float64(0.0001356810116492406))\n",
      "ShapiroResult(statistic=np.float64(0.9375393672524898), pvalue=np.float64(6.175255664337946e-10))\n",
      "['_mannwhitneyu', 'boltzmann', 'mannwhitneyu']\n",
      "MannwhitneyuResult(statistic=np.float64(27036.0), pvalue=np.float64(0.9807458376150018))\n",
      "RanksumsResult(statistic=np.float64(0.02446942170858557), pvalue=np.float64(0.9804781743503561))\n"
     ]
    }
   ],
   "source": [
    "import pandas as pd \n",
    "import matplotlib.pyplot as plt\n",
    "df = pd.read_csv('https://raw.githubusercontent.com/Datamanim/datarepo/main/scipy/scipy5.csv')\n",
    "\n",
    "print(shapiro(df['B'].dropna()))\n",
    "print(shapiro(df['A']))\n",
    "\n",
    "# 한그룹만 정규성을 위반하도 t-test 불가능\n",
    "\n",
    "# 맨히튼 검정   = mannwhitneyu / 월콕슨 검정 = ranksums\n",
    "\n",
    "from scipy.stats import mannwhitneyu , ranksums\n",
    "from scipy import stats\n",
    "print(list(filter(lambda x : 'mann' in x , dir(stats))))\n",
    "print(mannwhitneyu(df['A'],df['B'].dropna()))\n",
    "print(ranksums(df['A'],df['B'].dropna()))"
   ]
  },
  {
   "cell_type": "code",
   "execution_count": 67,
   "id": "b2582e89-de2d-41ce-aedb-5e80f5a11e8e",
   "metadata": {},
   "outputs": [],
   "source": [
    "# 두개 학급의 시험성적에 대한 데이터이다. 두 학습의 시험 평균(비모수검정의 경우 중위값)은 동일하다 말할 수 있는지 확인 하라"
   ]
  },
  {
   "cell_type": "markdown",
   "id": "abd3feff-e7a0-447d-b6bc-32d446868d9f",
   "metadata": {},
   "source": [
    "# t 대응  표본 ( 표본의 2개)\n",
    "- 정규성을 가질떄  전 후 비교  - ttest_rel \n",
    "- 정규성을 안가질떄 -> wilcoxon\n",
    "\n",
    "- from scipy.stats import ttest_rel\n",
    "      - ttest_rel (a,b alternative =\"greater\")  # B공장 제품들의 rpm이 A 공장 제품의 rpm보다 크다고\n",
    "- from scipy.stats import wilcoxon"
   ]
  },
  {
   "cell_type": "code",
   "execution_count": 69,
   "id": "e9207e26-5a82-450a-a302-8170ef5578e0",
   "metadata": {},
   "outputs": [],
   "source": [
    "from scipy.stats import ttest_rel"
   ]
  },
  {
   "cell_type": "code",
   "execution_count": 70,
   "id": "83d21186-0d70-4673-9df6-50c887004747",
   "metadata": {},
   "outputs": [],
   "source": [
    "import pandas as pd \n",
    "import matplotlib.pyplot as plt\n",
    "df = pd.read_csv('https://raw.githubusercontent.com/Datamanim/datarepo/main/scipy/rel2.csv')"
   ]
  },
  {
   "cell_type": "code",
   "execution_count": 71,
   "id": "fb422a69-9f11-4ab1-ad94-a176331b6068",
   "metadata": {},
   "outputs": [
    {
     "name": "stdout",
     "output_type": "stream",
     "text": [
      "ShapiroResult(statistic=np.float64(0.9907895174016046), pvalue=np.float64(0.6065791087935604))\n",
      "ShapiroResult(statistic=np.float64(0.9916963493176595), pvalue=np.float64(0.692386232128563))\n",
      "\n",
      "LeveneResult(statistic=np.float64(0.06427968690211128), pvalue=np.float64(0.8000741651677916))\n",
      "TtestResult(statistic=np.float64(-2.5535473487670677), pvalue=np.float64(0.011926744724546513), df=np.int64(119))\n"
     ]
    }
   ],
   "source": [
    "from scipy.stats import shapiro\n",
    "\n",
    "before = df['before']\n",
    "after = df['after']\n",
    "print(shapiro(before))\n",
    "print(shapiro(after))\n",
    "\n",
    "from scipy.stats import levene\n",
    "print()\n",
    "print(levene(before,after))\n",
    "\n",
    "\n",
    "from scipy.stats import ttest_rel\n",
    "print(ttest_rel(before,after))"
   ]
  },
  {
   "cell_type": "markdown",
   "id": "476e20ee-9743-41a2-be50-b50039342a01",
   "metadata": {},
   "source": [
    "# 카이제곱 적합성 검정 \n",
    "=> 관측된 분포가 특정 이론적 분포에 잘 맞는지 확인 > 주사위 확률 \n",
    "from scipy.stats import chisquare\n",
    "\n",
    "# 카이제곱 독립성 검정\n",
    "=> 두 범주형 변수간의 연관성이 있는지 확인\n",
    "from scipy.stats import chi2_contingency\n",
    "table = pd.crosstab(df['a'],df['b'])\n",
    "chi2_contingency(table)"
   ]
  },
  {
   "cell_type": "code",
   "execution_count": 72,
   "id": "693ef285-421c-4e2d-8832-b14b0acfde6e",
   "metadata": {},
   "outputs": [],
   "source": [
    "from scipy.stats import chisquare"
   ]
  },
  {
   "cell_type": "code",
   "execution_count": 74,
   "id": "73f18c15-5181-4155-8388-16c141745f08",
   "metadata": {},
   "outputs": [
    {
     "name": "stdout",
     "output_type": "stream",
     "text": [
      "Power_divergenceResult(statistic=np.float64(2.333333333333333), pvalue=np.float64(0.8013589222076911))\n"
     ]
    }
   ],
   "source": [
    "# 주사위 눈금의 발생확률은 1/6으로 모두 동일하다. 그러므로 각 눈금의 기댓값은 실제 발생한 모든값을 6으로 나눈 값이다.\n",
    "from scipy.stats import chisquare\n",
    "import pandas as pd \n",
    "import matplotlib.pyplot as plt\n",
    "df = pd.read_csv('https://raw.githubusercontent.com/Datamanim/datarepo/main/scipy/dice.csv')\n",
    "df['expected'] = (df['counts'].sum()/6).astype('int')\n",
    "print(chisquare(df.counts,df.expected)) "
   ]
  },
  {
   "cell_type": "code",
   "execution_count": 76,
   "id": "92e394b0-9aaf-48e9-9a70-a82643db9bc2",
   "metadata": {},
   "outputs": [
    {
     "data": {
      "text/html": [
       "<div>\n",
       "<style scoped>\n",
       "    .dataframe tbody tr th:only-of-type {\n",
       "        vertical-align: middle;\n",
       "    }\n",
       "\n",
       "    .dataframe tbody tr th {\n",
       "        vertical-align: top;\n",
       "    }\n",
       "\n",
       "    .dataframe thead th {\n",
       "        text-align: right;\n",
       "    }\n",
       "</style>\n",
       "<table border=\"1\" class=\"dataframe\">\n",
       "  <thead>\n",
       "    <tr style=\"text-align: right;\">\n",
       "      <th></th>\n",
       "      <th>측정나이</th>\n",
       "      <th>측정회원성별</th>\n",
       "      <th>신장 : cm</th>\n",
       "      <th>체중 : kg</th>\n",
       "      <th>체지방율 : %</th>\n",
       "      <th>이완기혈압(최저) : mmHg</th>\n",
       "      <th>수축기혈압(최고) : mmHg</th>\n",
       "      <th>악력D : kg</th>\n",
       "      <th>앉아윗몸앞으로굽히기 : cm</th>\n",
       "      <th>교차윗몸일으키기 : 회</th>\n",
       "      <th>제자리 멀리뛰기 : cm</th>\n",
       "      <th>등급</th>\n",
       "    </tr>\n",
       "  </thead>\n",
       "  <tbody>\n",
       "    <tr>\n",
       "      <th>0</th>\n",
       "      <td>59.0</td>\n",
       "      <td>M</td>\n",
       "      <td>175.0</td>\n",
       "      <td>70.6</td>\n",
       "      <td>19.2</td>\n",
       "      <td>91.0</td>\n",
       "      <td>150.0</td>\n",
       "      <td>40.6</td>\n",
       "      <td>12.2</td>\n",
       "      <td>30.0</td>\n",
       "      <td>179.0</td>\n",
       "      <td>C</td>\n",
       "    </tr>\n",
       "    <tr>\n",
       "      <th>1</th>\n",
       "      <td>40.0</td>\n",
       "      <td>F</td>\n",
       "      <td>161.4</td>\n",
       "      <td>45.8</td>\n",
       "      <td>21.7</td>\n",
       "      <td>62.0</td>\n",
       "      <td>119.0</td>\n",
       "      <td>22.1</td>\n",
       "      <td>16.0</td>\n",
       "      <td>32.0</td>\n",
       "      <td>165.0</td>\n",
       "      <td>B</td>\n",
       "    </tr>\n",
       "    <tr>\n",
       "      <th>2</th>\n",
       "      <td>27.0</td>\n",
       "      <td>M</td>\n",
       "      <td>176.6</td>\n",
       "      <td>84.8</td>\n",
       "      <td>19.2</td>\n",
       "      <td>87.0</td>\n",
       "      <td>153.0</td>\n",
       "      <td>45.9</td>\n",
       "      <td>13.2</td>\n",
       "      <td>61.0</td>\n",
       "      <td>216.0</td>\n",
       "      <td>B</td>\n",
       "    </tr>\n",
       "    <tr>\n",
       "      <th>3</th>\n",
       "      <td>38.0</td>\n",
       "      <td>M</td>\n",
       "      <td>167.6</td>\n",
       "      <td>76.7</td>\n",
       "      <td>24.7</td>\n",
       "      <td>63.0</td>\n",
       "      <td>132.0</td>\n",
       "      <td>43.6</td>\n",
       "      <td>16.0</td>\n",
       "      <td>45.0</td>\n",
       "      <td>231.0</td>\n",
       "      <td>A</td>\n",
       "    </tr>\n",
       "    <tr>\n",
       "      <th>4</th>\n",
       "      <td>21.0</td>\n",
       "      <td>M</td>\n",
       "      <td>165.2</td>\n",
       "      <td>66.2</td>\n",
       "      <td>21.5</td>\n",
       "      <td>83.0</td>\n",
       "      <td>106.0</td>\n",
       "      <td>33.5</td>\n",
       "      <td>10.6</td>\n",
       "      <td>46.0</td>\n",
       "      <td>198.0</td>\n",
       "      <td>C</td>\n",
       "    </tr>\n",
       "  </tbody>\n",
       "</table>\n",
       "</div>"
      ],
      "text/plain": [
       "   측정나이 측정회원성별  신장 : cm  체중 : kg  체지방율 : %  이완기혈압(최저) : mmHg  \\\n",
       "0  59.0      M    175.0     70.6      19.2              91.0   \n",
       "1  40.0      F    161.4     45.8      21.7              62.0   \n",
       "2  27.0      M    176.6     84.8      19.2              87.0   \n",
       "3  38.0      M    167.6     76.7      24.7              63.0   \n",
       "4  21.0      M    165.2     66.2      21.5              83.0   \n",
       "\n",
       "   수축기혈압(최고) : mmHg  악력D : kg  앉아윗몸앞으로굽히기 : cm  교차윗몸일으키기 : 회  제자리 멀리뛰기 : cm 등급  \n",
       "0             150.0      40.6             12.2          30.0          179.0  C  \n",
       "1             119.0      22.1             16.0          32.0          165.0  B  \n",
       "2             153.0      45.9             13.2          61.0          216.0  B  \n",
       "3             132.0      43.6             16.0          45.0          231.0  A  \n",
       "4             106.0      33.5             10.6          46.0          198.0  C  "
      ]
     },
     "execution_count": 76,
     "metadata": {},
     "output_type": "execute_result"
    }
   ],
   "source": [
    "from scipy.stats import chi2_contingency\n",
    "\n",
    "import pandas as pd \n",
    "import matplotlib.pyplot as plt\n",
    "df = pd.read_csv('https://raw.githubusercontent.com/Datamanim/datarepo/main/body/body.csv')\n",
    "df.head()\n"
   ]
  },
  {
   "cell_type": "code",
   "execution_count": 77,
   "id": "bf99ac33-ccac-4d2e-843f-f6210e5ec908",
   "metadata": {},
   "outputs": [],
   "source": [
    "# 다음 데이터는 국민 기초체력을 조사한 데이터이다. 성별과 등급이 독립적인지 검정하라"
   ]
  },
  {
   "cell_type": "code",
   "execution_count": 79,
   "id": "8aa1a884-9fdc-47b2-8137-8e3330c89e80",
   "metadata": {},
   "outputs": [
    {
     "data": {
      "text/plain": [
       "Chi2ContingencyResult(statistic=np.float64(120.06233631119409), pvalue=np.float64(7.481892813401677e-26), dof=3, expected_freq=array([[1220.25, 1220.25, 1220.25, 1220.25],\n",
       "       [2128.75, 2128.75, 2128.75, 2128.75]]))"
      ]
     },
     "execution_count": 79,
     "metadata": {},
     "output_type": "execute_result"
    }
   ],
   "source": [
    "table = pd.crosstab(df['측정회원성별'] , df['등급'])\n",
    "chi2_contingency(table)"
   ]
  },
  {
   "cell_type": "markdown",
   "id": "49471081-6971-4855-b1d5-16c6d7508432",
   "metadata": {},
   "source": [
    "# 이항 분포 / 베르누이 분포 \n",
    "\n",
    "- 베르누이 분포 => 성공횟수 / 전체 횟수\n",
    "- 이항 분포 n번 시도중 k번 성공할 확률\n",
    "\n",
    "- 이항 분포 =>  from scipy.stats import binom"
   ]
  },
  {
   "cell_type": "code",
   "execution_count": 82,
   "id": "7e757910-8751-4af3-b4b1-470a2df99a31",
   "metadata": {},
   "outputs": [
    {
     "name": "stdout",
     "output_type": "stream",
     "text": [
      "0.6372880857234828\n"
     ]
    }
   ],
   "source": [
    "# 조사결과 70%의 성인 남성이 3년 동안에 적어도 1번 치과를 찾는다고 할때, 21명의 성인 남성이 임의로 추출되었다고 하자.\n",
    "# 21명 중 16명 미만이 치과를 찾았을 확률(반올림하여 소숫점 이하 3자리)\n",
    "\n",
    "from scipy.stats import binom\n",
    "\n",
    "n = 21 \n",
    "p = 0.7\n",
    "k = 16\n",
    "\n",
    "prob = binom.cdf(k-1,n,p)\n",
    "print(prob)"
   ]
  },
  {
   "cell_type": "code",
   "execution_count": 84,
   "id": "066d459d-5a42-4c76-bdac-e16379504822",
   "metadata": {},
   "outputs": [
    {
     "name": "stdout",
     "output_type": "stream",
     "text": [
      "0.027129370541188025\n"
     ]
    }
   ],
   "source": [
    "# 적어도 19명이 치과를 찾았을 확률(반올림하여 소숫점 이하 3자리)\n",
    "\n",
    "n = 21 \n",
    "p = 0.7\n",
    "k = 19\n",
    "\n",
    "prob = 1- binom.cdf(k-1,n,p)\n",
    "print(prob)"
   ]
  },
  {
   "cell_type": "markdown",
   "id": "b2928713-69b8-4cbd-8791-1903da3b580c",
   "metadata": {},
   "source": [
    "# 검정 통계량 계산 "
   ]
  },
  {
   "cell_type": "code",
   "execution_count": 86,
   "id": "18381274-5018-4ffa-b1f9-32b6c8518178",
   "metadata": {},
   "outputs": [],
   "source": [
    "#어느 학교에서 수학 시험을 본 학생 100명 중 60명이 60점 이상을 받았다. \n",
    "# 이 학교의 수학 시험의 평균 점수가 50점 이상인지 95%의 신뢰 수준에서 검정하려한다."
   ]
  },
  {
   "cell_type": "code",
   "execution_count": 99,
   "id": "57144a2f-7154-49a3-89b6-d086a0f316f5",
   "metadata": {},
   "outputs": [
    {
     "name": "stdout",
     "output_type": "stream",
     "text": [
      "2.0\n",
      "0.02275013194817921\n"
     ]
    }
   ],
   "source": [
    "import numpy as np\n",
    "\n",
    "n = 100\n",
    "p_hat = 0.6\n",
    "p = 0.5 \n",
    "alpha  = 0.05\n",
    "\n",
    "# 검정 통계랑 구하기  => 고정 획룰 - 정해진 확률  / 루트 ( 정해진 확률 * ( 1- 정해진확률) / 전체 )\n",
    "z = round( (p_hat - p) / np.sqrt(p * (1-p) / n),5)\n",
    "print(z)\n",
    "\n",
    "from scipy.stats import norm\n",
    "\n",
    "p = 1- norm.cdf(z)\n",
    "print(p)"
   ]
  },
  {
   "cell_type": "markdown",
   "id": "7806cc54-72ce-41c8-a823-1c3e5bb0433f",
   "metadata": {},
   "source": [
    "# 일원 분산 on-way Anova 검정  => \n",
    "- 3개 이상의 평균이 동일한지 검정\n",
    "- 정규성 , 등분산성 , 독립성 만족\n",
    "\n",
    "- from scipy.stats import f_oneway\n",
    "- 귀무 가설 = 동일하다 / 대립 : 동일하지않다\n",
    "\n",
    "# 아노바 검정에서 정규성을 만족하지못할경우 \n",
    "- 크루스칼 - 월리스 검정 \n",
    "- from scipy.stats import kruskal"
   ]
  },
  {
   "cell_type": "code",
   "execution_count": 103,
   "id": "36f91806-f1f1-43a0-ac0c-c3759d05d3fd",
   "metadata": {},
   "outputs": [],
   "source": [
    "from scipy.stats import f_oneway  \n",
    "# f_oneway(a,b,c)"
   ]
  },
  {
   "cell_type": "code",
   "execution_count": 106,
   "id": "a7cb4ccd-2e84-45a2-8492-0ebc09b7e1c8",
   "metadata": {},
   "outputs": [],
   "source": [
    "from scipy.stats import kruskal\n",
    "# kruskal(a,b,c)"
   ]
  },
  {
   "cell_type": "markdown",
   "id": "5d287847-4fb5-4473-ad98-1b4718ebf1e7",
   "metadata": {},
   "source": [
    "# t 분포 \n",
    "\n",
    "t 값구하기\n",
    "- from scipy.stats import t\n",
    "- 1. 분산 구하기 => std = np.std(df['height'] , ddof = 1)\n",
    "  2. 신뢰수준 , 자유도 구하기 => conlevel =  0.95 / 자유도 = ddof = n -1\n",
    "  3. 꼬리 값 계산 => t_value = t.ppf((1+conlevel) /2 , ddof) => (1+ 신뢰수준 / 2 , 자유도)\n",
    "\n",
    "95% 신뢰구간 구하기\n",
    "- lower = mean -  t_value * std / np.sqrt(n)\n",
    "- upper = mean + t_value * std/  np.sqrt(n)"
   ]
  },
  {
   "cell_type": "markdown",
   "id": "e6fcd034-79c2-4fdf-bcb1-6fb05ca41813",
   "metadata": {},
   "source": [
    "# 다중 선형 회귀 모델 \n",
    "- from statsmodels.formula.api import ols\n",
    "- formula = '종속변수 ~+독립변수+독립변수'\n",
    "- model = ols(formula, data = df).fit()\n",
    "- model.summary()\n",
    "- 회귀 계수 \n",
    "   - model.params['변수'])\n",
    "- p값\n",
    "   - model.pvalues['변수'])\n",
    "- R-square\n",
    "   - model.rsquared\n",
    "\n",
    "\n",
    "- 귀무가설 : 선형관계가 있다 \n",
    "- 대립 가설 : 선형관계가 없다 \n",
    "\n",
    "p > 0.05 :\n",
    " - 귀무\n",
    "p < 0.05 :\n",
    " - 대립\n",
    "\n",
    "# 모델 예측 하기 \n",
    "- age가 55, Cholesterol가 72.6일때 위 모델을 기반으로 weight값을 예측하라.\n",
    " - pred = pd.DataFrame({'age' : [55] , 'Cholesterol' : [72.6]})\n",
    " - model.predict(pred)"
   ]
  },
  {
   "cell_type": "code",
   "execution_count": 127,
   "id": "a2e584c0-6a72-423e-921b-ed78d2648ea4",
   "metadata": {},
   "outputs": [
    {
     "name": "stdout",
     "output_type": "stream",
     "text": [
      "                            OLS Regression Results                            \n",
      "==============================================================================\n",
      "Dep. Variable:                 weight   R-squared:                       0.044\n",
      "Model:                            OLS   Adj. R-squared:                  0.038\n",
      "Method:                 Least Squares   F-statistic:                     7.574\n",
      "Date:                Sun, 01 Jun 2025   Prob (F-statistic):           0.000608\n",
      "Time:                        15:59:15   Log-Likelihood:                -1374.9\n",
      "No. Observations:                 333   AIC:                             2756.\n",
      "Df Residuals:                     330   BIC:                             2767.\n",
      "Df Model:                           2                                         \n",
      "Covariance Type:            nonrobust                                         \n",
      "===============================================================================\n",
      "                  coef    std err          t      P>|t|      [0.025      0.975]\n",
      "-------------------------------------------------------------------------------\n",
      "Intercept      74.8953      4.455     16.813      0.000      66.132      83.658\n",
      "age            -0.0361      0.059     -0.611      0.542      -0.152       0.080\n",
      "Cholesterol     0.0819      0.022      3.716      0.000       0.039       0.125\n",
      "==============================================================================\n",
      "Omnibus:                       15.848   Durbin-Watson:                   2.033\n",
      "Prob(Omnibus):                  0.000   Jarque-Bera (JB):               17.569\n",
      "Skew:                           0.471   Prob(JB):                     0.000153\n",
      "Kurtosis:                       3.617   Cond. No.                         701.\n",
      "==============================================================================\n",
      "\n",
      "Notes:\n",
      "[1] Standard Errors assume that the covariance matrix of the errors is correctly specified.\n",
      "-0.03610166914386536\n",
      "0.5419233424517046\n",
      "0.04388934075014195\n"
     ]
    }
   ],
   "source": [
    "from statsmodels.formula.api import ols\n",
    "import pandas as pd \n",
    "df= pd.read_csv('https://raw.githubusercontent.com/Datamanim/datarepo/main/adp/28/p7.csv')\n",
    "df.head()\n",
    "\n",
    "# age와 Cholesterol을 가지고 weight를 예측하는 선형 회귀 모델을 만들려고한다. age의 회귀 계수를 구하여라\n",
    "\n",
    "formula = 'weight ~+age+Cholesterol'\n",
    "model = ols(formula, data = df).fit()\n",
    "print(model.summary())\n",
    "print(model.params['age'])\n",
    "print(model.pvalues['age'])\n",
    "print(model.rsquared)\n"
   ]
  },
  {
   "cell_type": "code",
   "execution_count": 136,
   "id": "0bfdda00-8efc-4b8b-9143-def40d50bf2c",
   "metadata": {},
   "outputs": [
    {
     "data": {
      "text/plain": [
       "0    78.85771\n",
       "dtype: float64"
      ]
     },
     "execution_count": 136,
     "metadata": {},
     "output_type": "execute_result"
    }
   ],
   "source": [
    "import pandas as pd\n",
    "pred = pd.DataFrame({'age' : [55] ,'Cholesterol' : [72.6]}) \n",
    "model.predict(pred)"
   ]
  },
  {
   "cell_type": "markdown",
   "id": "642e18c0-a62b-4837-bfc3-f847dbe57edb",
   "metadata": {},
   "source": [
    "# 로지스틱  회귀 모델 \n",
    "- from statsmodels.formula.api import logit\n",
    "- formula = '종속변수 ~+독립변수+독립변수'\n",
    "- model = logit(formula, data = df).fit()\n",
    "- model.summary()\n",
    "- 회귀 계수 \n",
    "   - model.params['변수'])\n",
    "- p값\n",
    "   - model.pvalues['변수'])\n",
    "- 오즈비 구하기\n",
    "   - np.exp(model.params['변수'])\n",
    "- 잔차 이탈도 구하기 (residual deviance)\n",
    "   -  -2 * model.llf\n",
    "- 로그 우도 구하기\n",
    "  - model.llf\n",
    " \n",
    "- 오류율 구하기\n",
    "   - from sklearn.metrics import accuracy_score\n",
    "   - error_rate = 1 - accuracy_score(test['target'] ,pred)\n",
    "\n",
    "-  유의미하지 않은 변수\n",
    "-  if p < 0.05\n",
    "   - 유의미 하다\n",
    "- else\n",
    "   - 유의미 하지않다\n",
    " \n",
    "# 예측 모델 만들기 \n",
    "\n",
    "- 위에서 계산한 모델을 이용하여 뇌크기 90 키 70 몸무게 150일 때 지능을 예측하라\n",
    "- result = pd.DataFrame({'Brain'[90] , 'Height' : [70], 'Weight' : [150]})\n",
    "- result = predict(result)"
   ]
  },
  {
   "cell_type": "code",
   "execution_count": 138,
   "id": "bb39db08-bcab-480c-9784-437b430c235e",
   "metadata": {},
   "outputs": [
    {
     "data": {
      "text/html": [
       "<div>\n",
       "<style scoped>\n",
       "    .dataframe tbody tr th:only-of-type {\n",
       "        vertical-align: middle;\n",
       "    }\n",
       "\n",
       "    .dataframe tbody tr th {\n",
       "        vertical-align: top;\n",
       "    }\n",
       "\n",
       "    .dataframe thead th {\n",
       "        text-align: right;\n",
       "    }\n",
       "</style>\n",
       "<table border=\"1\" class=\"dataframe\">\n",
       "  <thead>\n",
       "    <tr style=\"text-align: right;\">\n",
       "      <th></th>\n",
       "      <th>age</th>\n",
       "      <th>sex</th>\n",
       "      <th>cp</th>\n",
       "      <th>trestbps</th>\n",
       "      <th>chol</th>\n",
       "      <th>fbs</th>\n",
       "      <th>restecg</th>\n",
       "      <th>thalach</th>\n",
       "      <th>exang</th>\n",
       "      <th>oldpeak</th>\n",
       "      <th>slope</th>\n",
       "      <th>ca</th>\n",
       "      <th>thal</th>\n",
       "      <th>target</th>\n",
       "    </tr>\n",
       "  </thead>\n",
       "  <tbody>\n",
       "    <tr>\n",
       "      <th>0</th>\n",
       "      <td>63.0</td>\n",
       "      <td>1.0</td>\n",
       "      <td>1.0</td>\n",
       "      <td>145.0</td>\n",
       "      <td>233.0</td>\n",
       "      <td>1.0</td>\n",
       "      <td>2.0</td>\n",
       "      <td>150.0</td>\n",
       "      <td>0.0</td>\n",
       "      <td>2.3</td>\n",
       "      <td>3.0</td>\n",
       "      <td>0.0</td>\n",
       "      <td>6.0</td>\n",
       "      <td>0</td>\n",
       "    </tr>\n",
       "    <tr>\n",
       "      <th>1</th>\n",
       "      <td>67.0</td>\n",
       "      <td>1.0</td>\n",
       "      <td>4.0</td>\n",
       "      <td>160.0</td>\n",
       "      <td>286.0</td>\n",
       "      <td>0.0</td>\n",
       "      <td>2.0</td>\n",
       "      <td>108.0</td>\n",
       "      <td>1.0</td>\n",
       "      <td>1.5</td>\n",
       "      <td>2.0</td>\n",
       "      <td>3.0</td>\n",
       "      <td>3.0</td>\n",
       "      <td>1</td>\n",
       "    </tr>\n",
       "    <tr>\n",
       "      <th>2</th>\n",
       "      <td>67.0</td>\n",
       "      <td>1.0</td>\n",
       "      <td>4.0</td>\n",
       "      <td>120.0</td>\n",
       "      <td>229.0</td>\n",
       "      <td>0.0</td>\n",
       "      <td>2.0</td>\n",
       "      <td>129.0</td>\n",
       "      <td>1.0</td>\n",
       "      <td>2.6</td>\n",
       "      <td>2.0</td>\n",
       "      <td>2.0</td>\n",
       "      <td>7.0</td>\n",
       "      <td>1</td>\n",
       "    </tr>\n",
       "    <tr>\n",
       "      <th>3</th>\n",
       "      <td>37.0</td>\n",
       "      <td>1.0</td>\n",
       "      <td>3.0</td>\n",
       "      <td>130.0</td>\n",
       "      <td>250.0</td>\n",
       "      <td>0.0</td>\n",
       "      <td>0.0</td>\n",
       "      <td>187.0</td>\n",
       "      <td>0.0</td>\n",
       "      <td>3.5</td>\n",
       "      <td>3.0</td>\n",
       "      <td>0.0</td>\n",
       "      <td>3.0</td>\n",
       "      <td>0</td>\n",
       "    </tr>\n",
       "    <tr>\n",
       "      <th>4</th>\n",
       "      <td>41.0</td>\n",
       "      <td>0.0</td>\n",
       "      <td>2.0</td>\n",
       "      <td>130.0</td>\n",
       "      <td>204.0</td>\n",
       "      <td>0.0</td>\n",
       "      <td>2.0</td>\n",
       "      <td>172.0</td>\n",
       "      <td>0.0</td>\n",
       "      <td>1.4</td>\n",
       "      <td>1.0</td>\n",
       "      <td>0.0</td>\n",
       "      <td>3.0</td>\n",
       "      <td>0</td>\n",
       "    </tr>\n",
       "  </tbody>\n",
       "</table>\n",
       "</div>"
      ],
      "text/plain": [
       "    age  sex   cp  trestbps   chol  fbs  restecg  thalach  exang  oldpeak  \\\n",
       "0  63.0  1.0  1.0     145.0  233.0  1.0      2.0    150.0    0.0      2.3   \n",
       "1  67.0  1.0  4.0     160.0  286.0  0.0      2.0    108.0    1.0      1.5   \n",
       "2  67.0  1.0  4.0     120.0  229.0  0.0      2.0    129.0    1.0      2.6   \n",
       "3  37.0  1.0  3.0     130.0  250.0  0.0      0.0    187.0    0.0      3.5   \n",
       "4  41.0  0.0  2.0     130.0  204.0  0.0      2.0    172.0    0.0      1.4   \n",
       "\n",
       "   slope   ca  thal  target  \n",
       "0    3.0  0.0   6.0       0  \n",
       "1    2.0  3.0   3.0       1  \n",
       "2    2.0  2.0   7.0       1  \n",
       "3    3.0  0.0   3.0       0  \n",
       "4    1.0  0.0   3.0       0  "
      ]
     },
     "execution_count": 138,
     "metadata": {},
     "output_type": "execute_result"
    }
   ],
   "source": [
    "import pandas as pd \n",
    "df= pd.read_csv('https://raw.githubusercontent.com/Datamanim/datarepo/main/krdatacertificate/e7_p3_t.csv')\n",
    "df.head()"
   ]
  },
  {
   "cell_type": "code",
   "execution_count": 139,
   "id": "12e3d8a1-fffc-4af4-9752-395fc48f2cae",
   "metadata": {},
   "outputs": [],
   "source": [
    "# train 데이터는 앞의 210개 행을, test데이터는 나머지 부분을 사용한다"
   ]
  },
  {
   "cell_type": "code",
   "execution_count": 151,
   "id": "75e0aaa5-0992-4c28-aea6-e9d934a2e9ab",
   "metadata": {},
   "outputs": [
    {
     "name": "stdout",
     "output_type": "stream",
     "text": [
      "Optimization terminated successfully.\n",
      "         Current function value: 0.320236\n",
      "         Iterations 7\n",
      "                           Logit Regression Results                           \n",
      "==============================================================================\n",
      "Dep. Variable:                 target   No. Observations:                  210\n",
      "Model:                          Logit   Df Residuals:                      196\n",
      "Method:                           MLE   Df Model:                           13\n",
      "Date:                Sun, 01 Jun 2025   Pseudo R-squ.:                  0.5350\n",
      "Time:                        16:11:30   Log-Likelihood:                -67.250\n",
      "converged:                       True   LL-Null:                       -144.61\n",
      "Covariance Type:            nonrobust   LLR p-value:                 2.308e-26\n",
      "==============================================================================\n",
      "                 coef    std err          z      P>|z|      [0.025      0.975]\n",
      "------------------------------------------------------------------------------\n",
      "Intercept    -10.7525      3.655     -2.942      0.003     -17.917      -3.588\n",
      "age           -0.0056      0.030     -0.184      0.854      -0.065       0.054\n",
      "sex            1.5477      0.666      2.323      0.020       0.242       2.853\n",
      "cp             0.8332      0.259      3.215      0.001       0.325       1.341\n",
      "trestbps       0.0320      0.014      2.356      0.018       0.005       0.059\n",
      "chol           0.0068      0.005      1.448      0.148      -0.002       0.016\n",
      "fbs           -1.1463      0.655     -1.749      0.080      -2.431       0.138\n",
      "restecg        0.3812      0.234      1.631      0.103      -0.077       0.839\n",
      "thalach       -0.0207      0.014     -1.523      0.128      -0.047       0.006\n",
      "exang          0.9930      0.494      2.010      0.044       0.025       1.961\n",
      "oldpeak        0.3693      0.255      1.446      0.148      -0.131       0.870\n",
      "slope          0.6106      0.439      1.390      0.165      -0.251       1.472\n",
      "ca             0.9819      0.315      3.120      0.002       0.365       1.599\n",
      "thal           0.3474      0.124      2.801      0.005       0.104       0.590\n",
      "==============================================================================\n"
     ]
    }
   ],
   "source": [
    "import pandas as pd\n",
    "import numpy as np\n",
    "from statsmodels.formula.api import logit \n",
    "\n",
    "train = df.iloc[:210].reset_index(drop=True)\n",
    "test = df.iloc[210:].reset_index(drop=True)\n",
    "\n",
    "formula = ('target ~ age+sex+cp+trestbps+chol+fbs+restecg+thalach+exang+oldpeak+slope+ca+thal')\n",
    "model = logit(formula, data= train).fit()\n",
    "print(model.summary())"
   ]
  },
  {
   "cell_type": "markdown",
   "id": "f153e068-6407-4e0b-826d-8d1050b010b2",
   "metadata": {},
   "source": [
    "# F검정\n",
    "\n",
    "- 정상 / 환자에 대한 로그 리지스틴에 분산의 차이가 있는지 구하기\n",
    "  import numpy as np\n",
    "\n",
    "  df['log_resistin'] = np.log(df['Resistin'])\n",
    "\n",
    "df1 = df[df['Classification'] == 1]['log_resistin']\n",
    "df2 = df[df['Classification'] == 2]['log_resistin']\n",
    "\n",
    "\n",
    "dfv1 = df1.var()\n",
    "dfv2  =df2.var()\n",
    "\n",
    "df1_dof = dfv1.var()-1\n",
    "df2_dof = dfv2.var()-1\n",
    "\n",
    "\n",
    "print(df1_dof,df2_dof)\n",
    "\n",
    "f_stat = df2_dof / df1_dof\n",
    "\n",
    "\n",
    "# 합동 분산 추정량\n",
    "\n",
    "n1 = len(result1)\n",
    "n2 = len(result2)\n",
    "\n",
    "total_var = ((n1-1) * dfv1 + (n2-1) * dfv2) / (n1+n2 -2)\n",
    "\n",
    "\n",
    "# 리지스틴 값에 유의미한 차이가 있는지 독립 표본 t 검정 \n",
    "\n",
    "from scipy.stats import ttest_ind\n",
    "\n",
    "\n",
    "result = ttest_ind(df1,df2, equal_var = True)\n",
    "\n",
    "\n",
    "\n",
    "\n",
    "\n",
    "\n",
    "\n",
    "\n",
    "\n",
    "\n",
    "\n",
    "\n",
    "\n",
    "\n",
    "\n",
    "\n",
    "\n",
    "  "
   ]
  },
  {
   "cell_type": "code",
   "execution_count": null,
   "id": "e717f93a-96df-4672-9ad2-f76b6fad826d",
   "metadata": {},
   "outputs": [],
   "source": []
  }
 ],
 "metadata": {
  "kernelspec": {
   "display_name": "Python 3 (ipykernel)",
   "language": "python",
   "name": "python3"
  },
  "language_info": {
   "codemirror_mode": {
    "name": "ipython",
    "version": 3
   },
   "file_extension": ".py",
   "mimetype": "text/x-python",
   "name": "python",
   "nbconvert_exporter": "python",
   "pygments_lexer": "ipython3",
   "version": "3.13.3"
  }
 },
 "nbformat": 4,
 "nbformat_minor": 5
}
