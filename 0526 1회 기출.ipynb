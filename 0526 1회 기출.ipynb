{
 "cells": [
  {
   "cell_type": "code",
   "execution_count": 89,
   "id": "8e56cb3d-4944-4bae-be72-07799fdccc2c",
   "metadata": {},
   "outputs": [
    {
     "data": {
      "text/html": [
       "<div>\n",
       "<style scoped>\n",
       "    .dataframe tbody tr th:only-of-type {\n",
       "        vertical-align: middle;\n",
       "    }\n",
       "\n",
       "    .dataframe tbody tr th {\n",
       "        vertical-align: top;\n",
       "    }\n",
       "\n",
       "    .dataframe thead th {\n",
       "        text-align: right;\n",
       "    }\n",
       "</style>\n",
       "<table border=\"1\" class=\"dataframe\">\n",
       "  <thead>\n",
       "    <tr style=\"text-align: right;\">\n",
       "      <th></th>\n",
       "      <th>CRIM</th>\n",
       "      <th>ZN</th>\n",
       "      <th>INDUS</th>\n",
       "      <th>CHAS</th>\n",
       "      <th>NOX</th>\n",
       "      <th>RM</th>\n",
       "      <th>AGE</th>\n",
       "      <th>DIS</th>\n",
       "      <th>RAD</th>\n",
       "      <th>TAX</th>\n",
       "      <th>PTRATIO</th>\n",
       "      <th>B</th>\n",
       "      <th>LSTAT</th>\n",
       "      <th>MEDV</th>\n",
       "    </tr>\n",
       "  </thead>\n",
       "  <tbody>\n",
       "    <tr>\n",
       "      <th>0</th>\n",
       "      <td>0.00632</td>\n",
       "      <td>NaN</td>\n",
       "      <td>2.31</td>\n",
       "      <td>0</td>\n",
       "      <td>0.538</td>\n",
       "      <td>6.575</td>\n",
       "      <td>65.2</td>\n",
       "      <td>4.0900</td>\n",
       "      <td>1</td>\n",
       "      <td>296.0</td>\n",
       "      <td>15.3</td>\n",
       "      <td>396.9</td>\n",
       "      <td>4.98</td>\n",
       "      <td>24.0</td>\n",
       "    </tr>\n",
       "    <tr>\n",
       "      <th>1</th>\n",
       "      <td>0.02731</td>\n",
       "      <td>NaN</td>\n",
       "      <td>7.07</td>\n",
       "      <td>0</td>\n",
       "      <td>0.469</td>\n",
       "      <td>6.421</td>\n",
       "      <td>78.9</td>\n",
       "      <td>4.9671</td>\n",
       "      <td>2</td>\n",
       "      <td>242.0</td>\n",
       "      <td>17.8</td>\n",
       "      <td>396.9</td>\n",
       "      <td>9.14</td>\n",
       "      <td>21.6</td>\n",
       "    </tr>\n",
       "  </tbody>\n",
       "</table>\n",
       "</div>"
      ],
      "text/plain": [
       "      CRIM  ZN  INDUS  CHAS    NOX     RM   AGE     DIS  RAD    TAX  PTRATIO  \\\n",
       "0  0.00632 NaN   2.31     0  0.538  6.575  65.2  4.0900    1  296.0     15.3   \n",
       "1  0.02731 NaN   7.07     0  0.469  6.421  78.9  4.9671    2  242.0     17.8   \n",
       "\n",
       "       B  LSTAT  MEDV  \n",
       "0  396.9   4.98  24.0  \n",
       "1  396.9   9.14  21.6  "
      ]
     },
     "execution_count": 89,
     "metadata": {},
     "output_type": "execute_result"
    }
   ],
   "source": [
    "import pandas as pd\n",
    "df = pd.read_csv('https://raw.githubusercontent.com/Datamanim/datarepo/main/krdatacertificate/e2_p1_1.csv')\n",
    "df.head(2)"
   ]
  },
  {
   "cell_type": "code",
   "execution_count": 90,
   "id": "6264e070-1194-44bd-ab85-adbcf5a65652",
   "metadata": {},
   "outputs": [],
   "source": [
    "# 주어진 Dataset에서 CRIM값이 가장 큰 10개의 지역을 구하고\n",
    "#10개의 지역의 CRIM값을 그 중 가장 작은 값으로 대체하라. 그리고\n",
    "# AGE 컬럼 값이 80이상인 대체 된 CRIM 평균값을 구하라"
   ]
  },
  {
   "cell_type": "code",
   "execution_count": 91,
   "id": "0b1bb3f6-b71d-4701-8403-2d14e461c3d8",
   "metadata": {},
   "outputs": [
    {
     "data": {
      "text/plain": [
       "np.float64(5.759386625)"
      ]
     },
     "execution_count": 91,
     "metadata": {},
     "output_type": "execute_result"
    }
   ],
   "source": [
    "result = df.sort_values('CRIM',ascending = False).reset_index(drop= True)\n",
    "result.loc[:9,'CRIM'] = result.loc[:9,'CRIM'].min()\n",
    "result = result[result['AGE'] >= 80]['CRIM'].mean()\n",
    "result"
   ]
  },
  {
   "cell_type": "code",
   "execution_count": 92,
   "id": "b9bcf91e-4538-4717-9295-bb31cded5138",
   "metadata": {},
   "outputs": [],
   "source": [
    "# 1-1에서 사용한 데이터에서 RM 중앙값으로 해당 컬럼의 결측치를 대체하라\n",
    "#그리고 해당 컬럼의 결측치 대치 전후의 표준편차 차이의 절댓값을 소숫점 이하 3째자리 까지 구하라"
   ]
  },
  {
   "cell_type": "code",
   "execution_count": 93,
   "id": "03a908ea-d826-4a69-be36-b839bbdf52be",
   "metadata": {},
   "outputs": [
    {
     "name": "stdout",
     "output_type": "stream",
     "text": [
      "0.7212529033559509\n",
      "0.6938906198881796\n",
      "0.027362283467771364\n"
     ]
    }
   ],
   "source": [
    "pre_std = df['RM'].std()\n",
    "df['RM']= df['RM'].fillna(df['RM'].median())\n",
    "after_std = df['RM'].std()\n",
    "\n",
    "print(pre_std)\n",
    "print(after_std)\n",
    "\n",
    "print(pre_std-after_std)"
   ]
  },
  {
   "cell_type": "code",
   "execution_count": 80,
   "id": "ce518213-840a-4057-977f-50b8257fbd1c",
   "metadata": {},
   "outputs": [
    {
     "name": "stdout",
     "output_type": "stream",
     "text": [
      "0.0\n"
     ]
    }
   ],
   "source": [
    "#주어진 Dataset의 DIS 평균으로 부터 1.5 * 표준편차를 벗어나는 영역을 이상치라고 판단하고\n",
    "#DIS 컬럼의 이상치들의 합을 구하여라."
   ]
  },
  {
   "cell_type": "code",
   "execution_count": 98,
   "id": "b9c7028d-e12e-45ec-8082-ba90227323ae",
   "metadata": {},
   "outputs": [
    {
     "data": {
      "text/plain": [
       "np.float64(404.4101)"
      ]
     },
     "execution_count": 98,
     "metadata": {},
     "output_type": "execute_result"
    }
   ],
   "source": [
    "result = df[(df['DIS'] > df['DIS'].mean() + 1.5 * df['DIS'].std()) | (df['DIS'] < df['DIS'].mean() - 1.5 * df['DIS'].std())]\n",
    "result['DIS'].sum()"
   ]
  },
  {
   "cell_type": "code",
   "execution_count": 123,
   "id": "835c41db-3cf7-40d2-ae7e-0921dd228b0d",
   "metadata": {},
   "outputs": [
    {
     "name": "stdout",
     "output_type": "stream",
     "text": [
      "0.7120211360634082\n",
      "      pred\n",
      "0        1\n",
      "1        0\n",
      "2        1\n",
      "3        1\n",
      "4        1\n",
      "...    ...\n",
      "4396     1\n",
      "4397     0\n",
      "4398     0\n",
      "4399     0\n",
      "4400     1\n",
      "\n",
      "[4401 rows x 1 columns]\n"
     ]
    }
   ],
   "source": [
    "import pandas as pd\n",
    "#데이터 로드\n",
    "x_train = pd.read_csv(\"https://raw.githubusercontent.com/Datamanim/datarepo/main/shipping/X_train.csv\")\n",
    "y_train = pd.read_csv(\"https://raw.githubusercontent.com/Datamanim/datarepo/main/shipping/y_train.csv\")\n",
    "x_test= pd.read_csv(\"https://raw.githubusercontent.com/Datamanim/datarepo/main/shipping/X_test.csv\")\n",
    "\n",
    "\n",
    "# display(x_train.head())\n",
    "# display(y_train.head())\n",
    "\n",
    "# x_train.isnull().sum()\n",
    "# x_test.isnull().sum()\n",
    "\n",
    "X_train = x_train.drop([\"ID\"], axis = 1)\n",
    "X_test = x_test.drop([\"ID\"], axis = 1)\n",
    "Y_train = y_train[\"Reached.on.Time_Y.N\"]\n",
    "\n",
    "X_train = pd.get_dummies(X_train)\n",
    "X_test = pd.get_dummies(X_test)\n",
    "\n",
    "X_test = X_test.reindex(columns = X_train.columns, fill_value = 0)\n",
    "\n",
    "\n",
    "from sklearn.model_selection import train_test_split\n",
    "X_train, X_val , Y_train, Y_val = train_test_split(X_train, Y_train, test_size = 0.2)\n",
    "\n",
    "from sklearn.ensemble import RandomForestClassifier\n",
    "model = RandomForestClassifier()\n",
    "model.fit(X_train, Y_train)\n",
    "y_pred_val = model.predict(X_val)\n",
    "\n",
    "from sklearn.metrics import f1_score\n",
    "f1_score = f1_score(Y_val , y_pred_val)\n",
    "print(f1_score)\n",
    "\n",
    "\n",
    "y_pred = model.predict(X_test)\n",
    "result = pd.DataFrame(y_pred, columns = [\"pred\"])\n",
    "result.to_csv(\"result.csv\", index =False)\n",
    "\n",
    "result = pd.read_csv(\"result.csv\")\n",
    "print(result)"
   ]
  },
  {
   "cell_type": "code",
   "execution_count": 154,
   "id": "13357f45-80d4-4564-86bf-81c50e1a30ca",
   "metadata": {},
   "outputs": [
    {
     "data": {
      "text/html": [
       "<div>\n",
       "<style scoped>\n",
       "    .dataframe tbody tr th:only-of-type {\n",
       "        vertical-align: middle;\n",
       "    }\n",
       "\n",
       "    .dataframe tbody tr th {\n",
       "        vertical-align: top;\n",
       "    }\n",
       "\n",
       "    .dataframe thead th {\n",
       "        text-align: right;\n",
       "    }\n",
       "</style>\n",
       "<table border=\"1\" class=\"dataframe\">\n",
       "  <thead>\n",
       "    <tr style=\"text-align: right;\">\n",
       "      <th></th>\n",
       "      <th>fish</th>\n",
       "      <th>height</th>\n",
       "    </tr>\n",
       "  </thead>\n",
       "  <tbody>\n",
       "    <tr>\n",
       "      <th>0</th>\n",
       "      <td>fish_1</td>\n",
       "      <td>33.74cm</td>\n",
       "    </tr>\n",
       "    <tr>\n",
       "      <th>1</th>\n",
       "      <td>fish_2</td>\n",
       "      <td>31.64cm</td>\n",
       "    </tr>\n",
       "    <tr>\n",
       "      <th>2</th>\n",
       "      <td>fish_3</td>\n",
       "      <td>27.49cm</td>\n",
       "    </tr>\n",
       "    <tr>\n",
       "      <th>3</th>\n",
       "      <td>fish_4</td>\n",
       "      <td>31.43cm</td>\n",
       "    </tr>\n",
       "    <tr>\n",
       "      <th>4</th>\n",
       "      <td>fish_5</td>\n",
       "      <td>27.56cm</td>\n",
       "    </tr>\n",
       "  </tbody>\n",
       "</table>\n",
       "</div>"
      ],
      "text/plain": [
       "     fish   height\n",
       "0  fish_1  33.74cm\n",
       "1  fish_2  31.64cm\n",
       "2  fish_3  27.49cm\n",
       "3  fish_4  31.43cm\n",
       "4  fish_5  27.56cm"
      ]
     },
     "execution_count": 154,
     "metadata": {},
     "output_type": "execute_result"
    }
   ],
   "source": [
    "import pandas as pd\n",
    "df = pd.read_csv('https://raw.githubusercontent.com/Datamanim/datarepo/main/krdatacertificate/e2_p3_1.csv')\n",
    "df.head(5)\n",
    "# 122마리의 height 평균값을 m(미터) 단위로 소숫점 이하 5자리까지 실수 값만 출력하라"
   ]
  },
  {
   "cell_type": "code",
   "execution_count": 155,
   "id": "c76da094-3dc2-4dab-b9b6-67cea14f0c76",
   "metadata": {},
   "outputs": [],
   "source": [
    "# 122마리의 height 평균값을 m(미터) 단위로 소숫점 이하 5자리까지 실수 값만 출력하라"
   ]
  },
  {
   "cell_type": "code",
   "execution_count": 156,
   "id": "433fb40d-19d9-487c-87fc-eace72c57f2e",
   "metadata": {},
   "outputs": [
    {
     "data": {
      "text/plain": [
       "np.float64(0.29951)"
      ]
     },
     "execution_count": 156,
     "metadata": {},
     "output_type": "execute_result"
    }
   ],
   "source": [
    "df['height'] = df['height'].str.replace(\"cm\",\"\").astype('float')\n",
    "round(df['height'].mean() / 100,5)"
   ]
  },
  {
   "cell_type": "code",
   "execution_count": 162,
   "id": "22c4bbaf-9b80-42c0-83f9-bebe1a4aad67",
   "metadata": {},
   "outputs": [],
   "source": [
    "# 모집단의 평균 길이가 30cm 인지 확인하려 \n",
    "#일표본 t 검정을 시행하여 확인하려한다. 검정통계량을 소숫점 이하 3째자리까지 구하여라"
   ]
  },
  {
   "cell_type": "code",
   "execution_count": 160,
   "id": "fb749a00-ca1d-4346-b0fa-d955f0624a49",
   "metadata": {
    "jupyter": {
     "source_hidden": true
    }
   },
   "outputs": [
    {
     "name": "stdout",
     "output_type": "stream",
     "text": [
      "-0.21650825215238356 0.8289561932476028\n"
     ]
    }
   ],
   "source": [
    "from scipy.stats import ttest_1samp\n",
    "\n",
    "s, p = ttest_1samp(df['height'],30)\n",
    "print(s,p)"
   ]
  },
  {
   "cell_type": "code",
   "execution_count": 163,
   "id": "1e43527e-8612-47e7-9ebb-ac0a55c89e01",
   "metadata": {},
   "outputs": [],
   "source": [
    "# 조사결과 70%의 성인 남성이 3년 동안에 적어도 1번 치과를 찾는다고 할때, 21명의 성인 남성이 임의로 추출되었다고 하자.\n",
    "# 21명 중 16명 미만이 치과를 찾았을 확률(반올림하여 소숫점 이하 3자리)"
   ]
  },
  {
   "cell_type": "code",
   "execution_count": 165,
   "id": "dd6ecca2-3cc1-4679-95f8-acc618514c85",
   "metadata": {},
   "outputs": [
    {
     "name": "stdout",
     "output_type": "stream",
     "text": [
      "0.637\n"
     ]
    }
   ],
   "source": [
    "# binom 이항 분포 -> 성공 확률이 p인 실험을 n번 독립적 반복 => 성공 k개 나올 확률\n",
    "\n",
    "from scipy.stats import binom\n",
    "\n",
    "n = 21\n",
    "p = 0.7\n",
    "k = 16 \n",
    "\n",
    "prob = binom.cdf(k-1,n,p)\n",
    "print(round(prob,3))"
   ]
  },
  {
   "cell_type": "code",
   "execution_count": 166,
   "id": "db7ec4c4-1f8f-40d7-bb30-759bce9a453f",
   "metadata": {},
   "outputs": [],
   "source": [
    "# 적어도 19명이 치과를 찾았을 확률(반올림하여 소숫점 이하 3자리) \n",
    "# 적어도 19명 이상은 치과를 갔다 -> 18명이하 성공 확률을 전체에서 뺀다 "
   ]
  },
  {
   "cell_type": "code",
   "execution_count": 168,
   "id": "b4c2c0da-3330-4cb7-83f5-417dfa7da35f",
   "metadata": {},
   "outputs": [
    {
     "name": "stdout",
     "output_type": "stream",
     "text": [
      "0.027\n"
     ]
    }
   ],
   "source": [
    "from scipy.stats import binom\n",
    "\n",
    "n = 21\n",
    "p = 0.7\n",
    "k = 19\n",
    "\n",
    "prob = 1- \n",
    "\n",
    "print(round(prob,3))"
   ]
  },
  {
   "cell_type": "code",
   "execution_count": null,
   "id": "8c547a0f-4e41-42c7-9fed-015feadcf174",
   "metadata": {},
   "outputs": [],
   "source": []
  }
 ],
 "metadata": {
  "kernelspec": {
   "display_name": "Python 3 (ipykernel)",
   "language": "python",
   "name": "python3"
  },
  "language_info": {
   "codemirror_mode": {
    "name": "ipython",
    "version": 3
   },
   "file_extension": ".py",
   "mimetype": "text/x-python",
   "name": "python",
   "nbconvert_exporter": "python",
   "pygments_lexer": "ipython3",
   "version": "3.13.3"
  }
 },
 "nbformat": 4,
 "nbformat_minor": 5
}
