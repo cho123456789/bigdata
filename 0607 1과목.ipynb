{
 "cells": [
  {
   "cell_type": "code",
   "execution_count": 206,
   "id": "c20c72cb-d811-4d41-95e3-dc6603e0abb7",
   "metadata": {},
   "outputs": [
    {
     "data": {
      "text/html": [
       "<div>\n",
       "<style scoped>\n",
       "    .dataframe tbody tr th:only-of-type {\n",
       "        vertical-align: middle;\n",
       "    }\n",
       "\n",
       "    .dataframe tbody tr th {\n",
       "        vertical-align: top;\n",
       "    }\n",
       "\n",
       "    .dataframe thead th {\n",
       "        text-align: right;\n",
       "    }\n",
       "</style>\n",
       "<table border=\"1\" class=\"dataframe\">\n",
       "  <thead>\n",
       "    <tr style=\"text-align: right;\">\n",
       "      <th></th>\n",
       "      <th>행복랭킹</th>\n",
       "      <th>나라명</th>\n",
       "      <th>점수</th>\n",
       "      <th>상대GDP</th>\n",
       "      <th>사회적지원</th>\n",
       "      <th>행복기대치</th>\n",
       "      <th>선택의 자유도</th>\n",
       "      <th>관대함</th>\n",
       "      <th>부패에 대한인식</th>\n",
       "      <th>년도</th>\n",
       "    </tr>\n",
       "  </thead>\n",
       "  <tbody>\n",
       "    <tr>\n",
       "      <th>0</th>\n",
       "      <td>1</td>\n",
       "      <td>Finland</td>\n",
       "      <td>7.769</td>\n",
       "      <td>1.340</td>\n",
       "      <td>1.587</td>\n",
       "      <td>0.986</td>\n",
       "      <td>0.596</td>\n",
       "      <td>0.153</td>\n",
       "      <td>0.393</td>\n",
       "      <td>2019</td>\n",
       "    </tr>\n",
       "    <tr>\n",
       "      <th>1</th>\n",
       "      <td>2</td>\n",
       "      <td>Denmark</td>\n",
       "      <td>7.600</td>\n",
       "      <td>1.383</td>\n",
       "      <td>1.573</td>\n",
       "      <td>0.996</td>\n",
       "      <td>0.592</td>\n",
       "      <td>0.252</td>\n",
       "      <td>0.410</td>\n",
       "      <td>2019</td>\n",
       "    </tr>\n",
       "    <tr>\n",
       "      <th>2</th>\n",
       "      <td>3</td>\n",
       "      <td>Norway</td>\n",
       "      <td>7.554</td>\n",
       "      <td>1.488</td>\n",
       "      <td>1.582</td>\n",
       "      <td>1.028</td>\n",
       "      <td>0.603</td>\n",
       "      <td>0.271</td>\n",
       "      <td>0.341</td>\n",
       "      <td>2019</td>\n",
       "    </tr>\n",
       "    <tr>\n",
       "      <th>3</th>\n",
       "      <td>4</td>\n",
       "      <td>Iceland</td>\n",
       "      <td>7.494</td>\n",
       "      <td>1.380</td>\n",
       "      <td>1.624</td>\n",
       "      <td>1.026</td>\n",
       "      <td>0.591</td>\n",
       "      <td>0.354</td>\n",
       "      <td>0.118</td>\n",
       "      <td>2019</td>\n",
       "    </tr>\n",
       "    <tr>\n",
       "      <th>4</th>\n",
       "      <td>5</td>\n",
       "      <td>Netherlands</td>\n",
       "      <td>7.488</td>\n",
       "      <td>1.396</td>\n",
       "      <td>1.522</td>\n",
       "      <td>0.999</td>\n",
       "      <td>0.557</td>\n",
       "      <td>0.322</td>\n",
       "      <td>0.298</td>\n",
       "      <td>2019</td>\n",
       "    </tr>\n",
       "  </tbody>\n",
       "</table>\n",
       "</div>"
      ],
      "text/plain": [
       "   행복랭킹          나라명     점수  상대GDP  사회적지원  행복기대치  선택의 자유도    관대함  부패에 대한인식  \\\n",
       "0     1      Finland  7.769  1.340  1.587  0.986    0.596  0.153     0.393   \n",
       "1     2      Denmark  7.600  1.383  1.573  0.996    0.592  0.252     0.410   \n",
       "2     3       Norway  7.554  1.488  1.582  1.028    0.603  0.271     0.341   \n",
       "3     4      Iceland  7.494  1.380  1.624  1.026    0.591  0.354     0.118   \n",
       "4     5  Netherlands  7.488  1.396  1.522  0.999    0.557  0.322     0.298   \n",
       "\n",
       "     년도  \n",
       "0  2019  \n",
       "1  2019  \n",
       "2  2019  \n",
       "3  2019  \n",
       "4  2019  "
      ]
     },
     "execution_count": 206,
     "metadata": {},
     "output_type": "execute_result"
    }
   ],
   "source": [
    "import pandas as pd\n",
    "df =pd.read_csv('https://raw.githubusercontent.com/Datamanim/datarepo/main/happy2/happiness.csv',encoding='utf-8')\n",
    "df.head()"
   ]
  },
  {
   "cell_type": "code",
   "execution_count": 2,
   "id": "00cb1517-5dd7-4531-a3ee-abc75b0d221a",
   "metadata": {},
   "outputs": [],
   "source": [
    "#데이터는 2018년도와 2019년도의 전세계 행복 지수를 표현한다. 각년도의 행복랭킹 10위를 차지한 나라의 행복점수의 평균을 구하여라"
   ]
  },
  {
   "cell_type": "code",
   "execution_count": 20,
   "id": "71f67737-5994-4411-b56e-6b68ecbcd860",
   "metadata": {},
   "outputs": [
    {
     "data": {
      "text/plain": [
       "np.float64(7.259)"
      ]
     },
     "execution_count": 20,
     "metadata": {},
     "output_type": "execute_result"
    }
   ],
   "source": [
    "df[df['행복랭킹'] == 10]['점수'].mean()"
   ]
  },
  {
   "cell_type": "code",
   "execution_count": 21,
   "id": "21f2356c-316c-4774-8595-8b36328aac96",
   "metadata": {},
   "outputs": [],
   "source": [
    "# 데이터는 2018년도와 2019년도의 전세계 행복 지수를 표현한다. 각년도의 행복랭킹 50위이내의 나라들의 각각의 행복점수 평균을 데이터프레임으로 표시하라"
   ]
  },
  {
   "cell_type": "code",
   "execution_count": 38,
   "id": "9f175d7b-f8a4-4bde-87a0-5fe20e1820a1",
   "metadata": {},
   "outputs": [
    {
     "data": {
      "text/plain": [
       "년도\n",
       "2018    6.64678\n",
       "2019    6.67002\n",
       "Name: 점수, dtype: float64"
      ]
     },
     "execution_count": 38,
     "metadata": {},
     "output_type": "execute_result"
    }
   ],
   "source": [
    "result = df[df['행복랭킹'] <= 50]\n",
    "result.groupby(['년도'])['점수'].mean()"
   ]
  },
  {
   "cell_type": "code",
   "execution_count": 39,
   "id": "54220777-612a-4e6e-8d46-3c9120678b3c",
   "metadata": {},
   "outputs": [],
   "source": [
    "# 2018년도 데이터들만 추출하여 행복점수와 부패에 대한 인식에 대한 상관계수를 구하여라"
   ]
  },
  {
   "cell_type": "code",
   "execution_count": 46,
   "id": "b5c70142-861c-4c59-9949-255802f58224",
   "metadata": {},
   "outputs": [
    {
     "data": {
      "text/plain": [
       "점수        부패에 대한인식    0.405292\n",
       "부패에 대한인식  점수          0.405292\n",
       "dtype: float64"
      ]
     },
     "execution_count": 46,
     "metadata": {},
     "output_type": "execute_result"
    }
   ],
   "source": [
    "result = df[df['년도'] == 2018]\n",
    "result = result[['점수','부패에 대한인식']].corr().unstack()\n",
    "result = result[result!=1]\n",
    "result"
   ]
  },
  {
   "cell_type": "code",
   "execution_count": 47,
   "id": "75d54b0c-7e4d-4705-8d64-1fa57fb19e4a",
   "metadata": {},
   "outputs": [],
   "source": [
    "#2018년도와 2019년도의 행복랭킹이 변화하지 않은 나라명의 수를 구하여라"
   ]
  },
  {
   "cell_type": "code",
   "execution_count": 79,
   "id": "434d368d-ff1c-45ea-a902-d333e8f1c7a6",
   "metadata": {},
   "outputs": [
    {
     "name": "stdout",
     "output_type": "stream",
     "text": [
      "15\n"
     ]
    }
   ],
   "source": [
    "# 1. 연도별로 필터링\n",
    "result18 = df[df['년도'] == 2018]\n",
    "result19 = df[df['년도'] == 2019]\n",
    "\n",
    "# 2. 랭킹 순으로 정렬 (정확한 비교 위해)\n",
    "result18_sorted = result18.sort_values(by='행복랭킹').reset_index(drop=True)\n",
    "result19_sorted = result19.sort_values(by='행복랭킹').reset_index(drop=True)\n",
    "\n",
    "# 3. 나라명만 추출\n",
    "countries18 = result18_sorted['나라명']\n",
    "countries19 = result19_sorted['나라명']\n",
    "\n",
    "same_country = countries18 == countries19\n",
    "print(same_country.sum())"
   ]
  },
  {
   "cell_type": "code",
   "execution_count": 80,
   "id": "a585ec40-60e2-445b-8bcb-5ea8afd5c559",
   "metadata": {},
   "outputs": [],
   "source": [
    "# 2019년도 데이터들만 추출하여 각변수간 상관계수를 구하고 내림차순으로 정렬한 후\n",
    "#상위 5개를 데이터 프레임으로 출력하라. 컬럼명은 v1,v2,corr으로 표시하라"
   ]
  },
  {
   "cell_type": "code",
   "execution_count": 129,
   "id": "c146df1b-6dc9-4a7c-be97-aa7c39d2bf51",
   "metadata": {},
   "outputs": [
    {
     "data": {
      "text/html": [
       "<div>\n",
       "<style scoped>\n",
       "    .dataframe tbody tr th:only-of-type {\n",
       "        vertical-align: middle;\n",
       "    }\n",
       "\n",
       "    .dataframe tbody tr th {\n",
       "        vertical-align: top;\n",
       "    }\n",
       "\n",
       "    .dataframe thead th {\n",
       "        text-align: right;\n",
       "    }\n",
       "</style>\n",
       "<table border=\"1\" class=\"dataframe\">\n",
       "  <thead>\n",
       "    <tr style=\"text-align: right;\">\n",
       "      <th></th>\n",
       "      <th>v1</th>\n",
       "      <th>v2</th>\n",
       "      <th>corr</th>\n",
       "    </tr>\n",
       "  </thead>\n",
       "  <tbody>\n",
       "    <tr>\n",
       "      <th>0</th>\n",
       "      <td>상대GDP</td>\n",
       "      <td>행복기대치</td>\n",
       "      <td>0.835462</td>\n",
       "    </tr>\n",
       "    <tr>\n",
       "      <th>1</th>\n",
       "      <td>행복기대치</td>\n",
       "      <td>상대GDP</td>\n",
       "      <td>0.835462</td>\n",
       "    </tr>\n",
       "    <tr>\n",
       "      <th>2</th>\n",
       "      <td>상대GDP</td>\n",
       "      <td>점수</td>\n",
       "      <td>0.793883</td>\n",
       "    </tr>\n",
       "    <tr>\n",
       "      <th>3</th>\n",
       "      <td>점수</td>\n",
       "      <td>상대GDP</td>\n",
       "      <td>0.793883</td>\n",
       "    </tr>\n",
       "    <tr>\n",
       "      <th>4</th>\n",
       "      <td>행복기대치</td>\n",
       "      <td>점수</td>\n",
       "      <td>0.779883</td>\n",
       "    </tr>\n",
       "  </tbody>\n",
       "</table>\n",
       "</div>"
      ],
      "text/plain": [
       "      v1     v2      corr\n",
       "0  상대GDP  행복기대치  0.835462\n",
       "1  행복기대치  상대GDP  0.835462\n",
       "2  상대GDP     점수  0.793883\n",
       "3     점수  상대GDP  0.793883\n",
       "4  행복기대치     점수  0.779883"
      ]
     },
     "execution_count": 129,
     "metadata": {},
     "output_type": "execute_result"
    }
   ],
   "source": [
    "result = df[df['년도'] == 2019]\n",
    "result= result.select_dtypes(exclude='object')\n",
    "result = result.drop(['행복랭킹','년도'] , axis = 1).corr()\n",
    "result = result[result!=1]\n",
    "result = result.unstack().sort_values(ascending =False).head(5).reset_index()\n",
    "result.columns = ['v1', 'v2', 'corr']\n",
    "result"
   ]
  },
  {
   "cell_type": "code",
   "execution_count": 130,
   "id": "0c9ac22a-7091-4ab6-aeb5-a7c8fc2ebce6",
   "metadata": {},
   "outputs": [],
   "source": [
    "# 각 년도별 하위 행복점수의 하위 5개 국가의 평균 행복점수를 구하여라"
   ]
  },
  {
   "cell_type": "code",
   "execution_count": 148,
   "id": "6a0062df-29b9-4f63-bfa1-1feb71097b70",
   "metadata": {},
   "outputs": [
    {
     "data": {
      "text/plain": [
       "년도\n",
       "2018    3.1800\n",
       "2019    3.1408\n",
       "Name: 점수, dtype: float64"
      ]
     },
     "execution_count": 148,
     "metadata": {},
     "output_type": "execute_result"
    }
   ],
   "source": [
    "df.groupby('년도').tail(5).groupby('년도')['점수'].mean()"
   ]
  },
  {
   "cell_type": "code",
   "execution_count": 149,
   "id": "daeb435a-2a88-44b4-8ac4-93f83547a9bc",
   "metadata": {},
   "outputs": [],
   "source": [
    "# 2019년 데이터를 추출하고 해당데이터의 상대 GDP 평균 이상의 나라들과 평균 이하의 나라들의 행복점수 평균을 각각 구하고 그 차이값을 출력하라"
   ]
  },
  {
   "cell_type": "code",
   "execution_count": 157,
   "id": "4129b487-49c7-4ded-8057-a398ed21822d",
   "metadata": {},
   "outputs": [
    {
     "name": "stdout",
     "output_type": "stream",
     "text": [
      "1.390483957219251\n"
     ]
    }
   ],
   "source": [
    "result = df[df['년도'] == 2019]\n",
    "\n",
    "mean_high = result[result['상대GDP'] >= result['상대GDP'].mean()]['점수'].mean()\n",
    "mean_low = result[result['상대GDP'] <= result['상대GDP'].mean()]['점수'].mean()\n",
    "print(mean_high - mean_low)"
   ]
  },
  {
   "cell_type": "code",
   "execution_count": 160,
   "id": "f65137e8-14f4-4935-af56-a4725aeab0ae",
   "metadata": {},
   "outputs": [],
   "source": [
    "# 각년도의 부패에 대한인식을 내림차순 정렬했을때 상위 20개 국가의 부패에 대한인식의 평균을 구하여라"
   ]
  },
  {
   "cell_type": "code",
   "execution_count": 191,
   "id": "7fecf982-b20a-4ab0-bcda-bc000249504e",
   "metadata": {},
   "outputs": [
    {
     "data": {
      "text/plain": [
       "년도\n",
       "2018    0.3267\n",
       "2019    0.3201\n",
       "Name: 부패에 대한인식, dtype: float64"
      ]
     },
     "execution_count": 191,
     "metadata": {},
     "output_type": "execute_result"
    }
   ],
   "source": [
    "df.sort_values(['년도','부패에 대한인식'],ascending = False).groupby(\"년도\").head(20).groupby(\"년도\")['부패에 대한인식'].mean()"
   ]
  },
  {
   "cell_type": "code",
   "execution_count": 192,
   "id": "34be1ac9-cc10-4097-914f-28f5f83b061c",
   "metadata": {},
   "outputs": [],
   "source": [
    "# 2018년도 행복랭킹 50위 이내에 포함됐다가 2019년 50위 밖으로 밀려난 국가의 숫자를 구하여라"
   ]
  },
  {
   "cell_type": "code",
   "execution_count": 211,
   "id": "ce87671f-54f3-4e99-bce8-4ad0f682e995",
   "metadata": {},
   "outputs": [
    {
     "name": "stdout",
     "output_type": "stream",
     "text": [
      "4\n"
     ]
    }
   ],
   "source": [
    "# 1. 연도별로 필터링\n",
    "result18 = df[(df['년도'] == 2018)  & (df['행복랭킹'] <= 50)]['나라명']\n",
    "result19 = df[(df['년도'] == 2019)  & (df['행복랭킹'] <= 50)]['나라명']\n",
    "\n",
    "result = set(result18) - set(result19)\n",
    "print(len(result))"
   ]
  },
  {
   "cell_type": "code",
   "execution_count": 212,
   "id": "cad00b0a-cfde-47f5-80cf-4f5c252f9c3b",
   "metadata": {},
   "outputs": [],
   "source": [
    "#2018년,2019년 모두 기록이 있는 나라들 중 년도별 행복점수가 가장 증가한 나라와 그 증가 수치는"
   ]
  },
  {
   "cell_type": "code",
   "execution_count": 264,
   "id": "7c93ddb3-303b-4db7-a967-88f80b3426fc",
   "metadata": {},
   "outputs": [
    {
     "data": {
      "text/html": [
       "<div>\n",
       "<style scoped>\n",
       "    .dataframe tbody tr th:only-of-type {\n",
       "        vertical-align: middle;\n",
       "    }\n",
       "\n",
       "    .dataframe tbody tr th {\n",
       "        vertical-align: top;\n",
       "    }\n",
       "\n",
       "    .dataframe thead th {\n",
       "        text-align: right;\n",
       "    }\n",
       "</style>\n",
       "<table border=\"1\" class=\"dataframe\">\n",
       "  <thead>\n",
       "    <tr style=\"text-align: right;\">\n",
       "      <th></th>\n",
       "      <th>나라명</th>\n",
       "      <th>점수_2018</th>\n",
       "      <th>점수_2019</th>\n",
       "      <th>점수증가</th>\n",
       "    </tr>\n",
       "  </thead>\n",
       "  <tbody>\n",
       "    <tr>\n",
       "      <th>150</th>\n",
       "      <td>Burundi</td>\n",
       "      <td>2.905</td>\n",
       "      <td>3.775</td>\n",
       "      <td>0.870</td>\n",
       "    </tr>\n",
       "    <tr>\n",
       "      <th>132</th>\n",
       "      <td>Benin</td>\n",
       "      <td>4.141</td>\n",
       "      <td>4.883</td>\n",
       "      <td>0.742</td>\n",
       "    </tr>\n",
       "    <tr>\n",
       "      <th>135</th>\n",
       "      <td>Guinea</td>\n",
       "      <td>3.964</td>\n",
       "      <td>4.534</td>\n",
       "      <td>0.570</td>\n",
       "    </tr>\n",
       "    <tr>\n",
       "      <th>143</th>\n",
       "      <td>Liberia</td>\n",
       "      <td>3.495</td>\n",
       "      <td>3.975</td>\n",
       "      <td>0.480</td>\n",
       "    </tr>\n",
       "    <tr>\n",
       "      <th>130</th>\n",
       "      <td>Niger</td>\n",
       "      <td>4.166</td>\n",
       "      <td>4.628</td>\n",
       "      <td>0.462</td>\n",
       "    </tr>\n",
       "    <tr>\n",
       "      <th>...</th>\n",
       "      <td>...</td>\n",
       "      <td>...</td>\n",
       "      <td>...</td>\n",
       "      <td>...</td>\n",
       "    </tr>\n",
       "    <tr>\n",
       "      <th>94</th>\n",
       "      <td>Somalia</td>\n",
       "      <td>4.982</td>\n",
       "      <td>4.668</td>\n",
       "      <td>-0.314</td>\n",
       "    </tr>\n",
       "    <tr>\n",
       "      <th>65</th>\n",
       "      <td>Turkmenistan</td>\n",
       "      <td>5.636</td>\n",
       "      <td>5.247</td>\n",
       "      <td>-0.389</td>\n",
       "    </tr>\n",
       "    <tr>\n",
       "      <th>148</th>\n",
       "      <td>South Sudan</td>\n",
       "      <td>3.254</td>\n",
       "      <td>2.853</td>\n",
       "      <td>-0.401</td>\n",
       "    </tr>\n",
       "    <tr>\n",
       "      <th>139</th>\n",
       "      <td>Afghanistan</td>\n",
       "      <td>3.632</td>\n",
       "      <td>3.203</td>\n",
       "      <td>-0.429</td>\n",
       "    </tr>\n",
       "    <tr>\n",
       "      <th>33</th>\n",
       "      <td>Malaysia</td>\n",
       "      <td>6.322</td>\n",
       "      <td>5.339</td>\n",
       "      <td>-0.983</td>\n",
       "    </tr>\n",
       "  </tbody>\n",
       "</table>\n",
       "<p>151 rows × 4 columns</p>\n",
       "</div>"
      ],
      "text/plain": [
       "              나라명  점수_2018  점수_2019   점수증가\n",
       "150       Burundi    2.905    3.775  0.870\n",
       "132         Benin    4.141    4.883  0.742\n",
       "135        Guinea    3.964    4.534  0.570\n",
       "143       Liberia    3.495    3.975  0.480\n",
       "130         Niger    4.166    4.628  0.462\n",
       "..            ...      ...      ...    ...\n",
       "94        Somalia    4.982    4.668 -0.314\n",
       "65   Turkmenistan    5.636    5.247 -0.389\n",
       "148   South Sudan    3.254    2.853 -0.401\n",
       "139   Afghanistan    3.632    3.203 -0.429\n",
       "33       Malaysia    6.322    5.339 -0.983\n",
       "\n",
       "[151 rows x 4 columns]"
      ]
     },
     "execution_count": 264,
     "metadata": {},
     "output_type": "execute_result"
    }
   ],
   "source": [
    "result18 = df[df['년도'] == 2018][['나라명','점수']]\n",
    "result19 = df[df['년도'] == 2019][['나라명','점수']]\n",
    "\n",
    "count = df['나라명'].value_counts()\n",
    "target = count[count >= 2].index  # 두 해 모두 데이터 있는 나라명 리스트\n",
    "\n",
    "df18_filtered = result18[result18['나라명'].isin(target)]\n",
    "df19_filtered = result19[result19['나라명'].isin(target)]\n",
    "\n",
    "merged = pd.merge(df18_filtered, df19_filtered, on='나라명', suffixes=('_2018', '_2019'))\n",
    "\n",
    "# 5. 점수 차 계산\n",
    "merged['점수증가'] = merged['점수_2019'] - merged['점수_2018']\n",
    "\n",
    "# 6. 점수 증가 가장 큰 나라 찾기\n",
    "top_country = merged.sort_values(by='점수증가', ascending=False)\n",
    "top_country"
   ]
  },
  {
   "cell_type": "code",
   "execution_count": 265,
   "id": "93ae97a9-d1f3-464a-8cc7-a8ef435a6019",
   "metadata": {},
   "outputs": [
    {
     "data": {
      "text/html": [
       "<div>\n",
       "<style scoped>\n",
       "    .dataframe tbody tr th:only-of-type {\n",
       "        vertical-align: middle;\n",
       "    }\n",
       "\n",
       "    .dataframe tbody tr th {\n",
       "        vertical-align: top;\n",
       "    }\n",
       "\n",
       "    .dataframe thead th {\n",
       "        text-align: right;\n",
       "    }\n",
       "</style>\n",
       "<table border=\"1\" class=\"dataframe\">\n",
       "  <thead>\n",
       "    <tr style=\"text-align: right;\">\n",
       "      <th></th>\n",
       "      <th>DateTime</th>\n",
       "      <th>Temperature</th>\n",
       "      <th>Humidity</th>\n",
       "      <th>Wind Speed</th>\n",
       "      <th>general diffuse flows</th>\n",
       "      <th>diffuse flows</th>\n",
       "      <th>Zone 1 Power Consumption</th>\n",
       "      <th>Zone 2  Power Consumption</th>\n",
       "      <th>Zone 3  Power Consumption</th>\n",
       "    </tr>\n",
       "  </thead>\n",
       "  <tbody>\n",
       "    <tr>\n",
       "      <th>0</th>\n",
       "      <td>1/1/2017 0:00</td>\n",
       "      <td>6.559</td>\n",
       "      <td>73.8</td>\n",
       "      <td>0.083</td>\n",
       "      <td>0.051</td>\n",
       "      <td>0.119</td>\n",
       "      <td>34055.69620</td>\n",
       "      <td>16128.87538</td>\n",
       "      <td>20240.96386</td>\n",
       "    </tr>\n",
       "    <tr>\n",
       "      <th>1</th>\n",
       "      <td>1/1/2017 0:10</td>\n",
       "      <td>6.414</td>\n",
       "      <td>74.5</td>\n",
       "      <td>0.083</td>\n",
       "      <td>0.070</td>\n",
       "      <td>0.085</td>\n",
       "      <td>29814.68354</td>\n",
       "      <td>19375.07599</td>\n",
       "      <td>20131.08434</td>\n",
       "    </tr>\n",
       "    <tr>\n",
       "      <th>2</th>\n",
       "      <td>1/1/2017 0:20</td>\n",
       "      <td>6.313</td>\n",
       "      <td>74.5</td>\n",
       "      <td>0.080</td>\n",
       "      <td>0.062</td>\n",
       "      <td>0.100</td>\n",
       "      <td>29128.10127</td>\n",
       "      <td>19006.68693</td>\n",
       "      <td>19668.43373</td>\n",
       "    </tr>\n",
       "    <tr>\n",
       "      <th>3</th>\n",
       "      <td>1/1/2017 0:30</td>\n",
       "      <td>6.121</td>\n",
       "      <td>75.0</td>\n",
       "      <td>0.083</td>\n",
       "      <td>0.091</td>\n",
       "      <td>0.096</td>\n",
       "      <td>28228.86076</td>\n",
       "      <td>18361.09422</td>\n",
       "      <td>18899.27711</td>\n",
       "    </tr>\n",
       "    <tr>\n",
       "      <th>4</th>\n",
       "      <td>1/1/2017 0:40</td>\n",
       "      <td>5.921</td>\n",
       "      <td>75.7</td>\n",
       "      <td>0.081</td>\n",
       "      <td>0.048</td>\n",
       "      <td>0.085</td>\n",
       "      <td>27335.69620</td>\n",
       "      <td>17872.34043</td>\n",
       "      <td>18442.40964</td>\n",
       "    </tr>\n",
       "  </tbody>\n",
       "</table>\n",
       "</div>"
      ],
      "text/plain": [
       "        DateTime  Temperature  Humidity  Wind Speed  general diffuse flows  \\\n",
       "0  1/1/2017 0:00        6.559      73.8       0.083                  0.051   \n",
       "1  1/1/2017 0:10        6.414      74.5       0.083                  0.070   \n",
       "2  1/1/2017 0:20        6.313      74.5       0.080                  0.062   \n",
       "3  1/1/2017 0:30        6.121      75.0       0.083                  0.091   \n",
       "4  1/1/2017 0:40        5.921      75.7       0.081                  0.048   \n",
       "\n",
       "   diffuse flows  Zone 1 Power Consumption  Zone 2  Power Consumption  \\\n",
       "0          0.119               34055.69620                16128.87538   \n",
       "1          0.085               29814.68354                19375.07599   \n",
       "2          0.100               29128.10127                19006.68693   \n",
       "3          0.096               28228.86076                18361.09422   \n",
       "4          0.085               27335.69620                17872.34043   \n",
       "\n",
       "   Zone 3  Power Consumption  \n",
       "0                20240.96386  \n",
       "1                20131.08434  \n",
       "2                19668.43373  \n",
       "3                18899.27711  \n",
       "4                18442.40964  "
      ]
     },
     "execution_count": 265,
     "metadata": {},
     "output_type": "execute_result"
    }
   ],
   "source": [
    "import pandas as pd\n",
    "df= pd.read_csv('https://raw.githubusercontent.com/Datamanim/datarepo/main/consum/Tetuan%20City%20power%20consumption.csv')\n",
    "df.head()"
   ]
  },
  {
   "cell_type": "code",
   "execution_count": 266,
   "id": "2a808e1f-e155-48ad-a7f9-51177e464843",
   "metadata": {},
   "outputs": [],
   "source": [
    "# DateTime컬럼을 통해 각 월별로 몇개의 데이터가 있는지 데이터 프레임으로 구하여라"
   ]
  },
  {
   "cell_type": "code",
   "execution_count": 270,
   "id": "83cbfd4a-8119-4396-b43c-9b9b02490e51",
   "metadata": {},
   "outputs": [
    {
     "data": {
      "text/plain": [
       "month\n",
       "1     4464\n",
       "2     4032\n",
       "3     4464\n",
       "4     4320\n",
       "5     4464\n",
       "6     4320\n",
       "7     4464\n",
       "8     4464\n",
       "9     4320\n",
       "10    4464\n",
       "11    4320\n",
       "12    4320\n",
       "dtype: int64"
      ]
     },
     "execution_count": 270,
     "metadata": {},
     "output_type": "execute_result"
    }
   ],
   "source": [
    "df['DateTime'] = pd.to_datetime(df['DateTime'])\n",
    "df['month'] = df['DateTime'].dt.month\n",
    "df.groupby('month').size()"
   ]
  },
  {
   "cell_type": "code",
   "execution_count": 271,
   "id": "9b573ea1-066d-425d-8add-11f7f3f9bf87",
   "metadata": {},
   "outputs": [],
   "source": [
    "# 3월달의 각 시간대별 온도의 평균들 중 가장 낮은 시간대의 온도를 출력하라"
   ]
  },
  {
   "cell_type": "code",
   "execution_count": 289,
   "id": "752c47c7-9a2e-4d12-a382-6225dcdd54ac",
   "metadata": {},
   "outputs": [
    {
     "data": {
      "text/plain": [
       "hour\n",
       "7    11.506613\n",
       "Name: Temperature, dtype: float64"
      ]
     },
     "execution_count": 289,
     "metadata": {},
     "output_type": "execute_result"
    }
   ],
   "source": [
    "df['hour'] = df['DateTime'].dt.hour\n",
    "result = df[df['month'] ==3]\n",
    "result.groupby('hour')['Temperature'].mean().sort_values(ascending = False).tail(1)"
   ]
  },
  {
   "cell_type": "code",
   "execution_count": 291,
   "id": "196dbfdd-b029-4613-ba93-33c122e556a2",
   "metadata": {},
   "outputs": [
    {
     "data": {
      "text/plain": [
       "hour\n",
       "15    18.393602\n",
       "Name: Temperature, dtype: float64"
      ]
     },
     "execution_count": 291,
     "metadata": {},
     "output_type": "execute_result"
    }
   ],
   "source": [
    "# 3월달의 각 시간대별 온도의 평균들 중 가장 높은 시간대의 온도를 출력하라\n",
    "df['hour'] = df['DateTime'].dt.hour\n",
    "result = df[df['month'] ==3]\n",
    "result.groupby('hour')['Temperature'].mean().sort_values(ascending = False).head(1)"
   ]
  },
  {
   "cell_type": "code",
   "execution_count": 292,
   "id": "194a235d-5792-4e7b-9538-7102154f5664",
   "metadata": {},
   "outputs": [],
   "source": [
    "# Zone 1 Power Consumption 컬럼의 value값의 크기가 Zone 2 Power Consumption 컬럼의 value값의 크기보다 큰 데이터들의 Humidity의 평균을 구하여라"
   ]
  },
  {
   "cell_type": "code",
   "execution_count": 296,
   "id": "db214190-9767-4cfa-b930-59e01d59a7a4",
   "metadata": {},
   "outputs": [
    {
     "data": {
      "text/plain": [
       "np.float64(68.33275235680026)"
      ]
     },
     "execution_count": 296,
     "metadata": {},
     "output_type": "execute_result"
    }
   ],
   "source": [
    "df.columns\n",
    "df[df['Zone 2  Power Consumption'] >= df['Zone 3  Power Consumption']]['Humidity'].mean()"
   ]
  },
  {
   "cell_type": "code",
   "execution_count": 297,
   "id": "d5b76439-a83f-4942-99d5-71d88a3b7dd9",
   "metadata": {},
   "outputs": [],
   "source": [
    "# 각 zone의 에너지 소비량의 상관관계를 구해서 데이터 프레임으로 표기하라"
   ]
  },
  {
   "cell_type": "code",
   "execution_count": 303,
   "id": "dea52425-9a3b-449f-83f5-cd34b3580b35",
   "metadata": {},
   "outputs": [
    {
     "data": {
      "text/html": [
       "<div>\n",
       "<style scoped>\n",
       "    .dataframe tbody tr th:only-of-type {\n",
       "        vertical-align: middle;\n",
       "    }\n",
       "\n",
       "    .dataframe tbody tr th {\n",
       "        vertical-align: top;\n",
       "    }\n",
       "\n",
       "    .dataframe thead th {\n",
       "        text-align: right;\n",
       "    }\n",
       "</style>\n",
       "<table border=\"1\" class=\"dataframe\">\n",
       "  <thead>\n",
       "    <tr style=\"text-align: right;\">\n",
       "      <th></th>\n",
       "      <th>Zone 1 Power Consumption</th>\n",
       "      <th>Zone 2  Power Consumption</th>\n",
       "      <th>Zone 3  Power Consumption</th>\n",
       "    </tr>\n",
       "  </thead>\n",
       "  <tbody>\n",
       "    <tr>\n",
       "      <th>Zone 1 Power Consumption</th>\n",
       "      <td>1.000000</td>\n",
       "      <td>0.834519</td>\n",
       "      <td>0.750733</td>\n",
       "    </tr>\n",
       "    <tr>\n",
       "      <th>Zone 2  Power Consumption</th>\n",
       "      <td>0.834519</td>\n",
       "      <td>1.000000</td>\n",
       "      <td>0.570932</td>\n",
       "    </tr>\n",
       "    <tr>\n",
       "      <th>Zone 3  Power Consumption</th>\n",
       "      <td>0.750733</td>\n",
       "      <td>0.570932</td>\n",
       "      <td>1.000000</td>\n",
       "    </tr>\n",
       "  </tbody>\n",
       "</table>\n",
       "</div>"
      ],
      "text/plain": [
       "                           Zone 1 Power Consumption  \\\n",
       "Zone 1 Power Consumption                   1.000000   \n",
       "Zone 2  Power Consumption                  0.834519   \n",
       "Zone 3  Power Consumption                  0.750733   \n",
       "\n",
       "                           Zone 2  Power Consumption  \\\n",
       "Zone 1 Power Consumption                    0.834519   \n",
       "Zone 2  Power Consumption                   1.000000   \n",
       "Zone 3  Power Consumption                   0.570932   \n",
       "\n",
       "                           Zone 3  Power Consumption  \n",
       "Zone 1 Power Consumption                    0.750733  \n",
       "Zone 2  Power Consumption                   0.570932  \n",
       "Zone 3  Power Consumption                   1.000000  "
      ]
     },
     "execution_count": 303,
     "metadata": {},
     "output_type": "execute_result"
    }
   ],
   "source": [
    "df.columns\n",
    "df[['Zone 1 Power Consumption','Zone 2  Power Consumption','Zone 3  Power Consumption']].corr()"
   ]
  },
  {
   "cell_type": "code",
   "execution_count": 304,
   "id": "0f418bab-ae2b-449a-bc76-db41e510fe7a",
   "metadata": {},
   "outputs": [],
   "source": [
    "# Temperature의 값이 10미만의 경우 A, 10이상 20미만의 경우 B,20이상 30미만의 경우 C, 그 외의 경우 D라고 할때 각 단계의 데이터 숫자를 구하여라"
   ]
  },
  {
   "cell_type": "code",
   "execution_count": 307,
   "id": "462c9ed1-4a5b-4636-9221-22191d509a90",
   "metadata": {},
   "outputs": [
    {
     "data": {
      "text/plain": [
       "단계\n",
       "B    26993\n",
       "C    21105\n",
       "A     2874\n",
       "D     1444\n",
       "Name: count, dtype: int64"
      ]
     },
     "execution_count": 307,
     "metadata": {},
     "output_type": "execute_result"
    }
   ],
   "source": [
    "def g(x):\n",
    "    if x < 10:\n",
    "        return 'A'\n",
    "    if x >= 10 and x < 20:\n",
    "        return 'B'\n",
    "    if x >= 20 and x < 30:\n",
    "        return 'C'\n",
    "    else:\n",
    "        return 'D'\n",
    "\n",
    "df['단계'] = df['Temperature'].apply(g)\n",
    "df['단계'].value_counts()"
   ]
  },
  {
   "cell_type": "code",
   "execution_count": 308,
   "id": "0e4a9061-ba59-4de5-992d-8d0638f83bad",
   "metadata": {},
   "outputs": [],
   "source": [
    "# 6월 데이터중 12시의 Temperature의 표준편차를 구하여라"
   ]
  },
  {
   "cell_type": "code",
   "execution_count": 314,
   "id": "b621b41c-3ad1-4a3e-bcb9-169172e51bea",
   "metadata": {},
   "outputs": [
    {
     "data": {
      "text/plain": [
       "np.float64(2.0499417827951025)"
      ]
     },
     "execution_count": 314,
     "metadata": {},
     "output_type": "execute_result"
    }
   ],
   "source": [
    "df[(df['month'] == 6) & (df['hour'] == 12)]['Temperature'].std()"
   ]
  },
  {
   "cell_type": "code",
   "execution_count": 315,
   "id": "8b253730-b941-495d-bdb9-c50131b9119a",
   "metadata": {},
   "outputs": [],
   "source": [
    "# 6월 데이터중 12시의 Temperature의 분산을 구하여라"
   ]
  },
  {
   "cell_type": "code",
   "execution_count": 316,
   "id": "816d946c-ce25-45f4-bf1b-1a9729257218",
   "metadata": {},
   "outputs": [
    {
     "data": {
      "text/plain": [
       "np.float64(4.202261312849163)"
      ]
     },
     "execution_count": 316,
     "metadata": {},
     "output_type": "execute_result"
    }
   ],
   "source": [
    "df[(df['month'] == 6) & (df['hour'] == 12)]['Temperature'].var()"
   ]
  },
  {
   "cell_type": "code",
   "execution_count": 317,
   "id": "45130e4b-6209-42f4-b0f0-4d5a621f840e",
   "metadata": {},
   "outputs": [],
   "source": [
    "# Temperature의 평균이상의 Temperature의 값을 가지는 데이터를 Temperature를 기준으로 정렬 했을때 4번째 행의 Humidity 값은?"
   ]
  },
  {
   "cell_type": "code",
   "execution_count": 330,
   "id": "37e79e8a-c0d0-4266-a856-6921974565f0",
   "metadata": {},
   "outputs": [
    {
     "data": {
      "text/plain": [
       "np.float64(89.5)"
      ]
     },
     "execution_count": 330,
     "metadata": {},
     "output_type": "execute_result"
    }
   ],
   "source": [
    "df[df['Temperature'] >= df['Temperature'].mean()].sort_values('Temperature',ascending = True)['Humidity'].values[3]"
   ]
  },
  {
   "cell_type": "code",
   "execution_count": 331,
   "id": "0f248b03-16f6-4504-804c-5fac96abf572",
   "metadata": {},
   "outputs": [],
   "source": [
    " #Temperature의 중간값 이상의 Temperature의 값을 가지는 데이터를Temperature를 기준으로 정렬 했을때 4번째 행의 Humidity 값은?"
   ]
  },
  {
   "cell_type": "code",
   "execution_count": 332,
   "id": "ed6d9316-9aa6-4bdd-bca1-4721fb839ef9",
   "metadata": {},
   "outputs": [
    {
     "data": {
      "text/plain": [
       "np.float64(62.66)"
      ]
     },
     "execution_count": 332,
     "metadata": {},
     "output_type": "execute_result"
    }
   ],
   "source": [
    "df[df['Temperature'] >= df['Temperature'].median()].sort_values('Temperature',ascending = True)['Humidity'].values[3]"
   ]
  },
  {
   "cell_type": "code",
   "execution_count": null,
   "id": "f310dba0-2f09-4ac4-bda5-73b4ce494248",
   "metadata": {},
   "outputs": [],
   "source": []
  }
 ],
 "metadata": {
  "kernelspec": {
   "display_name": "Python 3 (ipykernel)",
   "language": "python",
   "name": "python3"
  },
  "language_info": {
   "codemirror_mode": {
    "name": "ipython",
    "version": 3
   },
   "file_extension": ".py",
   "mimetype": "text/x-python",
   "name": "python",
   "nbconvert_exporter": "python",
   "pygments_lexer": "ipython3",
   "version": "3.13.3"
  }
 },
 "nbformat": 4,
 "nbformat_minor": 5
}
