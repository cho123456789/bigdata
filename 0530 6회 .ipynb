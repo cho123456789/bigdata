{
 "cells": [
  {
   "cell_type": "code",
   "execution_count": 1,
   "id": "3d1719ef-03ee-4feb-a823-5201ac833a62",
   "metadata": {},
   "outputs": [
    {
     "data": {
      "text/html": [
       "<div>\n",
       "<style scoped>\n",
       "    .dataframe tbody tr th:only-of-type {\n",
       "        vertical-align: middle;\n",
       "    }\n",
       "\n",
       "    .dataframe tbody tr th {\n",
       "        vertical-align: top;\n",
       "    }\n",
       "\n",
       "    .dataframe thead th {\n",
       "        text-align: right;\n",
       "    }\n",
       "</style>\n",
       "<table border=\"1\" class=\"dataframe\">\n",
       "  <thead>\n",
       "    <tr style=\"text-align: right;\">\n",
       "      <th></th>\n",
       "      <th>구급보고서번호</th>\n",
       "      <th>소방서명</th>\n",
       "      <th>환자증상구분명1</th>\n",
       "      <th>신고일자</th>\n",
       "      <th>신고시각</th>\n",
       "      <th>출동일자</th>\n",
       "      <th>출동시각</th>\n",
       "      <th>환자직업명</th>\n",
       "      <th>사고발생장소</th>\n",
       "    </tr>\n",
       "  </thead>\n",
       "  <tbody>\n",
       "    <tr>\n",
       "      <th>0</th>\n",
       "      <td>20211122103M01526</td>\n",
       "      <td>중랑소방서</td>\n",
       "      <td>심계항진</td>\n",
       "      <td>20210330</td>\n",
       "      <td>104800</td>\n",
       "      <td>20210330</td>\n",
       "      <td>105042</td>\n",
       "      <td>무직</td>\n",
       "      <td>집</td>\n",
       "    </tr>\n",
       "    <tr>\n",
       "      <th>1</th>\n",
       "      <td>20211111105M00771</td>\n",
       "      <td>노원소방서</td>\n",
       "      <td>복통</td>\n",
       "      <td>20210412</td>\n",
       "      <td>225600</td>\n",
       "      <td>20210412</td>\n",
       "      <td>225827</td>\n",
       "      <td>기타</td>\n",
       "      <td>집</td>\n",
       "    </tr>\n",
       "    <tr>\n",
       "      <th>2</th>\n",
       "      <td>20211115104M00864</td>\n",
       "      <td>서초소방서</td>\n",
       "      <td>심계항진</td>\n",
       "      <td>20210303</td>\n",
       "      <td>194100</td>\n",
       "      <td>20210303</td>\n",
       "      <td>194500</td>\n",
       "      <td>직장인</td>\n",
       "      <td>상업시설</td>\n",
       "    </tr>\n",
       "    <tr>\n",
       "      <th>3</th>\n",
       "      <td>20211113107M01869</td>\n",
       "      <td>마포소방서</td>\n",
       "      <td>고열</td>\n",
       "      <td>20211225</td>\n",
       "      <td>235400</td>\n",
       "      <td>20211226</td>\n",
       "      <td>331</td>\n",
       "      <td>유아</td>\n",
       "      <td>집</td>\n",
       "    </tr>\n",
       "    <tr>\n",
       "      <th>4</th>\n",
       "      <td>20211118102M05820</td>\n",
       "      <td>강동소방서</td>\n",
       "      <td>고열</td>\n",
       "      <td>20211019</td>\n",
       "      <td>12100</td>\n",
       "      <td>20211019</td>\n",
       "      <td>12322</td>\n",
       "      <td>무직</td>\n",
       "      <td>집</td>\n",
       "    </tr>\n",
       "  </tbody>\n",
       "</table>\n",
       "</div>"
      ],
      "text/plain": [
       "             구급보고서번호   소방서명 환자증상구분명1      신고일자    신고시각      출동일자    출동시각  \\\n",
       "0  20211122103M01526  중랑소방서     심계항진  20210330  104800  20210330  105042   \n",
       "1  20211111105M00771  노원소방서       복통  20210412  225600  20210412  225827   \n",
       "2  20211115104M00864  서초소방서     심계항진  20210303  194100  20210303  194500   \n",
       "3  20211113107M01869  마포소방서       고열  20211225  235400  20211226     331   \n",
       "4  20211118102M05820  강동소방서       고열  20211019   12100  20211019   12322   \n",
       "\n",
       "  환자직업명 사고발생장소  \n",
       "0    무직      집  \n",
       "1    기타      집  \n",
       "2   직장인   상업시설  \n",
       "3    유아      집  \n",
       "4    무직      집  "
      ]
     },
     "execution_count": 1,
     "metadata": {},
     "output_type": "execute_result"
    }
   ],
   "source": [
    "import pandas as pd\n",
    "df = pd.read_csv('https://raw.githubusercontent.com/Datamanim/datarepo/main/krdatacertificate/e6_p1_1.csv')\n",
    "df.head(5)"
   ]
  },
  {
   "cell_type": "code",
   "execution_count": 38,
   "id": "ce2c1d82-b9fb-4b95-8de6-1a14e80e9387",
   "metadata": {},
   "outputs": [],
   "source": [
    "#각 구급 보고서 별 출동시각과 신고시각의 차이를 ‘소요시간’ 컬럼을 만들고 초(sec)단위로 구하고 \n",
    "#소방서명 별 소요시간의 평균을 오름차순으로 정렬 했을때 3번째로 작은 소요시간의 값과 소방서명을 출력하라"
   ]
  },
  {
   "cell_type": "code",
   "execution_count": 63,
   "id": "60a672df-3ca3-400a-954a-5832977aec2e",
   "metadata": {},
   "outputs": [
    {
     "data": {
      "text/plain": [
       "소방서명\n",
       "영등포소방서    258.839286\n",
       "용산소방서     237.366197\n",
       "동대문소방서    228.148515\n",
       "강북소방서     212.061224\n",
       "관악소방서     209.843750\n",
       "중부소방서     207.563636\n",
       "성동소방서     207.358209\n",
       "도봉소방서     207.145631\n",
       "성북소방서     205.293578\n",
       "중랑소방서     204.877049\n",
       "강서소방서     199.696203\n",
       "강남소방서     196.933333\n",
       "마포소방서     196.547445\n",
       "양천소방서     192.201389\n",
       "은평소방서     191.390071\n",
       "구로소방서     189.513274\n",
       "송파소방서     189.330508\n",
       "동작소방서     185.107527\n",
       "강동소방서     181.656566\n",
       "노원소방서     179.579310\n",
       "광진소방서     175.602273\n",
       "종로소방서     175.500000\n",
       "서대문소방서    165.056604\n",
       "서초소방서     164.883495\n",
       "Name: 소요시간, dtype: float64"
      ]
     },
     "execution_count": 63,
     "metadata": {},
     "output_type": "execute_result"
    }
   ],
   "source": [
    "df['신고_datetime'] = pd.to_datetime(df['신고일자'].astype('str') + df['신고시각'].astype('str').str.zfill(6))\n",
    "df['출동_datetime'] = pd.to_datetime(df['출동일자'].astype('str') + df['출동시각'].astype('str').str.zfill(6))\n",
    "\n",
    "df['소요시간'] = (df['출동_datetime'] - df['신고_datetime']).dt.total_seconds()\n",
    "\n",
    "df.groupby('소방서명')['소요시간'].mean().sort_values(ascending = False) \n",
    "# 종로소방서     175.500000"
   ]
  },
  {
   "cell_type": "code",
   "execution_count": 45,
   "id": "48853a04-b8a9-4754-971f-8eb261720963",
   "metadata": {},
   "outputs": [
    {
     "name": "stdout",
     "output_type": "stream",
     "text": [
      "<class 'pandas.core.series.Series'>\n",
      "RangeIndex: 2762 entries, 0 to 2761\n",
      "Series name: 출동시각\n",
      "Non-Null Count  Dtype\n",
      "--------------  -----\n",
      "2762 non-null   int64\n",
      "dtypes: int64(1)\n",
      "memory usage: 21.7 KB\n"
     ]
    }
   ],
   "source": [
    "df[\"출동시각\"].info()"
   ]
  },
  {
   "cell_type": "code",
   "execution_count": 64,
   "id": "ca0c4d7e-bce6-48a3-81b4-84e67ba06b16",
   "metadata": {},
   "outputs": [
    {
     "data": {
      "text/html": [
       "<div>\n",
       "<style scoped>\n",
       "    .dataframe tbody tr th:only-of-type {\n",
       "        vertical-align: middle;\n",
       "    }\n",
       "\n",
       "    .dataframe tbody tr th {\n",
       "        vertical-align: top;\n",
       "    }\n",
       "\n",
       "    .dataframe thead th {\n",
       "        text-align: right;\n",
       "    }\n",
       "</style>\n",
       "<table border=\"1\" class=\"dataframe\">\n",
       "  <thead>\n",
       "    <tr style=\"text-align: right;\">\n",
       "      <th></th>\n",
       "      <th>학교명</th>\n",
       "      <th>시도</th>\n",
       "      <th>학교세부유형</th>\n",
       "      <th>일반학급_학생수_계</th>\n",
       "      <th>교원수_총계_계</th>\n",
       "    </tr>\n",
       "  </thead>\n",
       "  <tbody>\n",
       "    <tr>\n",
       "      <th>0</th>\n",
       "      <td>서울대학교사범대학부설고등학교</td>\n",
       "      <td>서울</td>\n",
       "      <td>일반고등학교</td>\n",
       "      <td>689</td>\n",
       "      <td>73</td>\n",
       "    </tr>\n",
       "    <tr>\n",
       "      <th>1</th>\n",
       "      <td>가락고등학교</td>\n",
       "      <td>서울</td>\n",
       "      <td>일반고등학교</td>\n",
       "      <td>765</td>\n",
       "      <td>70</td>\n",
       "    </tr>\n",
       "    <tr>\n",
       "      <th>2</th>\n",
       "      <td>개포고등학교</td>\n",
       "      <td>서울</td>\n",
       "      <td>일반고등학교</td>\n",
       "      <td>684</td>\n",
       "      <td>69</td>\n",
       "    </tr>\n",
       "    <tr>\n",
       "      <th>3</th>\n",
       "      <td>경기고등학교</td>\n",
       "      <td>서울</td>\n",
       "      <td>일반고등학교</td>\n",
       "      <td>1047</td>\n",
       "      <td>96</td>\n",
       "    </tr>\n",
       "    <tr>\n",
       "      <th>4</th>\n",
       "      <td>경동고등학교</td>\n",
       "      <td>서울</td>\n",
       "      <td>일반고등학교</td>\n",
       "      <td>529</td>\n",
       "      <td>58</td>\n",
       "    </tr>\n",
       "  </tbody>\n",
       "</table>\n",
       "</div>"
      ],
      "text/plain": [
       "               학교명  시도  학교세부유형  일반학급_학생수_계  교원수_총계_계\n",
       "0  서울대학교사범대학부설고등학교  서울  일반고등학교         689        73\n",
       "1           가락고등학교  서울  일반고등학교         765        70\n",
       "2           개포고등학교  서울  일반고등학교         684        69\n",
       "3           경기고등학교  서울  일반고등학교        1047        96\n",
       "4           경동고등학교  서울  일반고등학교         529        58"
      ]
     },
     "execution_count": 64,
     "metadata": {},
     "output_type": "execute_result"
    }
   ],
   "source": [
    "import pandas as pd\n",
    "df = pd.read_csv('https://raw.githubusercontent.com/Datamanim/datarepo/main/krdatacertificate/e6_p1_2.csv')\n",
    "df.head(5)"
   ]
  },
  {
   "cell_type": "code",
   "execution_count": 65,
   "id": "f63ded8b-49ec-400c-9fe2-da35c1af28f2",
   "metadata": {},
   "outputs": [],
   "source": [
    "# 학교 세부유형이 일반중학교인 학교들 중 일반중학교 숫자가 2번째로 많은 시도의 일반중학교 데이터만 필터하여 \n",
    "# 해당 시도의 교원 한명 당 맡은 학생수가 가장 많은 학교를 찾아서 해당 학교의 교원수를 출력하라"
   ]
  },
  {
   "cell_type": "code",
   "execution_count": 113,
   "id": "0eea4d63-8e40-4976-b369-78aee3887514",
   "metadata": {},
   "outputs": [
    {
     "name": "stdout",
     "output_type": "stream",
     "text": [
      "서울\n"
     ]
    },
    {
     "name": "stderr",
     "output_type": "stream",
     "text": [
      "C:\\Users\\dn011\\AppData\\Local\\Temp\\ipykernel_18968\\335345239.py:7: SettingWithCopyWarning: \n",
      "A value is trying to be set on a copy of a slice from a DataFrame.\n",
      "Try using .loc[row_indexer,col_indexer] = value instead\n",
      "\n",
      "See the caveats in the documentation: https://pandas.pydata.org/pandas-docs/stable/user_guide/indexing.html#returning-a-view-versus-a-copy\n",
      "  result2['ratio'] = df['일반학급_학생수_계'] / df['교원수_총계_계']\n"
     ]
    },
    {
     "data": {
      "text/html": [
       "<div>\n",
       "<style scoped>\n",
       "    .dataframe tbody tr th:only-of-type {\n",
       "        vertical-align: middle;\n",
       "    }\n",
       "\n",
       "    .dataframe tbody tr th {\n",
       "        vertical-align: top;\n",
       "    }\n",
       "\n",
       "    .dataframe thead th {\n",
       "        text-align: right;\n",
       "    }\n",
       "</style>\n",
       "<table border=\"1\" class=\"dataframe\">\n",
       "  <thead>\n",
       "    <tr style=\"text-align: right;\">\n",
       "      <th></th>\n",
       "      <th>학교명</th>\n",
       "      <th>시도</th>\n",
       "      <th>학교세부유형</th>\n",
       "      <th>일반학급_학생수_계</th>\n",
       "      <th>교원수_총계_계</th>\n",
       "      <th>ratio</th>\n",
       "    </tr>\n",
       "  </thead>\n",
       "  <tbody>\n",
       "    <tr>\n",
       "      <th>524</th>\n",
       "      <td>단국대학교사범대학부속중학교</td>\n",
       "      <td>서울</td>\n",
       "      <td>일반중학교</td>\n",
       "      <td>606</td>\n",
       "      <td>33</td>\n",
       "      <td>18.363636</td>\n",
       "    </tr>\n",
       "  </tbody>\n",
       "</table>\n",
       "</div>"
      ],
      "text/plain": [
       "                학교명  시도 학교세부유형  일반학급_학생수_계  교원수_총계_계      ratio\n",
       "524  단국대학교사범대학부속중학교  서울  일반중학교         606        33  18.363636"
      ]
     },
     "execution_count": 113,
     "metadata": {},
     "output_type": "execute_result"
    }
   ],
   "source": [
    "result = df[df['학교세부유형'] == \"일반중학교\"]\n",
    "city = result.groupby(\"시도\")[\"학교세부유형\"].size().sort_values(ascending = False)\n",
    "city_counts = result['시도'].value_counts()\n",
    "second_city = city_counts.index[1] \n",
    "print(second_city)\n",
    "result2 = result[result['시도'] == '서울']\n",
    "result2['ratio'] = df['일반학급_학생수_계'] / df['교원수_총계_계']\n",
    "result2['ratio'].max()\n",
    "result2[result2['ratio'] == 18.363636363636363]\n",
    "# 33"
   ]
  },
  {
   "cell_type": "code",
   "execution_count": 114,
   "id": "1bd6d5ed-861f-4c17-901d-53b60f6097dc",
   "metadata": {},
   "outputs": [
    {
     "data": {
      "text/html": [
       "<div>\n",
       "<style scoped>\n",
       "    .dataframe tbody tr th:only-of-type {\n",
       "        vertical-align: middle;\n",
       "    }\n",
       "\n",
       "    .dataframe tbody tr th {\n",
       "        vertical-align: top;\n",
       "    }\n",
       "\n",
       "    .dataframe thead th {\n",
       "        text-align: right;\n",
       "    }\n",
       "</style>\n",
       "<table border=\"1\" class=\"dataframe\">\n",
       "  <thead>\n",
       "    <tr style=\"text-align: right;\">\n",
       "      <th></th>\n",
       "      <th>범죄분류</th>\n",
       "      <th>절도</th>\n",
       "      <th>사기</th>\n",
       "      <th>배임</th>\n",
       "      <th>방화</th>\n",
       "      <th>폭행</th>\n",
       "    </tr>\n",
       "  </thead>\n",
       "  <tbody>\n",
       "    <tr>\n",
       "      <th>0</th>\n",
       "      <td>2018년_1월</td>\n",
       "      <td>13280</td>\n",
       "      <td>25318</td>\n",
       "      <td>656</td>\n",
       "      <td>143</td>\n",
       "      <td>12186</td>\n",
       "    </tr>\n",
       "    <tr>\n",
       "      <th>1</th>\n",
       "      <td>2018년_2월</td>\n",
       "      <td>12504</td>\n",
       "      <td>19159</td>\n",
       "      <td>403</td>\n",
       "      <td>135</td>\n",
       "      <td>12087</td>\n",
       "    </tr>\n",
       "    <tr>\n",
       "      <th>2</th>\n",
       "      <td>2018년_3월</td>\n",
       "      <td>14733</td>\n",
       "      <td>24509</td>\n",
       "      <td>471</td>\n",
       "      <td>148</td>\n",
       "      <td>13841</td>\n",
       "    </tr>\n",
       "    <tr>\n",
       "      <th>3</th>\n",
       "      <td>2018년_4월</td>\n",
       "      <td>14781</td>\n",
       "      <td>23147</td>\n",
       "      <td>414</td>\n",
       "      <td>135</td>\n",
       "      <td>13973</td>\n",
       "    </tr>\n",
       "    <tr>\n",
       "      <th>4</th>\n",
       "      <td>2018년_5월</td>\n",
       "      <td>15988</td>\n",
       "      <td>23584</td>\n",
       "      <td>451</td>\n",
       "      <td>127</td>\n",
       "      <td>14117</td>\n",
       "    </tr>\n",
       "  </tbody>\n",
       "</table>\n",
       "</div>"
      ],
      "text/plain": [
       "       범죄분류     절도     사기   배임   방화     폭행\n",
       "0  2018년_1월  13280  25318  656  143  12186\n",
       "1  2018년_2월  12504  19159  403  135  12087\n",
       "2  2018년_3월  14733  24509  471  148  13841\n",
       "3  2018년_4월  14781  23147  414  135  13973\n",
       "4  2018년_5월  15988  23584  451  127  14117"
      ]
     },
     "execution_count": 114,
     "metadata": {},
     "output_type": "execute_result"
    }
   ],
   "source": [
    "import pandas as pd\n",
    "df = pd.read_csv('https://raw.githubusercontent.com/Datamanim/datarepo/main/krdatacertificate/e6_p1_3.csv')\n",
    "df.head(5)"
   ]
  },
  {
   "cell_type": "code",
   "execution_count": 117,
   "id": "01f80481-df59-4eb7-b775-98d08496b362",
   "metadata": {},
   "outputs": [],
   "source": [
    "#**5대 범죄(절도, 사기, 배임, 방화, 폭행)의 월별 총 발생건수를 총범죄수라고 표현하자. \n",
    "#18,19년의 각각 분기별 총범죄수의 월평균 값을 구했을때 최대값을 가지는 년도와 분기를 구하고 \n",
    "#해당 분기의 최댓값의 사기가 발생한 월의 사기 발생건수를 출력하라\n",
    "#(1분기:1,2,3월 / 2분기 : 4,5,6월 / 3분기 7,8,9월 / 4분기 10,11,12월 , 1분기 월평균 : 1,2,3월의 총범죄수 평균) **"
   ]
  },
  {
   "cell_type": "code",
   "execution_count": 224,
   "id": "77974342-1fcf-4d19-89a7-4cf307789000",
   "metadata": {},
   "outputs": [
    {
     "name": "stdout",
     "output_type": "stream",
     "text": [
      "✅ 총범죄수 월평균 최대: 2019년 2분기\n",
      "5월\n",
      "27766\n"
     ]
    }
   ],
   "source": [
    "df['범죄월'] = df['범죄분류'].str.split('_').str[1]\n",
    "df['범죄년'] = df['범죄분류'].str.split('_').str[0]\n",
    "df['총범죄수'] = df['절도'] + df['사기'] + df['배임'] + df['방화'] + df['폭행']\n",
    "\n",
    "def g(x):\n",
    "    if x == '1월' or x == '2월' or x == '3월' :\n",
    "        return '1분기'\n",
    "    if x == '4월' or x == '5월' or x == '6월':\n",
    "        return '2분기'\n",
    "    if x == '7월' or x == '8월' or x == '9월':\n",
    "        return '3분기'\n",
    "    if x == '10월' or x == '11월' or x == '12월':\n",
    "        return '4분기'\n",
    "df['분기'] = df['범죄월'].apply(g)\n",
    "\n",
    "grouped = df.groupby(['범죄년', '분기'])['총범죄수'].mean()\n",
    "max_idx = grouped.idxmax()  # ('2019년', '3분기') 같은 튜플\n",
    "max_year, max_quarter = max_idx\n",
    "print(f\"✅ 총범죄수 월평균 최대: {max_year} {max_quarter}\")\n",
    "\n",
    "target_df = df[(df['범죄년'] == max_year) & (df['분기'] == max_quarter)]\n",
    "max_scam_row = target_df.loc[target_df['사기'].idxmax()]\n",
    "print(max_scam_row['범죄월'])\n",
    "print(max_scam_row['사기'])"
   ]
  },
  {
   "cell_type": "code",
   "execution_count": 216,
   "id": "ab256d18-9e8d-4579-9d29-4d7225ca7ed7",
   "metadata": {},
   "outputs": [
    {
     "data": {
      "text/plain": [
       "'2019_2'"
      ]
     },
     "execution_count": 216,
     "metadata": {},
     "output_type": "execute_result"
    }
   ],
   "source": [
    "df['총범죄수'] = df['절도']  +df['사기']  +df['배임']  +df['방화']  +df['폭행']\n",
    "df['분기'] = [x+'_'+str(y) for x in ['2018','2019'] for y in range(1,5) for z in range(3)]\n",
    "\n",
    "max_ = df.groupby(['분기'])['총범죄수'].mean().sort_values().index[-1]\n",
    "max_"
   ]
  },
  {
   "cell_type": "code",
   "execution_count": 225,
   "id": "f5b0558a-ef4f-470d-a05a-39b319296b68",
   "metadata": {},
   "outputs": [],
   "source": [
    "# A 도시의 남성 600명과 여성 550명이 있다. 남성들 중 흡연자 비율은 0.2이며 여성들 중 흡연자 비율은 0.26이다.\n",
    "# 남성과 여성 간에 흡연 여부에 따른 인구 비율이 다른지 확인하고 싶다. \n",
    "# 유의 수준 0.05하 귀무가설에 대해 기각 / 채택 여부와 p-value값을 각각 출력하라"
   ]
  },
  {
   "cell_type": "code",
   "execution_count": 239,
   "id": "28fee18a-03d9-465d-a403-ac0128df88aa",
   "metadata": {},
   "outputs": [
    {
     "name": "stdout",
     "output_type": "stream",
     "text": [
      "Chi2ContingencyResult(statistic=np.float64(5.521247671393307), pvalue=np.float64(0.018786854975740765), dof=1, expected_freq=array([[137.2173913, 462.7826087],\n",
      "       [125.7826087, 424.2173913]]))\n"
     ]
    }
   ],
   "source": [
    "from scipy.stats import chi2_contingency\n",
    "\n",
    "total_m = 600\n",
    "total_w = 550\n",
    "\n",
    "smoke_m = 0.2\n",
    "smoke_w = 0.26\n",
    "\n",
    "smoke_ratio_m = int(total_m * 0.2)\n",
    "no_smoke_ratio_m = int(total_m - smoke_ratio_m)\n",
    "\n",
    "smoke_ratio_w = int(total_w * 0.26)\n",
    "no_smoke_ratio_w = int(total_w - smoke_ratio_w)\n",
    "\n",
    "table = [[smoke_ratio_m, no_smoke_ratio_m], [smoke_ratio_w,no_smoke_ratio_w]]\n",
    "print(chi2_contingency(table))"
   ]
  },
  {
   "cell_type": "code",
   "execution_count": 238,
   "id": "390e3bb3-095e-487c-b574-e1685ab22334",
   "metadata": {},
   "outputs": [
    {
     "name": "stdout",
     "output_type": "stream",
     "text": [
      "기각 0.018786854975740765\n"
     ]
    }
   ],
   "source": [
    "import numpy as np\n",
    "total_male = 600\n",
    "total_female = 550\n",
    "\n",
    "# 남성과 여성 중 흡연자의 비율\n",
    "smoking_ratio_male = 0.2\n",
    "smoking_ratio_female = 0.26\n",
    "\n",
    "# 흡연자와 비흡연자의 인구 수 계산\n",
    "smoking_male = int(total_male * smoking_ratio_male)\n",
    "non_smoking_male = int(total_male - smoking_male)\n",
    "\n",
    "smoking_female = total_female * smoking_ratio_female\n",
    "non_smoking_female = total_female - smoking_female\n",
    "\n",
    "# 데이터 배열 생성 (빈도로 변환)\n",
    "data = np.array([[smoking_male, non_smoking_male], [smoking_female, non_smoking_female]])\n",
    "\n",
    "# 카이제곱 검정 수행\n",
    "chi2_stat, p_val, dof, expected = chi2_contingency(data)\n",
    "\n",
    "print('기각',p_val)"
   ]
  },
  {
   "cell_type": "code",
   "execution_count": 240,
   "id": "ec839a3c-cb58-43f4-b98b-b43530388d71",
   "metadata": {},
   "outputs": [
    {
     "data": {
      "text/html": [
       "<div>\n",
       "<style scoped>\n",
       "    .dataframe tbody tr th:only-of-type {\n",
       "        vertical-align: middle;\n",
       "    }\n",
       "\n",
       "    .dataframe tbody tr th {\n",
       "        vertical-align: top;\n",
       "    }\n",
       "\n",
       "    .dataframe thead th {\n",
       "        text-align: right;\n",
       "    }\n",
       "</style>\n",
       "<table border=\"1\" class=\"dataframe\">\n",
       "  <thead>\n",
       "    <tr style=\"text-align: right;\">\n",
       "      <th></th>\n",
       "      <th>age</th>\n",
       "      <th>Cholesterol</th>\n",
       "      <th>weight</th>\n",
       "    </tr>\n",
       "  </thead>\n",
       "  <tbody>\n",
       "    <tr>\n",
       "      <th>0</th>\n",
       "      <td>65</td>\n",
       "      <td>69.0</td>\n",
       "      <td>111.0</td>\n",
       "    </tr>\n",
       "    <tr>\n",
       "      <th>1</th>\n",
       "      <td>54</td>\n",
       "      <td>117.0</td>\n",
       "      <td>81.0</td>\n",
       "    </tr>\n",
       "    <tr>\n",
       "      <th>2</th>\n",
       "      <td>61</td>\n",
       "      <td>86.2</td>\n",
       "      <td>72.0</td>\n",
       "    </tr>\n",
       "    <tr>\n",
       "      <th>3</th>\n",
       "      <td>57</td>\n",
       "      <td>76.0</td>\n",
       "      <td>78.0</td>\n",
       "    </tr>\n",
       "    <tr>\n",
       "      <th>4</th>\n",
       "      <td>62</td>\n",
       "      <td>160.0</td>\n",
       "      <td>61.0</td>\n",
       "    </tr>\n",
       "  </tbody>\n",
       "</table>\n",
       "</div>"
      ],
      "text/plain": [
       "   age  Cholesterol  weight\n",
       "0   65         69.0   111.0\n",
       "1   54        117.0    81.0\n",
       "2   61         86.2    72.0\n",
       "3   57         76.0    78.0\n",
       "4   62        160.0    61.0"
      ]
     },
     "execution_count": 240,
     "metadata": {},
     "output_type": "execute_result"
    }
   ],
   "source": [
    "import pandas as pd \n",
    "df= pd.read_csv('https://raw.githubusercontent.com/Datamanim/datarepo/main/adp/28/p7.csv')\n",
    "df.head()"
   ]
  },
  {
   "cell_type": "code",
   "execution_count": 241,
   "id": "a9079e08-643b-4ad0-acfa-c9ea717eda7f",
   "metadata": {},
   "outputs": [],
   "source": [
    "# age와 Cholesterol을 가지고 weight를 예측하는 선형 회귀 모델을 만들려고한다. age의 회귀 계수를 구하여라"
   ]
  },
  {
   "cell_type": "code",
   "execution_count": 251,
   "id": "e04a49ee-8e2a-4ddc-bda5-836a3d83495c",
   "metadata": {},
   "outputs": [
    {
     "name": "stdout",
     "output_type": "stream",
     "text": [
      "                            OLS Regression Results                            \n",
      "==============================================================================\n",
      "Dep. Variable:                 weight   R-squared:                       0.044\n",
      "Model:                            OLS   Adj. R-squared:                  0.038\n",
      "Method:                 Least Squares   F-statistic:                     7.574\n",
      "Date:                Fri, 30 May 2025   Prob (F-statistic):           0.000608\n",
      "Time:                        22:17:47   Log-Likelihood:                -1374.9\n",
      "No. Observations:                 333   AIC:                             2756.\n",
      "Df Residuals:                     330   BIC:                             2767.\n",
      "Df Model:                           2                                         \n",
      "Covariance Type:            nonrobust                                         \n",
      "===============================================================================\n",
      "                  coef    std err          t      P>|t|      [0.025      0.975]\n",
      "-------------------------------------------------------------------------------\n",
      "Intercept      74.8953      4.455     16.813      0.000      66.132      83.658\n",
      "age            -0.0361      0.059     -0.611      0.542      -0.152       0.080\n",
      "Cholesterol     0.0819      0.022      3.716      0.000       0.039       0.125\n",
      "==============================================================================\n",
      "Omnibus:                       15.848   Durbin-Watson:                   2.033\n",
      "Prob(Omnibus):                  0.000   Jarque-Bera (JB):               17.569\n",
      "Skew:                           0.471   Prob(JB):                     0.000153\n",
      "Kurtosis:                       3.617   Cond. No.                         701.\n",
      "==============================================================================\n",
      "\n",
      "Notes:\n",
      "[1] Standard Errors assume that the covariance matrix of the errors is correctly specified.\n",
      "-0.03610166914386536\n"
     ]
    }
   ],
   "source": [
    "from statsmodels.formula.api import ols\n",
    "\n",
    "formula = \"weight~ age+ Cholesterol\"\n",
    "model = ols(formula, data = df).fit()\n",
    "print(model.summary())\n",
    "print(model.params['age'])\n",
    "\n",
    "# 없다 귀무 / 있다  - 대립 "
   ]
  },
  {
   "cell_type": "code",
   "execution_count": 254,
   "id": "1d045d75-1c46-45f8-ac92-e8d7c714301f",
   "metadata": {},
   "outputs": [
    {
     "name": "stdout",
     "output_type": "stream",
     "text": [
      "선형 있음\n"
     ]
    }
   ],
   "source": [
    "if  0.000 > 0.05:\n",
    "    print (\"선형 없음\")\n",
    "else:\n",
    "    print(\"선형 있음\")"
   ]
  },
  {
   "cell_type": "code",
   "execution_count": 262,
   "id": "5aa3743d-2cbd-438c-96c7-7d71a96f96b6",
   "metadata": {},
   "outputs": [
    {
     "name": "stdout",
     "output_type": "stream",
     "text": [
      "78.8577101134459\n"
     ]
    }
   ],
   "source": [
    "new_data = pd.DataFrame({'age': [55], 'Cholesterol': [72.6]})\n",
    "pred = model.predict(new_data)\n",
    "print(pred.iloc[0])"
   ]
  },
  {
   "cell_type": "code",
   "execution_count": null,
   "id": "fda881de-2b80-4621-b517-b963e73e0e7c",
   "metadata": {},
   "outputs": [],
   "source": []
  }
 ],
 "metadata": {
  "kernelspec": {
   "display_name": "Python 3 (ipykernel)",
   "language": "python",
   "name": "python3"
  },
  "language_info": {
   "codemirror_mode": {
    "name": "ipython",
    "version": 3
   },
   "file_extension": ".py",
   "mimetype": "text/x-python",
   "name": "python",
   "nbconvert_exporter": "python",
   "pygments_lexer": "ipython3",
   "version": "3.13.3"
  }
 },
 "nbformat": 4,
 "nbformat_minor": 5
}
