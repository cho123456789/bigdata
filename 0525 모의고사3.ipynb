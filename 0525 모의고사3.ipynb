{
 "cells": [
  {
   "cell_type": "code",
   "execution_count": 3,
   "id": "d562e770-fd8e-4b12-bcf9-8bdb05f92674",
   "metadata": {},
   "outputs": [
    {
     "data": {
      "text/html": [
       "<div>\n",
       "<style scoped>\n",
       "    .dataframe tbody tr th:only-of-type {\n",
       "        vertical-align: middle;\n",
       "    }\n",
       "\n",
       "    .dataframe tbody tr th {\n",
       "        vertical-align: top;\n",
       "    }\n",
       "\n",
       "    .dataframe thead th {\n",
       "        text-align: right;\n",
       "    }\n",
       "</style>\n",
       "<table border=\"1\" class=\"dataframe\">\n",
       "  <thead>\n",
       "    <tr style=\"text-align: right;\">\n",
       "      <th></th>\n",
       "      <th>title</th>\n",
       "      <th>artist</th>\n",
       "      <th>top genre</th>\n",
       "      <th>year released</th>\n",
       "      <th>added</th>\n",
       "      <th>bpm</th>\n",
       "      <th>nrgy</th>\n",
       "      <th>dnce</th>\n",
       "      <th>dB</th>\n",
       "      <th>live</th>\n",
       "      <th>val</th>\n",
       "      <th>dur</th>\n",
       "      <th>acous</th>\n",
       "      <th>spch</th>\n",
       "      <th>pop</th>\n",
       "      <th>top year</th>\n",
       "      <th>artist type</th>\n",
       "    </tr>\n",
       "  </thead>\n",
       "  <tbody>\n",
       "    <tr>\n",
       "      <th>0</th>\n",
       "      <td>STARSTRUKK (feat. Katy Perry)</td>\n",
       "      <td>3OH!3</td>\n",
       "      <td>dance pop</td>\n",
       "      <td>2009.0</td>\n",
       "      <td>2022‑02‑17</td>\n",
       "      <td>140.0</td>\n",
       "      <td>81.0</td>\n",
       "      <td>61.0</td>\n",
       "      <td>-6.0</td>\n",
       "      <td>23.0</td>\n",
       "      <td>23.0</td>\n",
       "      <td>203.0</td>\n",
       "      <td>0.0</td>\n",
       "      <td>6.0</td>\n",
       "      <td>70.0</td>\n",
       "      <td>2010.0</td>\n",
       "      <td>Duo</td>\n",
       "    </tr>\n",
       "    <tr>\n",
       "      <th>1</th>\n",
       "      <td>My First Kiss (feat. Ke$ha)</td>\n",
       "      <td>3OH!3</td>\n",
       "      <td>dance pop</td>\n",
       "      <td>2010.0</td>\n",
       "      <td>2022‑02‑17</td>\n",
       "      <td>138.0</td>\n",
       "      <td>89.0</td>\n",
       "      <td>68.0</td>\n",
       "      <td>-4.0</td>\n",
       "      <td>36.0</td>\n",
       "      <td>83.0</td>\n",
       "      <td>192.0</td>\n",
       "      <td>1.0</td>\n",
       "      <td>8.0</td>\n",
       "      <td>68.0</td>\n",
       "      <td>2010.0</td>\n",
       "      <td>Duo</td>\n",
       "    </tr>\n",
       "    <tr>\n",
       "      <th>2</th>\n",
       "      <td>I Need A Dollar</td>\n",
       "      <td>Aloe Blacc</td>\n",
       "      <td>pop soul</td>\n",
       "      <td>2010.0</td>\n",
       "      <td>2022‑02‑17</td>\n",
       "      <td>95.0</td>\n",
       "      <td>48.0</td>\n",
       "      <td>84.0</td>\n",
       "      <td>-7.0</td>\n",
       "      <td>9.0</td>\n",
       "      <td>96.0</td>\n",
       "      <td>243.0</td>\n",
       "      <td>20.0</td>\n",
       "      <td>3.0</td>\n",
       "      <td>72.0</td>\n",
       "      <td>2010.0</td>\n",
       "      <td>Solo</td>\n",
       "    </tr>\n",
       "    <tr>\n",
       "      <th>3</th>\n",
       "      <td>Airplanes (feat. Hayley Williams of Paramore)</td>\n",
       "      <td>B.o.B</td>\n",
       "      <td>atl hip hop</td>\n",
       "      <td>2010.0</td>\n",
       "      <td>2022‑02‑17</td>\n",
       "      <td>93.0</td>\n",
       "      <td>87.0</td>\n",
       "      <td>66.0</td>\n",
       "      <td>-4.0</td>\n",
       "      <td>4.0</td>\n",
       "      <td>38.0</td>\n",
       "      <td>180.0</td>\n",
       "      <td>11.0</td>\n",
       "      <td>12.0</td>\n",
       "      <td>80.0</td>\n",
       "      <td>2010.0</td>\n",
       "      <td>Solo</td>\n",
       "    </tr>\n",
       "    <tr>\n",
       "      <th>4</th>\n",
       "      <td>Nothin' on You (feat. Bruno Mars)</td>\n",
       "      <td>B.o.B</td>\n",
       "      <td>atl hip hop</td>\n",
       "      <td>2010.0</td>\n",
       "      <td>2022‑02‑17</td>\n",
       "      <td>104.0</td>\n",
       "      <td>85.0</td>\n",
       "      <td>69.0</td>\n",
       "      <td>-6.0</td>\n",
       "      <td>9.0</td>\n",
       "      <td>74.0</td>\n",
       "      <td>268.0</td>\n",
       "      <td>39.0</td>\n",
       "      <td>5.0</td>\n",
       "      <td>79.0</td>\n",
       "      <td>2010.0</td>\n",
       "      <td>Solo</td>\n",
       "    </tr>\n",
       "  </tbody>\n",
       "</table>\n",
       "</div>"
      ],
      "text/plain": [
       "                                           title      artist    top genre  \\\n",
       "0                  STARSTRUKK (feat. Katy Perry)       3OH!3    dance pop   \n",
       "1                    My First Kiss (feat. Ke$ha)       3OH!3    dance pop   \n",
       "2                                I Need A Dollar  Aloe Blacc     pop soul   \n",
       "3  Airplanes (feat. Hayley Williams of Paramore)       B.o.B  atl hip hop   \n",
       "4              Nothin' on You (feat. Bruno Mars)       B.o.B  atl hip hop   \n",
       "\n",
       "   year released       added    bpm  nrgy  dnce   dB  live   val    dur  \\\n",
       "0         2009.0  2022‑02‑17  140.0  81.0  61.0 -6.0  23.0  23.0  203.0   \n",
       "1         2010.0  2022‑02‑17  138.0  89.0  68.0 -4.0  36.0  83.0  192.0   \n",
       "2         2010.0  2022‑02‑17   95.0  48.0  84.0 -7.0   9.0  96.0  243.0   \n",
       "3         2010.0  2022‑02‑17   93.0  87.0  66.0 -4.0   4.0  38.0  180.0   \n",
       "4         2010.0  2022‑02‑17  104.0  85.0  69.0 -6.0   9.0  74.0  268.0   \n",
       "\n",
       "   acous  spch   pop  top year artist type  \n",
       "0    0.0   6.0  70.0    2010.0         Duo  \n",
       "1    1.0   8.0  68.0    2010.0         Duo  \n",
       "2   20.0   3.0  72.0    2010.0        Solo  \n",
       "3   11.0  12.0  80.0    2010.0        Solo  \n",
       "4   39.0   5.0  79.0    2010.0        Solo  "
      ]
     },
     "execution_count": 3,
     "metadata": {},
     "output_type": "execute_result"
    }
   ],
   "source": [
    "import pandas as pd\n",
    "df = pd.read_csv('https://raw.githubusercontent.com/Datamanim/datarepo/main/spotify/spotify.csv')\n",
    "df.head()"
   ]
  },
  {
   "cell_type": "code",
   "execution_count": 4,
   "id": "91ba261e-c126-464a-a1ae-a152be1d5498",
   "metadata": {},
   "outputs": [],
   "source": [
    "# 데이터는 현재 년도별 100곡이 인기순으로 정렬되어 있다. \n",
    "#각 년도별 1~100위의 랭킹을 나타내는 rank컬럼을 만들고 매년도 1위의 bpm컬럼의 평균값을 구하여라"
   ]
  },
  {
   "cell_type": "code",
   "execution_count": 22,
   "id": "f1bcc626-e876-4294-bda7-4cc2f336780b",
   "metadata": {},
   "outputs": [
    {
     "data": {
      "text/plain": [
       "np.float64(125.0)"
      ]
     },
     "execution_count": 22,
     "metadata": {},
     "output_type": "execute_result"
    }
   ],
   "source": [
    "# df.isnull().sum()\n",
    "df= df.dropna()\n",
    "df['rank'] = df.groupby('top year')['pop'].rank(method= \"first\",ascending = False)\n",
    "# rank 함수 - method = 'first' <- 표시되는 순서대로 순위 부여\n",
    "df[df['rank'] == 1]['bpm'].mean()"
   ]
  },
  {
   "cell_type": "code",
   "execution_count": 24,
   "id": "4a5c15ed-f087-4544-8d9e-0ef40f197dd6",
   "metadata": {},
   "outputs": [],
   "source": [
    "# 2015년도에 가장많은 top100곡을 올린 artist는 누구인가?"
   ]
  },
  {
   "cell_type": "code",
   "execution_count": 29,
   "id": "0448529c-9ed4-4ba1-8687-22283f4a75c6",
   "metadata": {},
   "outputs": [
    {
     "data": {
      "text/plain": [
       "artist\n",
       "The Weeknd           4\n",
       "Taylor Swift         4\n",
       "Selena Gomez         3\n",
       "Fetty Wap            3\n",
       "Avicii               2\n",
       "                    ..\n",
       "Twenty One Pilots    1\n",
       "WALK THE MOON        1\n",
       "Wiz Khalifa          1\n",
       "Years & Years        1\n",
       "Zedd                 1\n",
       "Name: count, Length: 78, dtype: int64"
      ]
     },
     "execution_count": 29,
     "metadata": {},
     "output_type": "execute_result"
    }
   ],
   "source": [
    "result = df[df['top year'] == 2015.0]\n",
    "result['artist'].value_counts(ascending = False)"
   ]
  },
  {
   "cell_type": "code",
   "execution_count": null,
   "id": "7efb5404-de5a-4d24-b26c-f5c9dbb7bf83",
   "metadata": {},
   "outputs": [],
   "source": [
    "# 년도별 rank값이 1~10위 까지의 곡들 중 두번째로 많은 top genre는 무엇인가?"
   ]
  },
  {
   "cell_type": "code",
   "execution_count": 62,
   "id": "cbfc867b-1ea7-439e-8854-3ff4601d78bd",
   "metadata": {},
   "outputs": [
    {
     "data": {
      "text/plain": [
       "'british soul'"
      ]
     },
     "execution_count": 62,
     "metadata": {},
     "output_type": "execute_result"
    }
   ],
   "source": [
    "df[df['rank'] <= 10]['top genre'].value_counts().index[2]"
   ]
  },
  {
   "cell_type": "code",
   "execution_count": 63,
   "id": "cba48436-e2d4-4617-9139-37bf1afc166e",
   "metadata": {},
   "outputs": [],
   "source": [
    "# 피처링의 경우 title에 표시된다. 피처링을 가장 많이 해준 가수는 누구인가?"
   ]
  },
  {
   "cell_type": "code",
   "execution_count": 80,
   "id": "fbb596a0-3857-440c-8023-0423d9a1d0dd",
   "metadata": {},
   "outputs": [
    {
     "data": {
      "text/plain": [
       "singer\n",
       "Bruno Mars)                4\n",
       "Ty Dolla $ign)             3\n",
       "Tinie Tempah)              3\n",
       "Chris Brown)               3\n",
       "Drake)                     3\n",
       "                          ..\n",
       "Lil Tjay)                  1\n",
       "RANI)                      1\n",
       "Idris Elba)                1\n",
       "Aitch)                     1\n",
       "J. Cole & Travis Scott)    1\n",
       "Name: count, Length: 137, dtype: int64"
      ]
     },
     "execution_count": 80,
     "metadata": {},
     "output_type": "execute_result"
    }
   ],
   "source": [
    "df['singer'] = df['title'].str.split(\"feat.\").str[1]\n",
    "df['singer'].value_counts()"
   ]
  },
  {
   "cell_type": "code",
   "execution_count": 81,
   "id": "0e402e13-1c9c-4695-bb10-7e3b765a1e0b",
   "metadata": {},
   "outputs": [],
   "source": [
    "# top year 년도를 기준으로 발매일(year released)과 \n",
    "#top100에 진입한 일자 (top year)가 다른 곡의 숫자를 count 했을때 가장 많은 년도는?"
   ]
  },
  {
   "cell_type": "code",
   "execution_count": 97,
   "id": "52039db8-2696-4f19-b613-7b864c167b96",
   "metadata": {},
   "outputs": [
    {
     "data": {
      "text/plain": [
       "top year\n",
       "2016.0    37\n",
       "2011.0    34\n",
       "2010.0    33\n",
       "2013.0    33\n",
       "2015.0    31\n",
       "2012.0    28\n",
       "2017.0    26\n",
       "2014.0    23\n",
       "2019.0    21\n",
       "2018.0    19\n",
       "Name: count, dtype: int64"
      ]
     },
     "execution_count": 97,
     "metadata": {},
     "output_type": "execute_result"
    }
   ],
   "source": [
    "df = df.dropna(subset=['year released', 'top year'])\n",
    "mismatch = df[df['year released'] != df['top year']]\n",
    "top_year = mismatch['top year'].value_counts()\n",
    "top_year"
   ]
  },
  {
   "cell_type": "code",
   "execution_count": 98,
   "id": "0a79aa06-9660-4f7d-aead-95cd90f6fe88",
   "metadata": {},
   "outputs": [],
   "source": [
    "# artist 컬럼의 값에 대소문자 상관없이 q 단어가 들어가는 아티스트는 몇명인가?"
   ]
  },
  {
   "cell_type": "code",
   "execution_count": 158,
   "id": "3af95ece-fdaa-43b7-a41e-c403f3bbd626",
   "metadata": {},
   "outputs": [
    {
     "data": {
      "text/html": [
       "<div>\n",
       "<style scoped>\n",
       "    .dataframe tbody tr th:only-of-type {\n",
       "        vertical-align: middle;\n",
       "    }\n",
       "\n",
       "    .dataframe tbody tr th {\n",
       "        vertical-align: top;\n",
       "    }\n",
       "\n",
       "    .dataframe thead th {\n",
       "        text-align: right;\n",
       "    }\n",
       "</style>\n",
       "<table border=\"1\" class=\"dataframe\">\n",
       "  <thead>\n",
       "    <tr style=\"text-align: right;\">\n",
       "      <th></th>\n",
       "      <th>title</th>\n",
       "      <th>artist</th>\n",
       "      <th>top genre</th>\n",
       "      <th>year released</th>\n",
       "      <th>added</th>\n",
       "      <th>bpm</th>\n",
       "      <th>nrgy</th>\n",
       "      <th>dnce</th>\n",
       "      <th>dB</th>\n",
       "      <th>live</th>\n",
       "      <th>val</th>\n",
       "      <th>dur</th>\n",
       "      <th>acous</th>\n",
       "      <th>spch</th>\n",
       "      <th>pop</th>\n",
       "      <th>top year</th>\n",
       "      <th>artist type</th>\n",
       "      <th>rank</th>\n",
       "      <th>singer</th>\n",
       "    </tr>\n",
       "  </thead>\n",
       "  <tbody>\n",
       "    <tr>\n",
       "      <th>24</th>\n",
       "      <td>I Like It</td>\n",
       "      <td>Enrique Iglesias</td>\n",
       "      <td>dance pop</td>\n",
       "      <td>2010.0</td>\n",
       "      <td>2022‑02‑17</td>\n",
       "      <td>129.0</td>\n",
       "      <td>94.0</td>\n",
       "      <td>65.0</td>\n",
       "      <td>-3.0</td>\n",
       "      <td>7.0</td>\n",
       "      <td>70.0</td>\n",
       "      <td>232.0</td>\n",
       "      <td>2.0</td>\n",
       "      <td>8.0</td>\n",
       "      <td>71.0</td>\n",
       "      <td>2010.0</td>\n",
       "      <td>Solo</td>\n",
       "      <td>25.0</td>\n",
       "      <td>NaN</td>\n",
       "    </tr>\n",
       "    <tr>\n",
       "      <th>283</th>\n",
       "      <td>Hands on the Wheel (feat. Asap Rocky)</td>\n",
       "      <td>ScHoolboy Q</td>\n",
       "      <td>gangster rap</td>\n",
       "      <td>2012.0</td>\n",
       "      <td>2020‑06‑22</td>\n",
       "      <td>128.0</td>\n",
       "      <td>78.0</td>\n",
       "      <td>65.0</td>\n",
       "      <td>-7.0</td>\n",
       "      <td>7.0</td>\n",
       "      <td>18.0</td>\n",
       "      <td>197.0</td>\n",
       "      <td>2.0</td>\n",
       "      <td>11.0</td>\n",
       "      <td>67.0</td>\n",
       "      <td>2012.0</td>\n",
       "      <td>Solo</td>\n",
       "      <td>84.0</td>\n",
       "      <td>Asap Rocky)</td>\n",
       "    </tr>\n",
       "    <tr>\n",
       "      <th>385</th>\n",
       "      <td>Look Right Through - MK Vocal Edit</td>\n",
       "      <td>Storm Queen</td>\n",
       "      <td>deep disco house</td>\n",
       "      <td>2013.0</td>\n",
       "      <td>2020‑06‑11</td>\n",
       "      <td>120.0</td>\n",
       "      <td>82.0</td>\n",
       "      <td>83.0</td>\n",
       "      <td>-8.0</td>\n",
       "      <td>28.0</td>\n",
       "      <td>51.0</td>\n",
       "      <td>148.0</td>\n",
       "      <td>0.0</td>\n",
       "      <td>8.0</td>\n",
       "      <td>44.0</td>\n",
       "      <td>2013.0</td>\n",
       "      <td>Solo</td>\n",
       "      <td>86.0</td>\n",
       "      <td>NaN</td>\n",
       "    </tr>\n",
       "    <tr>\n",
       "      <th>562</th>\n",
       "      <td>Flex (Ooh, Ooh, Ooh)</td>\n",
       "      <td>Rich Homie Quan</td>\n",
       "      <td>atl hip hop</td>\n",
       "      <td>2015.0</td>\n",
       "      <td>2020‑06‑19</td>\n",
       "      <td>82.0</td>\n",
       "      <td>61.0</td>\n",
       "      <td>73.0</td>\n",
       "      <td>-8.0</td>\n",
       "      <td>19.0</td>\n",
       "      <td>89.0</td>\n",
       "      <td>177.0</td>\n",
       "      <td>4.0</td>\n",
       "      <td>5.0</td>\n",
       "      <td>70.0</td>\n",
       "      <td>2015.0</td>\n",
       "      <td>Solo</td>\n",
       "      <td>63.0</td>\n",
       "      <td>NaN</td>\n",
       "    </tr>\n",
       "    <tr>\n",
       "      <th>709</th>\n",
       "      <td>Man's Not Hot</td>\n",
       "      <td>Big Shaq</td>\n",
       "      <td>london rap</td>\n",
       "      <td>2017.0</td>\n",
       "      <td>2021‑01‑28</td>\n",
       "      <td>135.0</td>\n",
       "      <td>88.0</td>\n",
       "      <td>91.0</td>\n",
       "      <td>-4.0</td>\n",
       "      <td>11.0</td>\n",
       "      <td>59.0</td>\n",
       "      <td>186.0</td>\n",
       "      <td>11.0</td>\n",
       "      <td>24.0</td>\n",
       "      <td>67.0</td>\n",
       "      <td>2017.0</td>\n",
       "      <td>Solo</td>\n",
       "      <td>10.0</td>\n",
       "      <td>NaN</td>\n",
       "    </tr>\n",
       "    <tr>\n",
       "      <th>982</th>\n",
       "      <td>Bohemian Rhapsody - Remastered 2011</td>\n",
       "      <td>Queen</td>\n",
       "      <td>classic rock</td>\n",
       "      <td>1975.0</td>\n",
       "      <td>2020‑06‑22</td>\n",
       "      <td>144.0</td>\n",
       "      <td>40.0</td>\n",
       "      <td>39.0</td>\n",
       "      <td>-10.0</td>\n",
       "      <td>24.0</td>\n",
       "      <td>23.0</td>\n",
       "      <td>354.0</td>\n",
       "      <td>29.0</td>\n",
       "      <td>5.0</td>\n",
       "      <td>77.0</td>\n",
       "      <td>2019.0</td>\n",
       "      <td>Band/Group</td>\n",
       "      <td>83.0</td>\n",
       "      <td>NaN</td>\n",
       "    </tr>\n",
       "  </tbody>\n",
       "</table>\n",
       "</div>"
      ],
      "text/plain": [
       "                                     title            artist  \\\n",
       "24                               I Like It  Enrique Iglesias   \n",
       "283  Hands on the Wheel (feat. Asap Rocky)       ScHoolboy Q   \n",
       "385     Look Right Through - MK Vocal Edit       Storm Queen   \n",
       "562                   Flex (Ooh, Ooh, Ooh)   Rich Homie Quan   \n",
       "709                          Man's Not Hot          Big Shaq   \n",
       "982    Bohemian Rhapsody - Remastered 2011             Queen   \n",
       "\n",
       "            top genre  year released       added    bpm  nrgy  dnce    dB  \\\n",
       "24          dance pop         2010.0  2022‑02‑17  129.0  94.0  65.0  -3.0   \n",
       "283      gangster rap         2012.0  2020‑06‑22  128.0  78.0  65.0  -7.0   \n",
       "385  deep disco house         2013.0  2020‑06‑11  120.0  82.0  83.0  -8.0   \n",
       "562       atl hip hop         2015.0  2020‑06‑19   82.0  61.0  73.0  -8.0   \n",
       "709        london rap         2017.0  2021‑01‑28  135.0  88.0  91.0  -4.0   \n",
       "982      classic rock         1975.0  2020‑06‑22  144.0  40.0  39.0 -10.0   \n",
       "\n",
       "     live   val    dur  acous  spch   pop  top year artist type  rank  \\\n",
       "24    7.0  70.0  232.0    2.0   8.0  71.0    2010.0        Solo  25.0   \n",
       "283   7.0  18.0  197.0    2.0  11.0  67.0    2012.0        Solo  84.0   \n",
       "385  28.0  51.0  148.0    0.0   8.0  44.0    2013.0        Solo  86.0   \n",
       "562  19.0  89.0  177.0    4.0   5.0  70.0    2015.0        Solo  63.0   \n",
       "709  11.0  59.0  186.0   11.0  24.0  67.0    2017.0        Solo  10.0   \n",
       "982  24.0  23.0  354.0   29.0   5.0  77.0    2019.0  Band/Group  83.0   \n",
       "\n",
       "           singer  \n",
       "24            NaN  \n",
       "283   Asap Rocky)  \n",
       "385           NaN  \n",
       "562           NaN  \n",
       "709           NaN  \n",
       "982           NaN  "
      ]
     },
     "execution_count": 158,
     "metadata": {},
     "output_type": "execute_result"
    }
   ],
   "source": [
    "result = df[df['artist'].str.lower().str.contains(\"q\")]\n",
    "result.drop_duplicates('artist')"
   ]
  },
  {
   "cell_type": "code",
   "execution_count": 115,
   "id": "3c93129e-9c01-4fdb-9428-75d01e12cd23",
   "metadata": {},
   "outputs": [],
   "source": [
    "# 년도 상관없이 전체데이터에서 1~50위와  51~100위간의 dur 컬럼의 평균값의 차이는?"
   ]
  },
  {
   "cell_type": "code",
   "execution_count": 139,
   "id": "1ef5108f-a136-460c-9423-7f7743a6d733",
   "metadata": {},
   "outputs": [
    {
     "name": "stdout",
     "output_type": "stream",
     "text": [
      "220.854\n",
      "219.958\n",
      "0.896000000000015\n"
     ]
    }
   ],
   "source": [
    "print(df[df['rank'] <= 50]['dur'].mean())\n",
    "cond1 = df['rank'] > 50\n",
    "cond2 = df['rank'] <=100\n",
    "print(df.loc[cond1 & cond2]['dur'].mean())\n",
    "\n",
    "print(df[df['rank'] <= 50]['dur'].mean() - df.loc[cond1 & cond2]['dur'].mean())"
   ]
  },
  {
   "cell_type": "code",
   "execution_count": 150,
   "id": "a459f798-46ca-4313-a646-5ecda346d7d8",
   "metadata": {},
   "outputs": [
    {
     "name": "stdout",
     "output_type": "stream",
     "text": [
      "Counter({'(feat.': 168, 'the': 91, '-': 59, 'you': 58, 'love': 53, 'me': 50, '&': 50, 'i': 47, 'it': 37, 'my': 33, 'edit': 31, 'radio': 29, 'a': 28, 'of': 27, 'to': 27, 'on': 24, 'like': 22, '(with': 22, 'in': 21, 'we': 19, \"don't\": 17, 'all': 16, 'for': 16, 'up': 15, 'remix': 15, 'know': 14, 'bad': 13, 'this': 13, 'be': 12, 'down': 12, 'what': 12, 'do': 11, 'your': 11, 'one': 11, 'out': 11, 'no': 11, 'night': 11, 'good': 11, 'way': 10, 'young': 10, 'heart': 10, 'back': 9, 'and': 9, 'how': 8, 'is': 8, 'not': 8, 'now': 8, 'home': 8, 'from': 8, 'with': 8, 'feel': 8, 'time': 7, \"can't\": 7, 'when': 7, 'girl': 7, 'song': 7, 'nicki': 7, 'that': 7, 'better': 7, 'just': 6, 'man': 6, '2': 6, 'if': 6, 'hey': 6, 'hands': 6, 'never': 6, 'go': 6, 'chris': 6, 'look': 6, 'at': 6, \"i'm\": 6, 'need': 5, 'hot': 5, 'take': 5, 'only': 5, 'own': 5, 'die': 5, 'minaj)': 5, 'show': 5, 'u': 5, 'so': 5, 'away': 5, 'nights': 5, \"it's\": 5, 'sun': 5, 'kendrick': 5, 'talk': 5, 'summer': 5, 'lil': 5, 'money': 5, 'sorry': 5, 'ty': 5, 'dolla': 5, 'travis': 5, 'kiss': 4, 'bruno': 4, 'mars)': 4, 'are': 4, 'over': 4, 'say': 4, 'right': 4, 'boy': 4, 'house': 4, 'tinie': 4, 'stars': 4, 'thing': 4, 'get': 4, 'wanna': 4, 'life': 4, 'about': 4, 'dance': 4, 'more': 4, 'black': 4, 'day': 4, 'call': 4, 'dark': 4, 'somebody': 4, 'were': 4, 'work': 4, 'lamar)': 4, 'cool': 4, 'body': 4, 'high': 4, 'same': 4, 'perfect': 4, 'post': 4, 'stay': 4, 'mind': 4, 'na': 4, 'town': 4, 'myself': 4, 'old': 4, 'chance': 4, 'let': 4, 'middle': 4, '$ign)': 4, 'feat.': 4, 'scott)': 4, 'katy': 3, 'first': 3, 'williams': 3, 'magic': 3, 'talking': 3, 'kid': 3, 'rick': 3, 'ross)': 3, 'stereo': 3, 'off': 3, 'blah': 3, \"we're\": 3, 'low': 3, 'than': 3, 'hard': 3, 'king': 3, \"ain't\": 3, 'vs.': 3, 'break': 3, 'mine': 3, 'justin': 3, 'ever': 3, 'again': 3, 'got': 3, 'us': 3, 'fire': 3, 'rain': 3, 'hell': 3, 'best': 3, 'world': 3, 'brown)': 3, 'beautiful': 3, 'make': 3, 'paradise': 3, 'where': 3, 'girls': 3, 'rihanna)': 3, 'coming': 3, 'team': 3, 'tonight': 3, 'shake': 3, 'road': 3, 'lights': 3, 'last': 3, 'r': 3, 'tempah)': 3, '7': 3, 'party': 3, 'city': 3, 'beat': 3, 'yellow': 3, 'too': 3, 'close': 3, 'will': 3, 'want': 3, 'turn': 3, 'china': 3, 'lost': 3, 'dirty': 3, 'walk': 3, 'style': 3, 'have': 3, 'by': 3, 'did': 3, 'or': 3, 'nothing': 3, 'pharrell': 3, 'hold': 3, 'side': 3, 'stop': 3, 'la': 3, 'into': 3, 'brown': 3, 'can': 3, 'here': 3, 'shades': 3, 'light': 3, 'j.': 3, 'friends': 3, 'juicy': 3, 'ocean': 3, 'weeknd)': 3, 'him': 3, 'big': 3, 'halsey)': 3, 'gucci': 3, 'khalid)': 3, 'drake)': 3, 'perry)': 2, 'ke$ha)': 2, 'hayley': 2, 'rivers': 2, 'forget': 2, 'snoop': 2, 'edit)': 2, 'lie': 2, 'malibu': 2, 'head': 2, 'baby': 2, 'live': 2, 'single': 2, 'she': 2, 'rude': 2, \"what's\": 2, 'name?': 2, 'dancing': 2, 'ibiza': 2, 'dynamite': 2, 'was': 2, '(avicii': 2, 'vocal': 2, '(featuring': 2, 'roscoe': 2, 'dash': 2, 'wale)': 2, 'deep': 2, 'top': 2, 'bounce': 2, 'wayne': 2, 'people': 2, 'hearts': 2, 'minaj': 2, 'flo': 2, 'rida)': 2, 'you)': 2, 'changed': 2, 'anthem': 2, 'friday': 2, 'motivation': 2, 'pretty': 2, 'rock': 2, 'who': 2, 'blow': 2, 'born': 2, 'foot': 2, 'sexy': 2, 'sure': 2, 'together': 2, 'bass': 2, 'kicks)': 2, 'everything': 2, 'found': 2, 'trumpets': 2, 'loca': 2, 'save': 2, 'came': 2, 'roll': 2, 'has': 2, 'years': 2, 'original': 2, 'locked': 2, 'heaven': 2, \"let's\": 2, 'latch': 2, 'version': 2, 'feeling': 2, 'charli': 2, 'xcx)': 2, 'paris': 2, 'boyfriend': 2, 'ride': 2, 'guy': 2, 'talks': 2, 'alarm': 2, 'while': 2, 'gone,': 2, 'gone': 2, 'john': 2, 'newman)': 2, 'wild': 2, 'free': 2, 'child': 2, 'knew': 2, 'trouble.': 2, 'ho': 2, 'drive': 2, 'attack': 2, 'faded': 2, 'play': 2, \"you're\": 2, 'could': 2, 'ready': 2, 'bitch': 2, 'sweet': 2, 'ellie': 2, 'goulding)': 2, 'thinking': 2, 'sound': 2, 'yourself': 2, 'white': 2, 'going': 2, 'cry': 2, 'trip': 2, 'chainz)': 2, 'jay-z)': 2, 'hopes': 2, 'cedric': 2, 'animals': 2, 'wait': 2, 'little': 2, 'another': 2, 'still': 2, 'fun': 2, 'waiting': 2, 'through': 2, 'shout': 2, 'fox': 2, 'harder': 2, 'blame': 2, 'control': 2, 'new': 2, 'jess': 2, 'glynne)': 2, 'sky': 2, 'martin)': 2, 'bang': 2, 'jealous': 2, 'robin': 2, 'schulz': 2, 'sugar': 2, 'classic': 2, 'am': 2, 'jhene': 2, 'aiko)': 2, 'changes': 2, 'hurt': 2, 'happy': 2, 'broken': 2, 'geronimo': 2, 'blood': 2, '\"fifty': 2, 'grey\"': 2, 'stole': 2, 'left': 2, 'closer': 2, 'lot': 2, \"that's\": 2, 'bebe': 2, 'rexha)': 2, 'lover': 2, 'type': 2, 'chill': 2, 'bill': 2, 'davi$': 2, 'spooks)': 2, 'ed': 2, 'sheeran)': 2, 'g-eazy)': 2, 'easy': 2, 'tinashe': 2, 'rapper)': 2, 'dreams': 2, 'grey)': 2, 'slow': 2, 'motion': 2, 'j)': 2, 'renegades': 2, 'unsteady': 2, 'woman': 2, 'hurts': 2, 'tears': 2, 'zara': 2, 'larsson)': 2, 'sit': 2, 'u,': 2, 'someone': 2, 'strangers': 2, '(from': 2, 'sucker': 2, 'x': 2, 'cold': 2, 'water': 2, 'alone': 2, 'name': 2, 'history': 2, 'nice': 2, 'greatest': 2, 'sean': 2, 'vibe': 2, 'bank': 2, 'bored': 2, 'slide': 2, 'migos)': 2, 'thug)': 2, 'bodak': 2, 'rapper': 2, 'next': 2, 'love.': 2, 'zacari.': 2, 'location': 2, 'malone': 2, 'sza)': 2, 'mane)': 2, 'fall': 2, 'goodbyes': 2, 'leave': 2, 'lovely': 2, 'cardi': 2, 'sicko': 2, 'mode': 2, 'offset)': 2, 'london': 2, 'as': 2, 'starstrukk': 1, 'dollar': 1, 'airplanes': 1, 'paramore)': 1, \"nothin'\": 1, 'cuomo)': 1, '(dirty': 1, 'bit)': 1, 'imma': 1, 'moon': 1, 'teach': 1, 'dougie': 1, 'deuces': 1, 'tyga': 1, 'kevin': 1, 'mccall)': 1, 'memories': 1, 'cudi)': 1, \"gettin'\": 1, 'fergie': 1, 'lmfao)': 1, 'win': 1, 't-pain,': 1, 'ludacris,': 1, 'dogg': 1, 'find': 1, 'barbra': 1, 'streisand': 1, '(radio': 1, 'pack': 1, 'starry': 1, 'eyed': 1, 'afraid': 1, 'kickstarts': 1, 'g6': 1, 'club': 1, 'handle': 1, 'david': 1, 'guetta)': 1, 'breeze': 1, 'replay': 1, 'whatcha': 1, \"ridin'\": 1, 'solo': 1, 'remember': 1, 'forever': 1, 'heartbreak': 1, 'warfare': 1, 'half': 1, 'california': 1, 'gurls': 1, 'teenage': 1, 'dream': 1, 'commander': 1, 'tik': 1, 'tok': 1, 'drug': 1, '3oh!3)': 1, \"wavin'\": 1, 'flag': 1, 'dying': 1, 'romance': 1, 'telephone': 1, 'alejandro': 1, 'above': 1, 'chick': 1, 'misery': 1, 'collide': 1, 'cooler': 1, 'mix': 1, 'tamed': 1, 'animal': 1, 'fireflies': 1, 'said': 1, '(in': 1, 'world)': 1, 'anything': 1, 'eenie': 1, 'meenie': 1, 'riverside': 1, 'alors': 1, 'danse': 1, 'stuck': 1, 'glue': 1, 'miami': 1, 'swedish': 1, 'mafia': 1, 'tempah': 1, 'flood': 1, 'december': 1, 'today': 1, 'fairytale': 1, 'seek': 1, 'bromance': 1, 'carry': 1, 'timberlake)': 1, 'meet': 1, 'pass': 1, 'written': 1, 'eric': 1, 'turner)': 1, 'hey,': 1, 'soul': 1, 'sister': 1, 'billionaire': 1, 'bottoms': 1, 'aah': 1, 'fabolous)': 1, 'dj': 1, \"fallin'\": 1, 'pitbull)': 1, 'omg': 1, 'will.i.am)': 1, 'daddy': 1, \"(daddy's\": 1, 'home)': 1, 'speak': 1, 'americano': 1, '(edit)': 1, 'bedrock': 1, 'rolling': 1, 'set': 1, 'mr.': 1, 'saxobeat': 1, 'lighters': 1, 'had': 1, 'skinny': 1, 'can’t': 1, 'enough': 1, 'honey': 1, 'bee': 1, 'holocene': 1, 'till': 1, 'ends': 1, 'grenade': 1, 'marry': 1, 'lazy': 1, 'kelis)': 1, 'blind': 1, 'faith': 1, 'champion': 1, \"lil'\": 1, 'busta': 1, 'rhymes)': 1, 'yeah': 1, '3x': 1, 'jar': 1, 'feel...': 1, 'sabi)': 1, 'every': 1, 'teardrop': 1, 'waterfall': 1, 'them': 1, \"who's\": 1, 'chick?': 1, 'louder': 1, 'doctor': 1, 'headlines': 1, 'lego': 1, \"(i'm\": 1, \"fuckin'\": 1, 'springsteen': 1, 'rocketeer': 1, 'pumped': 1, 'kicks': 1, 'tongue': 1, 'tied': 1, 'adam': 1, 'levine)': 1, 'dirt': 1, 'floor': 1, 'dude': 1, '(t.g.i.f.)': 1, 'firework': 1, 'e.t.': 1, 'earthquake': 1, 'edge': 1, 'glory': 1, '6': 1, 'goes': 1, 'follow': 1, 'magician': 1, 'midnight': 1, 'donald': 1, 'trump': 1, 'buzzin': 1, 'moves': 1, 'jagger': 1, 'studio': 1, 'recording': 1, '\"the': 1, 'voice\"': 1, 'performance': 1, 'stand': 1, 'super': 1, 'l.i.f.e.g.o.e.s.o.n.': 1, 'skips': 1, 'rizzle': 1, 'raise': 1, 'glass': 1, 'give': 1, 'ne-yo,': 1, 'afrojack': 1, 'nayer)': 1, '(drop': 1, 'floor)': 1, 't-pain)': 1, 'read': 1, 'adventures': 1, 'maggie': 1, 's&m': 1, 'says': 1, 'sweat': 1, 'higher': 1, 'glad': 1, 'redone': 1, 'jimmy': 1, 'joker': 1, 'skyfall': 1, 'rumour': 1, 'breezeblocks': 1, 'mine?': 1, '/': 1, 'reckoning': 1, '(wankelmut': 1, 'remix)': 1, 'levels': 1, 'silhouettes': 1, '212': 1, 'ne-yo)': 1, \"we'll\": 1, 'example)': 1, 'maybe': 1, 'blown': 1, 'music': 1, 'princess': 1, 'care': 1, 'motto': 1, 'spectrum': 1, '(say': 1, 'name)': 1, 'calvin': 1, 'harris': 1, 'thinkin': 1, 'bout': 1, 'janelle': 1, 'monáe)': 1, 'some': 1, 'used': 1, 'oblivion': 1, 'ass': 1, 'neon': 1, 'hitch)': 1, 'ni**as': 1, 'mercy': 1, 'brokenhearted': 1, 'part': 1, 'swimming': 1, 'pools': 1, '(drank)': 1, 'extended': 1, 'm.a.a.d': 1, \"c'mon\": 1, 'video': 1, 'games': 1, 'burn': 1, 'battle': 1, 'scars': 1, 'sebastian)': 1, 'primadonna': 1, 'heartbreaker': 1, 'payphone': 1, 'adorn': 1, 'madness': 1, 'everybody': 1, 'starships': 1, 'pound': 1, 'paws': 1, 'troublemaker': 1, 'makes': 1, 'million': 1, 'voices': 1, '(one': 1, 'kiss)': 1, 'gangnam': 1, '(강남스타일)': 1, 'been': 1, 'r.i.p.': 1, 'mama': 1, 'hump': 1, 'candy': 1, 'wheel': 1, 'asap': 1, 'rocky)': 1, 'bangarang': 1, 'sirah)': 1, 'young,': 1, 'worry': 1, 'getting': 1, 'chasing': 1, 'angels': 1, '50': 1, 'ways': 1, 'goodbye': 1, 'rack': 1, 'climax': 1, 'anna': 1, 'hard,': 1, '(fast': 1, 'furious)': 1, \"f**kin'\": 1, 'problems': 1, 'drake,': 1, 'chainz': 1, \"why'd\": 1, 'high?': 1, 'know?': 1, 'wake': 1, 'nicky': 1, 'romero)': 1, \"here's\": 1, 'growing': 1, 'sail': 1, 'harlem': 1, 'pompeii': 1, '(rattle)': 1, 'treasure': 1, 'florence': 1, 'welch)': 1, 'ayah': 1, 'marar)': 1, 'drinking': 1, 'bottle': 1, 'safe': 1, '3005': 1, 'fine': 1, 'mother': 1, 'share': 1, 'lucky': 1, 'nile': 1, 'rodgers)': 1, 'lose': 1, 'williams)': 1, 'ne-yo': 1, 'akon)': 1, 'noise': 1, 'on,': 1, 'started': 1, 'bottom': 1, '(100%)': 1, 'a*m*e)': 1, 'monster': 1, 'berzerk': 1, 'songs': 1, '(light': 1, 'em': 1, 'up)': 1, 'cruise': 1, 'demons': 1, 'radioactive': 1, 'power': 1, 'miguel)': 1, 'other': 1, 'holy': 1, 'grail': 1, 'beauty': 1, 'mirrors': 1, 'suit': 1, 'tie': 1, 'skinhead': 1, 'sonnentanz': 1, 'shine': 1, 'summertime': 1, 'sadness': 1, '(lana': 1, 'del': 1, 'rey': 1, 'gervais)': 1, 'gervais': 1, 'somewhere': 1, 'royals': 1, 'ray': 1, 'dalton)': 1, 'thrift': 1, 'shop': 1, 'wanz)': 1, 'mary': 1, 'lambert)': 1, 'daylight': 1, 'porsche': 1, '(teenage': 1, 'true': 1, 'lily': 1, 'allen)': 1, 'moment': 1, 'christina': 1, 'aguilera)': 1, 'tjr)': 1, 'blurred': 1, 'lines': 1, 'ella': 1, 'eyre)': 1, 'reload': 1, 'come': 1, 'mk': 1, 'papaoutai': 1, '22': 1, 'chocolate': 1, 'sweater': 1, 'weather': 1, 'scream': 1, '#thatpower': 1, '(what': 1, 'does': 1, 'say?)': 1, 'clarity': 1, 'looks': 1, 'amnesia': 1, 'heroes': 1, '(we': 1, 'be)': 1, 'problem': 1, 'brother': 1, 'shower': 1, 'drunk': 1, 'n*gga': 1, 'under': 1, 'hurts)': 1, 'boom': 1, 'clap': 1, 'loyal': 1, 'tyga)': 1, 'flame': 1, 'usher': 1, 'rather': 1, 'full': 1, 'vassy)': 1, 'lovers': 1, 'sam': 1, 'kids': 1, 'sing': 1, 'ugly': 1, 'budapest': 1, 'fancy': 1, 'widow': 1, 'wiggle': 1, 'dogg)': 1, 'tell': 1, \"'em\": 1, 'horse': 1, 'hideaway': 1, 'jubel': 1, 'prayer': 1, 'c': 1, 'maps': 1, 'stolen': 1, 'waves': 1, 'anaconda': 1, 'wrong': 1, 'coco': 1, 'gecko': 1, '(overdrive)': 1, 'wrapped': 1, 'steal': 1, 'counting': 1, 'runs': 1, 'nicole': 1, 'millar)': 1, '\"despicable': 1, '2\"': 1, 'timber': 1, 'collard': 1, 'greens': 1, 'year': 1, 'chandelier': 1, 'elastic': 1, 'nobody': 1, '#selfie': 1, 'superheroes': 1, 'wasted': 1, 'red': 1, 'schoolboy': 1, 'q)': 1, 'habits': 1, '(stay': 1, 'high)': 1, 'riptide': 1, 'featuring': 1, 'paramore': 1, 'ghost': 1, 'honey,': 1, 'good.': 1, '7/11': 1, 'fuck': 1, 'electric': 1, 'outside': 1, 'ayo': 1, 'confident': 1, 'five': 1, 'hours': 1, 'omen': 1, 'hotline': 1, 'bling': 1, 'jumpman': 1, 'loud': 1, 'centuries': 1, '679': 1, 'remy': 1, 'boyz)': 1, 'trap': 1, 'queen': 1, 'monty)': 1, 'gdfr': 1, 'sage': 1, 'gemini': 1, 'lookas)': 1, 'mountain': 1, 'gates': 1, 'runaway': 1, '(u': 1, 'i)': 1, 'barcelona': 1, 'church': 1, 'ü': 1, 'bieber)': 1, 'oui': 1, 'roman': 1, 'gianarthur)': 1, 'mean?': 1, 'kunta': 1, 'heard)': 1, 'beach': 1, 'learn': 1, 'lean': 1, 'uptown': 1, 'funk': 1, 'intoxicated': 1, 'eyes': 1, 'believe': 1, 'ink': 1, 'drag': 1, 'sunset': 1, 'wish': 1, 'our': 1, 'lives': 1, 'flex': 1, '(ooh,': 1, 'ooh,': 1, 'ooh)': 1, 'fourfiveseconds': 1, 'francesco': 1, 'yates)': 1, 'lay': 1, 'less': 1, 'blank': 1, 'space': 1, 'wildest': 1, 'spirits': 1, 'hills': 1, 'face': 1, 'earned': 1, '(fifty': 1, 'soundtrack': 1, 'antidote': 1, 'youth': 1, 'stressed': 1, 'shut': 1, 'see': 1, 'charlie': 1, 'puth)': 1, 'send': 1, '(to': 1, 'lover)': 1, 'hello': 1, 'dangerous': 1, 'grief': 1, 'exchange': 1, 'anymore': 1, 'selena': 1, 'gomez)': 1, 'dangerously': 1, 'sex': 1, 'sleep': 1, 'louisa': 1, 'johnson)': 1, 'hymn': 1, 'weekend': 1, 'adventure': 1, 'lifetime': 1, \"one's\": 1, '(official': 1, 'uefa': 1, 'euro': 1, '2016)': 1, 'still,': 1, 'hide': 1, 'cake': 1, 'hotter': 1, 'duele': 1, 'el': 1, 'corazon': 1, 'wisin)': 1, '(flex)': 1, 'fetty': 1, 'wap)': 1, 'tove': 1, 'lo)': 1, 'pink': 1, '+': 1, 'hate': 1, 'olivia': 1, \"o'brien)\": 1, 'me,': 1, 'starving': 1, 'fast': 1, 'car': 1, 'feeling!': 1, 'dreamworks': 1, \"animation's\": 1, '\"trolls\")': 1, 'gold': 1, 'maty': 1, 'noyes)': 1, 'pain': 1, 'wiz': 1, 'khalifa,': 1, 'imagine': 1, 'dragons,': 1, 'logic': 1, '$ign': 1, 'ambassadors)': 1, 'ex': 1, 'alaska': 1, 'shy': 1, 'took': 1, 'pill': 1, 'seeb': 1, 'final': 1, 'wherever': 1, 'picture': 1, '\"alice': 1, 'looking': 1, 'glass\")': 1, 'needed': 1, 'treat': 1, 'cheap': 1, 'thrills': 1, 'paul)': 1, \"lovin'\": 1, 'else': 1, 'roses': 1, 'ophelia': 1, 'starboy': 1, 'once': 1, 'pillowtalk': 1, 'account': 1, 'drowning': 1, 'kodak': 1, 'black)': 1, 'plain': 1, 'jane': 1, 'weak': 1, 'caroline': 1, 'rolex': 1, \"man's\": 1, 're': 1, 'mi': 1, '24k': 1, 'feels': 1, 'williams,': 1, 'perry': 1, 'sean)': 1, 'frank': 1, 'havana': 1, 'promises': 1, 'demi': 1, 'lovato)': 1, 'redbone': 1, 'rockabye': 1, 'paul': 1, 'anne-marie)': 1, 'bieber,': 1, 'quavo,': 1, 'wayne)': 1, 'thoughts': 1, 'rihanna': 1, 'bryson': 1, 'tiller)': 1, 'passionfruit': 1, 'fake': 1, 'shape': 1, 'unforgettable': 1, 'mask': 1, 'limit': 1, 'most': 1, 'numb': 1, 'believer': 1, 'thunder': 1, 'whatever': 1, 'takes': 1, 'humble.': 1, 'dna.': 1, 'element.': 1, 'dumb': 1, 'broke': 1, 'tunnel': 1, 'vision': 1, 'ispy': 1, 'yachty)': 1, 'lust': 1, 'strip': 1, 'quavo)': 1, 'shit': 1, 'gang': 1, 'xo': 1, 'tour': 1, 'llif3': 1, 'touch': 1, 'ink)': 1, '1-800-273-8255': 1, 'liability': 1, 'green': 1, 'homemade': 1, 'khalid,': 1, 'despacito': 1, 'things': 1, 'camila': 1, 'cabello)': 1, 'glorious': 1, 'skylar': 1, 'future)': 1, 'age': 1, 'boujee': 1, 'uzi': 1, 'vert)': 1, 'slippery': 1, 't-shirt': 1, 'walker': 1, 'magnolia': 1, 'chameleon': 1, 'congratulations': 1, 'apart': 1, 'swang': 1, 'beatles': 1, 'losin': 1, 'fetish': 1, 'broccoli': 1, 'galore': 1, 'made': 1, '...ready': 1, 'it?': 1, 'something': 1, 'goosebumps': 1, 'butterfly': 1, 'effect': 1, 'jocelyn': 1, 'flores': 1, 'rake': 1, 'would': 1, 'juju': 1, '(tz': 1, 'anthem)': 1, 'youngblood': 1, 'fefe': 1, 'gummo': 1, 'god': 1, 'jumanji': 1, 'answerphone': 1, 'yxng': 1, 'bane)': 1, 'eastside': 1, 'halsey': 1, 'alive': 1, 'finesse': 1, 'remix;': 1, 'b': 1, 'dua': 1, 'lipa)': 1, 'careful': 1, 'miss': 1, 'major': 1, 'lazer': 1, 'tory': 1, 'lanez)': 1, 'long': 1, 'done': 1, 'kehlani)': 1, 'america': 1, 'tequila': 1, 'nevermind': 1, 'brainer': 1, \"god's\": 1, 'plan': 1, 'nonstop': 1, 'feelings': 1, 'upset': 1, 'idgaf': 1, \"boo'd\": 1, 'river': 1, 'german': 1, 'simple': 1, 'shotgun': 1, 'fell': 1, 'october': 1, 'alesso,': 1, 'florida': 1, 'georgia': 1, 'line': 1, 'watt)': 1, 'natural': 1, \"king's\": 1, 'dead': 1, 'lamar,': 1, 'future': 1, 'james': 1, 'blake)': 1, 'rise': 1, 'lucid': 1, 'lies': 1, 'normani)': 1, '1950': 1, 'yes': 1, 'indeed': 1, 'freaky': 1, 'everyday': 1, 'machine': 1, 'gun': 1, 'kelly,': 1, 'ambassadors': 1, 'corazón': 1, 'nego': 1, 'borel)': 1, 'happier': 1, 'silence': 1, 'spotlight': 1, 'motorsport': 1, 'stir': 1, 'fry': 1, '17': 1, 'te': 1, 'boté': 1, 'ric': 1, 'flair': 1, 'drip': 1, 'metro': 1, 'boomin)': 1, 'vaina': 1, 'déjala': 1, 'que': 1, 'vuelva': 1, 'manuel': 1, 'turizo)': 1, 'rockstar': 1, '21': 1, 'savage)': 1, 'psycho': 1, 'powerglide': 1, 'sr3mm': 1, 'plug': 1, 'mo': 1, 'bamba': 1, 'delicate': 1, 'living': 1, '(if': 1, 'sick': 1, 'pray': 1, 'jackie': 1, 'chan': 1, 'taste': 1, 'saturday': 1, 'sad!': 1, 'moonlight': 1, 'chainz,': 1, 'sean,': 1, 'easier': 1, 'swervin': 1, '6ix9ine)': 1, 'ladbroke': 1, 'grove': 1, 'secreto': 1, 'rings': 1, 'thank': 1, 'girlfriend,': 1, 'social': 1, 'house)': 1, 'callaita': 1, 'mia': 1, \"party's\": 1, 'bury': 1, 'friend': 1, 'kill': 1, 'git': 1, 'thotiana': 1, 'luv': 1, 'please': 1, 'suge': 1, 'burna': 1, 'boy)': 1, '3': 1, 'grave': 1, '(drake': 1, 'ft.': 1, 'start': 1, 'stormzy)': 1, 'cross': 1, 'pnb': 1, 'rock)': 1, 'antisocial': 1, 'without': 1, 'emotions': 1, 'human': 1, 'robbery': 1, 'disclosure)': 1, 'zeze': 1, 'scott': 1, 'shallow': 1, \"doin'\": 1, 'tired...': 1, 'loved': 1, 'grace': 1, 'panini': 1, 'ransom': 1, 'truth': 1, 'soltera': 1, 'breaks': 1, 'miley': 1, 'cyrus)': 1, 'piece': 1, 'pure': 1, 'shotta': 1, 'flow': 1, 'blueface)': 1, '[remix]': 1, 'options': 1, 'clout': 1, 'b)': 1, 'adan': 1, 'y': 1, 'eva': 1, 'pop': 1, 'tjay)': 1, 'circles': 1, 'sunflower': 1, 'spider-man:': 1, 'spider-verse': 1, 'wow.': 1, 'bohemian': 1, 'rhapsody': 1, 'remastered': 1, '2011': 1, 'keisha': 1, 'becky': 1, 'rani)': 1, 'otro': 1, 'trago': 1, 'señorita': 1, 'don’t': 1, 'crying': 1, 'vossi': 1, 'bop': 1, 'cruel': 1, 'calm': 1, 'earfquake': 1, 'boasty': 1, 'idris': 1, 'elba)': 1, 'strike': 1, 'pose': 1, 'aitch)': 1, 'cole': 1})\n"
     ]
    }
   ],
   "source": [
    "# title을 띄어쓰기 단어로 구분 했을때 가장 많이 나온 단어는 무엇인가? (대소문자 구분 x)\n",
    "from collections import Counter\n",
    "\n",
    "all_words = df['title'].str.lower().str.split().sum()\n",
    "word_counter = Counter(all_words)\n",
    "print(word_counter)"
   ]
  },
  {
   "cell_type": "code",
   "execution_count": 151,
   "id": "7217982c-b094-4ea4-8f38-44ec90d30fec",
   "metadata": {},
   "outputs": [],
   "source": [
    "# 년도별 nrgy값의 평균값을 구할때 최대 평균값과 최소 평균값의 차이를 구하여라"
   ]
  },
  {
   "cell_type": "code",
   "execution_count": 154,
   "id": "5f1fbb2a-5629-4c91-b674-bf7df00f5a68",
   "metadata": {},
   "outputs": [
    {
     "data": {
      "text/plain": [
       "13.860000000000007"
      ]
     },
     "execution_count": 154,
     "metadata": {},
     "output_type": "execute_result"
    }
   ],
   "source": [
    "df.groupby('top year')['nrgy'].mean()\n",
    "\n",
    "76.65 - 62.79"
   ]
  },
  {
   "cell_type": "code",
   "execution_count": 155,
   "id": "313c9d12-9778-4c41-b9ed-098267222283",
   "metadata": {},
   "outputs": [],
   "source": [
    "# artist중 artist type 타입을 여러개 가지고 있는 artist는 누구인가"
   ]
  },
  {
   "cell_type": "code",
   "execution_count": 188,
   "id": "0a8fc3a7-5e0e-4060-8e07-c0eee3217f0d",
   "metadata": {},
   "outputs": [
    {
     "data": {
      "text/plain": [
       "artist\n",
       "Rudimental       2\n",
       "Calvin Harris    1\n",
       "Ariana Grande    1\n",
       "Rihanna          1\n",
       "Bruno Mars       1\n",
       "                ..\n",
       "Marshmello       1\n",
       "Lana Del Rey     1\n",
       "Trey Songz       1\n",
       "Cardi B          1\n",
       "Drake            1\n",
       "Name: count, Length: 444, dtype: int64"
      ]
     },
     "execution_count": 188,
     "metadata": {},
     "output_type": "execute_result"
    }
   ],
   "source": [
    "df[['artist','artist type']].value_counts().reset_index().artist.value_counts()"
   ]
  },
  {
   "cell_type": "code",
   "execution_count": 220,
   "id": "c11ee54f-e8c5-4ab0-8856-598dab5a3389",
   "metadata": {},
   "outputs": [
    {
     "name": "stdout",
     "output_type": "stream",
     "text": [
      "0.9924731182795699\n",
      "      pred\n",
      "0        1\n",
      "1        1\n",
      "2        1\n",
      "3        1\n",
      "4        0\n",
      "...    ...\n",
      "1158     0\n",
      "1159     0\n",
      "1160     1\n",
      "1161     1\n",
      "1162     0\n",
      "\n",
      "[1163 rows x 1 columns]\n"
     ]
    }
   ],
   "source": [
    "import pandas as pd\n",
    "#데이터 로드\n",
    "x_train = pd.read_csv(\"https://raw.githubusercontent.com/Datamanim/datarepo/main/muscle/x_train.csv\")\n",
    "y_train = pd.read_csv(\"https://raw.githubusercontent.com/Datamanim/datarepo/main/muscle/y_train.csv\")\n",
    "x_test= pd.read_csv(\"https://raw.githubusercontent.com/Datamanim/datarepo/main/muscle/x_test.csv\")\n",
    "\n",
    "\n",
    "# display(x_train.head())\n",
    "# display(y_train.head())\n",
    "\n",
    "X_train = x_train.drop([\"ID\"],axis=1)\n",
    "X_test = x_test.drop([\"ID\"],axis = 1)\n",
    "Y_train = y_train[\"pose\"]\n",
    "\n",
    "# X_train.isnull().sum()\n",
    "# X_test.isnull().sum()\n",
    "\n",
    "X_train = pd.get_dummies(X_train)\n",
    "X_test = pd.get_dummies(X_test)\n",
    "\n",
    "X_test = X_test.reindex(columns = X_train.columns, fill_value= 0)\n",
    "\n",
    "from sklearn.model_selection import train_test_split\n",
    "X_train, X_val, Y_train, Y_val = train_test_split(X_train, Y_train, test_size= 0.2)\n",
    "\n",
    "\n",
    "from sklearn.ensemble import RandomForestClassifier\n",
    "\n",
    "model = RandomForestClassifier()\n",
    "model.fit(X_train, Y_train)\n",
    "y_pre_val = model.predict(X_val)\n",
    "\n",
    "from sklearn.metrics import roc_auc_score , accuracy_score\n",
    "\n",
    "roc_auc = accuracy_score(Y_val, y_pre_val)\n",
    "print(roc_auc)\n",
    "\n",
    "\n",
    "y_pred = model.predict(X_test)\n",
    "result = pd.DataFrame(y_pred, columns = [\"pred\"])\n",
    "result.to_csv(\"result.csv\", index = False)\n",
    "\n",
    "\n",
    "result = pd.read_csv(\"result.csv\")\n",
    "print(result)"
   ]
  },
  {
   "cell_type": "code",
   "execution_count": null,
   "id": "00264b85-e769-45d2-884b-b870e90c9813",
   "metadata": {},
   "outputs": [],
   "source": []
  }
 ],
 "metadata": {
  "kernelspec": {
   "display_name": "Python 3 (ipykernel)",
   "language": "python",
   "name": "python3"
  },
  "language_info": {
   "codemirror_mode": {
    "name": "ipython",
    "version": 3
   },
   "file_extension": ".py",
   "mimetype": "text/x-python",
   "name": "python",
   "nbconvert_exporter": "python",
   "pygments_lexer": "ipython3",
   "version": "3.13.3"
  }
 },
 "nbformat": 4,
 "nbformat_minor": 5
}
