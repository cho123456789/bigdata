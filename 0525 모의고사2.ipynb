{
 "cells": [
  {
   "cell_type": "code",
   "execution_count": 97,
   "id": "e638c1c0-40b4-4db0-855d-6bcb7717d20a",
   "metadata": {},
   "outputs": [],
   "source": [
    "import pandas as pd\n",
    "df = pd.read_csv('https://raw.githubusercontent.com/Datamanim/datarepo/main/stroke_/train.csv')"
   ]
  },
  {
   "cell_type": "code",
   "execution_count": 98,
   "id": "0792da8f-610e-48ba-b9a1-1afefd3d62d9",
   "metadata": {},
   "outputs": [
    {
     "data": {
      "text/html": [
       "<div>\n",
       "<style scoped>\n",
       "    .dataframe tbody tr th:only-of-type {\n",
       "        vertical-align: middle;\n",
       "    }\n",
       "\n",
       "    .dataframe tbody tr th {\n",
       "        vertical-align: top;\n",
       "    }\n",
       "\n",
       "    .dataframe thead th {\n",
       "        text-align: right;\n",
       "    }\n",
       "</style>\n",
       "<table border=\"1\" class=\"dataframe\">\n",
       "  <thead>\n",
       "    <tr style=\"text-align: right;\">\n",
       "      <th></th>\n",
       "      <th>id</th>\n",
       "      <th>gender</th>\n",
       "      <th>age</th>\n",
       "      <th>hypertension</th>\n",
       "      <th>heart_disease</th>\n",
       "      <th>ever_married</th>\n",
       "      <th>work_type</th>\n",
       "      <th>Residence_type</th>\n",
       "      <th>avg_glucose_level</th>\n",
       "      <th>bmi</th>\n",
       "      <th>smoking_status</th>\n",
       "      <th>stroke</th>\n",
       "    </tr>\n",
       "  </thead>\n",
       "  <tbody>\n",
       "    <tr>\n",
       "      <th>0</th>\n",
       "      <td>1192</td>\n",
       "      <td>Female</td>\n",
       "      <td>31</td>\n",
       "      <td>0</td>\n",
       "      <td>0</td>\n",
       "      <td>No</td>\n",
       "      <td>Govt_job</td>\n",
       "      <td>Rural</td>\n",
       "      <td>70.66</td>\n",
       "      <td>27.2</td>\n",
       "      <td>never smoked</td>\n",
       "      <td>0</td>\n",
       "    </tr>\n",
       "    <tr>\n",
       "      <th>1</th>\n",
       "      <td>77</td>\n",
       "      <td>Female</td>\n",
       "      <td>13</td>\n",
       "      <td>0</td>\n",
       "      <td>0</td>\n",
       "      <td>No</td>\n",
       "      <td>children</td>\n",
       "      <td>Rural</td>\n",
       "      <td>85.81</td>\n",
       "      <td>18.6</td>\n",
       "      <td>Unknown</td>\n",
       "      <td>0</td>\n",
       "    </tr>\n",
       "    <tr>\n",
       "      <th>2</th>\n",
       "      <td>59200</td>\n",
       "      <td>Male</td>\n",
       "      <td>18</td>\n",
       "      <td>0</td>\n",
       "      <td>0</td>\n",
       "      <td>No</td>\n",
       "      <td>Private</td>\n",
       "      <td>Urban</td>\n",
       "      <td>60.56</td>\n",
       "      <td>33.0</td>\n",
       "      <td>never smoked</td>\n",
       "      <td>0</td>\n",
       "    </tr>\n",
       "    <tr>\n",
       "      <th>3</th>\n",
       "      <td>24905</td>\n",
       "      <td>Female</td>\n",
       "      <td>65</td>\n",
       "      <td>0</td>\n",
       "      <td>0</td>\n",
       "      <td>Yes</td>\n",
       "      <td>Private</td>\n",
       "      <td>Urban</td>\n",
       "      <td>205.77</td>\n",
       "      <td>46.0</td>\n",
       "      <td>formerly smoked</td>\n",
       "      <td>1</td>\n",
       "    </tr>\n",
       "    <tr>\n",
       "      <th>4</th>\n",
       "      <td>24257</td>\n",
       "      <td>Male</td>\n",
       "      <td>4</td>\n",
       "      <td>0</td>\n",
       "      <td>0</td>\n",
       "      <td>No</td>\n",
       "      <td>children</td>\n",
       "      <td>Rural</td>\n",
       "      <td>90.42</td>\n",
       "      <td>16.2</td>\n",
       "      <td>Unknown</td>\n",
       "      <td>0</td>\n",
       "    </tr>\n",
       "  </tbody>\n",
       "</table>\n",
       "</div>"
      ],
      "text/plain": [
       "      id  gender age  hypertension  heart_disease ever_married work_type  \\\n",
       "0   1192  Female  31             0              0           No  Govt_job   \n",
       "1     77  Female  13             0              0           No  children   \n",
       "2  59200    Male  18             0              0           No   Private   \n",
       "3  24905  Female  65             0              0          Yes   Private   \n",
       "4  24257    Male   4             0              0           No  children   \n",
       "\n",
       "  Residence_type  avg_glucose_level   bmi   smoking_status  stroke  \n",
       "0          Rural              70.66  27.2     never smoked       0  \n",
       "1          Rural              85.81  18.6          Unknown       0  \n",
       "2          Urban              60.56  33.0     never smoked       0  \n",
       "3          Urban             205.77  46.0  formerly smoked       1  \n",
       "4          Rural              90.42  16.2          Unknown       0  "
      ]
     },
     "execution_count": 98,
     "metadata": {},
     "output_type": "execute_result"
    }
   ],
   "source": [
    "df.head()"
   ]
  },
  {
   "cell_type": "code",
   "execution_count": 52,
   "id": "25e50976-6535-45e1-99bd-cf46ccb7c0e8",
   "metadata": {},
   "outputs": [],
   "source": [
    "# 성별이 Male인 환자들의 age의 평균값은 ?"
   ]
  },
  {
   "cell_type": "code",
   "execution_count": 103,
   "id": "d7e449a1-5328-4b0b-8055-e94280969366",
   "metadata": {},
   "outputs": [
    {
     "data": {
      "text/plain": [
       "np.float64(44.68623481781376)"
      ]
     },
     "execution_count": 103,
     "metadata": {},
     "output_type": "execute_result"
    }
   ],
   "source": [
    "import pandas as pd\n",
    "df = pd.read_csv('https://raw.githubusercontent.com/Datamanim/datarepo/main/stroke_/train.csv')\n",
    "df.head()\n",
    "df['age'].value_counts()\n",
    "df['age'] = df['age'].str.replace('*','').astype('int')\n",
    "df[df['gender'] == 'Male']['age'].mean()\n",
    "# 타입 변경 -> astype()  / dtype => data type 데이터 타입 확인"
   ]
  },
  {
   "cell_type": "code",
   "execution_count": 67,
   "id": "49413e73-030e-4860-8918-f92b8999bcd7",
   "metadata": {},
   "outputs": [],
   "source": [
    "#bmi컬럼의 결측치를 bmi컬럼의 결측치를 제외한\n",
    "#나머지 값들의 중앙값으로 채웠을 경우 bmi 컬럼의 평균을 소숫점 이하 3자리 까지 구하여라"
   ]
  },
  {
   "cell_type": "code",
   "execution_count": 84,
   "id": "91079ed9-c660-4968-ae55-34c802352305",
   "metadata": {},
   "outputs": [
    {
     "data": {
      "text/plain": [
       "np.float64(29.166)"
      ]
     },
     "execution_count": 84,
     "metadata": {},
     "output_type": "execute_result"
    }
   ],
   "source": [
    "# df.isnull().sum()\n",
    "median = df['bmi'].median()\n",
    "df['bmi'] = df['bmi'].fillna(median)\n",
    "round(df['bmi'].mean(),3)"
   ]
  },
  {
   "cell_type": "code",
   "execution_count": 85,
   "id": "83183dba-0493-44dc-9d87-cf0ac52dac8e",
   "metadata": {},
   "outputs": [],
   "source": [
    "# bmi컬럼의 각 결측치들을 직전의 행의 bmi값으로 채웠을 경우\n",
    "#bmi 컬럼의 평균을 소숫점 이하 3자리 까지 구하여라"
   ]
  },
  {
   "cell_type": "code",
   "execution_count": 99,
   "id": "7e3d6a5b-d48f-4c1b-bbc9-edc891873fca",
   "metadata": {},
   "outputs": [
    {
     "data": {
      "text/plain": [
       "np.float64(29.188)"
      ]
     },
     "execution_count": 99,
     "metadata": {},
     "output_type": "execute_result"
    }
   ],
   "source": [
    "# df.isnull().sum()\n",
    "df['bmi'] = df['bmi'].ffill()\n",
    "round(df['bmi'].mean(),3)"
   ]
  },
  {
   "cell_type": "code",
   "execution_count": 100,
   "id": "fb0110a2-70cd-4aee-9e52-10396af1d53e",
   "metadata": {},
   "outputs": [],
   "source": [
    "# bmi컬럼의 각 결측치들을 결측치를 가진 환자 나이대(10단위)\n",
    "#의 평균 bmi 값으로 대체한 후 대체된 bmi 컬럼의 평균을 소숫점 이하 3자리 까지 구하여라"
   ]
  },
  {
   "cell_type": "code",
   "execution_count": 117,
   "id": "b80cd4e4-750b-497a-804d-09438983776c",
   "metadata": {},
   "outputs": [
    {
     "data": {
      "text/plain": [
       "0       31.751111\n",
       "1       24.477228\n",
       "2       24.477228\n",
       "3       31.615873\n",
       "4       18.960784\n",
       "          ...    \n",
       "1132    18.960784\n",
       "1133    18.960784\n",
       "1134    28.566667\n",
       "1135    28.566667\n",
       "1136    31.894086\n",
       "Name: bmi, Length: 1137, dtype: float64"
      ]
     },
     "execution_count": 117,
     "metadata": {},
     "output_type": "execute_result"
    }
   ],
   "source": [
    "df['나이대'] = (df['age']//10) * 10\n",
    "groupy_bmi = df.groupby('나이대')['bmi'].transform('mean')\n",
    "groupy_bmi"
   ]
  },
  {
   "cell_type": "code",
   "execution_count": 149,
   "id": "c8ef0878-879c-4739-98dd-9015876ebebc",
   "metadata": {},
   "outputs": [
    {
     "data": {
      "text/plain": [
       "np.float64(125.188)"
      ]
     },
     "execution_count": 149,
     "metadata": {},
     "output_type": "execute_result"
    }
   ],
   "source": [
    "def g(x):\n",
    "    if x >= 200:\n",
    "        return 199 \n",
    "    else :\n",
    "        return x \n",
    "df['avg_result'] = df['avg_glucose_level'].apply(g)\n",
    "round(df[df['stroke'] ==1]['avg_result'].mean(),3)"
   ]
  },
  {
   "cell_type": "code",
   "execution_count": 233,
   "id": "34fb1c0c-9c2b-40bb-8ff5-9b5b4628efe7",
   "metadata": {},
   "outputs": [
    {
     "data": {
      "text/html": [
       "<div>\n",
       "<style scoped>\n",
       "    .dataframe tbody tr th:only-of-type {\n",
       "        vertical-align: middle;\n",
       "    }\n",
       "\n",
       "    .dataframe tbody tr th {\n",
       "        vertical-align: top;\n",
       "    }\n",
       "\n",
       "    .dataframe thead th {\n",
       "        text-align: right;\n",
       "    }\n",
       "</style>\n",
       "<table border=\"1\" class=\"dataframe\">\n",
       "  <thead>\n",
       "    <tr style=\"text-align: right;\">\n",
       "      <th></th>\n",
       "      <th>#</th>\n",
       "      <th>Name</th>\n",
       "      <th>Type 1</th>\n",
       "      <th>Type 2</th>\n",
       "      <th>Total</th>\n",
       "      <th>HP</th>\n",
       "      <th>Attack</th>\n",
       "      <th>Defense</th>\n",
       "      <th>Sp. Atk</th>\n",
       "      <th>Sp. Def</th>\n",
       "      <th>Speed</th>\n",
       "      <th>Generation</th>\n",
       "      <th>Legendary</th>\n",
       "    </tr>\n",
       "  </thead>\n",
       "  <tbody>\n",
       "    <tr>\n",
       "      <th>0</th>\n",
       "      <td>1</td>\n",
       "      <td>Bulbasaur</td>\n",
       "      <td>Grass</td>\n",
       "      <td>Poison</td>\n",
       "      <td>318</td>\n",
       "      <td>45</td>\n",
       "      <td>49</td>\n",
       "      <td>49</td>\n",
       "      <td>65</td>\n",
       "      <td>65</td>\n",
       "      <td>45</td>\n",
       "      <td>1</td>\n",
       "      <td>False</td>\n",
       "    </tr>\n",
       "    <tr>\n",
       "      <th>1</th>\n",
       "      <td>2</td>\n",
       "      <td>Ivysaur</td>\n",
       "      <td>Grass</td>\n",
       "      <td>Poison</td>\n",
       "      <td>405</td>\n",
       "      <td>60</td>\n",
       "      <td>62</td>\n",
       "      <td>63</td>\n",
       "      <td>80</td>\n",
       "      <td>80</td>\n",
       "      <td>60</td>\n",
       "      <td>1</td>\n",
       "      <td>False</td>\n",
       "    </tr>\n",
       "    <tr>\n",
       "      <th>2</th>\n",
       "      <td>3</td>\n",
       "      <td>Venusaur</td>\n",
       "      <td>Grass</td>\n",
       "      <td>Poison</td>\n",
       "      <td>525</td>\n",
       "      <td>80</td>\n",
       "      <td>82</td>\n",
       "      <td>83</td>\n",
       "      <td>100</td>\n",
       "      <td>100</td>\n",
       "      <td>80</td>\n",
       "      <td>1</td>\n",
       "      <td>False</td>\n",
       "    </tr>\n",
       "    <tr>\n",
       "      <th>3</th>\n",
       "      <td>3</td>\n",
       "      <td>VenusaurMega Venusaur</td>\n",
       "      <td>Grass</td>\n",
       "      <td>Poison</td>\n",
       "      <td>625</td>\n",
       "      <td>80</td>\n",
       "      <td>100</td>\n",
       "      <td>123</td>\n",
       "      <td>122</td>\n",
       "      <td>120</td>\n",
       "      <td>80</td>\n",
       "      <td>1</td>\n",
       "      <td>False</td>\n",
       "    </tr>\n",
       "    <tr>\n",
       "      <th>4</th>\n",
       "      <td>4</td>\n",
       "      <td>Charmander</td>\n",
       "      <td>Fire</td>\n",
       "      <td>NaN</td>\n",
       "      <td>309</td>\n",
       "      <td>39</td>\n",
       "      <td>52</td>\n",
       "      <td>43</td>\n",
       "      <td>60</td>\n",
       "      <td>50</td>\n",
       "      <td>65</td>\n",
       "      <td>1</td>\n",
       "      <td>False</td>\n",
       "    </tr>\n",
       "  </tbody>\n",
       "</table>\n",
       "</div>"
      ],
      "text/plain": [
       "   #                   Name Type 1  Type 2  Total  HP  Attack  Defense  \\\n",
       "0  1              Bulbasaur  Grass  Poison    318  45      49       49   \n",
       "1  2                Ivysaur  Grass  Poison    405  60      62       63   \n",
       "2  3               Venusaur  Grass  Poison    525  80      82       83   \n",
       "3  3  VenusaurMega Venusaur  Grass  Poison    625  80     100      123   \n",
       "4  4             Charmander   Fire     NaN    309  39      52       43   \n",
       "\n",
       "   Sp. Atk  Sp. Def  Speed  Generation  Legendary  \n",
       "0       65       65     45           1      False  \n",
       "1       80       80     60           1      False  \n",
       "2      100      100     80           1      False  \n",
       "3      122      120     80           1      False  \n",
       "4       60       50     65           1      False  "
      ]
     },
     "execution_count": 233,
     "metadata": {},
     "output_type": "execute_result"
    }
   ],
   "source": [
    "import pandas as pd\n",
    "df = pd.read_csv('https://raw.githubusercontent.com/Datamanim/datarepo/main/pok/Pokemon.csv')\n",
    "df.head()"
   ]
  },
  {
   "cell_type": "code",
   "execution_count": 192,
   "id": "935bf58b-8334-47ce-9463-e42469ca7035",
   "metadata": {},
   "outputs": [],
   "source": [
    "#Attack컬럼의 값을 기준으로 내림차순정렬 했을때 \n",
    "#상위 400위까지 포켓몬들과 401~800위까지의 포켓몬들에서 전설포켓몬(Legendary컬럼)의 숫자 차이는?"
   ]
  },
  {
   "cell_type": "code",
   "execution_count": 202,
   "id": "1c212861-7da0-4db0-869a-6bd3f12fe5f2",
   "metadata": {},
   "outputs": [
    {
     "name": "stdout",
     "output_type": "stream",
     "text": [
      "60\n",
      "5\n"
     ]
    }
   ],
   "source": [
    "result_400 = df.sort_values(\"Attack\", ascending = False).head(400)\n",
    "print((result_400[\"Legendary\"].sum()))\n",
    "result_800 = df.sort_values(\"Attack\", ascending = False).iloc[401:800]\n",
    "print((result_800[\"Legendary\"].sum()))"
   ]
  },
  {
   "cell_type": "code",
   "execution_count": 203,
   "id": "f86a8efb-3c58-47c6-a434-b6402d600432",
   "metadata": {},
   "outputs": [],
   "source": [
    "# Type 1 컬럼의 종류에 따른 \n",
    "#Total 컬럼의 평균값을 내림차순 정렬했을때 상위 3번째 Type 1은 무엇인가?"
   ]
  },
  {
   "cell_type": "code",
   "execution_count": 205,
   "id": "af2f38cd-48d3-41fb-92dc-552eee07c6a8",
   "metadata": {},
   "outputs": [
    {
     "data": {
      "text/plain": [
       "Type 1\n",
       "Dragon      550.531250\n",
       "Steel       487.703704\n",
       "Flying      485.000000\n",
       "Psychic     475.947368\n",
       "Fire        458.076923\n",
       "Rock        453.750000\n",
       "Dark        445.741935\n",
       "Electric    443.409091\n",
       "Ghost       439.562500\n",
       "Ground      437.500000\n",
       "Ice         433.458333\n",
       "Water       430.455357\n",
       "Grass       421.142857\n",
       "Fighting    416.444444\n",
       "Fairy       413.176471\n",
       "Normal      401.683673\n",
       "Poison      399.142857\n",
       "Bug         378.927536\n",
       "Name: Total, dtype: float64"
      ]
     },
     "execution_count": 205,
     "metadata": {},
     "output_type": "execute_result"
    }
   ],
   "source": [
    "df.groupby('Type 1')['Total'].mean().sort_values(ascending = False)"
   ]
  },
  {
   "cell_type": "code",
   "execution_count": 206,
   "id": "506d10fc-15e0-4b52-ae37-1b4e92b58352",
   "metadata": {},
   "outputs": [],
   "source": [
    "# 결측치가 존재하는 행을 모두 지운 후 \n",
    "#처음부터 순서대로 60% 데이터를 추출하여 Defense컬럼의 1분위수를 구하여라"
   ]
  },
  {
   "cell_type": "code",
   "execution_count": 241,
   "id": "5fb6655e-c797-4a69-86b8-df8805971f3a",
   "metadata": {},
   "outputs": [
    {
     "data": {
      "text/plain": [
       "np.float64(50.0)"
      ]
     },
     "execution_count": 241,
     "metadata": {},
     "output_type": "execute_result"
    }
   ],
   "source": [
    "result = df.dropna()\n",
    "six_result = int(len(result) * 0.6)  # 60퍼 \n",
    "subset = result.iloc[:six_result]\n",
    "subset['Defense'].quantile(0.25)"
   ]
  },
  {
   "cell_type": "code",
   "execution_count": 242,
   "id": "0c4530c4-d155-4794-9b93-622e549d4f27",
   "metadata": {},
   "outputs": [],
   "source": [
    "# Type 1 컬럼의 속성이 Fire인 포켓몬들의  Attack의 평균이상인\n",
    "# Water속성의 포켓몬 수를 구하여라"
   ]
  },
  {
   "cell_type": "code",
   "execution_count": 269,
   "id": "00839b34-e3db-4ab8-b45f-ce0afc324572",
   "metadata": {},
   "outputs": [
    {
     "data": {
      "text/plain": [
       "37"
      ]
     },
     "execution_count": 269,
     "metadata": {},
     "output_type": "execute_result"
    }
   ],
   "source": [
    "result_fire = df[df['Type 1'] == 'Fire']['Attack'].mean() \n",
    "result = df[df['Attack'] >=result_fire]\n",
    "len(result[result['Type 1'] == 'Water'])"
   ]
  },
  {
   "cell_type": "code",
   "execution_count": 288,
   "id": "9a8961b4-d7d8-4832-8cb5-9049a224c24a",
   "metadata": {},
   "outputs": [
    {
     "data": {
      "text/html": [
       "<div>\n",
       "<style scoped>\n",
       "    .dataframe tbody tr th:only-of-type {\n",
       "        vertical-align: middle;\n",
       "    }\n",
       "\n",
       "    .dataframe tbody tr th {\n",
       "        vertical-align: top;\n",
       "    }\n",
       "\n",
       "    .dataframe thead th {\n",
       "        text-align: right;\n",
       "    }\n",
       "</style>\n",
       "<table border=\"1\" class=\"dataframe\">\n",
       "  <thead>\n",
       "    <tr style=\"text-align: right;\">\n",
       "      <th></th>\n",
       "      <th>Speed</th>\n",
       "      <th>Defense</th>\n",
       "      <th>diff</th>\n",
       "    </tr>\n",
       "    <tr>\n",
       "      <th>Generation</th>\n",
       "      <th></th>\n",
       "      <th></th>\n",
       "      <th></th>\n",
       "    </tr>\n",
       "  </thead>\n",
       "  <tbody>\n",
       "    <tr>\n",
       "      <th>1</th>\n",
       "      <td>72.584337</td>\n",
       "      <td>70.861446</td>\n",
       "      <td>1.722892</td>\n",
       "    </tr>\n",
       "    <tr>\n",
       "      <th>2</th>\n",
       "      <td>61.811321</td>\n",
       "      <td>73.386792</td>\n",
       "      <td>11.575472</td>\n",
       "    </tr>\n",
       "    <tr>\n",
       "      <th>3</th>\n",
       "      <td>66.925000</td>\n",
       "      <td>74.100000</td>\n",
       "      <td>7.175000</td>\n",
       "    </tr>\n",
       "    <tr>\n",
       "      <th>4</th>\n",
       "      <td>71.338843</td>\n",
       "      <td>78.132231</td>\n",
       "      <td>6.793388</td>\n",
       "    </tr>\n",
       "    <tr>\n",
       "      <th>5</th>\n",
       "      <td>68.078788</td>\n",
       "      <td>72.327273</td>\n",
       "      <td>4.248485</td>\n",
       "    </tr>\n",
       "    <tr>\n",
       "      <th>6</th>\n",
       "      <td>66.439024</td>\n",
       "      <td>76.682927</td>\n",
       "      <td>10.243902</td>\n",
       "    </tr>\n",
       "  </tbody>\n",
       "</table>\n",
       "</div>"
      ],
      "text/plain": [
       "                Speed    Defense       diff\n",
       "Generation                                 \n",
       "1           72.584337  70.861446   1.722892\n",
       "2           61.811321  73.386792  11.575472\n",
       "3           66.925000  74.100000   7.175000\n",
       "4           71.338843  78.132231   6.793388\n",
       "5           68.078788  72.327273   4.248485\n",
       "6           66.439024  76.682927  10.243902"
      ]
     },
     "execution_count": 288,
     "metadata": {},
     "output_type": "execute_result"
    }
   ],
   "source": [
    "# 각 세대 중(Generation 컬럼)의 Speed와 Defense 컬럼의 차이(절댓값)이 가장 큰 세대는?\n",
    "result = df.groupby([\"Generation\"])[[\"Speed\",\"Defense\"]].mean()\n",
    "result[\"diff\"] = abs(result[\"Speed\"] - result[\"Defense\"])\n",
    "result"
   ]
  },
  {
   "cell_type": "code",
   "execution_count": 318,
   "id": "e5ec76c0-7d8e-4bfb-be96-84306c7d7861",
   "metadata": {},
   "outputs": [
    {
     "name": "stdout",
     "output_type": "stream",
     "text": [
      "[0 0 0 0 0 0 0 0 0 0 0 0 0 0 0 0 0 0 0 0 0 0 0 0 0 0 0 0 0 0 0 0 0 0 0 0 0\n",
      " 0 0 0 0 0 0 0 0 0 0 0 0 0 0 0 0 0 0 0 0 0 0 0 0 0 0 0 0 0 0 0 0 0 0 0 0 0\n",
      " 0 0 0 0 0 0 0 0 0 0 0 0 0 0 0 0 0 0 0 0 0 0 0 0 0 0 0 0 0 0 0 0 0 0 0 0 0\n",
      " 0 0 0 0 0 0 0 0 0 0 0 0 0 0 0 0 0 0 0 0 0 0 0 0 0 0 0 0 0 0 0 0 0 0 0 0 0\n",
      " 0 0 0 0 0 0 0 0 0 0 0 0 0 0 0 0 0 0 0 0 0 1 0 0 0 0 0 0 0 0 0 0 0 0 0 0 0\n",
      " 0 0 0 0 0 0 0 0 0 0 0 0 0 0 0 0 0 0 0 0 0 0 0 0 0 0 0 0 0 0 1 0 0 0 0 0 0\n",
      " 0 0 0 0 0 0]\n",
      "0.5167555217060168\n",
      "0.8859649122807017\n",
      "     pred\n",
      "0       0\n",
      "1       0\n",
      "2       0\n",
      "3       0\n",
      "4       0\n",
      "..    ...\n",
      "927     0\n",
      "928     0\n",
      "929     0\n",
      "930     0\n",
      "931     0\n",
      "\n",
      "[932 rows x 1 columns]\n"
     ]
    }
   ],
   "source": [
    "import pandas as pd\n",
    "train= pd.read_csv('https://raw.githubusercontent.com/Datamanim/datarepo/main/stroke_/train.csv')\n",
    "test= pd.read_csv('https://raw.githubusercontent.com/Datamanim/datarepo/main/stroke_/test.csv')\n",
    "\n",
    "# display(train.head())\n",
    "# display(test.head())\n",
    "\n",
    "# train.isnull().sum()\n",
    "train[\"bmi\"] = train[\"bmi\"].fillna(train[\"bmi\"].median())\n",
    "test[\"bmi\"] = test[\"bmi\"].fillna(test[\"bmi\"].median())\n",
    "\n",
    "# 데이터 분리 \n",
    "X_train = train.drop([\"id\",\"stroke\"],axis = 1)\n",
    "X_test = test.drop([\"id\"], axis = 1)\n",
    "Y_train = train[\"stroke\"]\n",
    "\n",
    "# 데이터 인코딩 \n",
    "\n",
    "X_train = pd.get_dummies(X_train)\n",
    "X_test = pd.get_dummies(X_test)\n",
    "\n",
    "X_test = X_test.reindex(columns = X_train.columns , fill_value = 0)\n",
    "\n",
    "\n",
    "from sklearn.model_selection import train_test_split\n",
    "X_train, X_val, Y_train, Y_val = train_test_split(X_train, Y_train, test_size = 0.2)\n",
    "\n",
    "from sklearn.ensemble import RandomForestClassifier\n",
    "\n",
    "model = RandomForestClassifier()\n",
    "model.fit(X_train, Y_train)\n",
    "y_pred_val = model.predict(X_val)\n",
    "\n",
    "print(y_pred_val)\n",
    "\n",
    "from sklearn.metrics import roc_auc_score , accuracy_score\n",
    "roc_auc = roc_auc_score(Y_val, y_pred_val)\n",
    "accuarcy = accuracy_score(Y_val, y_pred_val)\n",
    "print(roc_auc)\n",
    "print(accuarcy)\n",
    "\n",
    "y_pred = model.predict(X_test)\n",
    "result = pd.DataFrame(y_pred, columns = [\"pred\"])\n",
    "result.to_csv(\"result.csv\", index= False)\n",
    "\n",
    "result = pd.read_csv(\"result.csv\")\n",
    "print(result)"
   ]
  },
  {
   "cell_type": "code",
   "execution_count": null,
   "id": "4c2fb66a-36cd-43d4-aa4d-5efb98de5748",
   "metadata": {},
   "outputs": [],
   "source": []
  }
 ],
 "metadata": {
  "kernelspec": {
   "display_name": "Python 3 (ipykernel)",
   "language": "python",
   "name": "python3"
  },
  "language_info": {
   "codemirror_mode": {
    "name": "ipython",
    "version": 3
   },
   "file_extension": ".py",
   "mimetype": "text/x-python",
   "name": "python",
   "nbconvert_exporter": "python",
   "pygments_lexer": "ipython3",
   "version": "3.13.3"
  }
 },
 "nbformat": 4,
 "nbformat_minor": 5
}
