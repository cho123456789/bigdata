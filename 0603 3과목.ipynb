{
 "cells": [
  {
   "cell_type": "code",
   "execution_count": 1,
   "id": "6fedd220-b9bf-4937-b180-26fdb75bc502",
   "metadata": {},
   "outputs": [
    {
     "data": {
      "text/html": [
       "<div>\n",
       "<style scoped>\n",
       "    .dataframe tbody tr th:only-of-type {\n",
       "        vertical-align: middle;\n",
       "    }\n",
       "\n",
       "    .dataframe tbody tr th {\n",
       "        vertical-align: top;\n",
       "    }\n",
       "\n",
       "    .dataframe thead th {\n",
       "        text-align: right;\n",
       "    }\n",
       "</style>\n",
       "<table border=\"1\" class=\"dataframe\">\n",
       "  <thead>\n",
       "    <tr style=\"text-align: right;\">\n",
       "      <th></th>\n",
       "      <th>X1</th>\n",
       "      <th>X2</th>\n",
       "      <th>X3</th>\n",
       "      <th>X4</th>\n",
       "      <th>X5</th>\n",
       "      <th>X6</th>\n",
       "      <th>X7</th>\n",
       "      <th>X8</th>\n",
       "      <th>X9</th>\n",
       "      <th>X10</th>\n",
       "      <th>X11</th>\n",
       "      <th>X12</th>\n",
       "      <th>X13</th>\n",
       "      <th>X14</th>\n",
       "      <th>X15</th>\n",
       "      <th>Y</th>\n",
       "    </tr>\n",
       "  </thead>\n",
       "  <tbody>\n",
       "    <tr>\n",
       "      <th>0</th>\n",
       "      <td>0.506278</td>\n",
       "      <td>-0.231322</td>\n",
       "      <td>0.759771</td>\n",
       "      <td>-0.172927</td>\n",
       "      <td>-0.687524</td>\n",
       "      <td>-0.556815</td>\n",
       "      <td>-1.381369</td>\n",
       "      <td>1.633690</td>\n",
       "      <td>-0.869129</td>\n",
       "      <td>0.370614</td>\n",
       "      <td>0.615057</td>\n",
       "      <td>-0.416594</td>\n",
       "      <td>-1.175980</td>\n",
       "      <td>0.113494</td>\n",
       "      <td>-0.539230</td>\n",
       "      <td>1</td>\n",
       "    </tr>\n",
       "    <tr>\n",
       "      <th>1</th>\n",
       "      <td>0.017220</td>\n",
       "      <td>1.530047</td>\n",
       "      <td>0.676838</td>\n",
       "      <td>1.533623</td>\n",
       "      <td>-0.516027</td>\n",
       "      <td>0.949166</td>\n",
       "      <td>-1.180669</td>\n",
       "      <td>1.895021</td>\n",
       "      <td>-1.211768</td>\n",
       "      <td>-1.081109</td>\n",
       "      <td>-1.067039</td>\n",
       "      <td>-0.611829</td>\n",
       "      <td>0.846854</td>\n",
       "      <td>-0.812381</td>\n",
       "      <td>0.823546</td>\n",
       "      <td>0</td>\n",
       "    </tr>\n",
       "    <tr>\n",
       "      <th>2</th>\n",
       "      <td>1.436089</td>\n",
       "      <td>0.038078</td>\n",
       "      <td>-0.120501</td>\n",
       "      <td>0.914955</td>\n",
       "      <td>-1.504149</td>\n",
       "      <td>0.443893</td>\n",
       "      <td>-0.696385</td>\n",
       "      <td>0.245013</td>\n",
       "      <td>1.221166</td>\n",
       "      <td>-1.387287</td>\n",
       "      <td>-1.762048</td>\n",
       "      <td>-0.556466</td>\n",
       "      <td>0.130129</td>\n",
       "      <td>0.517210</td>\n",
       "      <td>1.056730</td>\n",
       "      <td>0</td>\n",
       "    </tr>\n",
       "    <tr>\n",
       "      <th>3</th>\n",
       "      <td>-0.926337</td>\n",
       "      <td>-0.665242</td>\n",
       "      <td>-0.106853</td>\n",
       "      <td>-1.111627</td>\n",
       "      <td>-0.127867</td>\n",
       "      <td>0.746742</td>\n",
       "      <td>-0.345943</td>\n",
       "      <td>0.848144</td>\n",
       "      <td>0.374944</td>\n",
       "      <td>-0.951299</td>\n",
       "      <td>1.097359</td>\n",
       "      <td>0.754369</td>\n",
       "      <td>-0.221183</td>\n",
       "      <td>-0.430509</td>\n",
       "      <td>0.756875</td>\n",
       "      <td>1</td>\n",
       "    </tr>\n",
       "    <tr>\n",
       "      <th>4</th>\n",
       "      <td>-0.350953</td>\n",
       "      <td>-0.044709</td>\n",
       "      <td>-0.421777</td>\n",
       "      <td>1.359772</td>\n",
       "      <td>-1.619690</td>\n",
       "      <td>-0.645908</td>\n",
       "      <td>-1.717975</td>\n",
       "      <td>-0.598477</td>\n",
       "      <td>1.026014</td>\n",
       "      <td>-0.134644</td>\n",
       "      <td>-0.988988</td>\n",
       "      <td>0.513048</td>\n",
       "      <td>-0.886113</td>\n",
       "      <td>0.247288</td>\n",
       "      <td>-0.016664</td>\n",
       "      <td>0</td>\n",
       "    </tr>\n",
       "  </tbody>\n",
       "</table>\n",
       "</div>"
      ],
      "text/plain": [
       "         X1        X2        X3        X4        X5        X6        X7  \\\n",
       "0  0.506278 -0.231322  0.759771 -0.172927 -0.687524 -0.556815 -1.381369   \n",
       "1  0.017220  1.530047  0.676838  1.533623 -0.516027  0.949166 -1.180669   \n",
       "2  1.436089  0.038078 -0.120501  0.914955 -1.504149  0.443893 -0.696385   \n",
       "3 -0.926337 -0.665242 -0.106853 -1.111627 -0.127867  0.746742 -0.345943   \n",
       "4 -0.350953 -0.044709 -0.421777  1.359772 -1.619690 -0.645908 -1.717975   \n",
       "\n",
       "         X8        X9       X10       X11       X12       X13       X14  \\\n",
       "0  1.633690 -0.869129  0.370614  0.615057 -0.416594 -1.175980  0.113494   \n",
       "1  1.895021 -1.211768 -1.081109 -1.067039 -0.611829  0.846854 -0.812381   \n",
       "2  0.245013  1.221166 -1.387287 -1.762048 -0.556466  0.130129  0.517210   \n",
       "3  0.848144  0.374944 -0.951299  1.097359  0.754369 -0.221183 -0.430509   \n",
       "4 -0.598477  1.026014 -0.134644 -0.988988  0.513048 -0.886113  0.247288   \n",
       "\n",
       "        X15  Y  \n",
       "0 -0.539230  1  \n",
       "1  0.823546  0  \n",
       "2  1.056730  0  \n",
       "3  0.756875  1  \n",
       "4 -0.016664  0  "
      ]
     },
     "execution_count": 1,
     "metadata": {},
     "output_type": "execute_result"
    }
   ],
   "source": [
    "import pandas as pd\n",
    "df=pd.read_csv('https://raw.githubusercontent.com/Datamanim/datarepo/main/krdatacertificate/e8_p3_1.csv')\n",
    "df.head()"
   ]
  },
  {
   "cell_type": "code",
   "execution_count": 2,
   "id": "e24b5fa7-0185-413d-b5d1-8f0d5d496d4e",
   "metadata": {},
   "outputs": [],
   "source": [
    "# y컬럼을 종속변수로하는 로지스틱회귀 모형을 만들 떄 유의미하지 않은 변수의 개수는? % 상수항은 추가하여 모델링하라"
   ]
  },
  {
   "cell_type": "code",
   "execution_count": 7,
   "id": "783bc806-2946-4bbe-95d2-d526ccb36f90",
   "metadata": {},
   "outputs": [
    {
     "name": "stdout",
     "output_type": "stream",
     "text": [
      "Optimization terminated successfully.\n",
      "         Current function value: 0.060586\n",
      "         Iterations 10\n",
      "                           Logit Regression Results                           \n",
      "==============================================================================\n",
      "Dep. Variable:                      Y   No. Observations:                 2500\n",
      "Model:                          Logit   Df Residuals:                     2484\n",
      "Method:                           MLE   Df Model:                           15\n",
      "Date:                Tue, 03 Jun 2025   Pseudo R-squ.:                  0.9126\n",
      "Time:                        14:28:24   Log-Likelihood:                -151.47\n",
      "converged:                       True   LL-Null:                       -1732.9\n",
      "Covariance Type:            nonrobust   LLR p-value:                     0.000\n",
      "==============================================================================\n",
      "                 coef    std err          z      P>|z|      [0.025      0.975]\n",
      "------------------------------------------------------------------------------\n",
      "Intercept     -2.1997      0.566     -3.883      0.000      -3.310      -1.089\n",
      "X1             0.2990      0.171      1.749      0.080      -0.036       0.634\n",
      "X2             0.1913      0.182      1.048      0.294      -0.166       0.549\n",
      "X3             0.0066      0.170      0.039      0.969      -0.326       0.339\n",
      "X4             0.1455      0.170      0.858      0.391      -0.187       0.478\n",
      "X5             0.1625      0.163      0.995      0.320      -0.158       0.483\n",
      "X6             0.1450      0.171      0.849      0.396      -0.190       0.480\n",
      "X7            -1.2546      0.334     -3.753      0.000      -1.910      -0.599\n",
      "X8             0.7723      0.156      4.955      0.000       0.467       1.078\n",
      "X9             0.1498      0.167      0.900      0.368      -0.177       0.476\n",
      "X10           -0.0190      0.177     -0.107      0.915      -0.367       0.329\n",
      "X11            6.2601      0.367     17.036      0.000       5.540       6.980\n",
      "X12           -0.0820      0.166     -0.495      0.621      -0.407       0.243\n",
      "X13            0.0541      0.164      0.330      0.741      -0.267       0.375\n",
      "X14            0.0740      0.166      0.444      0.657      -0.252       0.400\n",
      "X15            0.2433      0.171      1.427      0.154      -0.091       0.578\n",
      "==============================================================================\n"
     ]
    }
   ],
   "source": [
    "from statsmodels.formula.api import logit\n",
    "formula = 'Y ~ +X1+X2+X3+X4+X5+X6+X7+X8+X9+X10+X11+X12+X13+X14+X15'\n",
    "model = logit(formula, data = df).fit()\n",
    "print(model.summary()) #12개"
   ]
  },
  {
   "cell_type": "code",
   "execution_count": 8,
   "id": "a4c9b36d-9ca3-41f8-a956-81fcaf14bc17",
   "metadata": {},
   "outputs": [],
   "source": [
    "# **유의한 변수들 만으로 다시 모델링을 해서 X를 포함하는 독립변수들의 회귀계수 합계를 소숫점 이하 3째 자리까지 구하여라 *"
   ]
  },
  {
   "cell_type": "code",
   "execution_count": 30,
   "id": "29c3e3a5-85e9-4fdf-bdaf-2913cf64c856",
   "metadata": {},
   "outputs": [
    {
     "name": "stdout",
     "output_type": "stream",
     "text": [
      "Optimization terminated successfully.\n",
      "         Current function value: 0.062467\n",
      "         Iterations 10\n",
      "                           Logit Regression Results                           \n",
      "==============================================================================\n",
      "Dep. Variable:                      Y   No. Observations:                 2500\n",
      "Model:                          Logit   Df Residuals:                     2496\n",
      "Method:                           MLE   Df Model:                            3\n",
      "Date:                Tue, 03 Jun 2025   Pseudo R-squ.:                  0.9099\n",
      "Time:                        14:33:14   Log-Likelihood:                -156.17\n",
      "converged:                       True   LL-Null:                       -1732.9\n",
      "Covariance Type:            nonrobust   LLR p-value:                     0.000\n",
      "==============================================================================\n",
      "                 coef    std err          z      P>|z|      [0.025      0.975]\n",
      "------------------------------------------------------------------------------\n",
      "Intercept     -2.0523      0.546     -3.756      0.000      -3.123      -0.981\n",
      "X7            -1.1389      0.323     -3.525      0.000      -1.772      -0.506\n",
      "X8             0.7529      0.149      5.041      0.000       0.460       1.046\n",
      "X11            5.9960      0.326     18.374      0.000       5.356       6.636\n",
      "==============================================================================\n",
      "5.61\n"
     ]
    }
   ],
   "source": [
    "from statsmodels.formula.api import logit\n",
    "formula = 'Y ~ +X7+X8+X11'\n",
    "model = logit(formula, data = df).fit()\n",
    "print(model.summary()) \n",
    "print(round(model.params['X7'] + model.params['X8'] +model.params['X11'],3))"
   ]
  },
  {
   "cell_type": "code",
   "execution_count": 31,
   "id": "9b250932-b3da-4cb3-81e2-9012b80e921c",
   "metadata": {},
   "outputs": [],
   "source": [
    "# 3-2번의 모델 결과에 대해 X뒤의 숫자가 가장 낮은 컬럼이 5단위 늘어나면 오즈비 몇 배로 변화?"
   ]
  },
  {
   "cell_type": "code",
   "execution_count": 36,
   "id": "29983a62-fdfe-45d6-bc17-a00d45b7d027",
   "metadata": {},
   "outputs": [
    {
     "name": "stdout",
     "output_type": "stream",
     "text": [
      "0.003364760921802281\n"
     ]
    }
   ],
   "source": [
    "import numpy as np\n",
    "print(np.exp(model.params['X7'] * 5))"
   ]
  },
  {
   "cell_type": "code",
   "execution_count": 37,
   "id": "04b78c14-e204-4189-8ae2-c0ee5af626cb",
   "metadata": {},
   "outputs": [
    {
     "data": {
      "text/html": [
       "<div>\n",
       "<style scoped>\n",
       "    .dataframe tbody tr th:only-of-type {\n",
       "        vertical-align: middle;\n",
       "    }\n",
       "\n",
       "    .dataframe tbody tr th {\n",
       "        vertical-align: top;\n",
       "    }\n",
       "\n",
       "    .dataframe thead th {\n",
       "        text-align: right;\n",
       "    }\n",
       "</style>\n",
       "<table border=\"1\" class=\"dataframe\">\n",
       "  <thead>\n",
       "    <tr style=\"text-align: right;\">\n",
       "      <th></th>\n",
       "      <th>PIQ</th>\n",
       "      <th>Brain</th>\n",
       "      <th>Height</th>\n",
       "      <th>Weight</th>\n",
       "    </tr>\n",
       "  </thead>\n",
       "  <tbody>\n",
       "    <tr>\n",
       "      <th>0</th>\n",
       "      <td>124</td>\n",
       "      <td>81.69</td>\n",
       "      <td>64.5</td>\n",
       "      <td>118</td>\n",
       "    </tr>\n",
       "    <tr>\n",
       "      <th>1</th>\n",
       "      <td>150</td>\n",
       "      <td>103.84</td>\n",
       "      <td>73.3</td>\n",
       "      <td>143</td>\n",
       "    </tr>\n",
       "    <tr>\n",
       "      <th>2</th>\n",
       "      <td>128</td>\n",
       "      <td>96.54</td>\n",
       "      <td>68.8</td>\n",
       "      <td>172</td>\n",
       "    </tr>\n",
       "    <tr>\n",
       "      <th>3</th>\n",
       "      <td>134</td>\n",
       "      <td>95.15</td>\n",
       "      <td>65.0</td>\n",
       "      <td>147</td>\n",
       "    </tr>\n",
       "    <tr>\n",
       "      <th>4</th>\n",
       "      <td>110</td>\n",
       "      <td>92.88</td>\n",
       "      <td>69.0</td>\n",
       "      <td>146</td>\n",
       "    </tr>\n",
       "  </tbody>\n",
       "</table>\n",
       "</div>"
      ],
      "text/plain": [
       "   PIQ   Brain  Height  Weight\n",
       "0  124   81.69    64.5     118\n",
       "1  150  103.84    73.3     143\n",
       "2  128   96.54    68.8     172\n",
       "3  134   95.15    65.0     147\n",
       "4  110   92.88    69.0     146"
      ]
     },
     "execution_count": 37,
     "metadata": {},
     "output_type": "execute_result"
    }
   ],
   "source": [
    "import pandas as pd \n",
    "df= pd.read_csv('https://raw.githubusercontent.com/Datamanim/datarepo/main/krdatacertificate/e8_p3_2.csv')\n",
    "df.head()"
   ]
  },
  {
   "cell_type": "code",
   "execution_count": 38,
   "id": "9562ae30-1b70-45d1-afe8-94bd95589157",
   "metadata": {},
   "outputs": [],
   "source": [
    "# PIQ를 예측하는 다중선형회귀 모형을 만들고 Brain의 회귀 계수를 구하여라"
   ]
  },
  {
   "cell_type": "code",
   "execution_count": 56,
   "id": "44fe5390-13a7-4608-b12d-7bf11a5de72c",
   "metadata": {},
   "outputs": [
    {
     "name": "stdout",
     "output_type": "stream",
     "text": [
      "                            OLS Regression Results                            \n",
      "==============================================================================\n",
      "Dep. Variable:                    PIQ   R-squared:                       0.295\n",
      "Model:                            OLS   Adj. R-squared:                  0.233\n",
      "Method:                 Least Squares   F-statistic:                     4.741\n",
      "Date:                Tue, 03 Jun 2025   Prob (F-statistic):            0.00722\n",
      "Time:                        14:39:54   Log-Likelihood:                -165.25\n",
      "No. Observations:                  38   AIC:                             338.5\n",
      "Df Residuals:                      34   BIC:                             345.1\n",
      "Df Model:                           3                                         \n",
      "Covariance Type:            nonrobust                                         \n",
      "==============================================================================\n",
      "                 coef    std err          t      P>|t|      [0.025      0.975]\n",
      "------------------------------------------------------------------------------\n",
      "Intercept    111.3536     62.971      1.768      0.086     -16.619     239.326\n",
      "Brain          2.0604      0.563      3.657      0.001       0.915       3.205\n",
      "Height        -2.7319      1.229     -2.222      0.033      -5.230      -0.233\n",
      "Weight         0.0006      0.197      0.003      0.998      -0.400       0.401\n",
      "==============================================================================\n",
      "Omnibus:                        1.379   Durbin-Watson:                   1.827\n",
      "Prob(Omnibus):                  0.502   Jarque-Bera (JB):                1.088\n",
      "Skew:                           0.409   Prob(JB):                        0.580\n",
      "Kurtosis:                       2.859   Cond. No.                     3.73e+03\n",
      "==============================================================================\n",
      "\n",
      "Notes:\n",
      "[1] Standard Errors assume that the covariance matrix of the errors is correctly specified.\n",
      "[2] The condition number is large, 3.73e+03. This might indicate that there are\n",
      "strong multicollinearity or other numerical problems.\n",
      "2.0603667978949503\n"
     ]
    }
   ],
   "source": [
    "from statsmodels.formula.api import ols\n",
    "formula = 'PIQ~+Brain+Height+Weight'\n",
    "model = ols(formula, data = df).fit()\n",
    "print(model.summary())\n",
    "print(model.params['Brain'])"
   ]
  },
  {
   "cell_type": "code",
   "execution_count": 57,
   "id": "52b210bd-64d3-4712-9213-7b0d7802f3b9",
   "metadata": {},
   "outputs": [],
   "source": [
    "# 모델의 r2를 구하여라"
   ]
  },
  {
   "cell_type": "code",
   "execution_count": 60,
   "id": "9aec30d9-8dc3-427a-8e37-70dc68309157",
   "metadata": {},
   "outputs": [
    {
     "name": "stdout",
     "output_type": "stream",
     "text": [
      "0.29493921047394\n"
     ]
    }
   ],
   "source": [
    "print(model.rsquared)"
   ]
  },
  {
   "cell_type": "code",
   "execution_count": 61,
   "id": "bed8a6aa-1ee6-4569-9ffa-ee225ece3277",
   "metadata": {},
   "outputs": [],
   "source": [
    "# 위에서 계산한 모델을 이용하여 뇌크기 90 키 70 몸무게 150일 때 지능을 예측하라"
   ]
  },
  {
   "cell_type": "code",
   "execution_count": 68,
   "id": "79b5db6a-bf68-4146-abbb-561fcbc076dc",
   "metadata": {},
   "outputs": [
    {
     "data": {
      "text/plain": [
       "0    105.635569\n",
       "dtype: float64"
      ]
     },
     "execution_count": 68,
     "metadata": {},
     "output_type": "execute_result"
    }
   ],
   "source": [
    "result = pd.DataFrame({'Brain':[90] ,'Height': [70], 'Weight' : [150]})\n",
    "model.predict(result)"
   ]
  },
  {
   "cell_type": "code",
   "execution_count": 69,
   "id": "7dcd765c-c52c-4136-8f70-382a344085d4",
   "metadata": {},
   "outputs": [
    {
     "data": {
      "text/html": [
       "<div>\n",
       "<style scoped>\n",
       "    .dataframe tbody tr th:only-of-type {\n",
       "        vertical-align: middle;\n",
       "    }\n",
       "\n",
       "    .dataframe tbody tr th {\n",
       "        vertical-align: top;\n",
       "    }\n",
       "\n",
       "    .dataframe thead th {\n",
       "        text-align: right;\n",
       "    }\n",
       "</style>\n",
       "<table border=\"1\" class=\"dataframe\">\n",
       "  <thead>\n",
       "    <tr style=\"text-align: right;\">\n",
       "      <th></th>\n",
       "      <th>Target</th>\n",
       "      <th>v1</th>\n",
       "      <th>v2</th>\n",
       "      <th>v3</th>\n",
       "      <th>v4</th>\n",
       "      <th>v5</th>\n",
       "      <th>v6</th>\n",
       "      <th>v7</th>\n",
       "      <th>v8</th>\n",
       "      <th>v9</th>\n",
       "      <th>...</th>\n",
       "      <th>v12</th>\n",
       "      <th>v13</th>\n",
       "      <th>v14</th>\n",
       "      <th>v15</th>\n",
       "      <th>v16</th>\n",
       "      <th>v17</th>\n",
       "      <th>v18</th>\n",
       "      <th>v19</th>\n",
       "      <th>v20</th>\n",
       "      <th>v21</th>\n",
       "    </tr>\n",
       "  </thead>\n",
       "  <tbody>\n",
       "    <tr>\n",
       "      <th>0</th>\n",
       "      <td>21.650072</td>\n",
       "      <td>0.496714</td>\n",
       "      <td>-0.138264</td>\n",
       "      <td>0.647689</td>\n",
       "      <td>1.523030</td>\n",
       "      <td>-0.234153</td>\n",
       "      <td>-0.234137</td>\n",
       "      <td>1.579213</td>\n",
       "      <td>0.767435</td>\n",
       "      <td>-0.469474</td>\n",
       "      <td>...</td>\n",
       "      <td>-0.465730</td>\n",
       "      <td>0.241962</td>\n",
       "      <td>-1.913280</td>\n",
       "      <td>-1.724918</td>\n",
       "      <td>-0.562288</td>\n",
       "      <td>-1.012831</td>\n",
       "      <td>0.314247</td>\n",
       "      <td>-0.908024</td>\n",
       "      <td>-1.412304</td>\n",
       "      <td>1.465649</td>\n",
       "    </tr>\n",
       "    <tr>\n",
       "      <th>1</th>\n",
       "      <td>-19.469855</td>\n",
       "      <td>-0.225776</td>\n",
       "      <td>0.067528</td>\n",
       "      <td>-1.424748</td>\n",
       "      <td>-0.544383</td>\n",
       "      <td>0.110923</td>\n",
       "      <td>-1.150994</td>\n",
       "      <td>0.375698</td>\n",
       "      <td>-0.600639</td>\n",
       "      <td>-0.291694</td>\n",
       "      <td>...</td>\n",
       "      <td>-0.013497</td>\n",
       "      <td>-1.057711</td>\n",
       "      <td>0.822545</td>\n",
       "      <td>-1.220844</td>\n",
       "      <td>0.208864</td>\n",
       "      <td>-1.959670</td>\n",
       "      <td>-1.328186</td>\n",
       "      <td>0.196861</td>\n",
       "      <td>0.738467</td>\n",
       "      <td>0.171368</td>\n",
       "    </tr>\n",
       "    <tr>\n",
       "      <th>2</th>\n",
       "      <td>-24.475600</td>\n",
       "      <td>-0.115648</td>\n",
       "      <td>-0.301104</td>\n",
       "      <td>-1.478522</td>\n",
       "      <td>-0.719844</td>\n",
       "      <td>-0.460639</td>\n",
       "      <td>1.057122</td>\n",
       "      <td>0.343618</td>\n",
       "      <td>-1.763040</td>\n",
       "      <td>0.324084</td>\n",
       "      <td>...</td>\n",
       "      <td>0.611676</td>\n",
       "      <td>1.031000</td>\n",
       "      <td>0.931280</td>\n",
       "      <td>-0.839218</td>\n",
       "      <td>-0.309212</td>\n",
       "      <td>0.331263</td>\n",
       "      <td>0.975545</td>\n",
       "      <td>-0.479174</td>\n",
       "      <td>-0.185659</td>\n",
       "      <td>-1.106335</td>\n",
       "    </tr>\n",
       "    <tr>\n",
       "      <th>3</th>\n",
       "      <td>13.476831</td>\n",
       "      <td>-1.196207</td>\n",
       "      <td>0.812526</td>\n",
       "      <td>1.356240</td>\n",
       "      <td>-0.072010</td>\n",
       "      <td>1.003533</td>\n",
       "      <td>0.361636</td>\n",
       "      <td>-0.645120</td>\n",
       "      <td>0.361396</td>\n",
       "      <td>1.538037</td>\n",
       "      <td>...</td>\n",
       "      <td>-2.619745</td>\n",
       "      <td>0.821903</td>\n",
       "      <td>0.087047</td>\n",
       "      <td>-0.299007</td>\n",
       "      <td>0.091761</td>\n",
       "      <td>-1.987569</td>\n",
       "      <td>-0.219672</td>\n",
       "      <td>0.357113</td>\n",
       "      <td>1.477894</td>\n",
       "      <td>-0.518270</td>\n",
       "    </tr>\n",
       "    <tr>\n",
       "      <th>4</th>\n",
       "      <td>3.505322</td>\n",
       "      <td>-0.808494</td>\n",
       "      <td>-0.501757</td>\n",
       "      <td>0.915402</td>\n",
       "      <td>0.328751</td>\n",
       "      <td>-0.529760</td>\n",
       "      <td>0.513267</td>\n",
       "      <td>0.097078</td>\n",
       "      <td>0.968645</td>\n",
       "      <td>-0.702053</td>\n",
       "      <td>...</td>\n",
       "      <td>-1.463515</td>\n",
       "      <td>0.296120</td>\n",
       "      <td>0.261055</td>\n",
       "      <td>0.005113</td>\n",
       "      <td>-0.234587</td>\n",
       "      <td>-1.415371</td>\n",
       "      <td>-0.420645</td>\n",
       "      <td>-0.342715</td>\n",
       "      <td>-0.802277</td>\n",
       "      <td>-0.161286</td>\n",
       "    </tr>\n",
       "  </tbody>\n",
       "</table>\n",
       "<p>5 rows × 22 columns</p>\n",
       "</div>"
      ],
      "text/plain": [
       "      Target        v1        v2        v3        v4        v5        v6  \\\n",
       "0  21.650072  0.496714 -0.138264  0.647689  1.523030 -0.234153 -0.234137   \n",
       "1 -19.469855 -0.225776  0.067528 -1.424748 -0.544383  0.110923 -1.150994   \n",
       "2 -24.475600 -0.115648 -0.301104 -1.478522 -0.719844 -0.460639  1.057122   \n",
       "3  13.476831 -1.196207  0.812526  1.356240 -0.072010  1.003533  0.361636   \n",
       "4   3.505322 -0.808494 -0.501757  0.915402  0.328751 -0.529760  0.513267   \n",
       "\n",
       "         v7        v8        v9  ...       v12       v13       v14       v15  \\\n",
       "0  1.579213  0.767435 -0.469474  ... -0.465730  0.241962 -1.913280 -1.724918   \n",
       "1  0.375698 -0.600639 -0.291694  ... -0.013497 -1.057711  0.822545 -1.220844   \n",
       "2  0.343618 -1.763040  0.324084  ...  0.611676  1.031000  0.931280 -0.839218   \n",
       "3 -0.645120  0.361396  1.538037  ... -2.619745  0.821903  0.087047 -0.299007   \n",
       "4  0.097078  0.968645 -0.702053  ... -1.463515  0.296120  0.261055  0.005113   \n",
       "\n",
       "        v16       v17       v18       v19       v20       v21  \n",
       "0 -0.562288 -1.012831  0.314247 -0.908024 -1.412304  1.465649  \n",
       "1  0.208864 -1.959670 -1.328186  0.196861  0.738467  0.171368  \n",
       "2 -0.309212  0.331263  0.975545 -0.479174 -0.185659 -1.106335  \n",
       "3  0.091761 -1.987569 -0.219672  0.357113  1.477894 -0.518270  \n",
       "4 -0.234587 -1.415371 -0.420645 -0.342715 -0.802277 -0.161286  \n",
       "\n",
       "[5 rows x 22 columns]"
      ]
     },
     "execution_count": 69,
     "metadata": {},
     "output_type": "execute_result"
    }
   ],
   "source": [
    "import pandas as pd\n",
    "df=pd.read_csv('https://raw.githubusercontent.com/Datamanim/datarepo/main/krdatacertificate/e7_p3_1.csv')\n",
    "df.head()"
   ]
  },
  {
   "cell_type": "code",
   "execution_count": 95,
   "id": "8b78c50e-919c-4881-8ecf-b6b06264d129",
   "metadata": {},
   "outputs": [
    {
     "data": {
      "text/plain": [
       "np.float64(0.6270251925517436)"
      ]
     },
     "execution_count": 95,
     "metadata": {},
     "output_type": "execute_result"
    }
   ],
   "source": [
    "result = df.corr()['Target']\n",
    "result.sort_values(ascending = False).values[1]"
   ]
  },
  {
   "cell_type": "code",
   "execution_count": 96,
   "id": "1b32c0ae-4d91-414f-aa4f-d7d653c366e3",
   "metadata": {},
   "outputs": [],
   "source": [
    "# Target 변수를 종속변수로 하여 다중선형회귀모델링을 진행했을 때 v2 컬럼의 회귀 계수는?"
   ]
  },
  {
   "cell_type": "code",
   "execution_count": 103,
   "id": "a1a89cca-42aa-4c55-be49-f24755ecf66a",
   "metadata": {},
   "outputs": [
    {
     "name": "stdout",
     "output_type": "stream",
     "text": [
      "                            OLS Regression Results                            \n",
      "==============================================================================\n",
      "Dep. Variable:                 Target   R-squared:                       0.999\n",
      "Model:                            OLS   Adj. R-squared:                  0.999\n",
      "Method:                 Least Squares   F-statistic:                 5.228e+04\n",
      "Date:                Tue, 03 Jun 2025   Prob (F-statistic):               0.00\n",
      "Time:                        14:58:08   Log-Likelihood:                -707.67\n",
      "No. Observations:                1000   AIC:                             1459.\n",
      "Df Residuals:                     978   BIC:                             1567.\n",
      "Df Model:                          21                                         \n",
      "Covariance Type:            nonrobust                                         \n",
      "==============================================================================\n",
      "                 coef    std err          t      P>|t|      [0.025      0.975]\n",
      "------------------------------------------------------------------------------\n",
      "Intercept      0.0118      0.016      0.739      0.460      -0.019       0.043\n",
      "v1             5.5360      0.016    353.805      0.000       5.505       5.567\n",
      "v2             6.4403      0.016    410.550      0.000       6.410       6.471\n",
      "v3             9.6506      0.016    614.757      0.000       9.620       9.681\n",
      "v4             8.9758      0.016    576.776      0.000       8.945       9.006\n",
      "v5             1.9523      0.016    124.711      0.000       1.922       1.983\n",
      "v6             0.0145      0.016      0.899      0.369      -0.017       0.046\n",
      "v7            -0.0023      0.016     -0.140      0.888      -0.034       0.029\n",
      "v8             0.0173      0.016      1.096      0.274      -0.014       0.048\n",
      "v9            -0.0123      0.016     -0.781      0.435      -0.043       0.019\n",
      "v10           -0.0019      0.016     -0.117      0.906      -0.033       0.030\n",
      "v11            0.0171      0.016      1.099      0.272      -0.013       0.048\n",
      "v12            0.0161      0.016      1.018      0.309      -0.015       0.047\n",
      "v13           -0.0167      0.016     -1.058      0.290      -0.048       0.014\n",
      "v14            0.0068      0.016      0.412      0.681      -0.026       0.039\n",
      "v15           -0.0432      0.017     -2.605      0.009      -0.076      -0.011\n",
      "v16            0.0117      0.016      0.749      0.454      -0.019       0.043\n",
      "v17            0.0156      0.015      1.012      0.312      -0.015       0.046\n",
      "v18            0.0100      0.016      0.628      0.530      -0.021       0.041\n",
      "v19           -0.0174      0.016     -1.119      0.263      -0.048       0.013\n",
      "v20            0.0098      0.015      0.637      0.524      -0.020       0.040\n",
      "v21            0.0015      0.016      0.092      0.927      -0.030       0.033\n",
      "==============================================================================\n",
      "Omnibus:                        4.701   Durbin-Watson:                   2.013\n",
      "Prob(Omnibus):                  0.095   Jarque-Bera (JB):                4.745\n",
      "Skew:                          -0.167   Prob(JB):                       0.0932\n",
      "Kurtosis:                       2.955   Cond. No.                         1.32\n",
      "==============================================================================\n",
      "\n",
      "Notes:\n",
      "[1] Standard Errors assume that the covariance matrix of the errors is correctly specified.\n",
      "6.4403013648430685\n",
      "0.9265545986907633\n"
     ]
    }
   ],
   "source": [
    "from statsmodels.formula.api import ols\n",
    "formula = 'Target ~+v1+v2+v3+v4+v5+v6+v7+v8+v9+v10+v11+v12+v13+v14+v15+v16+v17+v18+v19+v20+v21'\n",
    "model = ols(formula,data =df).fit()                                                                                                                                                                                                                                                                                                                                                                                                                                                                                                           \n",
    "print(model.summary())\n",
    "print(model.params['v2'])\n",
    "print(model.pvalues['v21'])"
   ]
  },
  {
   "cell_type": "code",
   "execution_count": 104,
   "id": "4b93ff9e-5626-4903-97b3-6cc5352233c3",
   "metadata": {},
   "outputs": [
    {
     "data": {
      "text/html": [
       "<div>\n",
       "<style scoped>\n",
       "    .dataframe tbody tr th:only-of-type {\n",
       "        vertical-align: middle;\n",
       "    }\n",
       "\n",
       "    .dataframe tbody tr th {\n",
       "        vertical-align: top;\n",
       "    }\n",
       "\n",
       "    .dataframe thead th {\n",
       "        text-align: right;\n",
       "    }\n",
       "</style>\n",
       "<table border=\"1\" class=\"dataframe\">\n",
       "  <thead>\n",
       "    <tr style=\"text-align: right;\">\n",
       "      <th></th>\n",
       "      <th>age</th>\n",
       "      <th>sex</th>\n",
       "      <th>cp</th>\n",
       "      <th>trestbps</th>\n",
       "      <th>chol</th>\n",
       "      <th>fbs</th>\n",
       "      <th>restecg</th>\n",
       "      <th>thalach</th>\n",
       "      <th>exang</th>\n",
       "      <th>oldpeak</th>\n",
       "      <th>slope</th>\n",
       "      <th>ca</th>\n",
       "      <th>thal</th>\n",
       "      <th>target</th>\n",
       "    </tr>\n",
       "  </thead>\n",
       "  <tbody>\n",
       "    <tr>\n",
       "      <th>0</th>\n",
       "      <td>63.0</td>\n",
       "      <td>1.0</td>\n",
       "      <td>1.0</td>\n",
       "      <td>145.0</td>\n",
       "      <td>233.0</td>\n",
       "      <td>1.0</td>\n",
       "      <td>2.0</td>\n",
       "      <td>150.0</td>\n",
       "      <td>0.0</td>\n",
       "      <td>2.3</td>\n",
       "      <td>3.0</td>\n",
       "      <td>0.0</td>\n",
       "      <td>6.0</td>\n",
       "      <td>0</td>\n",
       "    </tr>\n",
       "    <tr>\n",
       "      <th>1</th>\n",
       "      <td>67.0</td>\n",
       "      <td>1.0</td>\n",
       "      <td>4.0</td>\n",
       "      <td>160.0</td>\n",
       "      <td>286.0</td>\n",
       "      <td>0.0</td>\n",
       "      <td>2.0</td>\n",
       "      <td>108.0</td>\n",
       "      <td>1.0</td>\n",
       "      <td>1.5</td>\n",
       "      <td>2.0</td>\n",
       "      <td>3.0</td>\n",
       "      <td>3.0</td>\n",
       "      <td>1</td>\n",
       "    </tr>\n",
       "    <tr>\n",
       "      <th>2</th>\n",
       "      <td>67.0</td>\n",
       "      <td>1.0</td>\n",
       "      <td>4.0</td>\n",
       "      <td>120.0</td>\n",
       "      <td>229.0</td>\n",
       "      <td>0.0</td>\n",
       "      <td>2.0</td>\n",
       "      <td>129.0</td>\n",
       "      <td>1.0</td>\n",
       "      <td>2.6</td>\n",
       "      <td>2.0</td>\n",
       "      <td>2.0</td>\n",
       "      <td>7.0</td>\n",
       "      <td>1</td>\n",
       "    </tr>\n",
       "    <tr>\n",
       "      <th>3</th>\n",
       "      <td>37.0</td>\n",
       "      <td>1.0</td>\n",
       "      <td>3.0</td>\n",
       "      <td>130.0</td>\n",
       "      <td>250.0</td>\n",
       "      <td>0.0</td>\n",
       "      <td>0.0</td>\n",
       "      <td>187.0</td>\n",
       "      <td>0.0</td>\n",
       "      <td>3.5</td>\n",
       "      <td>3.0</td>\n",
       "      <td>0.0</td>\n",
       "      <td>3.0</td>\n",
       "      <td>0</td>\n",
       "    </tr>\n",
       "    <tr>\n",
       "      <th>4</th>\n",
       "      <td>41.0</td>\n",
       "      <td>0.0</td>\n",
       "      <td>2.0</td>\n",
       "      <td>130.0</td>\n",
       "      <td>204.0</td>\n",
       "      <td>0.0</td>\n",
       "      <td>2.0</td>\n",
       "      <td>172.0</td>\n",
       "      <td>0.0</td>\n",
       "      <td>1.4</td>\n",
       "      <td>1.0</td>\n",
       "      <td>0.0</td>\n",
       "      <td>3.0</td>\n",
       "      <td>0</td>\n",
       "    </tr>\n",
       "  </tbody>\n",
       "</table>\n",
       "</div>"
      ],
      "text/plain": [
       "    age  sex   cp  trestbps   chol  fbs  restecg  thalach  exang  oldpeak  \\\n",
       "0  63.0  1.0  1.0     145.0  233.0  1.0      2.0    150.0    0.0      2.3   \n",
       "1  67.0  1.0  4.0     160.0  286.0  0.0      2.0    108.0    1.0      1.5   \n",
       "2  67.0  1.0  4.0     120.0  229.0  0.0      2.0    129.0    1.0      2.6   \n",
       "3  37.0  1.0  3.0     130.0  250.0  0.0      0.0    187.0    0.0      3.5   \n",
       "4  41.0  0.0  2.0     130.0  204.0  0.0      2.0    172.0    0.0      1.4   \n",
       "\n",
       "   slope   ca  thal  target  \n",
       "0    3.0  0.0   6.0       0  \n",
       "1    2.0  3.0   3.0       1  \n",
       "2    2.0  2.0   7.0       1  \n",
       "3    3.0  0.0   3.0       0  \n",
       "4    1.0  0.0   3.0       0  "
      ]
     },
     "execution_count": 104,
     "metadata": {},
     "output_type": "execute_result"
    }
   ],
   "source": [
    "import pandas as pd \n",
    "df= pd.read_csv('https://raw.githubusercontent.com/Datamanim/datarepo/main/krdatacertificate/e7_p3_t.csv')\n",
    "df.head()"
   ]
  },
  {
   "cell_type": "code",
   "execution_count": 105,
   "id": "58cf48c5-0e30-45d1-9e2b-6aede8ce5151",
   "metadata": {},
   "outputs": [],
   "source": [
    "# train 데이터로 target을 종속변수로 로지스틱 회귀를 진행할 때 age 컬럼의 오즈비를 구하여라"
   ]
  },
  {
   "cell_type": "code",
   "execution_count": 120,
   "id": "515c5af0-223d-40bb-91bd-b87c2bf502bb",
   "metadata": {},
   "outputs": [
    {
     "name": "stdout",
     "output_type": "stream",
     "text": [
      "Optimization terminated successfully.\n",
      "         Current function value: 0.320236\n",
      "         Iterations 7\n",
      "                           Logit Regression Results                           \n",
      "==============================================================================\n",
      "Dep. Variable:                 target   No. Observations:                  210\n",
      "Model:                          Logit   Df Residuals:                      196\n",
      "Method:                           MLE   Df Model:                           13\n",
      "Date:                Tue, 03 Jun 2025   Pseudo R-squ.:                  0.5350\n",
      "Time:                        15:06:08   Log-Likelihood:                -67.250\n",
      "converged:                       True   LL-Null:                       -144.61\n",
      "Covariance Type:            nonrobust   LLR p-value:                 2.308e-26\n",
      "==============================================================================\n",
      "                 coef    std err          z      P>|z|      [0.025      0.975]\n",
      "------------------------------------------------------------------------------\n",
      "Intercept    -10.7525      3.655     -2.942      0.003     -17.917      -3.588\n",
      "age           -0.0056      0.030     -0.184      0.854      -0.065       0.054\n",
      "sex            1.5477      0.666      2.323      0.020       0.242       2.853\n",
      "cp             0.8332      0.259      3.215      0.001       0.325       1.341\n",
      "trestbps       0.0320      0.014      2.356      0.018       0.005       0.059\n",
      "chol           0.0068      0.005      1.448      0.148      -0.002       0.016\n",
      "fbs           -1.1463      0.655     -1.749      0.080      -2.431       0.138\n",
      "restecg        0.3812      0.234      1.631      0.103      -0.077       0.839\n",
      "thalach       -0.0207      0.014     -1.523      0.128      -0.047       0.006\n",
      "exang          0.9930      0.494      2.010      0.044       0.025       1.961\n",
      "oldpeak        0.3693      0.255      1.446      0.148      -0.131       0.870\n",
      "slope          0.6106      0.439      1.390      0.165      -0.251       1.472\n",
      "ca             0.9819      0.315      3.120      0.002       0.365       1.599\n",
      "thal           0.3474      0.124      2.801      0.005       0.104       0.590\n",
      "==============================================================================\n",
      "0.9944442574640204\n"
     ]
    }
   ],
   "source": [
    "train = df.iloc[:210]\n",
    "test = df.iloc[210:]\n",
    "\n",
    "from statsmodels.formula.api import logit\n",
    "import numpy as np\n",
    "formula = 'target~+age+sex+cp+trestbps+chol+fbs+restecg+thalach+exang+oldpeak+slope+ca+thal'\n",
    "model = logit(formula, data= train).fit()\n",
    "print(model.summary())\n",
    "print(np.exp(model.params['age']))"
   ]
  },
  {
   "cell_type": "code",
   "execution_count": 121,
   "id": "921c1f07-82ac-4b54-8dbc-f0a1f262fe15",
   "metadata": {},
   "outputs": [
    {
     "name": "stdout",
     "output_type": "stream",
     "text": [
      "134.49903911342716\n"
     ]
    }
   ],
   "source": [
    "# train으로 로지스틱 회귀 진행했을 경우 잔차 이탈도 (residual deviance)를 계산하라\n",
    "\n",
    "print(-2 * model.llf)"
   ]
  },
  {
   "cell_type": "code",
   "execution_count": 123,
   "id": "7e9ee554-766f-4feb-9905-a58017d7650a",
   "metadata": {},
   "outputs": [
    {
     "name": "stdout",
     "output_type": "stream",
     "text": [
      "-67.24951955671358\n"
     ]
    }
   ],
   "source": [
    "# train으로 로지스틱 회귀 진행했을 경우 로짓 우도값을 도출하라\n",
    "print(model.llf)"
   ]
  },
  {
   "cell_type": "code",
   "execution_count": 124,
   "id": "23477f99-ec62-4d8d-bc84-f9763b0b7f5d",
   "metadata": {},
   "outputs": [],
   "source": [
    "#test 데이터의 독립변수로 target 예측 후 오류율을 구하여라"
   ]
  },
  {
   "cell_type": "code",
   "execution_count": 149,
   "id": "e0873fa1-0e66-48b4-bb93-1a426d16beed",
   "metadata": {},
   "outputs": [
    {
     "name": "stdout",
     "output_type": "stream",
     "text": [
      "0.1954022988505747\n"
     ]
    }
   ],
   "source": [
    "from sklearn.metrics import accuracy_score\n",
    "test_pred = (model.predict(test.drop(columns= ['target'])) > 0.5).astype('int64')\n",
    "\n",
    "error_rate = 1 - accuracy_score(test['target'], test_pred)\n",
    "print(error_rate)"
   ]
  },
  {
   "cell_type": "code",
   "execution_count": 150,
   "id": "0c840e49-89d6-4cf5-9dd2-708bf8f72f4e",
   "metadata": {},
   "outputs": [],
   "source": [
    "#A 도시의 남성 600명과 여성 550명이 있다. 남성들 중 흡연자 비율은 0.2이며 여성들 중 흡연자 비율은 0.26이다.\n",
    "# 남성과 여성 간에 흡연 여부에 따른 인구 비율이 다른지 확인하고 싶다. 유의 수준 0.05하 귀무가설에 대해 기각 / 채택 여부와 p-value값을 각각 출력하라"
   ]
  },
  {
   "cell_type": "code",
   "execution_count": 164,
   "id": "a7eb8d16-9cc3-410c-9286-9c005cc2232e",
   "metadata": {},
   "outputs": [
    {
     "name": "stdout",
     "output_type": "stream",
     "text": [
      "[[120, 480], [143, 407]]\n",
      "Chi2ContingencyResult(statistic=np.float64(5.521247671393307), pvalue=np.float64(0.018786854975740765), dof=1, expected_freq=array([[137.2173913, 462.7826087],\n",
      "       [125.7826087, 424.2173913]]))\n",
      "기각\n"
     ]
    }
   ],
   "source": [
    "man = 600\n",
    "woman = 550\n",
    "\n",
    "smoke_man_ratio = 0.2\n",
    "smoke_woman_ratio = 0.26\n",
    "\n",
    "smoke_man = int(man * smoke_man_ratio)\n",
    "nosmoke_man = int(man - smoke_man)\n",
    "\n",
    "smoke_woman = int(woman * smoke_woman_ratio)\n",
    "nosmoke_woman = int(woman - smoke_woman)\n",
    "\n",
    "table = [[smoke_man,nosmoke_man], [smoke_woman,nosmoke_woman]]\n",
    "print(table)\n",
    "from scipy.stats import chi2_contingency\n",
    "print(chi2_contingency(table))\n",
    "\n",
    "if 0.018786854975740765 > 0.05 : \n",
    "    print(\"채택\")\n",
    "else :\n",
    "    print(\"기각\")"
   ]
  },
  {
   "cell_type": "code",
   "execution_count": 165,
   "id": "944a496f-517a-4573-9cc1-93724a436cbd",
   "metadata": {},
   "outputs": [
    {
     "data": {
      "text/html": [
       "<div>\n",
       "<style scoped>\n",
       "    .dataframe tbody tr th:only-of-type {\n",
       "        vertical-align: middle;\n",
       "    }\n",
       "\n",
       "    .dataframe tbody tr th {\n",
       "        vertical-align: top;\n",
       "    }\n",
       "\n",
       "    .dataframe thead th {\n",
       "        text-align: right;\n",
       "    }\n",
       "</style>\n",
       "<table border=\"1\" class=\"dataframe\">\n",
       "  <thead>\n",
       "    <tr style=\"text-align: right;\">\n",
       "      <th></th>\n",
       "      <th>age</th>\n",
       "      <th>Cholesterol</th>\n",
       "      <th>weight</th>\n",
       "    </tr>\n",
       "  </thead>\n",
       "  <tbody>\n",
       "    <tr>\n",
       "      <th>0</th>\n",
       "      <td>65</td>\n",
       "      <td>69.0</td>\n",
       "      <td>111.0</td>\n",
       "    </tr>\n",
       "    <tr>\n",
       "      <th>1</th>\n",
       "      <td>54</td>\n",
       "      <td>117.0</td>\n",
       "      <td>81.0</td>\n",
       "    </tr>\n",
       "    <tr>\n",
       "      <th>2</th>\n",
       "      <td>61</td>\n",
       "      <td>86.2</td>\n",
       "      <td>72.0</td>\n",
       "    </tr>\n",
       "    <tr>\n",
       "      <th>3</th>\n",
       "      <td>57</td>\n",
       "      <td>76.0</td>\n",
       "      <td>78.0</td>\n",
       "    </tr>\n",
       "    <tr>\n",
       "      <th>4</th>\n",
       "      <td>62</td>\n",
       "      <td>160.0</td>\n",
       "      <td>61.0</td>\n",
       "    </tr>\n",
       "  </tbody>\n",
       "</table>\n",
       "</div>"
      ],
      "text/plain": [
       "   age  Cholesterol  weight\n",
       "0   65         69.0   111.0\n",
       "1   54        117.0    81.0\n",
       "2   61         86.2    72.0\n",
       "3   57         76.0    78.0\n",
       "4   62        160.0    61.0"
      ]
     },
     "execution_count": 165,
     "metadata": {},
     "output_type": "execute_result"
    }
   ],
   "source": [
    "import pandas as pd \n",
    "df= pd.read_csv('https://raw.githubusercontent.com/Datamanim/datarepo/main/adp/28/p7.csv')\n",
    "df.head()"
   ]
  },
  {
   "cell_type": "code",
   "execution_count": 166,
   "id": "c74bd305-feee-40b3-a787-62d3c0f9dd3c",
   "metadata": {},
   "outputs": [],
   "source": [
    "# age와 Cholesterol을 가지고 weight를 예측하는 선형 회귀 모델을 만들려고한다. age의 회귀 계수를 구하여라"
   ]
  },
  {
   "cell_type": "code",
   "execution_count": 172,
   "id": "b62877ac-c45a-44a1-b0c3-5a5ea9af6b00",
   "metadata": {},
   "outputs": [
    {
     "name": "stdout",
     "output_type": "stream",
     "text": [
      "                            OLS Regression Results                            \n",
      "==============================================================================\n",
      "Dep. Variable:                 weight   R-squared:                       0.044\n",
      "Model:                            OLS   Adj. R-squared:                  0.038\n",
      "Method:                 Least Squares   F-statistic:                     7.574\n",
      "Date:                Tue, 03 Jun 2025   Prob (F-statistic):           0.000608\n",
      "Time:                        15:28:04   Log-Likelihood:                -1374.9\n",
      "No. Observations:                 333   AIC:                             2756.\n",
      "Df Residuals:                     330   BIC:                             2767.\n",
      "Df Model:                           2                                         \n",
      "Covariance Type:            nonrobust                                         \n",
      "===============================================================================\n",
      "                  coef    std err          t      P>|t|      [0.025      0.975]\n",
      "-------------------------------------------------------------------------------\n",
      "Intercept      74.8953      4.455     16.813      0.000      66.132      83.658\n",
      "age            -0.0361      0.059     -0.611      0.542      -0.152       0.080\n",
      "Cholesterol     0.0819      0.022      3.716      0.000       0.039       0.125\n",
      "==============================================================================\n",
      "Omnibus:                       15.848   Durbin-Watson:                   2.033\n",
      "Prob(Omnibus):                  0.000   Jarque-Bera (JB):               17.569\n",
      "Skew:                           0.471   Prob(JB):                     0.000153\n",
      "Kurtosis:                       3.617   Cond. No.                         701.\n",
      "==============================================================================\n",
      "\n",
      "Notes:\n",
      "[1] Standard Errors assume that the covariance matrix of the errors is correctly specified.\n",
      "-0.03610166914386536\n"
     ]
    }
   ],
   "source": [
    "from statsmodels.formula.api import ols\n",
    "\n",
    "formula = ('weight ~+age+Cholesterol')\n",
    "model = ols(formula, data =df).fit()\n",
    "print(model.summary())\n",
    "print(model.params['age'])"
   ]
  },
  {
   "cell_type": "code",
   "execution_count": 175,
   "id": "5ff1db56-7a23-4903-aef3-1d64183b29f9",
   "metadata": {},
   "outputs": [
    {
     "name": "stdout",
     "output_type": "stream",
     "text": [
      "선형관계가 있다\n"
     ]
    }
   ],
   "source": [
    "# age가 고정일 때 Cholesterol와 weight가 선형관계에 있다는 가설을 유의수준 0.05하에 검정하라\n",
    "\n",
    "if 0.000 < 0.05:\n",
    "    print(\"선형관계가 있다\")\n",
    "else : \n",
    "    print(\"선형관계가 없다\")"
   ]
  },
  {
   "cell_type": "code",
   "execution_count": 176,
   "id": "80445ec3-8559-45a0-8b7b-5acec64704c6",
   "metadata": {},
   "outputs": [],
   "source": [
    "# age가 55, Cholesterol가 72.6일때 위 모델을 기반으로 weight값을 예측하라."
   ]
  },
  {
   "cell_type": "code",
   "execution_count": 183,
   "id": "4798b05e-7688-4fca-9d46-ca6aefba9e01",
   "metadata": {},
   "outputs": [
    {
     "data": {
      "text/plain": [
       "np.float64(78.8577101134459)"
      ]
     },
     "execution_count": 183,
     "metadata": {},
     "output_type": "execute_result"
    }
   ],
   "source": [
    "result = pd.DataFrame({'age':[55] , 'Cholesterol': [72.6]})\n",
    "model.predict(result).values[0]"
   ]
  },
  {
   "cell_type": "code",
   "execution_count": 197,
   "id": "26a8f3bb-408a-4264-97b5-df968ac14190",
   "metadata": {},
   "outputs": [
    {
     "data": {
      "text/html": [
       "<div>\n",
       "<style scoped>\n",
       "    .dataframe tbody tr th:only-of-type {\n",
       "        vertical-align: middle;\n",
       "    }\n",
       "\n",
       "    .dataframe tbody tr th {\n",
       "        vertical-align: top;\n",
       "    }\n",
       "\n",
       "    .dataframe thead th {\n",
       "        text-align: right;\n",
       "    }\n",
       "</style>\n",
       "<table border=\"1\" class=\"dataframe\">\n",
       "  <thead>\n",
       "    <tr style=\"text-align: right;\">\n",
       "      <th></th>\n",
       "      <th>ID</th>\n",
       "      <th>height</th>\n",
       "    </tr>\n",
       "  </thead>\n",
       "  <tbody>\n",
       "    <tr>\n",
       "      <th>0</th>\n",
       "      <td>user_1</td>\n",
       "      <td>164.57</td>\n",
       "    </tr>\n",
       "    <tr>\n",
       "      <th>1</th>\n",
       "      <td>user_2</td>\n",
       "      <td>174.99</td>\n",
       "    </tr>\n",
       "    <tr>\n",
       "      <th>2</th>\n",
       "      <td>user_3</td>\n",
       "      <td>171.41</td>\n",
       "    </tr>\n",
       "    <tr>\n",
       "      <th>3</th>\n",
       "      <td>user_4</td>\n",
       "      <td>162.47</td>\n",
       "    </tr>\n",
       "    <tr>\n",
       "      <th>4</th>\n",
       "      <td>user_5</td>\n",
       "      <td>167.11</td>\n",
       "    </tr>\n",
       "  </tbody>\n",
       "</table>\n",
       "</div>"
      ],
      "text/plain": [
       "       ID  height\n",
       "0  user_1  164.57\n",
       "1  user_2  174.99\n",
       "2  user_3  171.41\n",
       "3  user_4  162.47\n",
       "4  user_5  167.11"
      ]
     },
     "execution_count": 197,
     "metadata": {},
     "output_type": "execute_result"
    }
   ],
   "source": [
    "import pandas as pd \n",
    "df= pd.read_csv('https://raw.githubusercontent.com/Datamanim/datarepo/main/krdatacertificate/e5_p3_1.csv')\n",
    "df.head()"
   ]
  },
  {
   "cell_type": "code",
   "execution_count": 185,
   "id": "fb9f844f-74d4-49e5-a71e-a9a2e1996345",
   "metadata": {},
   "outputs": [],
   "source": [
    "# 55명 학생들의 키에 대한 표본 평균을 구하여라(반올림하여 소숫점 3째자리까지"
   ]
  },
  {
   "cell_type": "code",
   "execution_count": 187,
   "id": "c6bdf2fe-994c-4ac1-b2ed-0a98d70f19de",
   "metadata": {},
   "outputs": [
    {
     "data": {
      "text/plain": [
       "np.float64(169.937)"
      ]
     },
     "execution_count": 187,
     "metadata": {},
     "output_type": "execute_result"
    }
   ],
   "source": [
    "round(df['height'].mean(),3)"
   ]
  },
  {
   "cell_type": "code",
   "execution_count": 202,
   "id": "3ea7ee75-acc1-4f7b-af7e-4390dc490109",
   "metadata": {},
   "outputs": [
    {
     "name": "stdout",
     "output_type": "stream",
     "text": [
      "2.0049\n"
     ]
    }
   ],
   "source": [
    "from scipy.stats import t\n",
    "\n",
    "n = len(df['height'])\n",
    "std = df['height'].std()\n",
    "ddof = n - 1\n",
    "con = 0.95\n",
    "t_value = t.ppf((1 +con) / 2, ddof)\n",
    "\n",
    "print(round(t_value,4))"
   ]
  },
  {
   "cell_type": "code",
   "execution_count": 203,
   "id": "12967d0e-2eb5-40be-b572-d4bc3408f8ae",
   "metadata": {},
   "outputs": [],
   "source": [
    "# 95% 신뢰구간을 구하여라(print(lower,upper) 방식으로 출력, 각각의 값은 소숫점 이하 3째자리까지)"
   ]
  },
  {
   "cell_type": "code",
   "execution_count": 215,
   "id": "b0c356e7-a5c6-4d71-8c14-d78fd29e97f1",
   "metadata": {},
   "outputs": [
    {
     "name": "stdout",
     "output_type": "stream",
     "text": [
      "168.321\n",
      "171.553\n"
     ]
    }
   ],
   "source": [
    "lower = df['height'].mean()- t_value * std / np.sqrt(n)\n",
    "upper = df['height'].mean()+ t_value * std / np.sqrt(n)\n",
    "print(round(lower,3))\n",
    "print(round(upper,3))"
   ]
  },
  {
   "cell_type": "code",
   "execution_count": 216,
   "id": "4362f7dd-191c-4ea4-9fc7-257171c0f997",
   "metadata": {},
   "outputs": [
    {
     "data": {
      "text/html": [
       "<div>\n",
       "<style scoped>\n",
       "    .dataframe tbody tr th:only-of-type {\n",
       "        vertical-align: middle;\n",
       "    }\n",
       "\n",
       "    .dataframe tbody tr th {\n",
       "        vertical-align: top;\n",
       "    }\n",
       "\n",
       "    .dataframe thead th {\n",
       "        text-align: right;\n",
       "    }\n",
       "</style>\n",
       "<table border=\"1\" class=\"dataframe\">\n",
       "  <thead>\n",
       "    <tr style=\"text-align: right;\">\n",
       "      <th></th>\n",
       "      <th>ID</th>\n",
       "      <th>value</th>\n",
       "    </tr>\n",
       "  </thead>\n",
       "  <tbody>\n",
       "    <tr>\n",
       "      <th>0</th>\n",
       "      <td>A</td>\n",
       "      <td>84.179434</td>\n",
       "    </tr>\n",
       "    <tr>\n",
       "      <th>1</th>\n",
       "      <td>A</td>\n",
       "      <td>93.971003</td>\n",
       "    </tr>\n",
       "    <tr>\n",
       "      <th>2</th>\n",
       "      <td>A</td>\n",
       "      <td>62.140957</td>\n",
       "    </tr>\n",
       "    <tr>\n",
       "      <th>3</th>\n",
       "      <td>A</td>\n",
       "      <td>72.911723</td>\n",
       "    </tr>\n",
       "    <tr>\n",
       "      <th>4</th>\n",
       "      <td>A</td>\n",
       "      <td>79.252747</td>\n",
       "    </tr>\n",
       "  </tbody>\n",
       "</table>\n",
       "</div>"
      ],
      "text/plain": [
       "  ID      value\n",
       "0  A  84.179434\n",
       "1  A  93.971003\n",
       "2  A  62.140957\n",
       "3  A  72.911723\n",
       "4  A  79.252747"
      ]
     },
     "execution_count": 216,
     "metadata": {},
     "output_type": "execute_result"
    }
   ],
   "source": [
    "import pandas as pd \n",
    "df= pd.read_csv('https://raw.githubusercontent.com/Datamanim/datarepo/main/krdatacertificate/e5_p3_2.csv')\n",
    "df.head()"
   ]
  },
  {
   "cell_type": "code",
   "execution_count": 217,
   "id": "eaf62e26-ee12-4d1a-9c8e-70132cf1230d",
   "metadata": {},
   "outputs": [],
   "source": [
    "# 3 그룹의 데이터에 대해 크루스칼-왈리스 검정을 사용하여 검정 통계량을 반올림하여 소숫점 이하 3자리까지 구하여라"
   ]
  },
  {
   "cell_type": "code",
   "execution_count": 228,
   "id": "8807587d-b0e0-4938-b8df-ad9930c0b0f6",
   "metadata": {},
   "outputs": [
    {
     "name": "stdout",
     "output_type": "stream",
     "text": [
      "6.521\n"
     ]
    }
   ],
   "source": [
    "from scipy.stats import kruskal\n",
    "a = df[df['ID'] == 'A']['value']\n",
    "b = df[df['ID'] == 'B']['value']\n",
    "c = df[df['ID'] == 'C']['value']\n",
    "stats, p = kruskal(a,b,c)\n",
    "print(round(stats,3))"
   ]
  },
  {
   "cell_type": "code",
   "execution_count": 230,
   "id": "96ff3960-a809-49fb-b46e-a6b4e1e3b3ae",
   "metadata": {},
   "outputs": [],
   "source": [
    "# 3 그룹의 데이터에 대해 크루스칼-왈리스 검정을 사용하여 p-value를 반올림하여 소숫점 이하 3자리까지 구하여라. \n",
    "#귀무가설과 대립가설중 0.05 유의수준에서 유의한 가설을 출력하라"
   ]
  },
  {
   "cell_type": "code",
   "execution_count": 233,
   "id": "b02ad052-9d59-4a29-948a-24bc74a169d8",
   "metadata": {},
   "outputs": [
    {
     "name": "stdout",
     "output_type": "stream",
     "text": [
      "0.038\n",
      "대립가설\n"
     ]
    }
   ],
   "source": [
    "print(round(p,3))\n",
    "\n",
    "if 0.038 > 0.05:\n",
    "    print(\"귀무가설\") # 제품 길이 차이가 없다 \n",
    "else : \n",
    "    print(\"대립가설\") # 제품 길이가 차이가 있다 "
   ]
  },
  {
   "cell_type": "code",
   "execution_count": 234,
   "id": "a9436242-dedd-41a3-82a9-f5ea6bbce9d9",
   "metadata": {},
   "outputs": [
    {
     "data": {
      "text/html": [
       "<div>\n",
       "<style scoped>\n",
       "    .dataframe tbody tr th:only-of-type {\n",
       "        vertical-align: middle;\n",
       "    }\n",
       "\n",
       "    .dataframe tbody tr th {\n",
       "        vertical-align: top;\n",
       "    }\n",
       "\n",
       "    .dataframe thead th {\n",
       "        text-align: right;\n",
       "    }\n",
       "</style>\n",
       "<table border=\"1\" class=\"dataframe\">\n",
       "  <thead>\n",
       "    <tr style=\"text-align: right;\">\n",
       "      <th></th>\n",
       "      <th>학번</th>\n",
       "      <th>학과</th>\n",
       "      <th>성별</th>\n",
       "    </tr>\n",
       "  </thead>\n",
       "  <tbody>\n",
       "    <tr>\n",
       "      <th>0</th>\n",
       "      <td>DFSKJK_1</td>\n",
       "      <td>경영학과</td>\n",
       "      <td>여</td>\n",
       "    </tr>\n",
       "    <tr>\n",
       "      <th>1</th>\n",
       "      <td>DFSKJK_2</td>\n",
       "      <td>사회학과</td>\n",
       "      <td>여</td>\n",
       "    </tr>\n",
       "    <tr>\n",
       "      <th>2</th>\n",
       "      <td>DFSKJK_3</td>\n",
       "      <td>기계공학과</td>\n",
       "      <td>여</td>\n",
       "    </tr>\n",
       "    <tr>\n",
       "      <th>3</th>\n",
       "      <td>DFSKJK_4</td>\n",
       "      <td>경제학과</td>\n",
       "      <td>남</td>\n",
       "    </tr>\n",
       "    <tr>\n",
       "      <th>4</th>\n",
       "      <td>DFSKJK_5</td>\n",
       "      <td>기계공학과</td>\n",
       "      <td>여</td>\n",
       "    </tr>\n",
       "  </tbody>\n",
       "</table>\n",
       "</div>"
      ],
      "text/plain": [
       "         학번     학과 성별\n",
       "0  DFSKJK_1   경영학과  여\n",
       "1  DFSKJK_2   사회학과  여\n",
       "2  DFSKJK_3  기계공학과  여\n",
       "3  DFSKJK_4   경제학과  남\n",
       "4  DFSKJK_5  기계공학과  여"
      ]
     },
     "execution_count": 234,
     "metadata": {},
     "output_type": "execute_result"
    }
   ],
   "source": [
    "import pandas as pd \n",
    "df= pd.read_csv('https://raw.githubusercontent.com/Datamanim/datarepo/main/krdatacertificate/e4_p3_1_.csv')\n",
    "df.head()"
   ]
  },
  {
   "cell_type": "code",
   "execution_count": 235,
   "id": "d680bab7-aa59-401d-b3b3-a7fa4de00fab",
   "metadata": {},
   "outputs": [],
   "source": [
    "# 학과 평균 인원에 대한 값을 소숫점 이하 3자리까지 구하여라"
   ]
  },
  {
   "cell_type": "code",
   "execution_count": 237,
   "id": "3b014e4d-dddc-4a5c-97cd-712496c716dd",
   "metadata": {},
   "outputs": [
    {
     "data": {
      "text/plain": [
       "np.float64(170.333)"
      ]
     },
     "execution_count": 237,
     "metadata": {},
     "output_type": "execute_result"
    }
   ],
   "source": [
    "round(df.groupby(\"학과\").size().mean(),3)"
   ]
  },
  {
   "cell_type": "code",
   "execution_count": 239,
   "id": "1d74ef05-8325-4e45-b0d4-d485db75e867",
   "metadata": {},
   "outputs": [],
   "source": [
    "# 카이제곱검정 독립성 검정 통계량을 소숫점 이하 3자리까지 구하여라\n",
    "# 학생들의 학과와 성별이 서로 독립적인지 여부를 확인하기 위해 카이제곱 독립성 검정을 실시 하려한다."
   ]
  },
  {
   "cell_type": "code",
   "execution_count": 248,
   "id": "6232d4db-b01d-4add-8393-fb504c937bdc",
   "metadata": {},
   "outputs": [
    {
     "name": "stdout",
     "output_type": "stream",
     "text": [
      "Chi2ContingencyResult(statistic=np.float64(5.646488667066097), pvalue=np.float64(0.342150057349799), dof=5, expected_freq=array([[159.55772994, 161.44227006],\n",
      "       [ 84.50097847,  85.49902153],\n",
      "       [121.28375734, 122.71624266],\n",
      "       [ 49.20939335,  49.79060665],\n",
      "       [ 29.32681018,  29.67318982],\n",
      "       [ 64.12133072,  64.87866928]]))\n",
      "5.646\n"
     ]
    }
   ],
   "source": [
    "from scipy.stats import chi2_contingency\n",
    "table = pd.crosstab(df['학과'], df['성별'])\n",
    "print(chi2_contingency(table))\n",
    "print(round(5.646488667066097,3))"
   ]
  },
  {
   "cell_type": "code",
   "execution_count": 249,
   "id": "a610f406-0138-4c24-b51e-b5716c3083eb",
   "metadata": {},
   "outputs": [],
   "source": [
    "# 카이제곱검정 독립성 검정의 pvalue를 소숫점 이하 3자리까지 구하여라. 유의수준 0.05하에서 귀무가설과 대립가설중 유의한 것을 출력하라"
   ]
  },
  {
   "cell_type": "code",
   "execution_count": 251,
   "id": "e4c7bba2-03f0-47a5-b38f-6be096c5d319",
   "metadata": {},
   "outputs": [
    {
     "name": "stdout",
     "output_type": "stream",
     "text": [
      "0.342\n",
      "귀무\n"
     ]
    }
   ],
   "source": [
    "print(round(0.342150057349799,3))\n",
    "\n",
    "if 0.342 > 0.05:\n",
    "    print(\"귀무\")\n",
    "else :\n",
    "    print(\"대립\")"
   ]
  },
  {
   "cell_type": "code",
   "execution_count": 252,
   "id": "484e5723-27fa-44d1-abef-adce57e86696",
   "metadata": {},
   "outputs": [],
   "source": [
    "# 어느 학교에서 수학 시험을 본 학생 100명 중 60명이 60점 이상을 받았다. 이 학교의 수학 시험의 평균 점수가 50점 이상인지 95%의 신뢰 수준에서 검정하려한다."
   ]
  },
  {
   "cell_type": "code",
   "execution_count": 262,
   "id": "ee6ee845-99db-4342-bf4c-a2e6d3f75dee",
   "metadata": {},
   "outputs": [
    {
     "data": {
      "text/plain": [
       "np.float64(2.0)"
      ]
     },
     "execution_count": 262,
     "metadata": {},
     "output_type": "execute_result"
    }
   ],
   "source": [
    "# 검정 통계량을 소숫점 이하 3자리에서 구하시오\n",
    "# 비율에 대한 z 검정 = z-score\n",
    "\n",
    "n = 100\n",
    "p_hat = 0.6\n",
    "p = 0.5\n",
    "con = 0.05\n",
    "\n",
    "import numpy as np\n",
    "\n",
    "t = (p_hat -p) / np.sqrt(p * (1 - p) / n)\n",
    "round(t,5)"
   ]
  },
  {
   "cell_type": "code",
   "execution_count": 267,
   "id": "c530d2eb-aa98-4469-8922-f69e5c9a5035",
   "metadata": {},
   "outputs": [
    {
     "name": "stdout",
     "output_type": "stream",
     "text": [
      "0.023\n",
      "대립\n"
     ]
    }
   ],
   "source": [
    "# pvalue를 소숫점 이하 3자리까지 구하고 귀무가설과 대립가설중 유의한 것을 출력하라\n",
    "\n",
    "from scipy.stats import norm\n",
    "\n",
    "print(round(1 - norm.cdf(t),3))\n",
    "\n",
    "pvalues = round(1 - norm.cdf(t),3)\n",
    "\n",
    "if pvalues > 0.05:\n",
    "    print(\"귀무\")\n",
    "else:\n",
    "    print(\"대립\")"
   ]
  },
  {
   "cell_type": "code",
   "execution_count": 268,
   "id": "b19bbaef-c682-49f1-960f-b426ed746f36",
   "metadata": {},
   "outputs": [],
   "source": [
    "# 투약 후 체중에서 투약 전 체중을 뺏을 때 값은 일반 적으로 세가지 등급으로 나눈다.\n",
    "#-3이하 : A등급, -3초과 0이하 : B등급, 0 초과 : C등급. 약 실험에서 \n",
    "#A,B,C 그룹간의 인원 수 비율은 2:1:1로 알려져 있다. 위 데이터 표본은 각 범주의 비율에 적합한지 카이제곱 검정하려한다."
   ]
  },
  {
   "cell_type": "code",
   "execution_count": 304,
   "id": "48a93829-efd4-455e-a901-8b09d92d09cb",
   "metadata": {},
   "outputs": [
    {
     "data": {
      "text/html": [
       "<div>\n",
       "<style scoped>\n",
       "    .dataframe tbody tr th:only-of-type {\n",
       "        vertical-align: middle;\n",
       "    }\n",
       "\n",
       "    .dataframe tbody tr th {\n",
       "        vertical-align: top;\n",
       "    }\n",
       "\n",
       "    .dataframe thead th {\n",
       "        text-align: right;\n",
       "    }\n",
       "</style>\n",
       "<table border=\"1\" class=\"dataframe\">\n",
       "  <thead>\n",
       "    <tr style=\"text-align: right;\">\n",
       "      <th></th>\n",
       "      <th>ID</th>\n",
       "      <th>투약전</th>\n",
       "      <th>투약후</th>\n",
       "    </tr>\n",
       "  </thead>\n",
       "  <tbody>\n",
       "    <tr>\n",
       "      <th>0</th>\n",
       "      <td>user_1</td>\n",
       "      <td>55.137</td>\n",
       "      <td>56.106</td>\n",
       "    </tr>\n",
       "    <tr>\n",
       "      <th>1</th>\n",
       "      <td>user_2</td>\n",
       "      <td>66.584</td>\n",
       "      <td>60.409</td>\n",
       "    </tr>\n",
       "    <tr>\n",
       "      <th>2</th>\n",
       "      <td>user_3</td>\n",
       "      <td>52.259</td>\n",
       "      <td>50.639</td>\n",
       "    </tr>\n",
       "    <tr>\n",
       "      <th>3</th>\n",
       "      <td>user_4</td>\n",
       "      <td>77.081</td>\n",
       "      <td>69.164</td>\n",
       "    </tr>\n",
       "    <tr>\n",
       "      <th>4</th>\n",
       "      <td>user_5</td>\n",
       "      <td>62.677</td>\n",
       "      <td>57.622</td>\n",
       "    </tr>\n",
       "  </tbody>\n",
       "</table>\n",
       "</div>"
      ],
      "text/plain": [
       "       ID     투약전     투약후\n",
       "0  user_1  55.137  56.106\n",
       "1  user_2  66.584  60.409\n",
       "2  user_3  52.259  50.639\n",
       "3  user_4  77.081  69.164\n",
       "4  user_5  62.677  57.622"
      ]
     },
     "execution_count": 304,
     "metadata": {},
     "output_type": "execute_result"
    }
   ],
   "source": [
    "import pandas as pd \n",
    "df= pd.read_csv('https://raw.githubusercontent.com/Datamanim/datarepo/main/krdatacertificate/e3_p3_1.csv')\n",
    "df.head()"
   ]
  },
  {
   "cell_type": "code",
   "execution_count": 307,
   "id": "5b6f9f09-6d35-40c5-94d8-342422b5f5a0",
   "metadata": {},
   "outputs": [
    {
     "name": "stdout",
     "output_type": "stream",
     "text": [
      "3.613\n"
     ]
    }
   ],
   "source": [
    "from scipy.stats import chisquare\n",
    "\n",
    "# A등급에 해당하는 유저는 몇명인지 확인하라\n",
    "\n",
    "df['diff'] = df['투약후'] - df['투약전']\n",
    "\n",
    "def g(x):\n",
    "    if x <= -3:\n",
    "        return 'A등급'\n",
    "    if x > -3 and x <= 0:\n",
    "        return 'B등급'\n",
    "    if x > 0 :\n",
    "        return 'C등급'\n",
    "df['등급'] = df['diff'].apply(g)\n",
    "counts = df['등급'].value_counts().sort_index()\n",
    "total = counts.sum()\n",
    "expect = [total * 0.5 , total *  0.25 , total * 0.25]\n",
    "\n",
    "stats, p = chisquare(counts,expect)\n",
    "\n",
    "print(round(stats,3))"
   ]
  },
  {
   "cell_type": "code",
   "execution_count": 279,
   "id": "49230d00-ede0-43c8-8aef-4140bf6551c8",
   "metadata": {},
   "outputs": [
    {
     "data": {
      "text/plain": [
       "['chi', 'chi2', 'chi2_contingency', 'chisquare', 'friedmanchisquare']"
      ]
     },
     "execution_count": 279,
     "metadata": {},
     "output_type": "execute_result"
    }
   ],
   "source": [
    "from scipy import stats\n",
    "\n",
    "list(filter(lambda x : 'chi' in x , dir(stats)))"
   ]
  },
  {
   "cell_type": "code",
   "execution_count": 309,
   "id": "5274ae48-4d83-4f01-bef1-b44ab733f68f",
   "metadata": {},
   "outputs": [
    {
     "name": "stdout",
     "output_type": "stream",
     "text": [
      "0.164\n",
      "귀무\n"
     ]
    }
   ],
   "source": [
    "print(round(p,3))\n",
    "\n",
    "if 0.164 > 0.05:\n",
    "    print(\"귀무\")\n",
    "else:\n",
    "    print(\"대립\")"
   ]
  },
  {
   "cell_type": "code",
   "execution_count": 310,
   "id": "b425d910-9ebe-4937-a98a-00c2cd05cbda",
   "metadata": {},
   "outputs": [
    {
     "data": {
      "text/html": [
       "<div>\n",
       "<style scoped>\n",
       "    .dataframe tbody tr th:only-of-type {\n",
       "        vertical-align: middle;\n",
       "    }\n",
       "\n",
       "    .dataframe tbody tr th {\n",
       "        vertical-align: top;\n",
       "    }\n",
       "\n",
       "    .dataframe thead th {\n",
       "        text-align: right;\n",
       "    }\n",
       "</style>\n",
       "<table border=\"1\" class=\"dataframe\">\n",
       "  <thead>\n",
       "    <tr style=\"text-align: right;\">\n",
       "      <th></th>\n",
       "      <th>rpm</th>\n",
       "      <th>group</th>\n",
       "    </tr>\n",
       "  </thead>\n",
       "  <tbody>\n",
       "    <tr>\n",
       "      <th>0</th>\n",
       "      <td>163.6</td>\n",
       "      <td>A</td>\n",
       "    </tr>\n",
       "    <tr>\n",
       "      <th>1</th>\n",
       "      <td>246.9</td>\n",
       "      <td>A</td>\n",
       "    </tr>\n",
       "    <tr>\n",
       "      <th>2</th>\n",
       "      <td>234.9</td>\n",
       "      <td>A</td>\n",
       "    </tr>\n",
       "    <tr>\n",
       "      <th>3</th>\n",
       "      <td>156.9</td>\n",
       "      <td>A</td>\n",
       "    </tr>\n",
       "    <tr>\n",
       "      <th>4</th>\n",
       "      <td>226.6</td>\n",
       "      <td>A</td>\n",
       "    </tr>\n",
       "  </tbody>\n",
       "</table>\n",
       "</div>"
      ],
      "text/plain": [
       "     rpm group\n",
       "0  163.6     A\n",
       "1  246.9     A\n",
       "2  234.9     A\n",
       "3  156.9     A\n",
       "4  226.6     A"
      ]
     },
     "execution_count": 310,
     "metadata": {},
     "output_type": "execute_result"
    }
   ],
   "source": [
    "import pandas as pd\n",
    "df = pd.read_csv('https://raw.githubusercontent.com/Datamanim/datarepo/main/krdatacertificate/e3_p3_2_.csv')\n",
    "df.head()"
   ]
  },
  {
   "cell_type": "code",
   "execution_count": 311,
   "id": "027d8f9f-5c41-4c0d-a83e-2afaa10dc233",
   "metadata": {},
   "outputs": [],
   "source": [
    "# A,B 공장 각각 정규성을 가지는지 샤피로 검정을 통해 확인하라. (각 공장의 pvalue 출력할 것)"
   ]
  },
  {
   "cell_type": "code",
   "execution_count": 318,
   "id": "0771db7c-a4ff-48e5-8555-5a8b12dc1ecf",
   "metadata": {},
   "outputs": [
    {
     "data": {
      "text/html": [
       "<div>\n",
       "<style scoped>\n",
       "    .dataframe tbody tr th:only-of-type {\n",
       "        vertical-align: middle;\n",
       "    }\n",
       "\n",
       "    .dataframe tbody tr th {\n",
       "        vertical-align: top;\n",
       "    }\n",
       "\n",
       "    .dataframe thead th {\n",
       "        text-align: right;\n",
       "    }\n",
       "</style>\n",
       "<table border=\"1\" class=\"dataframe\">\n",
       "  <thead>\n",
       "    <tr style=\"text-align: right;\">\n",
       "      <th></th>\n",
       "      <th>rpm</th>\n",
       "      <th>group</th>\n",
       "    </tr>\n",
       "  </thead>\n",
       "  <tbody>\n",
       "    <tr>\n",
       "      <th>0</th>\n",
       "      <td>163.6</td>\n",
       "      <td>A</td>\n",
       "    </tr>\n",
       "    <tr>\n",
       "      <th>1</th>\n",
       "      <td>246.9</td>\n",
       "      <td>A</td>\n",
       "    </tr>\n",
       "    <tr>\n",
       "      <th>2</th>\n",
       "      <td>234.9</td>\n",
       "      <td>A</td>\n",
       "    </tr>\n",
       "    <tr>\n",
       "      <th>3</th>\n",
       "      <td>156.9</td>\n",
       "      <td>A</td>\n",
       "    </tr>\n",
       "    <tr>\n",
       "      <th>4</th>\n",
       "      <td>226.6</td>\n",
       "      <td>A</td>\n",
       "    </tr>\n",
       "  </tbody>\n",
       "</table>\n",
       "</div>"
      ],
      "text/plain": [
       "     rpm group\n",
       "0  163.6     A\n",
       "1  246.9     A\n",
       "2  234.9     A\n",
       "3  156.9     A\n",
       "4  226.6     A"
      ]
     },
     "execution_count": 318,
     "metadata": {},
     "output_type": "execute_result"
    }
   ],
   "source": [
    "import pandas as pd\n",
    "df = pd.read_csv('https://raw.githubusercontent.com/Datamanim/datarepo/main/krdatacertificate/e3_p3_2_.csv')\n",
    "df.head()"
   ]
  },
  {
   "cell_type": "code",
   "execution_count": 319,
   "id": "5137d1cf-8b70-4095-84ed-7456ca82bac4",
   "metadata": {},
   "outputs": [],
   "source": [
    "from scipy.stats import shapiro"
   ]
  },
  {
   "cell_type": "code",
   "execution_count": 327,
   "id": "78ed5d9e-fd5f-4203-82ad-3c979778ee0f",
   "metadata": {},
   "outputs": [
    {
     "name": "stdout",
     "output_type": "stream",
     "text": [
      "ShapiroResult(statistic=np.float64(0.9863896921013734), pvalue=np.float64(0.3979080924239819))\n",
      "ShapiroResult(statistic=np.float64(0.9943944976838186), pvalue=np.float64(0.9562843067714428))\n"
     ]
    }
   ],
   "source": [
    "a = df[df['group'] == 'A']['rpm']\n",
    "b = df[df['group'] == 'B']['rpm']\n",
    "\n",
    "print(shapiro(a))\n",
    "print(shapiro(b))"
   ]
  },
  {
   "cell_type": "code",
   "execution_count": 329,
   "id": "a71d21cd-547e-498f-a4f2-f80c2bf0655d",
   "metadata": {},
   "outputs": [
    {
     "name": "stdout",
     "output_type": "stream",
     "text": [
      "LeveneResult(statistic=np.float64(0.014634456943777612), pvalue=np.float64(0.9038351280607178))\n"
     ]
    }
   ],
   "source": [
    "# 등분산성 \n",
    "from scipy.stats import levene\n",
    "print(levene(a,b))"
   ]
  },
  {
   "cell_type": "code",
   "execution_count": 335,
   "id": "8207642f-f666-4220-9bdc-5dff20320646",
   "metadata": {},
   "outputs": [],
   "source": [
    "# B공장 제품들의 rpm이 A 공장 제품의 rpm보다 크다고 말할 수 있는지 검정하라. pvalue를 소숫점 이하 3자리까지 출력하고 귀무가설, 대립가설 중 하나를 출력하라*"
   ]
  },
  {
   "cell_type": "code",
   "execution_count": 334,
   "id": "00ee7c5a-0af6-4866-bce3-f4280e705775",
   "metadata": {},
   "outputs": [
    {
     "name": "stdout",
     "output_type": "stream",
     "text": [
      "2.408800138279077\n",
      "0.00892720834671119\n"
     ]
    }
   ],
   "source": [
    "from scipy.stats import ttest_rel\n",
    "stats, p = ttest_rel(b,a, alternative = 'greater')\n",
    "print(stats)\n",
    "print(p)"
   ]
  },
  {
   "cell_type": "code",
   "execution_count": 365,
   "id": "0e1e7b26-08f9-4398-ae20-e37263f55aee",
   "metadata": {},
   "outputs": [
    {
     "data": {
      "text/html": [
       "<div>\n",
       "<style scoped>\n",
       "    .dataframe tbody tr th:only-of-type {\n",
       "        vertical-align: middle;\n",
       "    }\n",
       "\n",
       "    .dataframe tbody tr th {\n",
       "        vertical-align: top;\n",
       "    }\n",
       "\n",
       "    .dataframe thead th {\n",
       "        text-align: right;\n",
       "    }\n",
       "</style>\n",
       "<table border=\"1\" class=\"dataframe\">\n",
       "  <thead>\n",
       "    <tr style=\"text-align: right;\">\n",
       "      <th></th>\n",
       "      <th>fish</th>\n",
       "      <th>height</th>\n",
       "    </tr>\n",
       "  </thead>\n",
       "  <tbody>\n",
       "    <tr>\n",
       "      <th>0</th>\n",
       "      <td>fish_1</td>\n",
       "      <td>33.74cm</td>\n",
       "    </tr>\n",
       "    <tr>\n",
       "      <th>1</th>\n",
       "      <td>fish_2</td>\n",
       "      <td>31.64cm</td>\n",
       "    </tr>\n",
       "    <tr>\n",
       "      <th>2</th>\n",
       "      <td>fish_3</td>\n",
       "      <td>27.49cm</td>\n",
       "    </tr>\n",
       "    <tr>\n",
       "      <th>3</th>\n",
       "      <td>fish_4</td>\n",
       "      <td>31.43cm</td>\n",
       "    </tr>\n",
       "    <tr>\n",
       "      <th>4</th>\n",
       "      <td>fish_5</td>\n",
       "      <td>27.56cm</td>\n",
       "    </tr>\n",
       "  </tbody>\n",
       "</table>\n",
       "</div>"
      ],
      "text/plain": [
       "     fish   height\n",
       "0  fish_1  33.74cm\n",
       "1  fish_2  31.64cm\n",
       "2  fish_3  27.49cm\n",
       "3  fish_4  31.43cm\n",
       "4  fish_5  27.56cm"
      ]
     },
     "execution_count": 365,
     "metadata": {},
     "output_type": "execute_result"
    }
   ],
   "source": [
    "import pandas as pd\n",
    "df = pd.read_csv('https://raw.githubusercontent.com/Datamanim/datarepo/main/krdatacertificate/e2_p3_1.csv')\n",
    "df.head(5)"
   ]
  },
  {
   "cell_type": "code",
   "execution_count": 366,
   "id": "7247f4da-fc5d-4352-bc2c-329bab761ffb",
   "metadata": {},
   "outputs": [],
   "source": [
    "# 122마리의 height 평균값을 m(미터) 단위로 소숫점 이하 5자리까지 실수 값만 출력하라"
   ]
  },
  {
   "cell_type": "code",
   "execution_count": 367,
   "id": "db1a1227-b04e-49c0-9e23-2af2d2a38bf1",
   "metadata": {},
   "outputs": [
    {
     "data": {
      "text/plain": [
       "np.float64(0.29951)"
      ]
     },
     "execution_count": 367,
     "metadata": {},
     "output_type": "execute_result"
    }
   ],
   "source": [
    "df['height'] = df['height'].str.replace('cm',' ').astype('float')\n",
    "result = df['height'].mean() / 100\n",
    "round(result,5)"
   ]
  },
  {
   "cell_type": "code",
   "execution_count": 368,
   "id": "61b2abf1-1693-44b2-a5b6-68bfde14593d",
   "metadata": {},
   "outputs": [],
   "source": [
    "# 모집단의 평균 길이가 30cm 인지 확인하려 일표본 t 검정을 시행하여 확인하려한다. 검정통계량을 소숫점 이하 3째자리까지 구하여라"
   ]
  },
  {
   "cell_type": "code",
   "execution_count": 372,
   "id": "a61b3bc3-90ea-441a-b495-04e8d8610bc4",
   "metadata": {},
   "outputs": [
    {
     "name": "stdout",
     "output_type": "stream",
     "text": [
      "-0.217\n"
     ]
    }
   ],
   "source": [
    "from scipy.stats import ttest_1samp\n",
    "stats , p = ttest_1samp(df['height'], 30)\n",
    "print(round(stats,3))"
   ]
  },
  {
   "cell_type": "code",
   "execution_count": 373,
   "id": "b6b5a4eb-e104-4786-b5be-cdee8a358089",
   "metadata": {},
   "outputs": [],
   "source": [
    "# 위의 통계량에 대한 p-값을 구하고 (반올림하여 소숫점 이하 3째자리), 유의수준 0.05하에서 귀무가설과 대립가설중 유의한 가설을 하나를 선택하시오(귀무/대립"
   ]
  },
  {
   "cell_type": "code",
   "execution_count": 375,
   "id": "49f55ef5-2984-4789-b664-6fde52006a2b",
   "metadata": {},
   "outputs": [
    {
     "name": "stdout",
     "output_type": "stream",
     "text": [
      "0.829\n",
      "귀무\n"
     ]
    }
   ],
   "source": [
    "print(round(p,3))\n",
    "\n",
    "if 0.829 > 0.05:\n",
    "    print(\"귀무\")\n",
    "else :\n",
    "    print(\"대립\")"
   ]
  },
  {
   "cell_type": "code",
   "execution_count": 376,
   "id": "01d928a1-c573-41dc-a579-545f37b2916b",
   "metadata": {},
   "outputs": [],
   "source": [
    "# 조사결과 70%의 성인 남성이 3년 동안에 적어도 1번 치과를 찾는다고 할때, 21명의 성인 남성이 임의로 추출되었다고 하자."
   ]
  },
  {
   "cell_type": "code",
   "execution_count": 377,
   "id": "68d026ad-46ba-472c-b1e7-fc309b394696",
   "metadata": {},
   "outputs": [],
   "source": [
    "n = 21 \n",
    "p = 0.7"
   ]
  },
  {
   "cell_type": "code",
   "execution_count": 382,
   "id": "fe6688aa-270f-4681-82a3-26581987a527",
   "metadata": {},
   "outputs": [
    {
     "name": "stdout",
     "output_type": "stream",
     "text": [
      "0.6372880857234828\n"
     ]
    }
   ],
   "source": [
    "# 21명 중 16명 미만이 치과를 찾았을 확률(반올림하여 소숫점 이하 3자리)\n",
    "\n",
    "from scipy.stats import binom\n",
    "\n",
    "p = 0.7\n",
    "n = 21 \n",
    "k = 16 \n",
    "\n",
    "result = binom.cdf(k-1,n,p)\n",
    "print(result)"
   ]
  },
  {
   "cell_type": "code",
   "execution_count": 383,
   "id": "76c70513-e198-4889-87c6-bd686baf57f0",
   "metadata": {},
   "outputs": [],
   "source": [
    "# 적어도 19명이 치과를 찾았을 확률(반올림하여 소숫점 이하 3자리)"
   ]
  },
  {
   "cell_type": "code",
   "execution_count": 386,
   "id": "c6df8c5f-d428-4df5-83f2-5028a3bcb4c5",
   "metadata": {},
   "outputs": [
    {
     "name": "stdout",
     "output_type": "stream",
     "text": [
      "0.027129370541188025\n"
     ]
    }
   ],
   "source": [
    "a   \n",
    "n = 21\n",
    "p = 0.7\n",
    "k = 19\n",
    "result = 1-  binom.cdf(k-1,n,p)\n",
    "print(result)"
   ]
  },
  {
   "cell_type": "code",
   "execution_count": null,
   "id": "1db1f9c9-d800-4162-8717-112bc0baf60a",
   "metadata": {},
   "outputs": [],
   "source": []
  }
 ],
 "metadata": {
  "kernelspec": {
   "display_name": "Python 3 (ipykernel)",
   "language": "python",
   "name": "python3"
  },
  "language_info": {
   "codemirror_mode": {
    "name": "ipython",
    "version": 3
   },
   "file_extension": ".py",
   "mimetype": "text/x-python",
   "name": "python",
   "nbconvert_exporter": "python",
   "pygments_lexer": "ipython3",
   "version": "3.13.3"
  }
 },
 "nbformat": 4,
 "nbformat_minor": 5
}
