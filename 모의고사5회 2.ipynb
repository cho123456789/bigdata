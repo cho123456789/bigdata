{
 "cells": [
  {
   "cell_type": "code",
   "execution_count": 1,
   "id": "9eb41bd5-0b25-47f2-988a-f1bca0bb5fa1",
   "metadata": {},
   "outputs": [
    {
     "data": {
      "text/html": [
       "<div>\n",
       "<style scoped>\n",
       "    .dataframe tbody tr th:only-of-type {\n",
       "        vertical-align: middle;\n",
       "    }\n",
       "\n",
       "    .dataframe tbody tr th {\n",
       "        vertical-align: top;\n",
       "    }\n",
       "\n",
       "    .dataframe thead th {\n",
       "        text-align: right;\n",
       "    }\n",
       "</style>\n",
       "<table border=\"1\" class=\"dataframe\">\n",
       "  <thead>\n",
       "    <tr style=\"text-align: right;\">\n",
       "      <th></th>\n",
       "      <th>시도명</th>\n",
       "      <th>시군구명</th>\n",
       "      <th>종량제봉투종류</th>\n",
       "      <th>종량제봉투처리방식</th>\n",
       "      <th>종량제봉투용도</th>\n",
       "      <th>종량제봉투사용대상</th>\n",
       "      <th>1L가격</th>\n",
       "      <th>1.5L가격</th>\n",
       "      <th>2L가격</th>\n",
       "      <th>2.5L가격</th>\n",
       "      <th>...</th>\n",
       "      <th>60L가격</th>\n",
       "      <th>75L가격</th>\n",
       "      <th>100L가격</th>\n",
       "      <th>120L가격</th>\n",
       "      <th>125L가격</th>\n",
       "      <th>관리부서명</th>\n",
       "      <th>관리부서전화번호</th>\n",
       "      <th>데이터기준일자</th>\n",
       "      <th>제공기관코드</th>\n",
       "      <th>제공기관명</th>\n",
       "    </tr>\n",
       "  </thead>\n",
       "  <tbody>\n",
       "    <tr>\n",
       "      <th>0</th>\n",
       "      <td>경기도</td>\n",
       "      <td>안양시</td>\n",
       "      <td>규격봉투</td>\n",
       "      <td>매립용</td>\n",
       "      <td>생활쓰레기</td>\n",
       "      <td>사업장용</td>\n",
       "      <td>0</td>\n",
       "      <td>0</td>\n",
       "      <td>0</td>\n",
       "      <td>0</td>\n",
       "      <td>...</td>\n",
       "      <td>0</td>\n",
       "      <td>2100</td>\n",
       "      <td>0</td>\n",
       "      <td>0</td>\n",
       "      <td>0</td>\n",
       "      <td>자원순환과</td>\n",
       "      <td>031-8045-5448</td>\n",
       "      <td>2022-08-12</td>\n",
       "      <td>3830000</td>\n",
       "      <td>경기도 안양시</td>\n",
       "    </tr>\n",
       "    <tr>\n",
       "      <th>1</th>\n",
       "      <td>경기도</td>\n",
       "      <td>안양시</td>\n",
       "      <td>규격봉투</td>\n",
       "      <td>매립용</td>\n",
       "      <td>생활쓰레기</td>\n",
       "      <td>기타</td>\n",
       "      <td>0</td>\n",
       "      <td>0</td>\n",
       "      <td>0</td>\n",
       "      <td>0</td>\n",
       "      <td>...</td>\n",
       "      <td>0</td>\n",
       "      <td>2100</td>\n",
       "      <td>0</td>\n",
       "      <td>0</td>\n",
       "      <td>0</td>\n",
       "      <td>자원순환과</td>\n",
       "      <td>031-8045-5448</td>\n",
       "      <td>2022-08-12</td>\n",
       "      <td>3830000</td>\n",
       "      <td>경기도 안양시</td>\n",
       "    </tr>\n",
       "    <tr>\n",
       "      <th>2</th>\n",
       "      <td>경기도</td>\n",
       "      <td>안양시</td>\n",
       "      <td>규격봉투</td>\n",
       "      <td>소각용</td>\n",
       "      <td>음식물쓰레기</td>\n",
       "      <td>가정용</td>\n",
       "      <td>0</td>\n",
       "      <td>50</td>\n",
       "      <td>0</td>\n",
       "      <td>80</td>\n",
       "      <td>...</td>\n",
       "      <td>0</td>\n",
       "      <td>0</td>\n",
       "      <td>0</td>\n",
       "      <td>0</td>\n",
       "      <td>0</td>\n",
       "      <td>자원순환과</td>\n",
       "      <td>031-8045-5448</td>\n",
       "      <td>2022-08-12</td>\n",
       "      <td>3830000</td>\n",
       "      <td>경기도 안양시</td>\n",
       "    </tr>\n",
       "    <tr>\n",
       "      <th>3</th>\n",
       "      <td>경기도</td>\n",
       "      <td>안양시</td>\n",
       "      <td>규격봉투</td>\n",
       "      <td>소각용</td>\n",
       "      <td>음식물쓰레기</td>\n",
       "      <td>사업장용</td>\n",
       "      <td>0</td>\n",
       "      <td>50</td>\n",
       "      <td>0</td>\n",
       "      <td>80</td>\n",
       "      <td>...</td>\n",
       "      <td>0</td>\n",
       "      <td>0</td>\n",
       "      <td>0</td>\n",
       "      <td>0</td>\n",
       "      <td>0</td>\n",
       "      <td>자원순환과</td>\n",
       "      <td>031-8045-5448</td>\n",
       "      <td>2022-08-12</td>\n",
       "      <td>3830000</td>\n",
       "      <td>경기도 안양시</td>\n",
       "    </tr>\n",
       "    <tr>\n",
       "      <th>4</th>\n",
       "      <td>경기도</td>\n",
       "      <td>안양시</td>\n",
       "      <td>규격봉투</td>\n",
       "      <td>소각용</td>\n",
       "      <td>음식물쓰레기</td>\n",
       "      <td>기타</td>\n",
       "      <td>0</td>\n",
       "      <td>50</td>\n",
       "      <td>0</td>\n",
       "      <td>80</td>\n",
       "      <td>...</td>\n",
       "      <td>0</td>\n",
       "      <td>0</td>\n",
       "      <td>0</td>\n",
       "      <td>0</td>\n",
       "      <td>0</td>\n",
       "      <td>자원순환과</td>\n",
       "      <td>031-8045-5448</td>\n",
       "      <td>2022-08-12</td>\n",
       "      <td>3830000</td>\n",
       "      <td>경기도 안양시</td>\n",
       "    </tr>\n",
       "  </tbody>\n",
       "</table>\n",
       "<p>5 rows × 26 columns</p>\n",
       "</div>"
      ],
      "text/plain": [
       "   시도명 시군구명 종량제봉투종류 종량제봉투처리방식 종량제봉투용도 종량제봉투사용대상  1L가격  1.5L가격  2L가격  2.5L가격  \\\n",
       "0  경기도  안양시    규격봉투       매립용   생활쓰레기      사업장용     0       0     0       0   \n",
       "1  경기도  안양시    규격봉투       매립용   생활쓰레기        기타     0       0     0       0   \n",
       "2  경기도  안양시    규격봉투       소각용  음식물쓰레기       가정용     0      50     0      80   \n",
       "3  경기도  안양시    규격봉투       소각용  음식물쓰레기      사업장용     0      50     0      80   \n",
       "4  경기도  안양시    규격봉투       소각용  음식물쓰레기        기타     0      50     0      80   \n",
       "\n",
       "   ...  60L가격  75L가격  100L가격  120L가격  125L가격  관리부서명       관리부서전화번호  \\\n",
       "0  ...      0   2100       0       0       0  자원순환과  031-8045-5448   \n",
       "1  ...      0   2100       0       0       0  자원순환과  031-8045-5448   \n",
       "2  ...      0      0       0       0       0  자원순환과  031-8045-5448   \n",
       "3  ...      0      0       0       0       0  자원순환과  031-8045-5448   \n",
       "4  ...      0      0       0       0       0  자원순환과  031-8045-5448   \n",
       "\n",
       "      데이터기준일자   제공기관코드    제공기관명  \n",
       "0  2022-08-12  3830000  경기도 안양시  \n",
       "1  2022-08-12  3830000  경기도 안양시  \n",
       "2  2022-08-12  3830000  경기도 안양시  \n",
       "3  2022-08-12  3830000  경기도 안양시  \n",
       "4  2022-08-12  3830000  경기도 안양시  \n",
       "\n",
       "[5 rows x 26 columns]"
      ]
     },
     "execution_count": 1,
     "metadata": {},
     "output_type": "execute_result"
    }
   ],
   "source": [
    "import pandas as pd\n",
    "df = pd.read_csv('https://raw.githubusercontent.com/Datamanim/datarepo/main/krdatacertificate/e5_p1_1_.csv')\n",
    "df.head(5)"
   ]
  },
  {
   "cell_type": "code",
   "execution_count": 2,
   "id": "02668eaf-0b39-41b6-b7b4-b8d37fa59ab4",
   "metadata": {},
   "outputs": [],
   "source": [
    "#20L가격과 5L가격이 모두 0원이 아닌 데이터만 필터를 한 후, \n",
    "#각 row별로 20L가격과 5L가격의 차이를 ‘차이가격’ 이라 부른다고 하자. \n",
    "#시도명 별 차이가격의 평균가격을 비교할때 그 값이 가장 큰 금액을 반올림하여 소숫점 이하 1자리까지 구하여라"
   ]
  },
  {
   "cell_type": "code",
   "execution_count": 14,
   "id": "65d50b88-e567-4fb2-9b51-0e9f410f10b3",
   "metadata": {},
   "outputs": [
    {
     "name": "stderr",
     "output_type": "stream",
     "text": [
      "C:\\Users\\dn011\\AppData\\Local\\Temp\\ipykernel_24228\\3796513604.py:6: SettingWithCopyWarning: \n",
      "A value is trying to be set on a copy of a slice from a DataFrame.\n",
      "Try using .loc[row_indexer,col_indexer] = value instead\n",
      "\n",
      "See the caveats in the documentation: https://pandas.pydata.org/pandas-docs/stable/user_guide/indexing.html#returning-a-view-versus-a-copy\n",
      "  result['차이가격'] = result['20L가격'] - result['5L가격']\n"
     ]
    },
    {
     "data": {
      "text/plain": [
       "시도명\n",
       "인천광역시      619.000000\n",
       "부산광역시      593.000000\n",
       "제주특별자치도    580.000000\n",
       "광주광역시      540.000000\n",
       "서울특별시      519.729730\n",
       "대전광역시      490.000000\n",
       "경기도        476.901408\n",
       "울산광역시      440.000000\n",
       "대구광역시      410.000000\n",
       "세종특별자치시    410.000000\n",
       "경상남도       381.363636\n",
       "충청북도       308.333333\n",
       "강원도        305.172414\n",
       "충청남도       301.900000\n",
       "전라북도       275.673759\n",
       "경상북도       256.612903\n",
       "전라남도       242.761905\n",
       "Name: 차이가격, dtype: float64"
      ]
     },
     "execution_count": 14,
     "metadata": {},
     "output_type": "execute_result"
    }
   ],
   "source": [
    "cond1 = df['20L가격'] != 0 \n",
    "cond2 = df['5L가격'] != 0 \n",
    "\n",
    "result = df.loc[cond1 & cond2]\n",
    "\n",
    "result['차이가격'] = result['20L가격'] - result['5L가격']\n",
    "result.groupby(\"시도명\")['차이가격'].mean().sort_values(ascending = False)\n",
    "619.0"
   ]
  },
  {
   "cell_type": "code",
   "execution_count": 15,
   "id": "456f3831-f3cd-4d18-b8ce-25a4e5f33e50",
   "metadata": {},
   "outputs": [
    {
     "data": {
      "text/html": [
       "<div>\n",
       "<style scoped>\n",
       "    .dataframe tbody tr th:only-of-type {\n",
       "        vertical-align: middle;\n",
       "    }\n",
       "\n",
       "    .dataframe tbody tr th {\n",
       "        vertical-align: top;\n",
       "    }\n",
       "\n",
       "    .dataframe thead th {\n",
       "        text-align: right;\n",
       "    }\n",
       "</style>\n",
       "<table border=\"1\" class=\"dataframe\">\n",
       "  <thead>\n",
       "    <tr style=\"text-align: right;\">\n",
       "      <th></th>\n",
       "      <th>ID</th>\n",
       "      <th>height(cm)</th>\n",
       "      <th>weight(kg)</th>\n",
       "    </tr>\n",
       "  </thead>\n",
       "  <tbody>\n",
       "    <tr>\n",
       "      <th>0</th>\n",
       "      <td>user_1</td>\n",
       "      <td>173.0</td>\n",
       "      <td>67.5</td>\n",
       "    </tr>\n",
       "    <tr>\n",
       "      <th>1</th>\n",
       "      <td>user_2</td>\n",
       "      <td>149.5</td>\n",
       "      <td>82.5</td>\n",
       "    </tr>\n",
       "    <tr>\n",
       "      <th>2</th>\n",
       "      <td>user_3</td>\n",
       "      <td>143.8</td>\n",
       "      <td>64.6</td>\n",
       "    </tr>\n",
       "    <tr>\n",
       "      <th>3</th>\n",
       "      <td>user_4</td>\n",
       "      <td>163.1</td>\n",
       "      <td>87.2</td>\n",
       "    </tr>\n",
       "    <tr>\n",
       "      <th>4</th>\n",
       "      <td>user_5</td>\n",
       "      <td>159.6</td>\n",
       "      <td>77.1</td>\n",
       "    </tr>\n",
       "  </tbody>\n",
       "</table>\n",
       "</div>"
      ],
      "text/plain": [
       "       ID  height(cm)  weight(kg)\n",
       "0  user_1       173.0        67.5\n",
       "1  user_2       149.5        82.5\n",
       "2  user_3       143.8        64.6\n",
       "3  user_4       163.1        87.2\n",
       "4  user_5       159.6        77.1"
      ]
     },
     "execution_count": 15,
     "metadata": {},
     "output_type": "execute_result"
    }
   ],
   "source": [
    "import pandas as pd\n",
    "df = pd.read_csv('https://raw.githubusercontent.com/Datamanim/datarepo/main/krdatacertificate/e5_p1_2_.csv')\n",
    "df.head(5)"
   ]
  },
  {
   "cell_type": "code",
   "execution_count": 16,
   "id": "bd144864-42d7-4615-b8a0-e949bb04732f",
   "metadata": {},
   "outputs": [],
   "source": [
    "#BMI는 몸무게(kg) / (키(M) * 키(M)) 로 정의 된다. 초고도 비만은 BMI 25이상 , 고도 비반은\n",
    "#BMI 25미만 - 23이상 , 정상은 23미만 - 18.5이상 저체중은 18.5미만으로 정의 된다.\n",
    "#주어진 데이터에서 초고도비만 인원 + 저체중 인원 의 숫자는?"
   ]
  },
  {
   "cell_type": "code",
   "execution_count": 19,
   "id": "915158e5-0c21-440f-b108-31a6388e3ffd",
   "metadata": {},
   "outputs": [],
   "source": [
    "df['BMI'] = df['weight(kg)'] / (df['height(cm)'] / 100) **2"
   ]
  },
  {
   "cell_type": "code",
   "execution_count": 26,
   "id": "22ae1116-96a3-4a2b-a558-0fc0fc85e14a",
   "metadata": {},
   "outputs": [
    {
     "data": {
      "text/plain": [
       "8998"
      ]
     },
     "execution_count": 26,
     "metadata": {},
     "output_type": "execute_result"
    }
   ],
   "source": [
    "def g(x):\n",
    "    if x >= 25:\n",
    "        return '초고도비만'\n",
    "    if x < 25 and x >= 23:\n",
    "        return '고도비만'\n",
    "    if x < 23 and x >= 18.5:\n",
    "        return '정상'\n",
    "    if x < 18.5:\n",
    "        return '저체중'\n",
    "\n",
    "df[\"비만도\"] = df['BMI'].apply(g)\n",
    "len(df[df['비만도'] == '초고도비만']) + len(df[df['비만도'] == '저체중'])"
   ]
  },
  {
   "cell_type": "code",
   "execution_count": null,
   "id": "b2fbd04d-ae25-4d80-97ab-c54dbcfc6e0c",
   "metadata": {},
   "outputs": [],
   "source": [
    "#순유입인원은 초중고 도내,도외 전입인원에서 초중고 도내, 도외 전출인원을 뺀값이다. \n",
    "#각년도별로 가장 큰 순유입인원을 가진 지역구의 순유입인원을 구하고 전체 기간의 해당 순유입인원들의 합을 구하여라"
   ]
  },
  {
   "cell_type": "code",
   "execution_count": 27,
   "id": "9124ad1a-ed27-4441-ab19-a22247a4735a",
   "metadata": {},
   "outputs": [
    {
     "data": {
      "text/html": [
       "<div>\n",
       "<style scoped>\n",
       "    .dataframe tbody tr th:only-of-type {\n",
       "        vertical-align: middle;\n",
       "    }\n",
       "\n",
       "    .dataframe tbody tr th {\n",
       "        vertical-align: top;\n",
       "    }\n",
       "\n",
       "    .dataframe thead th {\n",
       "        text-align: right;\n",
       "    }\n",
       "</style>\n",
       "<table border=\"1\" class=\"dataframe\">\n",
       "  <thead>\n",
       "    <tr style=\"text-align: right;\">\n",
       "      <th></th>\n",
       "      <th>지역</th>\n",
       "      <th>초등학교_전출_도내</th>\n",
       "      <th>초등학교_전출_도외</th>\n",
       "      <th>초등학교_전입_도내</th>\n",
       "      <th>초등학교_전입_도외</th>\n",
       "      <th>중학교_전출_도내</th>\n",
       "      <th>중학교_전출_도외</th>\n",
       "      <th>중학교_전입_도내</th>\n",
       "      <th>중학교_전입_도외</th>\n",
       "      <th>고등학교_전출_도내</th>\n",
       "      <th>고등학교_전출_도외</th>\n",
       "      <th>고등학교_전입_도내</th>\n",
       "      <th>고등학교_전입_도외</th>\n",
       "      <th>년도</th>\n",
       "    </tr>\n",
       "  </thead>\n",
       "  <tbody>\n",
       "    <tr>\n",
       "      <th>0</th>\n",
       "      <td>종로구</td>\n",
       "      <td>221</td>\n",
       "      <td>132</td>\n",
       "      <td>255</td>\n",
       "      <td>126</td>\n",
       "      <td>63</td>\n",
       "      <td>71</td>\n",
       "      <td>104</td>\n",
       "      <td>73</td>\n",
       "      <td>203</td>\n",
       "      <td>72</td>\n",
       "      <td>166</td>\n",
       "      <td>75</td>\n",
       "      <td>2012</td>\n",
       "    </tr>\n",
       "    <tr>\n",
       "      <th>1</th>\n",
       "      <td>중구</td>\n",
       "      <td>295</td>\n",
       "      <td>139</td>\n",
       "      <td>203</td>\n",
       "      <td>100</td>\n",
       "      <td>66</td>\n",
       "      <td>43</td>\n",
       "      <td>58</td>\n",
       "      <td>44</td>\n",
       "      <td>156</td>\n",
       "      <td>37</td>\n",
       "      <td>104</td>\n",
       "      <td>39</td>\n",
       "      <td>2012</td>\n",
       "    </tr>\n",
       "    <tr>\n",
       "      <th>2</th>\n",
       "      <td>용산구</td>\n",
       "      <td>380</td>\n",
       "      <td>269</td>\n",
       "      <td>302</td>\n",
       "      <td>174</td>\n",
       "      <td>134</td>\n",
       "      <td>78</td>\n",
       "      <td>91</td>\n",
       "      <td>106</td>\n",
       "      <td>102</td>\n",
       "      <td>66</td>\n",
       "      <td>113</td>\n",
       "      <td>48</td>\n",
       "      <td>2012</td>\n",
       "    </tr>\n",
       "    <tr>\n",
       "      <th>3</th>\n",
       "      <td>성동구</td>\n",
       "      <td>643</td>\n",
       "      <td>344</td>\n",
       "      <td>376</td>\n",
       "      <td>221</td>\n",
       "      <td>154</td>\n",
       "      <td>103</td>\n",
       "      <td>98</td>\n",
       "      <td>82</td>\n",
       "      <td>179</td>\n",
       "      <td>37</td>\n",
       "      <td>153</td>\n",
       "      <td>41</td>\n",
       "      <td>2012</td>\n",
       "    </tr>\n",
       "    <tr>\n",
       "      <th>4</th>\n",
       "      <td>광진구</td>\n",
       "      <td>560</td>\n",
       "      <td>382</td>\n",
       "      <td>595</td>\n",
       "      <td>312</td>\n",
       "      <td>165</td>\n",
       "      <td>158</td>\n",
       "      <td>158</td>\n",
       "      <td>118</td>\n",
       "      <td>115</td>\n",
       "      <td>70</td>\n",
       "      <td>154</td>\n",
       "      <td>66</td>\n",
       "      <td>2012</td>\n",
       "    </tr>\n",
       "  </tbody>\n",
       "</table>\n",
       "</div>"
      ],
      "text/plain": [
       "    지역  초등학교_전출_도내  초등학교_전출_도외  초등학교_전입_도내  초등학교_전입_도외  중학교_전출_도내  중학교_전출_도외  \\\n",
       "0  종로구         221         132         255         126         63         71   \n",
       "1   중구         295         139         203         100         66         43   \n",
       "2  용산구         380         269         302         174        134         78   \n",
       "3  성동구         643         344         376         221        154        103   \n",
       "4  광진구         560         382         595         312        165        158   \n",
       "\n",
       "   중학교_전입_도내  중학교_전입_도외  고등학교_전출_도내  고등학교_전출_도외  고등학교_전입_도내  고등학교_전입_도외    년도  \n",
       "0        104         73         203          72         166          75  2012  \n",
       "1         58         44         156          37         104          39  2012  \n",
       "2         91        106         102          66         113          48  2012  \n",
       "3         98         82         179          37         153          41  2012  \n",
       "4        158        118         115          70         154          66  2012  "
      ]
     },
     "execution_count": 27,
     "metadata": {},
     "output_type": "execute_result"
    }
   ],
   "source": [
    "import pandas as pd\n",
    "df = pd.read_csv('https://raw.githubusercontent.com/Datamanim/datarepo/main/krdatacertificate/e5_p1_3.csv')\n",
    "df.head(5)"
   ]
  },
  {
   "cell_type": "code",
   "execution_count": 28,
   "id": "6a62ab7e-a3b5-4e49-af87-4b52eed18df1",
   "metadata": {},
   "outputs": [],
   "source": [
    "df['전출도내'] = df['초등학교_전출_도내'] + df['중학교_전출_도내'] + df['고등학교_전출_도내']\n",
    "df['전출도외'] = df['초등학교_전출_도외'] + df['중학교_전출_도외'] + df['고등학교_전출_도외']\n",
    "\n",
    "df['전입도내'] = df['초등학교_전입_도내'] + df['중학교_전입_도내'] + df['고등학교_전입_도내']\n",
    "df['전입도외'] = df['초등학교_전입_도외'] + df['중학교_전입_도외'] + df['고등학교_전입_도외']"
   ]
  },
  {
   "cell_type": "code",
   "execution_count": 31,
   "id": "e2552765-837f-49be-af6b-f45ff71fe7a4",
   "metadata": {},
   "outputs": [
    {
     "data": {
      "text/plain": [
       "np.int64(13853)"
      ]
     },
     "execution_count": 31,
     "metadata": {},
     "output_type": "execute_result"
    }
   ],
   "source": [
    "df['순유입인원'] = (df['전입도내']+ df['전입도외']) - (df['전출도내']+ df['전출도외'])\n",
    "df.groupby(\"년도\")[\"순유입인원\"].max().sum()"
   ]
  },
  {
   "cell_type": "code",
   "execution_count": 32,
   "id": "ba7b96c3-bf67-48cd-914d-bfb47a09f7b8",
   "metadata": {},
   "outputs": [
    {
     "data": {
      "text/html": [
       "<div>\n",
       "<style scoped>\n",
       "    .dataframe tbody tr th:only-of-type {\n",
       "        vertical-align: middle;\n",
       "    }\n",
       "\n",
       "    .dataframe tbody tr th {\n",
       "        vertical-align: top;\n",
       "    }\n",
       "\n",
       "    .dataframe thead th {\n",
       "        text-align: right;\n",
       "    }\n",
       "</style>\n",
       "<table border=\"1\" class=\"dataframe\">\n",
       "  <thead>\n",
       "    <tr style=\"text-align: right;\">\n",
       "      <th></th>\n",
       "      <th>ID</th>\n",
       "      <th>height</th>\n",
       "    </tr>\n",
       "  </thead>\n",
       "  <tbody>\n",
       "    <tr>\n",
       "      <th>0</th>\n",
       "      <td>user_1</td>\n",
       "      <td>164.57</td>\n",
       "    </tr>\n",
       "    <tr>\n",
       "      <th>1</th>\n",
       "      <td>user_2</td>\n",
       "      <td>174.99</td>\n",
       "    </tr>\n",
       "    <tr>\n",
       "      <th>2</th>\n",
       "      <td>user_3</td>\n",
       "      <td>171.41</td>\n",
       "    </tr>\n",
       "    <tr>\n",
       "      <th>3</th>\n",
       "      <td>user_4</td>\n",
       "      <td>162.47</td>\n",
       "    </tr>\n",
       "    <tr>\n",
       "      <th>4</th>\n",
       "      <td>user_5</td>\n",
       "      <td>167.11</td>\n",
       "    </tr>\n",
       "  </tbody>\n",
       "</table>\n",
       "</div>"
      ],
      "text/plain": [
       "       ID  height\n",
       "0  user_1  164.57\n",
       "1  user_2  174.99\n",
       "2  user_3  171.41\n",
       "3  user_4  162.47\n",
       "4  user_5  167.11"
      ]
     },
     "execution_count": 32,
     "metadata": {},
     "output_type": "execute_result"
    }
   ],
   "source": [
    "import pandas as pd \n",
    "df= pd.read_csv('https://raw.githubusercontent.com/Datamanim/datarepo/main/krdatacertificate/e5_p3_1.csv')\n",
    "df.head()"
   ]
  },
  {
   "cell_type": "code",
   "execution_count": 33,
   "id": "10bf7748-73fe-4ebb-8c83-0adeb1ee8732",
   "metadata": {},
   "outputs": [],
   "source": [
    "# 이 학생들의 키의 95% 신뢰구간을 구하고자 한다."
   ]
  },
  {
   "cell_type": "code",
   "execution_count": 34,
   "id": "a01976ee-2c6b-4603-90ba-ffd5c92d31bb",
   "metadata": {},
   "outputs": [],
   "source": [
    "# 55명 학생들의 키에 대한 표본 평균을 구하여라(반올림하여 소숫점 3째자리까지"
   ]
  },
  {
   "cell_type": "code",
   "execution_count": 38,
   "id": "39d37f13-ee26-41bd-8539-846c9541b71a",
   "metadata": {},
   "outputs": [
    {
     "data": {
      "text/plain": [
       "np.float64(169.937)"
      ]
     },
     "execution_count": 38,
     "metadata": {},
     "output_type": "execute_result"
    }
   ],
   "source": [
    "import numpy as np\n",
    "\n",
    "mean = np.round(np.mean(df['height']),3)\n",
    "mean"
   ]
  },
  {
   "cell_type": "code",
   "execution_count": 39,
   "id": "6b0a6ec3-1ff5-4d66-bda3-e0a04fba7e2d",
   "metadata": {},
   "outputs": [],
   "source": [
    "# t분포 양쪽 꼬리에서의 t 값을 구하여라 (반올림하여 소수4째자리까지)"
   ]
  },
  {
   "cell_type": "code",
   "execution_count": 56,
   "id": "4a6942f4-a560-4ca6-98b7-78178d0c7b7a",
   "metadata": {},
   "outputs": [
    {
     "data": {
      "text/plain": [
       "np.float64(2.0049)"
      ]
     },
     "execution_count": 56,
     "metadata": {},
     "output_type": "execute_result"
    }
   ],
   "source": [
    "import numpy as np\n",
    "from scipy.stats import t\n",
    "\n",
    "std = np.std(df['height'] , ddof = 1)\n",
    "n = len(df['height'])\n",
    "\n",
    "con = 0.95\n",
    "ddof = n-1\n",
    "\n",
    "t_value = np.round(t.ppf((1+con) / 2 , ddof),4)\n",
    "t_value"
   ]
  },
  {
   "cell_type": "code",
   "execution_count": 57,
   "id": "73754bbf-9e16-4d6c-b8d9-4bfd5535a7a5",
   "metadata": {},
   "outputs": [],
   "source": [
    "# 95% 신뢰구간을 구하여라(print(lower,upper) 방식으로 출력, 각각의 값은 소숫점 이하 3째자리까지)"
   ]
  },
  {
   "cell_type": "code",
   "execution_count": 61,
   "id": "fced6009-2c64-45ea-a35f-277dbd9b7cf3",
   "metadata": {},
   "outputs": [
    {
     "name": "stdout",
     "output_type": "stream",
     "text": [
      "168.321 171.553\n"
     ]
    }
   ],
   "source": [
    "lower = round(mean - t_value * std / np.sqrt(n),3)\n",
    "upper = round(mean + t_value * std / np.sqrt(n),3)\n",
    "\n",
    "print(lower,upper)"
   ]
  },
  {
   "cell_type": "code",
   "execution_count": 62,
   "id": "52d5402a-6dc3-4f45-9642-b920cf42b630",
   "metadata": {},
   "outputs": [
    {
     "data": {
      "text/html": [
       "<div>\n",
       "<style scoped>\n",
       "    .dataframe tbody tr th:only-of-type {\n",
       "        vertical-align: middle;\n",
       "    }\n",
       "\n",
       "    .dataframe tbody tr th {\n",
       "        vertical-align: top;\n",
       "    }\n",
       "\n",
       "    .dataframe thead th {\n",
       "        text-align: right;\n",
       "    }\n",
       "</style>\n",
       "<table border=\"1\" class=\"dataframe\">\n",
       "  <thead>\n",
       "    <tr style=\"text-align: right;\">\n",
       "      <th></th>\n",
       "      <th>ID</th>\n",
       "      <th>value</th>\n",
       "    </tr>\n",
       "  </thead>\n",
       "  <tbody>\n",
       "    <tr>\n",
       "      <th>0</th>\n",
       "      <td>A</td>\n",
       "      <td>84.179434</td>\n",
       "    </tr>\n",
       "    <tr>\n",
       "      <th>1</th>\n",
       "      <td>A</td>\n",
       "      <td>93.971003</td>\n",
       "    </tr>\n",
       "    <tr>\n",
       "      <th>2</th>\n",
       "      <td>A</td>\n",
       "      <td>62.140957</td>\n",
       "    </tr>\n",
       "    <tr>\n",
       "      <th>3</th>\n",
       "      <td>A</td>\n",
       "      <td>72.911723</td>\n",
       "    </tr>\n",
       "    <tr>\n",
       "      <th>4</th>\n",
       "      <td>A</td>\n",
       "      <td>79.252747</td>\n",
       "    </tr>\n",
       "  </tbody>\n",
       "</table>\n",
       "</div>"
      ],
      "text/plain": [
       "  ID      value\n",
       "0  A  84.179434\n",
       "1  A  93.971003\n",
       "2  A  62.140957\n",
       "3  A  72.911723\n",
       "4  A  79.252747"
      ]
     },
     "execution_count": 62,
     "metadata": {},
     "output_type": "execute_result"
    }
   ],
   "source": [
    "import pandas as pd \n",
    "df= pd.read_csv('https://raw.githubusercontent.com/Datamanim/datarepo/main/krdatacertificate/e5_p3_2.csv')\n",
    "df.head()"
   ]
  },
  {
   "cell_type": "code",
   "execution_count": 63,
   "id": "4a2fbee9-83c2-42b6-9991-5db4a93ee2dd",
   "metadata": {},
   "outputs": [],
   "source": [
    "# 3 그룹의 데이터에 대해 크루스칼-왈리스 검정을 사용하여 검정 통계량을 반올림하여 소숫점 이하 3자리까지 구하여라"
   ]
  },
  {
   "cell_type": "code",
   "execution_count": 81,
   "id": "b5968f1a-a1c6-4d86-955c-d454a2236c96",
   "metadata": {},
   "outputs": [
    {
     "name": "stdout",
     "output_type": "stream",
     "text": [
      "KruskalResult(statistic=np.float64(6.52129032258064), pvalue=np.float64(0.038363639296696686))\n",
      "대립\n"
     ]
    }
   ],
   "source": [
    "a = df[df['ID'] =='A']['value']\n",
    "b = df[df['ID'] =='B']['value']\n",
    "c = df[df['ID'] =='C']['value']\n",
    "\n",
    "from scipy.stats import kruskal\n",
    "\n",
    "print(kruskal(a,b,c))\n",
    "round(6.52129032258064,3)\n",
    "round(0.03836363929669668,3)\n",
    "\n",
    "if 0.038 > 0.05:\n",
    "    print(\"귀무\")\n",
    "else:\n",
    "    print(\"대립\")"
   ]
  },
  {
   "cell_type": "code",
   "execution_count": null,
   "id": "3d1eae0c-1857-4ebc-a40c-d3774aeb9664",
   "metadata": {},
   "outputs": [],
   "source": []
  }
 ],
 "metadata": {
  "kernelspec": {
   "display_name": "Python 3 (ipykernel)",
   "language": "python",
   "name": "python3"
  },
  "language_info": {
   "codemirror_mode": {
    "name": "ipython",
    "version": 3
   },
   "file_extension": ".py",
   "mimetype": "text/x-python",
   "name": "python",
   "nbconvert_exporter": "python",
   "pygments_lexer": "ipython3",
   "version": "3.13.3"
  }
 },
 "nbformat": 4,
 "nbformat_minor": 5
}
