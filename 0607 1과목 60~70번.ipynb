{
 "cells": [
  {
   "cell_type": "code",
   "execution_count": 1,
   "id": "abd05043-790a-42f7-8b33-a905cf673e38",
   "metadata": {},
   "outputs": [
    {
     "data": {
      "text/html": [
       "<div>\n",
       "<style scoped>\n",
       "    .dataframe tbody tr th:only-of-type {\n",
       "        vertical-align: middle;\n",
       "    }\n",
       "\n",
       "    .dataframe tbody tr th {\n",
       "        vertical-align: top;\n",
       "    }\n",
       "\n",
       "    .dataframe thead th {\n",
       "        text-align: right;\n",
       "    }\n",
       "</style>\n",
       "<table border=\"1\" class=\"dataframe\">\n",
       "  <thead>\n",
       "    <tr style=\"text-align: right;\">\n",
       "      <th></th>\n",
       "      <th>#</th>\n",
       "      <th>Name</th>\n",
       "      <th>Type 1</th>\n",
       "      <th>Type 2</th>\n",
       "      <th>Total</th>\n",
       "      <th>HP</th>\n",
       "      <th>Attack</th>\n",
       "      <th>Defense</th>\n",
       "      <th>Sp. Atk</th>\n",
       "      <th>Sp. Def</th>\n",
       "      <th>Speed</th>\n",
       "      <th>Generation</th>\n",
       "      <th>Legendary</th>\n",
       "    </tr>\n",
       "  </thead>\n",
       "  <tbody>\n",
       "    <tr>\n",
       "      <th>0</th>\n",
       "      <td>1</td>\n",
       "      <td>Bulbasaur</td>\n",
       "      <td>Grass</td>\n",
       "      <td>Poison</td>\n",
       "      <td>318</td>\n",
       "      <td>45</td>\n",
       "      <td>49</td>\n",
       "      <td>49</td>\n",
       "      <td>65</td>\n",
       "      <td>65</td>\n",
       "      <td>45</td>\n",
       "      <td>1</td>\n",
       "      <td>False</td>\n",
       "    </tr>\n",
       "    <tr>\n",
       "      <th>1</th>\n",
       "      <td>2</td>\n",
       "      <td>Ivysaur</td>\n",
       "      <td>Grass</td>\n",
       "      <td>Poison</td>\n",
       "      <td>405</td>\n",
       "      <td>60</td>\n",
       "      <td>62</td>\n",
       "      <td>63</td>\n",
       "      <td>80</td>\n",
       "      <td>80</td>\n",
       "      <td>60</td>\n",
       "      <td>1</td>\n",
       "      <td>False</td>\n",
       "    </tr>\n",
       "    <tr>\n",
       "      <th>2</th>\n",
       "      <td>3</td>\n",
       "      <td>Venusaur</td>\n",
       "      <td>Grass</td>\n",
       "      <td>Poison</td>\n",
       "      <td>525</td>\n",
       "      <td>80</td>\n",
       "      <td>82</td>\n",
       "      <td>83</td>\n",
       "      <td>100</td>\n",
       "      <td>100</td>\n",
       "      <td>80</td>\n",
       "      <td>1</td>\n",
       "      <td>False</td>\n",
       "    </tr>\n",
       "    <tr>\n",
       "      <th>3</th>\n",
       "      <td>3</td>\n",
       "      <td>VenusaurMega Venusaur</td>\n",
       "      <td>Grass</td>\n",
       "      <td>Poison</td>\n",
       "      <td>625</td>\n",
       "      <td>80</td>\n",
       "      <td>100</td>\n",
       "      <td>123</td>\n",
       "      <td>122</td>\n",
       "      <td>120</td>\n",
       "      <td>80</td>\n",
       "      <td>1</td>\n",
       "      <td>False</td>\n",
       "    </tr>\n",
       "    <tr>\n",
       "      <th>4</th>\n",
       "      <td>4</td>\n",
       "      <td>Charmander</td>\n",
       "      <td>Fire</td>\n",
       "      <td>NaN</td>\n",
       "      <td>309</td>\n",
       "      <td>39</td>\n",
       "      <td>52</td>\n",
       "      <td>43</td>\n",
       "      <td>60</td>\n",
       "      <td>50</td>\n",
       "      <td>65</td>\n",
       "      <td>1</td>\n",
       "      <td>False</td>\n",
       "    </tr>\n",
       "  </tbody>\n",
       "</table>\n",
       "</div>"
      ],
      "text/plain": [
       "   #                   Name Type 1  Type 2  Total  HP  Attack  Defense  \\\n",
       "0  1              Bulbasaur  Grass  Poison    318  45      49       49   \n",
       "1  2                Ivysaur  Grass  Poison    405  60      62       63   \n",
       "2  3               Venusaur  Grass  Poison    525  80      82       83   \n",
       "3  3  VenusaurMega Venusaur  Grass  Poison    625  80     100      123   \n",
       "4  4             Charmander   Fire     NaN    309  39      52       43   \n",
       "\n",
       "   Sp. Atk  Sp. Def  Speed  Generation  Legendary  \n",
       "0       65       65     45           1      False  \n",
       "1       80       80     60           1      False  \n",
       "2      100      100     80           1      False  \n",
       "3      122      120     80           1      False  \n",
       "4       60       50     65           1      False  "
      ]
     },
     "execution_count": 1,
     "metadata": {},
     "output_type": "execute_result"
    }
   ],
   "source": [
    "import pandas as pd\n",
    "df = pd.read_csv('https://raw.githubusercontent.com/Datamanim/datarepo/main/pok/Pokemon.csv')\n",
    "df.head()"
   ]
  },
  {
   "cell_type": "code",
   "execution_count": 2,
   "id": "e480cef2-2c2a-4486-b03c-677072a1a9a2",
   "metadata": {},
   "outputs": [],
   "source": [
    "#Legendary 컬럼은 전설포켓몬 유무를 나타낸다.전설포켓몬과 그렇지 않은 포켓몬들의 HP평균의 차이를 구하여라"
   ]
  },
  {
   "cell_type": "code",
   "execution_count": 7,
   "id": "3f800dc2-75e9-4071-a8a8-ebd4019db8c9",
   "metadata": {},
   "outputs": [
    {
     "data": {
      "text/plain": [
       "np.float64(25.55614861329147)"
      ]
     },
     "execution_count": 7,
     "metadata": {},
     "output_type": "execute_result"
    }
   ],
   "source": [
    "df[df['Legendary'] == True]['HP'].mean() - df[df['Legendary'] == False]['HP'].mean()"
   ]
  },
  {
   "cell_type": "code",
   "execution_count": 9,
   "id": "ae928690-2234-4a00-a954-1ea933ed45a6",
   "metadata": {},
   "outputs": [
    {
     "data": {
      "text/plain": [
       "'Flying'"
      ]
     },
     "execution_count": 9,
     "metadata": {},
     "output_type": "execute_result"
    }
   ],
   "source": [
    "#Type 1은 주속성 Type 2 는 부속성을 나타낸다. 가장 많은 부속성 종류는 무엇인가?\n",
    "df['Type 2'].value_counts().idxmax()"
   ]
  },
  {
   "cell_type": "code",
   "execution_count": 13,
   "id": "c76b9503-0895-40b5-9c83-0e9befa83136",
   "metadata": {},
   "outputs": [
    {
     "data": {
      "text/plain": [
       "np.float64(1.0165238678090576)"
      ]
     },
     "execution_count": 13,
     "metadata": {},
     "output_type": "execute_result"
    }
   ],
   "source": [
    "#가장 많은 Type 1 의 종의 평균 Attack 을 평균 Defense로 나눈값은?\n",
    "df['Type 1'].value_counts().idxmax()\n",
    "result = df[df['Type 1'] == 'Water']\n",
    "result['Attack'].mean() / result['Defense'].mean()"
   ]
  },
  {
   "cell_type": "code",
   "execution_count": 17,
   "id": "32f2c22d-1143-413f-9f07-19b64e9a2bcc",
   "metadata": {},
   "outputs": [
    {
     "data": {
      "text/plain": [
       "np.int64(3)"
      ]
     },
     "execution_count": 17,
     "metadata": {},
     "output_type": "execute_result"
    }
   ],
   "source": [
    "#포켓몬 세대(Generation) 중 가장많은 Legendary를 보유한 세대는 몇세대인가?\n",
    "df[df['Legendary'] == True]['Generation'].value_counts().idxmax()"
   ]
  },
  {
   "cell_type": "code",
   "execution_count": 18,
   "id": "52352cf9-62fe-4aaa-aff2-6f3565694b86",
   "metadata": {},
   "outputs": [],
   "source": [
    "#‘HP’, ‘Attack’, ‘Defense’, ‘Sp. Atk’, ‘Sp. Def’, ‘Speed’ 간의 상관 계수중 가장 절댓값이 큰 두 변수와 그 값을 구하여라"
   ]
  },
  {
   "cell_type": "code",
   "execution_count": 27,
   "id": "6b4d508b-404e-4510-ae6f-cb5f61ac327a",
   "metadata": {},
   "outputs": [
    {
     "data": {
      "text/plain": [
       "Defense  Sp. Def    0.510747\n",
       "Sp. Def  Defense    0.510747\n",
       "Sp. Atk  Sp. Def    0.506121\n",
       "Sp. Def  Sp. Atk    0.506121\n",
       "Sp. Atk  Speed      0.473018\n",
       "Speed    Sp. Atk    0.473018\n",
       "Defense  Attack     0.438687\n",
       "Attack   Defense    0.438687\n",
       "         HP         0.422386\n",
       "HP       Attack     0.422386\n",
       "Sp. Atk  Attack     0.396362\n",
       "Attack   Sp. Atk    0.396362\n",
       "         Speed      0.381240\n",
       "Speed    Attack     0.381240\n",
       "HP       Sp. Def    0.378718\n",
       "Sp. Def  HP         0.378718\n",
       "Sp. Atk  HP         0.362380\n",
       "HP       Sp. Atk    0.362380\n",
       "Attack   Sp. Def    0.263990\n",
       "Sp. Def  Attack     0.263990\n",
       "Speed    Sp. Def    0.259133\n",
       "Sp. Def  Speed      0.259133\n",
       "HP       Defense    0.239622\n",
       "Defense  HP         0.239622\n",
       "Sp. Atk  Defense    0.223549\n",
       "Defense  Sp. Atk    0.223549\n",
       "HP       Speed      0.175952\n",
       "Speed    HP         0.175952\n",
       "Defense  Speed      0.015227\n",
       "Speed    Defense    0.015227\n",
       "dtype: float64"
      ]
     },
     "execution_count": 27,
     "metadata": {},
     "output_type": "execute_result"
    }
   ],
   "source": [
    "result= df[['HP','Attack','Defense','Sp. Atk','Sp. Def','Speed']].abs().corr().unstack()\n",
    "result = result[result!=1]\n",
    "result.sort_values(ascending = False)  # Defense  Sp. Def    0.510747"
   ]
  },
  {
   "cell_type": "code",
   "execution_count": 28,
   "id": "a515951c-0813-4b4f-aaa2-bddd52453f56",
   "metadata": {},
   "outputs": [],
   "source": [
    "# 각 Generation의 Attack으로 오름차순 정렬시 상위 3개 데이터들(18개)의 Attack의 전체 평균을 구하여라"
   ]
  },
  {
   "cell_type": "code",
   "execution_count": 45,
   "id": "5253f427-8e25-441a-af3f-4841cc95057c",
   "metadata": {},
   "outputs": [
    {
     "data": {
      "text/plain": [
       "np.float64(19.5)"
      ]
     },
     "execution_count": 45,
     "metadata": {},
     "output_type": "execute_result"
    }
   ],
   "source": [
    "df[['Generation','Attack']].sort_values('Attack').groupby('Generation').head(3)['Attack'].mean()"
   ]
  },
  {
   "cell_type": "code",
   "execution_count": 46,
   "id": "566f8821-0b06-4380-973f-5cd4bbdaf8cb",
   "metadata": {},
   "outputs": [],
   "source": [
    "# 각 Generation의 Attack으로 내림차순 정렬시 상위 5개 데이터들(30개)의 Attack의 전체 평균을 구하여라"
   ]
  },
  {
   "cell_type": "code",
   "execution_count": 47,
   "id": "c2dbad4e-f59b-4212-ac42-6b56256f3099",
   "metadata": {},
   "outputs": [
    {
     "data": {
      "text/plain": [
       "np.float64(165.33333333333334)"
      ]
     },
     "execution_count": 47,
     "metadata": {},
     "output_type": "execute_result"
    }
   ],
   "source": [
    "df[['Generation','Attack']].sort_values('Attack',ascending = False).groupby('Generation').head(3)['Attack'].mean()"
   ]
  },
  {
   "cell_type": "code",
   "execution_count": 48,
   "id": "2b7e6778-a02f-4e6f-94d8-f4c0ebb0c956",
   "metadata": {},
   "outputs": [],
   "source": [
    "# 가장 흔하게 발견되는 (Type1 , Type2) 의 쌍은 무엇인가?"
   ]
  },
  {
   "cell_type": "code",
   "execution_count": 55,
   "id": "f4e7e269-083e-468b-8291-145f35244c85",
   "metadata": {},
   "outputs": [
    {
     "data": {
      "text/plain": [
       "('Normal', 'Flying')"
      ]
     },
     "execution_count": 55,
     "metadata": {},
     "output_type": "execute_result"
    }
   ],
   "source": [
    "df[['Type 1','Type 2']].value_counts().index[0]"
   ]
  },
  {
   "cell_type": "code",
   "execution_count": 56,
   "id": "f78a3b1e-4668-4529-abde-b6b751ef4945",
   "metadata": {},
   "outputs": [],
   "source": [
    "# 한번씩만 존재하는 (Type1 , Type2)의 쌍의 갯수는 몇개인가?"
   ]
  },
  {
   "cell_type": "code",
   "execution_count": 62,
   "id": "ba848105-39c8-46ac-8985-e261441a6f87",
   "metadata": {},
   "outputs": [
    {
     "data": {
      "text/plain": [
       "39"
      ]
     },
     "execution_count": 62,
     "metadata": {},
     "output_type": "execute_result"
    }
   ],
   "source": [
    "result = df[['Type 1','Type 2']].value_counts()\n",
    "result = result[result ==1]\n",
    "len(result)"
   ]
  },
  {
   "cell_type": "code",
   "execution_count": 63,
   "id": "0c1dbe96-c466-4da8-8fcd-3ffbfdac629e",
   "metadata": {},
   "outputs": [],
   "source": [
    "#한번씩만 존재하는 (Type1 , Type2)의 쌍을 각 세대(Generation)은 각각 몇개씩 가지고 있는가?"
   ]
  },
  {
   "cell_type": "code",
   "execution_count": 123,
   "id": "76cf6d38-c64e-4770-ae30-c8adc838dc7f",
   "metadata": {},
   "outputs": [
    {
     "name": "stdout",
     "output_type": "stream",
     "text": [
      "Series([], Name: count, dtype: int64)\n"
     ]
    }
   ],
   "source": [
    "result = df[['Type 1','Type 2']].value_counts()\n",
    "result = result[result ==1].index  # -> 데이터가 튜플이리서 튜플로 변환 => apply(tuple, axis = 1)\n",
    "filtered = df[df[['Type 1', 'Type 2']].apply(tuple, axis=1).isin(result)]\n",
    "print(filtered['Generation'].value_counts().sort_index())"
   ]
  },
  {
   "cell_type": "code",
   "execution_count": null,
   "id": "0b8f06a7-6c9f-4c1c-89c6-e48cbcf16aa8",
   "metadata": {},
   "outputs": [],
   "source": []
  }
 ],
 "metadata": {
  "kernelspec": {
   "display_name": "Python 3 (ipykernel)",
   "language": "python",
   "name": "python3"
  },
  "language_info": {
   "codemirror_mode": {
    "name": "ipython",
    "version": 3
   },
   "file_extension": ".py",
   "mimetype": "text/x-python",
   "name": "python",
   "nbconvert_exporter": "python",
   "pygments_lexer": "ipython3",
   "version": "3.13.3"
  }
 },
 "nbformat": 4,
 "nbformat_minor": 5
}
