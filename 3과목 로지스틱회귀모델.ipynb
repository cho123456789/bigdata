{
 "cells": [
  {
   "cell_type": "code",
   "execution_count": 3,
   "id": "73dbb2be-36ae-4495-ae95-653e5abf6533",
   "metadata": {},
   "outputs": [
    {
     "data": {
      "text/html": [
       "<div>\n",
       "<style scoped>\n",
       "    .dataframe tbody tr th:only-of-type {\n",
       "        vertical-align: middle;\n",
       "    }\n",
       "\n",
       "    .dataframe tbody tr th {\n",
       "        vertical-align: top;\n",
       "    }\n",
       "\n",
       "    .dataframe thead th {\n",
       "        text-align: right;\n",
       "    }\n",
       "</style>\n",
       "<table border=\"1\" class=\"dataframe\">\n",
       "  <thead>\n",
       "    <tr style=\"text-align: right;\">\n",
       "      <th></th>\n",
       "      <th>X1</th>\n",
       "      <th>X2</th>\n",
       "      <th>X3</th>\n",
       "      <th>X4</th>\n",
       "      <th>X5</th>\n",
       "      <th>X6</th>\n",
       "      <th>X7</th>\n",
       "      <th>X8</th>\n",
       "      <th>X9</th>\n",
       "      <th>X10</th>\n",
       "      <th>X11</th>\n",
       "      <th>X12</th>\n",
       "      <th>X13</th>\n",
       "      <th>X14</th>\n",
       "      <th>X15</th>\n",
       "      <th>Y</th>\n",
       "    </tr>\n",
       "  </thead>\n",
       "  <tbody>\n",
       "    <tr>\n",
       "      <th>0</th>\n",
       "      <td>0.506278</td>\n",
       "      <td>-0.231322</td>\n",
       "      <td>0.759771</td>\n",
       "      <td>-0.172927</td>\n",
       "      <td>-0.687524</td>\n",
       "      <td>-0.556815</td>\n",
       "      <td>-1.381369</td>\n",
       "      <td>1.633690</td>\n",
       "      <td>-0.869129</td>\n",
       "      <td>0.370614</td>\n",
       "      <td>0.615057</td>\n",
       "      <td>-0.416594</td>\n",
       "      <td>-1.175980</td>\n",
       "      <td>0.113494</td>\n",
       "      <td>-0.539230</td>\n",
       "      <td>1</td>\n",
       "    </tr>\n",
       "    <tr>\n",
       "      <th>1</th>\n",
       "      <td>0.017220</td>\n",
       "      <td>1.530047</td>\n",
       "      <td>0.676838</td>\n",
       "      <td>1.533623</td>\n",
       "      <td>-0.516027</td>\n",
       "      <td>0.949166</td>\n",
       "      <td>-1.180669</td>\n",
       "      <td>1.895021</td>\n",
       "      <td>-1.211768</td>\n",
       "      <td>-1.081109</td>\n",
       "      <td>-1.067039</td>\n",
       "      <td>-0.611829</td>\n",
       "      <td>0.846854</td>\n",
       "      <td>-0.812381</td>\n",
       "      <td>0.823546</td>\n",
       "      <td>0</td>\n",
       "    </tr>\n",
       "    <tr>\n",
       "      <th>2</th>\n",
       "      <td>1.436089</td>\n",
       "      <td>0.038078</td>\n",
       "      <td>-0.120501</td>\n",
       "      <td>0.914955</td>\n",
       "      <td>-1.504149</td>\n",
       "      <td>0.443893</td>\n",
       "      <td>-0.696385</td>\n",
       "      <td>0.245013</td>\n",
       "      <td>1.221166</td>\n",
       "      <td>-1.387287</td>\n",
       "      <td>-1.762048</td>\n",
       "      <td>-0.556466</td>\n",
       "      <td>0.130129</td>\n",
       "      <td>0.517210</td>\n",
       "      <td>1.056730</td>\n",
       "      <td>0</td>\n",
       "    </tr>\n",
       "    <tr>\n",
       "      <th>3</th>\n",
       "      <td>-0.926337</td>\n",
       "      <td>-0.665242</td>\n",
       "      <td>-0.106853</td>\n",
       "      <td>-1.111627</td>\n",
       "      <td>-0.127867</td>\n",
       "      <td>0.746742</td>\n",
       "      <td>-0.345943</td>\n",
       "      <td>0.848144</td>\n",
       "      <td>0.374944</td>\n",
       "      <td>-0.951299</td>\n",
       "      <td>1.097359</td>\n",
       "      <td>0.754369</td>\n",
       "      <td>-0.221183</td>\n",
       "      <td>-0.430509</td>\n",
       "      <td>0.756875</td>\n",
       "      <td>1</td>\n",
       "    </tr>\n",
       "    <tr>\n",
       "      <th>4</th>\n",
       "      <td>-0.350953</td>\n",
       "      <td>-0.044709</td>\n",
       "      <td>-0.421777</td>\n",
       "      <td>1.359772</td>\n",
       "      <td>-1.619690</td>\n",
       "      <td>-0.645908</td>\n",
       "      <td>-1.717975</td>\n",
       "      <td>-0.598477</td>\n",
       "      <td>1.026014</td>\n",
       "      <td>-0.134644</td>\n",
       "      <td>-0.988988</td>\n",
       "      <td>0.513048</td>\n",
       "      <td>-0.886113</td>\n",
       "      <td>0.247288</td>\n",
       "      <td>-0.016664</td>\n",
       "      <td>0</td>\n",
       "    </tr>\n",
       "  </tbody>\n",
       "</table>\n",
       "</div>"
      ],
      "text/plain": [
       "         X1        X2        X3        X4        X5        X6        X7  \\\n",
       "0  0.506278 -0.231322  0.759771 -0.172927 -0.687524 -0.556815 -1.381369   \n",
       "1  0.017220  1.530047  0.676838  1.533623 -0.516027  0.949166 -1.180669   \n",
       "2  1.436089  0.038078 -0.120501  0.914955 -1.504149  0.443893 -0.696385   \n",
       "3 -0.926337 -0.665242 -0.106853 -1.111627 -0.127867  0.746742 -0.345943   \n",
       "4 -0.350953 -0.044709 -0.421777  1.359772 -1.619690 -0.645908 -1.717975   \n",
       "\n",
       "         X8        X9       X10       X11       X12       X13       X14  \\\n",
       "0  1.633690 -0.869129  0.370614  0.615057 -0.416594 -1.175980  0.113494   \n",
       "1  1.895021 -1.211768 -1.081109 -1.067039 -0.611829  0.846854 -0.812381   \n",
       "2  0.245013  1.221166 -1.387287 -1.762048 -0.556466  0.130129  0.517210   \n",
       "3  0.848144  0.374944 -0.951299  1.097359  0.754369 -0.221183 -0.430509   \n",
       "4 -0.598477  1.026014 -0.134644 -0.988988  0.513048 -0.886113  0.247288   \n",
       "\n",
       "        X15  Y  \n",
       "0 -0.539230  1  \n",
       "1  0.823546  0  \n",
       "2  1.056730  0  \n",
       "3  0.756875  1  \n",
       "4 -0.016664  0  "
      ]
     },
     "execution_count": 3,
     "metadata": {},
     "output_type": "execute_result"
    }
   ],
   "source": [
    "import pandas as pd\n",
    "df=pd.read_csv('https://raw.githubusercontent.com/Datamanim/datarepo/main/krdatacertificate/e8_p3_1.csv')\n",
    "df.head()"
   ]
  },
  {
   "cell_type": "code",
   "execution_count": 2,
   "id": "00ae97ae-89b8-44be-b290-2541c3a2a963",
   "metadata": {},
   "outputs": [],
   "source": [
    "# y컬럼을 종속변수로하는 로지스틱회귀 모형을 만들 떄 유의미하지 않은 변수의 개수는? % 상수항은 추가하여 모델링하라"
   ]
  },
  {
   "cell_type": "code",
   "execution_count": 1,
   "id": "ec08f54d-6210-4b3e-9673-5a37721f96b1",
   "metadata": {},
   "outputs": [
    {
     "ename": "NameError",
     "evalue": "name 'df' is not defined",
     "output_type": "error",
     "traceback": [
      "\u001b[31m---------------------------------------------------------------------------\u001b[39m",
      "\u001b[31mNameError\u001b[39m                                 Traceback (most recent call last)",
      "\u001b[36mCell\u001b[39m\u001b[36m \u001b[39m\u001b[32mIn[1]\u001b[39m\u001b[32m, line 4\u001b[39m\n\u001b[32m      1\u001b[39m \u001b[38;5;28;01mimport\u001b[39;00m\u001b[38;5;250m \u001b[39m\u001b[34;01mstatsmodels\u001b[39;00m\u001b[34;01m.\u001b[39;00m\u001b[34;01mapi\u001b[39;00m\u001b[38;5;250m \u001b[39m\u001b[38;5;28;01mas\u001b[39;00m\u001b[38;5;250m \u001b[39m\u001b[34;01msm\u001b[39;00m \n\u001b[32m      3\u001b[39m formula = \u001b[33m\"\u001b[39m\u001b[33mY~ X1+X2+X3+X4+X5+X6+X7+X8+X9+X10+X11+X12+X13+X14+X15\u001b[39m\u001b[33m\"\u001b[39m\n\u001b[32m----> \u001b[39m\u001b[32m4\u001b[39m model = sm.Logit.from_formula(formula, data = \u001b[43mdf\u001b[49m).fit()\n\u001b[32m      5\u001b[39m \u001b[38;5;28mprint\u001b[39m(model.summary())\n\u001b[32m      7\u001b[39m \u001b[38;5;66;03m# 0.05 보다 크면 유의미 하지않다 \u001b[39;00m\n\u001b[32m      8\u001b[39m \u001b[38;5;66;03m# 11개\u001b[39;00m\n",
      "\u001b[31mNameError\u001b[39m: name 'df' is not defined"
     ]
    }
   ],
   "source": [
    "import statsmodels.api as sm \n",
    "\n",
    "formula = \"Y~ X1+X2+X3+X4+X5+X6+X7+X8+X9+X10+X11+X12+X13+X14+X15\"\n",
    "model = sm.Logit.from_formula(formula, data = df).fit()\n",
    "print(model.summary())\n",
    "\n",
    "# 0.05 보다 크면 유의미 하지않다 \n",
    "# 11개"
   ]
  },
  {
   "cell_type": "code",
   "execution_count": 16,
   "id": "6dfe5ed7-5ff7-4682-8c7e-4165e3668517",
   "metadata": {},
   "outputs": [],
   "source": [
    "#유의한 변수들 만으로 다시 모델링을 해서 X를 포함하는 독립변수들의 회귀계수 합계를 소숫점 이하 3째 자리까지 구하여라 **"
   ]
  },
  {
   "cell_type": "code",
   "execution_count": 4,
   "id": "04b2863b-f1de-47fa-b533-1ede644287bc",
   "metadata": {},
   "outputs": [
    {
     "name": "stdout",
     "output_type": "stream",
     "text": [
      "Optimization terminated successfully.\n",
      "         Current function value: 0.062467\n",
      "         Iterations 10\n",
      "                           Logit Regression Results                           \n",
      "==============================================================================\n",
      "Dep. Variable:                      Y   No. Observations:                 2500\n",
      "Model:                          Logit   Df Residuals:                     2496\n",
      "Method:                           MLE   Df Model:                            3\n",
      "Date:                Mon, 26 May 2025   Pseudo R-squ.:                  0.9099\n",
      "Time:                        18:45:05   Log-Likelihood:                -156.17\n",
      "converged:                       True   LL-Null:                       -1732.9\n",
      "Covariance Type:            nonrobust   LLR p-value:                     0.000\n",
      "==============================================================================\n",
      "                 coef    std err          z      P>|z|      [0.025      0.975]\n",
      "------------------------------------------------------------------------------\n",
      "Intercept     -2.0523      0.546     -3.756      0.000      -3.123      -0.981\n",
      "X7            -1.1389      0.323     -3.525      0.000      -1.772      -0.506\n",
      "X8             0.7529      0.149      5.041      0.000       0.460       1.046\n",
      "X11            5.9960      0.326     18.374      0.000       5.356       6.636\n",
      "==============================================================================\n"
     ]
    }
   ],
   "source": [
    "import statsmodels.api as sm \n",
    "\n",
    "formula = \"Y~ X7+X8+X11\"\n",
    "model = sm.Logit.from_formula(formula, data = df).fit()\n",
    "print(model.summary())"
   ]
  },
  {
   "cell_type": "code",
   "execution_count": 24,
   "id": "57011306-426c-41fb-a99b-1ac3e5b86a1f",
   "metadata": {},
   "outputs": [
    {
     "data": {
      "text/plain": [
       "7.9115"
      ]
     },
     "execution_count": 24,
     "metadata": {},
     "output_type": "execute_result"
    }
   ],
   "source": [
    "1.1562+0.7593+5.9960"
   ]
  },
  {
   "cell_type": "code",
   "execution_count": 2,
   "id": "4ded2611-92d4-42a4-a228-e5e7ea5892e9",
   "metadata": {},
   "outputs": [],
   "source": [
    "# 3-2번의 모델 결과에 대해 X뒤의 숫자가 가장 낮은 컬럼이 5단위 늘어나면 오즈비 몇 배로 변화?"
   ]
  },
  {
   "cell_type": "code",
   "execution_count": 9,
   "id": "0c7c6b02-d8ea-431c-8417-dd12f56072c7",
   "metadata": {},
   "outputs": [
    {
     "name": "stdout",
     "output_type": "stream",
     "text": [
      "0.0033644189681234582\n"
     ]
    }
   ],
   "source": [
    "import numpy as np\n",
    "odds_ration = np.exp(-1.1389 * 5)\n",
    "print(odds_ration)"
   ]
  },
  {
   "cell_type": "code",
   "execution_count": 10,
   "id": "bdef6cbe-8876-41b2-9a56-03f65150f58d",
   "metadata": {},
   "outputs": [],
   "source": [
    "# 다중 선형 회귀 모델 "
   ]
  },
  {
   "cell_type": "code",
   "execution_count": 11,
   "id": "a4404a2f-ad76-43fe-92e8-2c11665ea666",
   "metadata": {},
   "outputs": [
    {
     "data": {
      "text/html": [
       "<div>\n",
       "<style scoped>\n",
       "    .dataframe tbody tr th:only-of-type {\n",
       "        vertical-align: middle;\n",
       "    }\n",
       "\n",
       "    .dataframe tbody tr th {\n",
       "        vertical-align: top;\n",
       "    }\n",
       "\n",
       "    .dataframe thead th {\n",
       "        text-align: right;\n",
       "    }\n",
       "</style>\n",
       "<table border=\"1\" class=\"dataframe\">\n",
       "  <thead>\n",
       "    <tr style=\"text-align: right;\">\n",
       "      <th></th>\n",
       "      <th>PIQ</th>\n",
       "      <th>Brain</th>\n",
       "      <th>Height</th>\n",
       "      <th>Weight</th>\n",
       "    </tr>\n",
       "  </thead>\n",
       "  <tbody>\n",
       "    <tr>\n",
       "      <th>0</th>\n",
       "      <td>124</td>\n",
       "      <td>81.69</td>\n",
       "      <td>64.5</td>\n",
       "      <td>118</td>\n",
       "    </tr>\n",
       "    <tr>\n",
       "      <th>1</th>\n",
       "      <td>150</td>\n",
       "      <td>103.84</td>\n",
       "      <td>73.3</td>\n",
       "      <td>143</td>\n",
       "    </tr>\n",
       "    <tr>\n",
       "      <th>2</th>\n",
       "      <td>128</td>\n",
       "      <td>96.54</td>\n",
       "      <td>68.8</td>\n",
       "      <td>172</td>\n",
       "    </tr>\n",
       "    <tr>\n",
       "      <th>3</th>\n",
       "      <td>134</td>\n",
       "      <td>95.15</td>\n",
       "      <td>65.0</td>\n",
       "      <td>147</td>\n",
       "    </tr>\n",
       "    <tr>\n",
       "      <th>4</th>\n",
       "      <td>110</td>\n",
       "      <td>92.88</td>\n",
       "      <td>69.0</td>\n",
       "      <td>146</td>\n",
       "    </tr>\n",
       "  </tbody>\n",
       "</table>\n",
       "</div>"
      ],
      "text/plain": [
       "   PIQ   Brain  Height  Weight\n",
       "0  124   81.69    64.5     118\n",
       "1  150  103.84    73.3     143\n",
       "2  128   96.54    68.8     172\n",
       "3  134   95.15    65.0     147\n",
       "4  110   92.88    69.0     146"
      ]
     },
     "execution_count": 11,
     "metadata": {},
     "output_type": "execute_result"
    }
   ],
   "source": [
    "import pandas as pd \n",
    "df= pd.read_csv('https://raw.githubusercontent.com/Datamanim/datarepo/main/krdatacertificate/e8_p3_2.csv')\n",
    "df.head()"
   ]
  },
  {
   "cell_type": "code",
   "execution_count": 24,
   "id": "10479242-a952-4908-b197-6a8c6a16ce5c",
   "metadata": {},
   "outputs": [
    {
     "name": "stdout",
     "output_type": "stream",
     "text": [
      "                            OLS Regression Results                            \n",
      "==============================================================================\n",
      "Dep. Variable:                    PIQ   R-squared:                       0.295\n",
      "Model:                            OLS   Adj. R-squared:                  0.233\n",
      "Method:                 Least Squares   F-statistic:                     4.741\n",
      "Date:                Mon, 26 May 2025   Prob (F-statistic):            0.00722\n",
      "Time:                        18:56:08   Log-Likelihood:                -165.25\n",
      "No. Observations:                  38   AIC:                             338.5\n",
      "Df Residuals:                      34   BIC:                             345.1\n",
      "Df Model:                           3                                         \n",
      "Covariance Type:            nonrobust                                         \n",
      "==============================================================================\n",
      "                 coef    std err          t      P>|t|      [0.025      0.975]\n",
      "------------------------------------------------------------------------------\n",
      "Intercept    111.3536     62.971      1.768      0.086     -16.619     239.326\n",
      "Brain          2.0604      0.563      3.657      0.001       0.915       3.205\n",
      "Height        -2.7319      1.229     -2.222      0.033      -5.230      -0.233\n",
      "Weight         0.0006      0.197      0.003      0.998      -0.400       0.401\n",
      "==============================================================================\n",
      "Omnibus:                        1.379   Durbin-Watson:                   1.827\n",
      "Prob(Omnibus):                  0.502   Jarque-Bera (JB):                1.088\n",
      "Skew:                           0.409   Prob(JB):                        0.580\n",
      "Kurtosis:                       2.859   Cond. No.                     3.73e+03\n",
      "==============================================================================\n",
      "\n",
      "Notes:\n",
      "[1] Standard Errors assume that the covariance matrix of the errors is correctly specified.\n",
      "[2] The condition number is large, 3.73e+03. This might indicate that there are\n",
      "strong multicollinearity or other numerical problems.\n"
     ]
    }
   ],
   "source": [
    "import statsmodels.formula.api as smf\n",
    "\n",
    "formula = \"PIQ ~ Brain+Height+Weight\"\n",
    "model = smf.ols(formula, data = df).fit()\n",
    "print(model.summary())"
   ]
  },
  {
   "cell_type": "code",
   "execution_count": 25,
   "id": "26879b94-aefc-4ad7-b191-9d9369537b33",
   "metadata": {},
   "outputs": [],
   "source": [
    "# 위에서 계산한 모델을 이용하여 뇌크기 90 키 70 몸무게 150일 때 지능을 예측하라"
   ]
  },
  {
   "cell_type": "code",
   "execution_count": 28,
   "id": "4f98ae4d-a906-46a8-9c24-2cf290110725",
   "metadata": {},
   "outputs": [
    {
     "name": "stdout",
     "output_type": "stream",
     "text": [
      "0    105.635569\n",
      "dtype: float64\n"
     ]
    }
   ],
   "source": [
    "new_data = pd.DataFrame({'Brain':[90], 'Height':[70], 'Weight':[150]})\n",
    "\n",
    "predict_data = model.predict(new_data)\n",
    "print(predict_data)"
   ]
  },
  {
   "cell_type": "code",
   "execution_count": 32,
   "id": "c9ef1784-1a8d-4f5b-93ac-d54d1d848250",
   "metadata": {},
   "outputs": [
    {
     "data": {
      "text/html": [
       "<div>\n",
       "<style scoped>\n",
       "    .dataframe tbody tr th:only-of-type {\n",
       "        vertical-align: middle;\n",
       "    }\n",
       "\n",
       "    .dataframe tbody tr th {\n",
       "        vertical-align: top;\n",
       "    }\n",
       "\n",
       "    .dataframe thead th {\n",
       "        text-align: right;\n",
       "    }\n",
       "</style>\n",
       "<table border=\"1\" class=\"dataframe\">\n",
       "  <thead>\n",
       "    <tr style=\"text-align: right;\">\n",
       "      <th></th>\n",
       "      <th>mean</th>\n",
       "      <th>mean_se</th>\n",
       "      <th>mean_ci_lower</th>\n",
       "      <th>mean_ci_upper</th>\n",
       "      <th>obs_ci_lower</th>\n",
       "      <th>obs_ci_upper</th>\n",
       "    </tr>\n",
       "  </thead>\n",
       "  <tbody>\n",
       "    <tr>\n",
       "      <th>0</th>\n",
       "      <td>105.635569</td>\n",
       "      <td>3.905541</td>\n",
       "      <td>97.698556</td>\n",
       "      <td>113.572583</td>\n",
       "      <td>64.632996</td>\n",
       "      <td>146.638143</td>\n",
       "    </tr>\n",
       "  </tbody>\n",
       "</table>\n",
       "</div>"
      ],
      "text/plain": [
       "         mean   mean_se  mean_ci_lower  mean_ci_upper  obs_ci_lower  \\\n",
       "0  105.635569  3.905541      97.698556     113.572583     64.632996   \n",
       "\n",
       "   obs_ci_upper  \n",
       "0    146.638143  "
      ]
     },
     "execution_count": 32,
     "metadata": {},
     "output_type": "execute_result"
    }
   ],
   "source": [
    "predict_data = model.get_prediction(new_data)\n",
    "predict_data.summary_frame(alpha=0.05)"
   ]
  },
  {
   "cell_type": "code",
   "execution_count": 33,
   "id": "71777fc0-8611-4415-a0a9-4719627efb65",
   "metadata": {},
   "outputs": [
    {
     "data": {
      "text/html": [
       "<div>\n",
       "<style scoped>\n",
       "    .dataframe tbody tr th:only-of-type {\n",
       "        vertical-align: middle;\n",
       "    }\n",
       "\n",
       "    .dataframe tbody tr th {\n",
       "        vertical-align: top;\n",
       "    }\n",
       "\n",
       "    .dataframe thead th {\n",
       "        text-align: right;\n",
       "    }\n",
       "</style>\n",
       "<table border=\"1\" class=\"dataframe\">\n",
       "  <thead>\n",
       "    <tr style=\"text-align: right;\">\n",
       "      <th></th>\n",
       "      <th>age</th>\n",
       "      <th>Cholesterol</th>\n",
       "      <th>weight</th>\n",
       "    </tr>\n",
       "  </thead>\n",
       "  <tbody>\n",
       "    <tr>\n",
       "      <th>0</th>\n",
       "      <td>65</td>\n",
       "      <td>69.0</td>\n",
       "      <td>111.0</td>\n",
       "    </tr>\n",
       "    <tr>\n",
       "      <th>1</th>\n",
       "      <td>54</td>\n",
       "      <td>117.0</td>\n",
       "      <td>81.0</td>\n",
       "    </tr>\n",
       "    <tr>\n",
       "      <th>2</th>\n",
       "      <td>61</td>\n",
       "      <td>86.2</td>\n",
       "      <td>72.0</td>\n",
       "    </tr>\n",
       "    <tr>\n",
       "      <th>3</th>\n",
       "      <td>57</td>\n",
       "      <td>76.0</td>\n",
       "      <td>78.0</td>\n",
       "    </tr>\n",
       "    <tr>\n",
       "      <th>4</th>\n",
       "      <td>62</td>\n",
       "      <td>160.0</td>\n",
       "      <td>61.0</td>\n",
       "    </tr>\n",
       "  </tbody>\n",
       "</table>\n",
       "</div>"
      ],
      "text/plain": [
       "   age  Cholesterol  weight\n",
       "0   65         69.0   111.0\n",
       "1   54        117.0    81.0\n",
       "2   61         86.2    72.0\n",
       "3   57         76.0    78.0\n",
       "4   62        160.0    61.0"
      ]
     },
     "execution_count": 33,
     "metadata": {},
     "output_type": "execute_result"
    }
   ],
   "source": [
    "import pandas as pd \n",
    "df= pd.read_csv('https://raw.githubusercontent.com/Datamanim/datarepo/main/adp/28/p7.csv')\n",
    "df.head()"
   ]
  },
  {
   "cell_type": "code",
   "execution_count": 34,
   "id": "5d816b7e-615e-4734-9941-7e56b5afc7c1",
   "metadata": {},
   "outputs": [],
   "source": [
    "# age와 Cholesterol을 가지고 weight를 예측하는 선형 회귀 모델을 만들려고한다. age의 회귀 계수를 구하여라"
   ]
  },
  {
   "cell_type": "code",
   "execution_count": 36,
   "id": "c9a5f439-5a2f-4fe5-8cba-3515d0b59b9b",
   "metadata": {},
   "outputs": [
    {
     "name": "stdout",
     "output_type": "stream",
     "text": [
      "                            OLS Regression Results                            \n",
      "==============================================================================\n",
      "Dep. Variable:                 weight   R-squared:                       0.044\n",
      "Model:                            OLS   Adj. R-squared:                  0.038\n",
      "Method:                 Least Squares   F-statistic:                     7.574\n",
      "Date:                Mon, 26 May 2025   Prob (F-statistic):           0.000608\n",
      "Time:                        19:50:12   Log-Likelihood:                -1374.9\n",
      "No. Observations:                 333   AIC:                             2756.\n",
      "Df Residuals:                     330   BIC:                             2767.\n",
      "Df Model:                           2                                         \n",
      "Covariance Type:            nonrobust                                         \n",
      "===============================================================================\n",
      "                  coef    std err          t      P>|t|      [0.025      0.975]\n",
      "-------------------------------------------------------------------------------\n",
      "Intercept      74.8953      4.455     16.813      0.000      66.132      83.658\n",
      "age            -0.0361      0.059     -0.611      0.542      -0.152       0.080\n",
      "Cholesterol     0.0819      0.022      3.716      0.000       0.039       0.125\n",
      "==============================================================================\n",
      "Omnibus:                       15.848   Durbin-Watson:                   2.033\n",
      "Prob(Omnibus):                  0.000   Jarque-Bera (JB):               17.569\n",
      "Skew:                           0.471   Prob(JB):                     0.000153\n",
      "Kurtosis:                       3.617   Cond. No.                         701.\n",
      "==============================================================================\n",
      "\n",
      "Notes:\n",
      "[1] Standard Errors assume that the covariance matrix of the errors is correctly specified.\n"
     ]
    }
   ],
   "source": [
    "import statsmodels.formula.api as smf\n",
    "formula = 'weight~age+Cholesterol'\n",
    "model = smf.ols(formula, data = df).fit()\n",
    "print(model.summary())"
   ]
  },
  {
   "cell_type": "code",
   "execution_count": 37,
   "id": "a723f801-e55e-48e0-93dd-c9f1b7911997",
   "metadata": {},
   "outputs": [],
   "source": [
    "#age가 고정일 때 Cholesterol와 weight가 선형관계에 있다는 가설을 유의수준 0.05하에 검정하라\n",
    "\n",
    "0.05 "
   ]
  },
  {
   "cell_type": "code",
   "execution_count": 48,
   "id": "f221654b-8c34-48ed-aae1-0e98ea5c568d",
   "metadata": {},
   "outputs": [
    {
     "data": {
      "text/plain": [
       "0    78.85771\n",
       "dtype: float64"
      ]
     },
     "execution_count": 48,
     "metadata": {},
     "output_type": "execute_result"
    }
   ],
   "source": [
    "result = pd.DataFrame({\"age\" : [55], \"Cholesterol\" : [72.6]})\n",
    "model.predict(result)"
   ]
  },
  {
   "cell_type": "code",
   "execution_count": null,
   "id": "72134afb-9205-4e3b-a3fb-4829a3f8ec72",
   "metadata": {},
   "outputs": [],
   "source": []
  }
 ],
 "metadata": {
  "kernelspec": {
   "display_name": "Python 3 (ipykernel)",
   "language": "python",
   "name": "python3"
  },
  "language_info": {
   "codemirror_mode": {
    "name": "ipython",
    "version": 3
   },
   "file_extension": ".py",
   "mimetype": "text/x-python",
   "name": "python",
   "nbconvert_exporter": "python",
   "pygments_lexer": "ipython3",
   "version": "3.13.3"
  }
 },
 "nbformat": 4,
 "nbformat_minor": 5
}
